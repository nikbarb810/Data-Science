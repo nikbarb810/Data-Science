{
 "cells": [
  {
   "cell_type": "markdown",
   "metadata": {
    "colab_type": "text",
    "id": "view-in-github"
   },
   "source": [
    "<a href=\"https://colab.research.google.com/github/gtsagkatakis/Data-Science-and-Applications/blob/main/CSD458_HW3.ipynb\" target=\"_parent\"><img src=\"https://colab.research.google.com/assets/colab-badge.svg\" alt=\"Open In Colab\"/></a>"
   ]
  },
  {
   "cell_type": "markdown",
   "metadata": {
    "id": "-wK0lGVzh7A2"
   },
   "source": [
    "# HOMEWORK 3: Classifying Wines with Support Vector Machines (SVM)\n",
    "\n",
    "The objective of this exercise is to build and evaluate a Support Vector Machine (SVM) model for classifying wines based on their chemical properties using the Wine dataset available in scikit-learn. You will explore various aspects of SVM model training and optimization, including preprocessing steps, hyperparameter tuning, and kernel selection.\n",
    "\n",
    "\n",
    "\n",
    "\n",
    "\n"
   ]
  },
  {
   "cell_type": "markdown",
   "metadata": {
    "id": "5arhNMQZlaOT"
   },
   "source": [
    "#Loading the Dataset\n",
    "\n",
    "Load the Wine dataset using load_wine from sklearn.datasets.\n",
    "Inspect the dataset to understand its structure and features."
   ]
  },
  {
   "cell_type": "code",
   "execution_count": 1,
   "metadata": {
    "id": "jG1t5gP0hqBJ",
    "ExecuteTime": {
     "end_time": "2024-03-08T13:37:32.983613Z",
     "start_time": "2024-03-08T13:37:32.575651Z"
    }
   },
   "outputs": [
    {
     "data": {
      "text/plain": "     alcohol  malic_acid   ash  alcalinity_of_ash  magnesium  total_phenols  \\\n0      14.23        1.71  2.43               15.6      127.0           2.80   \n1      13.20        1.78  2.14               11.2      100.0           2.65   \n2      13.16        2.36  2.67               18.6      101.0           2.80   \n3      14.37        1.95  2.50               16.8      113.0           3.85   \n4      13.24        2.59  2.87               21.0      118.0           2.80   \n..       ...         ...   ...                ...        ...            ...   \n173    13.71        5.65  2.45               20.5       95.0           1.68   \n174    13.40        3.91  2.48               23.0      102.0           1.80   \n175    13.27        4.28  2.26               20.0      120.0           1.59   \n176    13.17        2.59  2.37               20.0      120.0           1.65   \n177    14.13        4.10  2.74               24.5       96.0           2.05   \n\n     flavanoids  nonflavanoid_phenols  proanthocyanins  color_intensity   hue  \\\n0          3.06                  0.28             2.29             5.64  1.04   \n1          2.76                  0.26             1.28             4.38  1.05   \n2          3.24                  0.30             2.81             5.68  1.03   \n3          3.49                  0.24             2.18             7.80  0.86   \n4          2.69                  0.39             1.82             4.32  1.04   \n..          ...                   ...              ...              ...   ...   \n173        0.61                  0.52             1.06             7.70  0.64   \n174        0.75                  0.43             1.41             7.30  0.70   \n175        0.69                  0.43             1.35            10.20  0.59   \n176        0.68                  0.53             1.46             9.30  0.60   \n177        0.76                  0.56             1.35             9.20  0.61   \n\n     od280/od315_of_diluted_wines  proline  \n0                            3.92   1065.0  \n1                            3.40   1050.0  \n2                            3.17   1185.0  \n3                            3.45   1480.0  \n4                            2.93    735.0  \n..                            ...      ...  \n173                          1.74    740.0  \n174                          1.56    750.0  \n175                          1.56    835.0  \n176                          1.62    840.0  \n177                          1.60    560.0  \n\n[178 rows x 13 columns]",
      "text/html": "<div>\n<style scoped>\n    .dataframe tbody tr th:only-of-type {\n        vertical-align: middle;\n    }\n\n    .dataframe tbody tr th {\n        vertical-align: top;\n    }\n\n    .dataframe thead th {\n        text-align: right;\n    }\n</style>\n<table border=\"1\" class=\"dataframe\">\n  <thead>\n    <tr style=\"text-align: right;\">\n      <th></th>\n      <th>alcohol</th>\n      <th>malic_acid</th>\n      <th>ash</th>\n      <th>alcalinity_of_ash</th>\n      <th>magnesium</th>\n      <th>total_phenols</th>\n      <th>flavanoids</th>\n      <th>nonflavanoid_phenols</th>\n      <th>proanthocyanins</th>\n      <th>color_intensity</th>\n      <th>hue</th>\n      <th>od280/od315_of_diluted_wines</th>\n      <th>proline</th>\n    </tr>\n  </thead>\n  <tbody>\n    <tr>\n      <th>0</th>\n      <td>14.23</td>\n      <td>1.71</td>\n      <td>2.43</td>\n      <td>15.6</td>\n      <td>127.0</td>\n      <td>2.80</td>\n      <td>3.06</td>\n      <td>0.28</td>\n      <td>2.29</td>\n      <td>5.64</td>\n      <td>1.04</td>\n      <td>3.92</td>\n      <td>1065.0</td>\n    </tr>\n    <tr>\n      <th>1</th>\n      <td>13.20</td>\n      <td>1.78</td>\n      <td>2.14</td>\n      <td>11.2</td>\n      <td>100.0</td>\n      <td>2.65</td>\n      <td>2.76</td>\n      <td>0.26</td>\n      <td>1.28</td>\n      <td>4.38</td>\n      <td>1.05</td>\n      <td>3.40</td>\n      <td>1050.0</td>\n    </tr>\n    <tr>\n      <th>2</th>\n      <td>13.16</td>\n      <td>2.36</td>\n      <td>2.67</td>\n      <td>18.6</td>\n      <td>101.0</td>\n      <td>2.80</td>\n      <td>3.24</td>\n      <td>0.30</td>\n      <td>2.81</td>\n      <td>5.68</td>\n      <td>1.03</td>\n      <td>3.17</td>\n      <td>1185.0</td>\n    </tr>\n    <tr>\n      <th>3</th>\n      <td>14.37</td>\n      <td>1.95</td>\n      <td>2.50</td>\n      <td>16.8</td>\n      <td>113.0</td>\n      <td>3.85</td>\n      <td>3.49</td>\n      <td>0.24</td>\n      <td>2.18</td>\n      <td>7.80</td>\n      <td>0.86</td>\n      <td>3.45</td>\n      <td>1480.0</td>\n    </tr>\n    <tr>\n      <th>4</th>\n      <td>13.24</td>\n      <td>2.59</td>\n      <td>2.87</td>\n      <td>21.0</td>\n      <td>118.0</td>\n      <td>2.80</td>\n      <td>2.69</td>\n      <td>0.39</td>\n      <td>1.82</td>\n      <td>4.32</td>\n      <td>1.04</td>\n      <td>2.93</td>\n      <td>735.0</td>\n    </tr>\n    <tr>\n      <th>...</th>\n      <td>...</td>\n      <td>...</td>\n      <td>...</td>\n      <td>...</td>\n      <td>...</td>\n      <td>...</td>\n      <td>...</td>\n      <td>...</td>\n      <td>...</td>\n      <td>...</td>\n      <td>...</td>\n      <td>...</td>\n      <td>...</td>\n    </tr>\n    <tr>\n      <th>173</th>\n      <td>13.71</td>\n      <td>5.65</td>\n      <td>2.45</td>\n      <td>20.5</td>\n      <td>95.0</td>\n      <td>1.68</td>\n      <td>0.61</td>\n      <td>0.52</td>\n      <td>1.06</td>\n      <td>7.70</td>\n      <td>0.64</td>\n      <td>1.74</td>\n      <td>740.0</td>\n    </tr>\n    <tr>\n      <th>174</th>\n      <td>13.40</td>\n      <td>3.91</td>\n      <td>2.48</td>\n      <td>23.0</td>\n      <td>102.0</td>\n      <td>1.80</td>\n      <td>0.75</td>\n      <td>0.43</td>\n      <td>1.41</td>\n      <td>7.30</td>\n      <td>0.70</td>\n      <td>1.56</td>\n      <td>750.0</td>\n    </tr>\n    <tr>\n      <th>175</th>\n      <td>13.27</td>\n      <td>4.28</td>\n      <td>2.26</td>\n      <td>20.0</td>\n      <td>120.0</td>\n      <td>1.59</td>\n      <td>0.69</td>\n      <td>0.43</td>\n      <td>1.35</td>\n      <td>10.20</td>\n      <td>0.59</td>\n      <td>1.56</td>\n      <td>835.0</td>\n    </tr>\n    <tr>\n      <th>176</th>\n      <td>13.17</td>\n      <td>2.59</td>\n      <td>2.37</td>\n      <td>20.0</td>\n      <td>120.0</td>\n      <td>1.65</td>\n      <td>0.68</td>\n      <td>0.53</td>\n      <td>1.46</td>\n      <td>9.30</td>\n      <td>0.60</td>\n      <td>1.62</td>\n      <td>840.0</td>\n    </tr>\n    <tr>\n      <th>177</th>\n      <td>14.13</td>\n      <td>4.10</td>\n      <td>2.74</td>\n      <td>24.5</td>\n      <td>96.0</td>\n      <td>2.05</td>\n      <td>0.76</td>\n      <td>0.56</td>\n      <td>1.35</td>\n      <td>9.20</td>\n      <td>0.61</td>\n      <td>1.60</td>\n      <td>560.0</td>\n    </tr>\n  </tbody>\n</table>\n<p>178 rows × 13 columns</p>\n</div>"
     },
     "execution_count": 1,
     "metadata": {},
     "output_type": "execute_result"
    }
   ],
   "source": [
    "import numpy as np\n",
    "import pandas as pd\n",
    "import matplotlib.pyplot as plt\n",
    "\n",
    "from sklearn.datasets import load_wine\n",
    "\n",
    "df, target = load_wine(return_X_y=True, as_frame=True)\n",
    "\n",
    "df"
   ]
  },
  {
   "cell_type": "code",
   "execution_count": 2,
   "metadata": {
    "ExecuteTime": {
     "end_time": "2024-03-08T13:37:47.450046Z",
     "start_time": "2024-03-08T13:37:39.433759Z"
    }
   },
   "outputs": [
    {
     "data": {
      "text/plain": "<Figure size 2000x1200 with 15 Axes>",
      "image/png": "[encoded data removed]"
     },
     "metadata": {},
     "output_type": "display_data"
    }
   ],
   "source": [
    "import seaborn as sns\n",
    "import plotly.graph_objects as go\n",
    "from plotly.subplots import make_subplots\n",
    "\n",
    "# Seaborn Plot\n",
    "# Create a 3x5 grid of subplots (since there are 13 features)\n",
    "sns.set(style=\"whitegrid\")\n",
    "fig, axes = plt.subplots(3, 5, figsize=(20, 12))\n",
    "axes = axes.flatten()  # Flatten the array for easy iteration\n",
    "\n",
    "# Define the colors for each class\n",
    "colors = ['blue', 'red', 'green']\n",
    "\n",
    "# Plot histograms using Seaborn\n",
    "for i, ax in enumerate(axes):\n",
    "    if i < len(df.columns):\n",
    "        sns.histplot(df, x=df.columns[i], hue=target, palette=colors, ax=ax, bins=30, alpha=0.6, kde=True)\n",
    "        ax.set_title(df.columns[i], fontsize=13)\n",
    "        ax.set_xlabel('')  # Hide x label\n",
    "        \n",
    "    else:\n",
    "        ax.set_visible(False)  # Hide unused subplots\n",
    "\n",
    "# Adjust the title and layout\n",
    "fig.suptitle('Histograms of the variables using Seaborn', fontsize=18)\n",
    "plt.tight_layout(rect=[0, 0.03, 1, 0.95])\n",
    "plt.show()"
   ]
  },
  {
   "cell_type": "code",
   "execution_count": 4,
   "metadata": {
    "ExecuteTime": {
     "end_time": "2024-03-08T13:39:10.312727Z",
     "start_time": "2024-03-08T13:39:10.019094Z"
    }
   },
   "outputs": [
    {
     "data": {
      "application/vnd.plotly.v1+json": {
       "data": [
        {
         "legendgroup": "class_0",
         "marker": {
          "color": "blue"
         },
         "name": "Class 0",
         "nbinsx": 30,
         "opacity": 0.75,
         "showlegend": true,
         "x": [
          14.23,
          13.2,
          13.16,
          14.37,
          13.24,
          14.2,
          14.39,
          14.06,
          14.83,
          13.86,
          14.1,
          14.12,
          13.75,
          14.75,
          14.38,
          13.63,
          14.3,
          13.83,
          14.19,
          13.64,
          14.06,
          12.93,
          13.71,
          12.85,
          13.5,
          13.05,
          13.39,
          13.3,
          13.87,
          14.02,
          13.73,
          13.58,
          13.68,
          13.76,
          13.51,
          13.48,
          13.28,
          13.05,
          13.07,
          14.22,
          13.56,
          13.41,
          13.88,
          13.24,
          13.05,
          14.21,
          14.38,
          13.9,
          14.1,
          13.94,
          13.05,
          13.83,
          13.82,
          13.77,
          13.74,
          13.56,
          14.22,
          13.29,
          13.72
         ],
         "type": "histogram",
         "xaxis": "x",
         "yaxis": "y"
        },
        {
         "legendgroup": "class_0",
         "marker": {
          "color": "blue"
         },
         "name": "Class 0",
         "nbinsx": 30,
         "opacity": 0.75,
         "showlegend": false,
         "x": [
          1.71,
          1.78,
          2.36,
          1.95,
          2.59,
          1.76,
          1.87,
          2.15,
          1.64,
          1.35,
          2.16,
          1.48,
          1.73,
          1.73,
          1.87,
          1.81,
          1.92,
          1.57,
          1.59,
          3.1,
          1.63,
          3.8,
          1.86,
          1.6,
          1.81,
          2.05,
          1.77,
          1.72,
          1.9,
          1.68,
          1.5,
          1.66,
          1.83,
          1.53,
          1.8,
          1.81,
          1.64,
          1.65,
          1.5,
          3.99,
          1.71,
          3.84,
          1.89,
          3.98,
          1.77,
          4.04,
          3.59,
          1.68,
          2.02,
          1.73,
          1.73,
          1.65,
          1.75,
          1.9,
          1.67,
          1.73,
          1.7,
          1.97,
          1.43
         ],
         "type": "histogram",
         "xaxis": "x2",
         "yaxis": "y2"
        },
        {
         "legendgroup": "class_0",
         "marker": {
          "color": "blue"
         },
         "name": "Class 0",
         "nbinsx": 30,
         "opacity": 0.75,
         "showlegend": false,
         "x": [
          2.43,
          2.14,
          2.67,
          2.5,
          2.87,
          2.45,
          2.45,
          2.61,
          2.17,
          2.27,
          2.3,
          2.32,
          2.41,
          2.39,
          2.38,
          2.7,
          2.72,
          2.62,
          2.48,
          2.56,
          2.28,
          2.65,
          2.36,
          2.52,
          2.61,
          3.22,
          2.62,
          2.14,
          2.8,
          2.21,
          2.7,
          2.36,
          2.36,
          2.7,
          2.65,
          2.41,
          2.84,
          2.55,
          2.1,
          2.51,
          2.31,
          2.12,
          2.59,
          2.29,
          2.1,
          2.44,
          2.28,
          2.12,
          2.4,
          2.27,
          2.04,
          2.6,
          2.42,
          2.68,
          2.25,
          2.46,
          2.3,
          2.68,
          2.5
         ],
         "type": "histogram",
         "xaxis": "x3",
         "yaxis": "y3"
        },
        {
         "legendgroup": "class_0",
         "marker": {
          "color": "blue"
         },
         "name": "Class 0",
         "nbinsx": 30,
         "opacity": 0.75,
         "showlegend": false,
         "x": [
          15.6,
          11.2,
          18.6,
          16.8,
          21.0,
          15.2,
          14.6,
          17.6,
          14.0,
          16.0,
          18.0,
          16.8,
          16.0,
          11.4,
          12.0,
          17.2,
          20.0,
          20.0,
          16.5,
          15.2,
          16.0,
          18.6,
          16.6,
          17.8,
          20.0,
          25.0,
          16.1,
          17.0,
          19.4,
          16.0,
          22.5,
          19.1,
          17.2,
          19.5,
          19.0,
          20.5,
          15.5,
          18.0,
          15.5,
          13.2,
          16.2,
          18.8,
          15.0,
          17.5,
          17.0,
          18.9,
          16.0,
          16.0,
          18.8,
          17.4,
          12.4,
          17.2,
          14.0,
          17.1,
          16.4,
          20.5,
          16.3,
          16.8,
          16.7
         ],
         "type": "histogram",
         "xaxis": "x4",
         "yaxis": "y4"
        },
        {
         "legendgroup": "class_0",
         "marker": {
          "color": "blue"
         },
         "name": "Class 0",
         "nbinsx": 30,
         "opacity": 0.75,
         "showlegend": false,
         "x": [
          127.0,
          100.0,
          101.0,
          113.0,
          118.0,
          112.0,
          96.0,
          121.0,
          97.0,
          98.0,
          105.0,
          95.0,
          89.0,
          91.0,
          102.0,
          112.0,
          120.0,
          115.0,
          108.0,
          116.0,
          126.0,
          102.0,
          101.0,
          95.0,
          96.0,
          124.0,
          93.0,
          94.0,
          107.0,
          96.0,
          101.0,
          106.0,
          104.0,
          132.0,
          110.0,
          100.0,
          110.0,
          98.0,
          98.0,
          128.0,
          117.0,
          90.0,
          101.0,
          103.0,
          107.0,
          111.0,
          102.0,
          101.0,
          103.0,
          108.0,
          92.0,
          94.0,
          111.0,
          115.0,
          118.0,
          116.0,
          118.0,
          102.0,
          108.0
         ],
         "type": "histogram",
         "xaxis": "x5",
         "yaxis": "y5"
        },
        {
         "legendgroup": "class_0",
         "marker": {
          "color": "blue"
         },
         "name": "Class 0",
         "nbinsx": 30,
         "opacity": 0.75,
         "showlegend": false,
         "x": [
          2.8,
          2.65,
          2.8,
          3.85,
          2.8,
          3.27,
          2.5,
          2.6,
          2.8,
          2.98,
          2.95,
          2.2,
          2.6,
          3.1,
          3.3,
          2.85,
          2.8,
          2.95,
          3.3,
          2.7,
          3.0,
          2.41,
          2.61,
          2.48,
          2.53,
          2.63,
          2.85,
          2.4,
          2.95,
          2.65,
          3.0,
          2.86,
          2.42,
          2.95,
          2.35,
          2.7,
          2.6,
          2.45,
          2.4,
          3.0,
          3.15,
          2.45,
          3.25,
          2.64,
          3.0,
          2.85,
          3.25,
          3.1,
          2.75,
          2.88,
          2.72,
          2.45,
          3.88,
          3.0,
          2.6,
          2.96,
          3.2,
          3.0,
          3.4
         ],
         "type": "histogram",
         "xaxis": "x6",
         "yaxis": "y6"
        },
        {
         "legendgroup": "class_0",
         "marker": {
          "color": "blue"
         },
         "name": "Class 0",
         "nbinsx": 30,
         "opacity": 0.75,
         "showlegend": false,
         "x": [
          3.06,
          2.76,
          3.24,
          3.49,
          2.69,
          3.39,
          2.52,
          2.51,
          2.98,
          3.15,
          3.32,
          2.43,
          2.76,
          3.69,
          3.64,
          2.91,
          3.14,
          3.4,
          3.93,
          3.03,
          3.17,
          2.41,
          2.88,
          2.37,
          2.61,
          2.68,
          2.94,
          2.19,
          2.97,
          2.33,
          3.25,
          3.19,
          2.69,
          2.74,
          2.53,
          2.98,
          2.68,
          2.43,
          2.64,
          3.04,
          3.29,
          2.68,
          3.56,
          2.63,
          3.0,
          2.65,
          3.17,
          3.39,
          2.92,
          3.54,
          3.27,
          2.99,
          3.74,
          2.79,
          2.9,
          2.78,
          3.0,
          3.23,
          3.67
         ],
         "type": "histogram",
         "xaxis": "x7",
         "yaxis": "y7"
        },
        {
         "legendgroup": "class_0",
         "marker": {
          "color": "blue"
         },
         "name": "Class 0",
         "nbinsx": 30,
         "opacity": 0.75,
         "showlegend": false,
         "x": [
          0.28,
          0.26,
          0.3,
          0.24,
          0.39,
          0.34,
          0.3,
          0.31,
          0.29,
          0.22,
          0.22,
          0.26,
          0.29,
          0.43,
          0.29,
          0.3,
          0.33,
          0.4,
          0.32,
          0.17,
          0.24,
          0.25,
          0.27,
          0.26,
          0.28,
          0.47,
          0.34,
          0.27,
          0.37,
          0.26,
          0.29,
          0.22,
          0.42,
          0.5,
          0.29,
          0.26,
          0.34,
          0.29,
          0.28,
          0.2,
          0.34,
          0.27,
          0.17,
          0.32,
          0.28,
          0.3,
          0.27,
          0.21,
          0.32,
          0.32,
          0.17,
          0.22,
          0.32,
          0.39,
          0.21,
          0.2,
          0.26,
          0.31,
          0.19
         ],
         "type": "histogram",
         "xaxis": "x8",
         "yaxis": "y8"
        },
        {
         "legendgroup": "class_0",
         "marker": {
          "color": "blue"
         },
         "name": "Class 0",
         "nbinsx": 30,
         "opacity": 0.75,
         "showlegend": false,
         "x": [
          2.29,
          1.28,
          2.81,
          2.18,
          1.82,
          1.97,
          1.98,
          1.25,
          1.98,
          1.85,
          2.38,
          1.57,
          1.81,
          2.81,
          2.96,
          1.46,
          1.97,
          1.72,
          1.86,
          1.66,
          2.1,
          1.98,
          1.69,
          1.46,
          1.66,
          1.92,
          1.45,
          1.35,
          1.76,
          1.98,
          2.38,
          1.95,
          1.97,
          1.35,
          1.54,
          1.86,
          1.36,
          1.44,
          1.37,
          2.08,
          2.34,
          1.48,
          1.7,
          1.66,
          2.03,
          1.25,
          2.19,
          2.14,
          2.38,
          2.08,
          2.91,
          2.29,
          1.87,
          1.68,
          1.62,
          2.45,
          2.03,
          1.66,
          2.04
         ],
         "type": "histogram",
         "xaxis": "x9",
         "yaxis": "y9"
        },
        {
         "legendgroup": "class_0",
         "marker": {
          "color": "blue"
         },
         "name": "Class 0",
         "nbinsx": 30,
         "opacity": 0.75,
         "showlegend": false,
         "x": [
          5.64,
          4.38,
          5.68,
          7.8,
          4.32,
          6.75,
          5.25,
          5.05,
          5.2,
          7.22,
          5.75,
          5.0,
          5.6,
          5.4,
          7.5,
          7.3,
          6.2,
          6.6,
          8.7,
          5.1,
          5.65,
          4.5,
          3.8,
          3.93,
          3.52,
          3.58,
          4.8,
          3.95,
          4.5,
          4.7,
          5.7,
          6.9,
          3.84,
          5.4,
          4.2,
          5.1,
          4.6,
          4.25,
          3.7,
          5.1,
          6.13,
          4.28,
          5.43,
          4.36,
          5.04,
          5.24,
          4.9,
          6.1,
          6.2,
          8.9,
          7.2,
          5.6,
          7.05,
          6.3,
          5.85,
          6.25,
          6.38,
          6.0,
          6.8
         ],
         "type": "histogram",
         "xaxis": "x10",
         "yaxis": "y10"
        },
        {
         "legendgroup": "class_0",
         "marker": {
          "color": "blue"
         },
         "name": "Class 0",
         "nbinsx": 30,
         "opacity": 0.75,
         "showlegend": false,
         "x": [
          1.04,
          1.05,
          1.03,
          0.86,
          1.04,
          1.05,
          1.02,
          1.06,
          1.08,
          1.01,
          1.25,
          1.17,
          1.15,
          1.25,
          1.2,
          1.28,
          1.07,
          1.13,
          1.23,
          0.96,
          1.09,
          1.03,
          1.11,
          1.09,
          1.12,
          1.13,
          0.92,
          1.02,
          1.25,
          1.04,
          1.19,
          1.09,
          1.23,
          1.25,
          1.1,
          1.04,
          1.09,
          1.12,
          1.18,
          0.89,
          0.95,
          0.91,
          0.88,
          0.82,
          0.88,
          0.87,
          1.04,
          0.91,
          1.07,
          1.12,
          1.12,
          1.24,
          1.01,
          1.13,
          0.92,
          0.98,
          0.94,
          1.07,
          0.89
         ],
         "type": "histogram",
         "xaxis": "x11",
         "yaxis": "y11"
        },
        {
         "legendgroup": "class_0",
         "marker": {
          "color": "blue"
         },
         "name": "Class 0",
         "nbinsx": 30,
         "opacity": 0.75,
         "showlegend": false,
         "x": [
          3.92,
          3.4,
          3.17,
          3.45,
          2.93,
          2.85,
          3.58,
          3.58,
          2.85,
          3.55,
          3.17,
          2.82,
          2.9,
          2.73,
          3.0,
          2.88,
          2.65,
          2.57,
          2.82,
          3.36,
          3.71,
          3.52,
          4.0,
          3.63,
          3.82,
          3.2,
          3.22,
          2.77,
          3.4,
          3.59,
          2.71,
          2.88,
          2.87,
          3.0,
          2.87,
          3.47,
          2.78,
          2.51,
          2.69,
          3.53,
          3.38,
          3.0,
          3.56,
          3.0,
          3.35,
          3.33,
          3.44,
          3.33,
          2.75,
          3.1,
          2.91,
          3.37,
          3.26,
          2.93,
          3.2,
          3.03,
          3.31,
          2.84,
          2.87
         ],
         "type": "histogram",
         "xaxis": "x12",
         "yaxis": "y12"
        },
        {
         "legendgroup": "class_0",
         "marker": {
          "color": "blue"
         },
         "name": "Class 0",
         "nbinsx": 30,
         "opacity": 0.75,
         "showlegend": false,
         "x": [
          1065.0,
          1050.0,
          1185.0,
          1480.0,
          735.0,
          1450.0,
          1290.0,
          1295.0,
          1045.0,
          1045.0,
          1510.0,
          1280.0,
          1320.0,
          1150.0,
          1547.0,
          1310.0,
          1280.0,
          1130.0,
          1680.0,
          845.0,
          780.0,
          770.0,
          1035.0,
          1015.0,
          845.0,
          830.0,
          1195.0,
          1285.0,
          915.0,
          1035.0,
          1285.0,
          1515.0,
          990.0,
          1235.0,
          1095.0,
          920.0,
          880.0,
          1105.0,
          1020.0,
          760.0,
          795.0,
          1035.0,
          1095.0,
          680.0,
          885.0,
          1080.0,
          1065.0,
          985.0,
          1060.0,
          1260.0,
          1150.0,
          1265.0,
          1190.0,
          1375.0,
          1060.0,
          1120.0,
          970.0,
          1270.0,
          1285.0
         ],
         "type": "histogram",
         "xaxis": "x13",
         "yaxis": "y13"
        },
        {
         "legendgroup": "class_1",
         "marker": {
          "color": "red"
         },
         "name": "Class 1",
         "nbinsx": 30,
         "opacity": 0.75,
         "showlegend": true,
         "x": [
          12.37,
          12.33,
          12.64,
          13.67,
          12.37,
          12.17,
          12.37,
          13.11,
          12.37,
          13.34,
          12.21,
          12.29,
          13.86,
          13.49,
          12.99,
          11.96,
          11.66,
          13.03,
          11.84,
          12.33,
          12.7,
          12.0,
          12.72,
          12.08,
          13.05,
          11.84,
          12.67,
          12.16,
          11.65,
          11.64,
          12.08,
          12.08,
          12.0,
          12.69,
          12.29,
          11.62,
          12.47,
          11.81,
          12.29,
          12.37,
          12.29,
          12.08,
          12.6,
          12.34,
          11.82,
          12.51,
          12.42,
          12.25,
          12.72,
          12.22,
          11.61,
          11.46,
          12.52,
          11.76,
          11.41,
          12.08,
          11.03,
          11.82,
          12.42,
          12.77,
          12.0,
          11.45,
          11.56,
          12.42,
          13.05,
          11.87,
          12.07,
          12.43,
          11.79,
          12.37,
          12.04
         ],
         "type": "histogram",
         "xaxis": "x",
         "yaxis": "y"
        },
        {
         "legendgroup": "class_1",
         "marker": {
          "color": "red"
         },
         "name": "Class 1",
         "nbinsx": 30,
         "opacity": 0.75,
         "showlegend": false,
         "x": [
          0.94,
          1.1,
          1.36,
          1.25,
          1.13,
          1.45,
          1.21,
          1.01,
          1.17,
          0.94,
          1.19,
          1.61,
          1.51,
          1.66,
          1.67,
          1.09,
          1.88,
          0.9,
          2.89,
          0.99,
          3.87,
          0.92,
          1.81,
          1.13,
          3.86,
          0.89,
          0.98,
          1.61,
          1.67,
          2.06,
          1.33,
          1.83,
          1.51,
          1.53,
          2.83,
          1.99,
          1.52,
          2.12,
          1.41,
          1.07,
          3.17,
          2.08,
          1.34,
          2.45,
          1.72,
          1.73,
          2.55,
          1.73,
          1.75,
          1.29,
          1.35,
          3.74,
          2.43,
          2.68,
          0.74,
          1.39,
          1.51,
          1.47,
          1.61,
          3.43,
          3.43,
          2.4,
          2.05,
          4.43,
          5.8,
          4.31,
          2.16,
          1.53,
          2.13,
          1.63,
          4.3
         ],
         "type": "histogram",
         "xaxis": "x2",
         "yaxis": "y2"
        },
        {
         "legendgroup": "class_1",
         "marker": {
          "color": "red"
         },
         "name": "Class 1",
         "nbinsx": 30,
         "opacity": 0.75,
         "showlegend": false,
         "x": [
          1.36,
          2.28,
          2.02,
          1.92,
          2.16,
          2.53,
          2.56,
          1.7,
          1.92,
          2.36,
          1.75,
          2.21,
          2.67,
          2.24,
          2.6,
          2.3,
          1.92,
          1.71,
          2.23,
          1.95,
          2.4,
          2.0,
          2.2,
          2.51,
          2.32,
          2.58,
          2.24,
          2.31,
          2.62,
          2.46,
          2.3,
          2.32,
          2.42,
          2.26,
          2.22,
          2.28,
          2.2,
          2.74,
          1.98,
          2.1,
          2.21,
          1.7,
          1.9,
          2.46,
          1.88,
          1.98,
          2.27,
          2.12,
          2.28,
          1.94,
          2.7,
          1.82,
          2.17,
          2.92,
          2.5,
          2.5,
          2.2,
          1.99,
          2.19,
          1.98,
          2.0,
          2.42,
          3.23,
          2.73,
          2.13,
          2.39,
          2.17,
          2.29,
          2.78,
          2.3,
          2.38
         ],
         "type": "histogram",
         "xaxis": "x3",
         "yaxis": "y3"
        },
        {
         "legendgroup": "class_1",
         "marker": {
          "color": "red"
         },
         "name": "Class 1",
         "nbinsx": 30,
         "opacity": 0.75,
         "showlegend": false,
         "x": [
          10.6,
          16.0,
          16.8,
          18.0,
          19.0,
          19.0,
          18.1,
          15.0,
          19.6,
          17.0,
          16.8,
          20.4,
          25.0,
          24.0,
          30.0,
          21.0,
          16.0,
          16.0,
          18.0,
          14.8,
          23.0,
          19.0,
          18.8,
          24.0,
          22.5,
          18.0,
          18.0,
          22.8,
          26.0,
          21.6,
          23.6,
          18.5,
          22.0,
          20.7,
          18.0,
          18.0,
          19.0,
          21.5,
          16.0,
          18.5,
          18.0,
          17.5,
          18.5,
          21.0,
          19.5,
          20.5,
          22.0,
          19.0,
          22.5,
          19.0,
          20.0,
          19.5,
          21.0,
          20.0,
          21.0,
          22.5,
          21.5,
          20.8,
          22.5,
          16.0,
          19.0,
          20.0,
          28.5,
          26.5,
          21.5,
          21.0,
          21.0,
          21.5,
          28.5,
          24.5,
          22.0
         ],
         "type": "histogram",
         "xaxis": "x4",
         "yaxis": "y4"
        },
        {
         "legendgroup": "class_1",
         "marker": {
          "color": "red"
         },
         "name": "Class 1",
         "nbinsx": 30,
         "opacity": 0.75,
         "showlegend": false,
         "x": [
          88.0,
          101.0,
          100.0,
          94.0,
          87.0,
          104.0,
          98.0,
          78.0,
          78.0,
          110.0,
          151.0,
          103.0,
          86.0,
          87.0,
          139.0,
          101.0,
          97.0,
          86.0,
          112.0,
          136.0,
          101.0,
          86.0,
          86.0,
          78.0,
          85.0,
          94.0,
          99.0,
          90.0,
          88.0,
          84.0,
          70.0,
          81.0,
          86.0,
          80.0,
          88.0,
          98.0,
          162.0,
          134.0,
          85.0,
          88.0,
          88.0,
          97.0,
          88.0,
          98.0,
          86.0,
          85.0,
          90.0,
          80.0,
          84.0,
          92.0,
          94.0,
          107.0,
          88.0,
          103.0,
          88.0,
          84.0,
          85.0,
          86.0,
          108.0,
          80.0,
          87.0,
          96.0,
          119.0,
          102.0,
          86.0,
          82.0,
          85.0,
          86.0,
          92.0,
          88.0,
          80.0
         ],
         "type": "histogram",
         "xaxis": "x5",
         "yaxis": "y5"
        },
        {
         "legendgroup": "class_1",
         "marker": {
          "color": "red"
         },
         "name": "Class 1",
         "nbinsx": 30,
         "opacity": 0.75,
         "showlegend": false,
         "x": [
          1.98,
          2.05,
          2.02,
          2.1,
          3.5,
          1.89,
          2.42,
          2.98,
          2.11,
          2.53,
          1.85,
          1.1,
          2.95,
          1.88,
          3.3,
          3.38,
          1.61,
          1.95,
          1.72,
          1.9,
          2.83,
          2.42,
          2.2,
          2.0,
          1.65,
          2.2,
          2.2,
          1.78,
          1.92,
          1.95,
          2.2,
          1.6,
          1.45,
          1.38,
          2.45,
          3.02,
          2.5,
          1.6,
          2.55,
          3.52,
          2.85,
          2.23,
          1.45,
          2.56,
          2.5,
          2.2,
          1.68,
          1.65,
          1.38,
          2.36,
          2.74,
          3.18,
          2.55,
          1.75,
          2.48,
          2.56,
          2.46,
          1.98,
          2.0,
          1.63,
          2.0,
          2.9,
          3.18,
          2.2,
          2.62,
          2.86,
          2.6,
          2.74,
          2.13,
          2.22,
          2.1
         ],
         "type": "histogram",
         "xaxis": "x6",
         "yaxis": "y6"
        },
        {
         "legendgroup": "class_1",
         "marker": {
          "color": "red"
         },
         "name": "Class 1",
         "nbinsx": 30,
         "opacity": 0.75,
         "showlegend": false,
         "x": [
          0.57,
          1.09,
          1.41,
          1.79,
          3.1,
          1.75,
          2.65,
          3.18,
          2.0,
          1.3,
          1.28,
          1.02,
          2.86,
          1.84,
          2.89,
          2.14,
          1.57,
          2.03,
          1.32,
          1.85,
          2.55,
          2.26,
          2.53,
          1.58,
          1.59,
          2.21,
          1.94,
          1.69,
          1.61,
          1.69,
          1.59,
          1.5,
          1.25,
          1.46,
          2.25,
          2.26,
          2.27,
          0.99,
          2.5,
          3.75,
          2.99,
          2.17,
          1.36,
          2.11,
          1.64,
          1.92,
          1.84,
          2.03,
          1.76,
          2.04,
          2.92,
          2.58,
          2.27,
          2.03,
          2.01,
          2.29,
          2.17,
          1.6,
          2.09,
          1.25,
          1.64,
          2.79,
          5.08,
          2.13,
          2.65,
          3.03,
          2.65,
          3.15,
          2.24,
          2.45,
          1.75
         ],
         "type": "histogram",
         "xaxis": "x7",
         "yaxis": "y7"
        },
        {
         "legendgroup": "class_1",
         "marker": {
          "color": "red"
         },
         "name": "Class 1",
         "nbinsx": 30,
         "opacity": 0.75,
         "showlegend": false,
         "x": [
          0.28,
          0.63,
          0.53,
          0.32,
          0.19,
          0.45,
          0.37,
          0.26,
          0.27,
          0.55,
          0.14,
          0.37,
          0.21,
          0.27,
          0.21,
          0.13,
          0.34,
          0.24,
          0.43,
          0.35,
          0.43,
          0.3,
          0.26,
          0.4,
          0.61,
          0.22,
          0.3,
          0.43,
          0.4,
          0.48,
          0.42,
          0.52,
          0.5,
          0.58,
          0.25,
          0.17,
          0.32,
          0.14,
          0.29,
          0.24,
          0.45,
          0.26,
          0.29,
          0.34,
          0.37,
          0.32,
          0.66,
          0.37,
          0.48,
          0.39,
          0.29,
          0.24,
          0.26,
          0.6,
          0.42,
          0.43,
          0.52,
          0.3,
          0.34,
          0.43,
          0.37,
          0.32,
          0.47,
          0.43,
          0.3,
          0.21,
          0.37,
          0.39,
          0.58,
          0.4,
          0.42
         ],
         "type": "histogram",
         "xaxis": "x8",
         "yaxis": "y8"
        },
        {
         "legendgroup": "class_1",
         "marker": {
          "color": "red"
         },
         "name": "Class 1",
         "nbinsx": 30,
         "opacity": 0.75,
         "showlegend": false,
         "x": [
          0.42,
          0.41,
          0.62,
          0.73,
          1.87,
          1.03,
          2.08,
          2.28,
          1.04,
          0.42,
          2.5,
          1.46,
          1.87,
          1.03,
          1.96,
          1.65,
          1.15,
          1.46,
          0.95,
          2.76,
          1.95,
          1.43,
          1.77,
          1.4,
          1.62,
          2.35,
          1.46,
          1.56,
          1.34,
          1.35,
          1.38,
          1.64,
          1.63,
          1.62,
          1.99,
          1.35,
          3.28,
          1.56,
          1.77,
          1.95,
          2.81,
          1.4,
          1.35,
          1.31,
          1.42,
          1.48,
          1.42,
          1.63,
          1.63,
          2.08,
          2.49,
          3.58,
          1.22,
          1.05,
          1.44,
          1.04,
          2.01,
          1.53,
          1.61,
          0.83,
          1.87,
          1.83,
          1.87,
          1.71,
          2.01,
          2.91,
          1.35,
          1.77,
          1.76,
          1.9,
          1.35
         ],
         "type": "histogram",
         "xaxis": "x9",
         "yaxis": "y9"
        },
        {
         "legendgroup": "class_1",
         "marker": {
          "color": "red"
         },
         "name": "Class 1",
         "nbinsx": 30,
         "opacity": 0.75,
         "showlegend": false,
         "x": [
          1.95,
          3.27,
          5.75,
          3.8,
          4.45,
          2.95,
          4.6,
          5.3,
          4.68,
          3.17,
          2.85,
          3.05,
          3.38,
          3.74,
          3.35,
          3.21,
          3.8,
          4.6,
          2.65,
          3.4,
          2.57,
          2.5,
          3.9,
          2.2,
          4.8,
          3.05,
          2.62,
          2.45,
          2.6,
          2.8,
          1.74,
          2.4,
          3.6,
          3.05,
          2.15,
          3.25,
          2.6,
          2.5,
          2.9,
          4.5,
          2.3,
          3.3,
          2.45,
          2.8,
          2.06,
          2.94,
          2.7,
          3.4,
          3.3,
          2.7,
          2.65,
          2.9,
          2.0,
          3.8,
          3.08,
          2.9,
          1.9,
          1.95,
          2.06,
          3.4,
          1.28,
          3.25,
          6.0,
          2.08,
          2.6,
          2.8,
          2.76,
          3.94,
          3.0,
          2.12,
          2.6
         ],
         "type": "histogram",
         "xaxis": "x10",
         "yaxis": "y10"
        },
        {
         "legendgroup": "class_1",
         "marker": {
          "color": "red"
         },
         "name": "Class 1",
         "nbinsx": 30,
         "opacity": 0.75,
         "showlegend": false,
         "x": [
          1.05,
          1.25,
          0.98,
          1.23,
          1.22,
          1.45,
          1.19,
          1.12,
          1.12,
          1.02,
          1.28,
          0.906,
          1.36,
          0.98,
          1.31,
          0.99,
          1.23,
          1.19,
          0.96,
          1.06,
          1.19,
          1.38,
          1.16,
          1.31,
          0.84,
          0.79,
          1.23,
          1.33,
          1.36,
          1.0,
          1.07,
          1.08,
          1.05,
          0.96,
          1.15,
          1.16,
          1.16,
          0.95,
          1.23,
          1.04,
          1.42,
          1.27,
          1.04,
          0.8,
          0.94,
          1.04,
          0.86,
          1.0,
          0.88,
          0.86,
          0.96,
          0.75,
          0.9,
          1.23,
          1.1,
          0.93,
          1.71,
          0.95,
          1.06,
          0.7,
          0.93,
          0.8,
          0.93,
          0.92,
          0.73,
          0.75,
          0.86,
          0.69,
          0.97,
          0.89,
          0.79
         ],
         "type": "histogram",
         "xaxis": "x11",
         "yaxis": "y11"
        },
        {
         "legendgroup": "class_1",
         "marker": {
          "color": "red"
         },
         "name": "Class 1",
         "nbinsx": 30,
         "opacity": 0.75,
         "showlegend": false,
         "x": [
          1.82,
          1.67,
          1.59,
          2.46,
          2.87,
          2.23,
          2.3,
          3.18,
          3.48,
          1.93,
          3.07,
          1.82,
          3.16,
          2.78,
          3.5,
          3.13,
          2.14,
          2.48,
          2.52,
          2.31,
          3.13,
          3.12,
          3.14,
          2.72,
          2.01,
          3.08,
          3.16,
          2.26,
          3.21,
          2.75,
          3.21,
          2.27,
          2.65,
          2.06,
          3.3,
          2.96,
          2.63,
          2.26,
          2.74,
          2.77,
          2.83,
          2.96,
          2.77,
          3.38,
          2.44,
          3.57,
          3.3,
          3.17,
          2.42,
          3.02,
          3.26,
          2.81,
          2.78,
          2.5,
          2.31,
          3.19,
          2.87,
          3.33,
          2.96,
          2.12,
          3.05,
          3.39,
          3.69,
          3.12,
          3.1,
          3.64,
          3.28,
          2.84,
          2.44,
          2.78,
          2.57
         ],
         "type": "histogram",
         "xaxis": "x12",
         "yaxis": "y12"
        },
        {
         "legendgroup": "class_1",
         "marker": {
          "color": "red"
         },
         "name": "Class 1",
         "nbinsx": 30,
         "opacity": 0.75,
         "showlegend": false,
         "x": [
          520.0,
          680.0,
          450.0,
          630.0,
          420.0,
          355.0,
          678.0,
          502.0,
          510.0,
          750.0,
          718.0,
          870.0,
          410.0,
          472.0,
          985.0,
          886.0,
          428.0,
          392.0,
          500.0,
          750.0,
          463.0,
          278.0,
          714.0,
          630.0,
          515.0,
          520.0,
          450.0,
          495.0,
          562.0,
          680.0,
          625.0,
          480.0,
          450.0,
          495.0,
          290.0,
          345.0,
          937.0,
          625.0,
          428.0,
          660.0,
          406.0,
          710.0,
          562.0,
          438.0,
          415.0,
          672.0,
          315.0,
          510.0,
          488.0,
          312.0,
          680.0,
          562.0,
          325.0,
          607.0,
          434.0,
          385.0,
          407.0,
          495.0,
          345.0,
          372.0,
          564.0,
          625.0,
          465.0,
          365.0,
          380.0,
          380.0,
          378.0,
          352.0,
          466.0,
          342.0,
          580.0
         ],
         "type": "histogram",
         "xaxis": "x13",
         "yaxis": "y13"
        },
        {
         "legendgroup": "class_2",
         "marker": {
          "color": "green"
         },
         "name": "Class 2",
         "nbinsx": 30,
         "opacity": 0.75,
         "showlegend": true,
         "x": [
          12.86,
          12.88,
          12.81,
          12.7,
          12.51,
          12.6,
          12.25,
          12.53,
          13.49,
          12.84,
          12.93,
          13.36,
          13.52,
          13.62,
          12.25,
          13.16,
          13.88,
          12.87,
          13.32,
          13.08,
          13.5,
          12.79,
          13.11,
          13.23,
          12.58,
          13.17,
          13.84,
          12.45,
          14.34,
          13.48,
          12.36,
          13.69,
          12.85,
          12.96,
          13.78,
          13.73,
          13.45,
          12.82,
          13.58,
          13.4,
          12.2,
          12.77,
          14.16,
          13.71,
          13.4,
          13.27,
          13.17,
          14.13
         ],
         "type": "histogram",
         "xaxis": "x",
         "yaxis": "y"
        },
        {
         "legendgroup": "class_2",
         "marker": {
          "color": "green"
         },
         "name": "Class 2",
         "nbinsx": 30,
         "opacity": 0.75,
         "showlegend": false,
         "x": [
          1.35,
          2.99,
          2.31,
          3.55,
          1.24,
          2.46,
          4.72,
          5.51,
          3.59,
          2.96,
          2.81,
          2.56,
          3.17,
          4.95,
          3.88,
          3.57,
          5.04,
          4.61,
          3.24,
          3.9,
          3.12,
          2.67,
          1.9,
          3.3,
          1.29,
          5.19,
          4.12,
          3.03,
          1.68,
          1.67,
          3.83,
          3.26,
          3.27,
          3.45,
          2.76,
          4.36,
          3.7,
          3.37,
          2.58,
          4.6,
          3.03,
          2.39,
          2.51,
          5.65,
          3.91,
          4.28,
          2.59,
          4.1
         ],
         "type": "histogram",
         "xaxis": "x2",
         "yaxis": "y2"
        },
        {
         "legendgroup": "class_2",
         "marker": {
          "color": "green"
         },
         "name": "Class 2",
         "nbinsx": 30,
         "opacity": 0.75,
         "showlegend": false,
         "x": [
          2.32,
          2.4,
          2.4,
          2.36,
          2.25,
          2.2,
          2.54,
          2.64,
          2.19,
          2.61,
          2.7,
          2.35,
          2.72,
          2.35,
          2.2,
          2.15,
          2.23,
          2.48,
          2.38,
          2.36,
          2.62,
          2.48,
          2.75,
          2.28,
          2.1,
          2.32,
          2.38,
          2.64,
          2.7,
          2.64,
          2.38,
          2.54,
          2.58,
          2.35,
          2.3,
          2.26,
          2.6,
          2.3,
          2.69,
          2.86,
          2.32,
          2.28,
          2.48,
          2.45,
          2.48,
          2.26,
          2.37,
          2.74
         ],
         "type": "histogram",
         "xaxis": "x3",
         "yaxis": "y3"
        },
        {
         "legendgroup": "class_2",
         "marker": {
          "color": "green"
         },
         "name": "Class 2",
         "nbinsx": 30,
         "opacity": 0.75,
         "showlegend": false,
         "x": [
          18.0,
          20.0,
          24.0,
          21.5,
          17.5,
          18.5,
          21.0,
          25.0,
          19.5,
          24.0,
          21.0,
          20.0,
          23.5,
          20.0,
          18.5,
          21.0,
          20.0,
          21.5,
          21.5,
          21.5,
          24.0,
          22.0,
          25.5,
          18.5,
          20.0,
          22.0,
          19.5,
          27.0,
          25.0,
          22.5,
          21.0,
          20.0,
          22.0,
          18.5,
          22.0,
          22.5,
          23.0,
          19.5,
          24.5,
          25.0,
          19.0,
          19.5,
          20.0,
          20.5,
          23.0,
          20.0,
          20.0,
          24.5
         ],
         "type": "histogram",
         "xaxis": "x4",
         "yaxis": "y4"
        },
        {
         "legendgroup": "class_2",
         "marker": {
          "color": "green"
         },
         "name": "Class 2",
         "nbinsx": 30,
         "opacity": 0.75,
         "showlegend": false,
         "x": [
          122.0,
          104.0,
          98.0,
          106.0,
          85.0,
          94.0,
          89.0,
          96.0,
          88.0,
          101.0,
          96.0,
          89.0,
          97.0,
          92.0,
          112.0,
          102.0,
          80.0,
          86.0,
          92.0,
          113.0,
          123.0,
          112.0,
          116.0,
          98.0,
          103.0,
          93.0,
          89.0,
          97.0,
          98.0,
          89.0,
          88.0,
          107.0,
          106.0,
          106.0,
          90.0,
          88.0,
          111.0,
          88.0,
          105.0,
          112.0,
          96.0,
          86.0,
          91.0,
          95.0,
          102.0,
          120.0,
          120.0,
          96.0
         ],
         "type": "histogram",
         "xaxis": "x5",
         "yaxis": "y5"
        },
        {
         "legendgroup": "class_2",
         "marker": {
          "color": "green"
         },
         "name": "Class 2",
         "nbinsx": 30,
         "opacity": 0.75,
         "showlegend": false,
         "x": [
          1.51,
          1.3,
          1.15,
          1.7,
          2.0,
          1.62,
          1.38,
          1.79,
          1.62,
          2.32,
          1.54,
          1.4,
          1.55,
          2.0,
          1.38,
          1.5,
          0.98,
          1.7,
          1.93,
          1.41,
          1.4,
          1.48,
          2.2,
          1.8,
          1.48,
          1.74,
          1.8,
          1.9,
          2.8,
          2.6,
          2.3,
          1.83,
          1.65,
          1.39,
          1.35,
          1.28,
          1.7,
          1.48,
          1.55,
          1.98,
          1.25,
          1.39,
          1.68,
          1.68,
          1.8,
          1.59,
          1.65,
          2.05
         ],
         "type": "histogram",
         "xaxis": "x6",
         "yaxis": "y6"
        },
        {
         "legendgroup": "class_2",
         "marker": {
          "color": "green"
         },
         "name": "Class 2",
         "nbinsx": 30,
         "opacity": 0.75,
         "showlegend": false,
         "x": [
          1.25,
          1.22,
          1.09,
          1.2,
          0.58,
          0.66,
          0.47,
          0.6,
          0.48,
          0.6,
          0.5,
          0.5,
          0.52,
          0.8,
          0.78,
          0.55,
          0.34,
          0.65,
          0.76,
          1.39,
          1.57,
          1.36,
          1.28,
          0.83,
          0.58,
          0.63,
          0.83,
          0.58,
          1.31,
          1.1,
          0.92,
          0.56,
          0.6,
          0.7,
          0.68,
          0.47,
          0.92,
          0.66,
          0.84,
          0.96,
          0.49,
          0.51,
          0.7,
          0.61,
          0.75,
          0.69,
          0.68,
          0.76
         ],
         "type": "histogram",
         "xaxis": "x7",
         "yaxis": "y7"
        },
        {
         "legendgroup": "class_2",
         "marker": {
          "color": "green"
         },
         "name": "Class 2",
         "nbinsx": 30,
         "opacity": 0.75,
         "showlegend": false,
         "x": [
          0.21,
          0.24,
          0.27,
          0.17,
          0.6,
          0.63,
          0.53,
          0.63,
          0.58,
          0.53,
          0.53,
          0.37,
          0.5,
          0.47,
          0.29,
          0.43,
          0.4,
          0.47,
          0.45,
          0.34,
          0.22,
          0.24,
          0.26,
          0.61,
          0.53,
          0.61,
          0.48,
          0.63,
          0.53,
          0.52,
          0.5,
          0.5,
          0.6,
          0.4,
          0.41,
          0.52,
          0.43,
          0.4,
          0.39,
          0.27,
          0.4,
          0.48,
          0.44,
          0.52,
          0.43,
          0.43,
          0.53,
          0.56
         ],
         "type": "histogram",
         "xaxis": "x8",
         "yaxis": "y8"
        },
        {
         "legendgroup": "class_2",
         "marker": {
          "color": "green"
         },
         "name": "Class 2",
         "nbinsx": 30,
         "opacity": 0.75,
         "showlegend": false,
         "x": [
          0.94,
          0.83,
          0.83,
          0.84,
          1.25,
          0.94,
          0.8,
          1.1,
          0.88,
          0.81,
          0.75,
          0.64,
          0.55,
          1.02,
          1.14,
          1.3,
          0.68,
          0.86,
          1.25,
          1.14,
          1.25,
          1.26,
          1.56,
          1.87,
          1.4,
          1.55,
          1.56,
          1.14,
          2.7,
          2.29,
          1.04,
          0.8,
          0.96,
          0.94,
          1.03,
          1.15,
          1.46,
          0.97,
          1.54,
          1.11,
          0.73,
          0.64,
          1.24,
          1.06,
          1.41,
          1.35,
          1.46,
          1.35
         ],
         "type": "histogram",
         "xaxis": "x9",
         "yaxis": "y9"
        },
        {
         "legendgroup": "class_2",
         "marker": {
          "color": "green"
         },
         "name": "Class 2",
         "nbinsx": 30,
         "opacity": 0.75,
         "showlegend": false,
         "x": [
          4.1,
          5.4,
          5.7,
          5.0,
          5.45,
          7.1,
          3.85,
          5.0,
          5.7,
          4.92,
          4.6,
          5.6,
          4.35,
          4.4,
          8.21,
          4.0,
          4.9,
          7.65,
          8.42,
          9.4,
          8.6,
          10.8,
          7.1,
          10.52,
          7.6,
          7.9,
          9.01,
          7.5,
          13.0,
          11.75,
          7.65,
          5.88,
          5.58,
          5.28,
          9.58,
          6.62,
          10.68,
          10.26,
          8.66,
          8.5,
          5.5,
          9.899999,
          9.7,
          7.7,
          7.3,
          10.2,
          9.3,
          9.2
         ],
         "type": "histogram",
         "xaxis": "x10",
         "yaxis": "y10"
        },
        {
         "legendgroup": "class_2",
         "marker": {
          "color": "green"
         },
         "name": "Class 2",
         "nbinsx": 30,
         "opacity": 0.75,
         "showlegend": false,
         "x": [
          0.76,
          0.74,
          0.66,
          0.78,
          0.75,
          0.73,
          0.75,
          0.82,
          0.81,
          0.89,
          0.77,
          0.7,
          0.89,
          0.91,
          0.65,
          0.6,
          0.58,
          0.54,
          0.55,
          0.57,
          0.59,
          0.48,
          0.61,
          0.56,
          0.58,
          0.6,
          0.57,
          0.67,
          0.57,
          0.57,
          0.56,
          0.96,
          0.87,
          0.68,
          0.7,
          0.78,
          0.85,
          0.72,
          0.74,
          0.67,
          0.66,
          0.57,
          0.62,
          0.64,
          0.7,
          0.59,
          0.6,
          0.61
         ],
         "type": "histogram",
         "xaxis": "x11",
         "yaxis": "y11"
        },
        {
         "legendgroup": "class_2",
         "marker": {
          "color": "green"
         },
         "name": "Class 2",
         "nbinsx": 30,
         "opacity": 0.75,
         "showlegend": false,
         "x": [
          1.29,
          1.42,
          1.36,
          1.29,
          1.51,
          1.58,
          1.27,
          1.69,
          1.82,
          2.15,
          2.31,
          2.47,
          2.06,
          2.05,
          2.0,
          1.68,
          1.33,
          1.86,
          1.62,
          1.33,
          1.3,
          1.47,
          1.33,
          1.51,
          1.55,
          1.48,
          1.64,
          1.73,
          1.96,
          1.78,
          1.58,
          1.82,
          2.11,
          1.75,
          1.68,
          1.75,
          1.56,
          1.75,
          1.8,
          1.92,
          1.83,
          1.63,
          1.71,
          1.74,
          1.56,
          1.56,
          1.62,
          1.6
         ],
         "type": "histogram",
         "xaxis": "x12",
         "yaxis": "y12"
        },
        {
         "legendgroup": "class_2",
         "marker": {
          "color": "green"
         },
         "name": "Class 2",
         "nbinsx": 30,
         "opacity": 0.75,
         "showlegend": false,
         "x": [
          630.0,
          530.0,
          560.0,
          600.0,
          650.0,
          695.0,
          720.0,
          515.0,
          580.0,
          590.0,
          600.0,
          780.0,
          520.0,
          550.0,
          855.0,
          830.0,
          415.0,
          625.0,
          650.0,
          550.0,
          500.0,
          480.0,
          425.0,
          675.0,
          640.0,
          725.0,
          480.0,
          880.0,
          660.0,
          620.0,
          520.0,
          680.0,
          570.0,
          675.0,
          615.0,
          520.0,
          695.0,
          685.0,
          750.0,
          630.0,
          510.0,
          470.0,
          660.0,
          740.0,
          750.0,
          835.0,
          840.0,
          560.0
         ],
         "type": "histogram",
         "xaxis": "x13",
         "yaxis": "y13"
        }
       ],
       "layout": {
        "template": {
         "data": {
          "histogram2dcontour": [
           {
            "type": "histogram2dcontour",
            "colorbar": {
             "outlinewidth": 0,
             "ticks": ""
            },
            "colorscale": [
             [
              0.0,
              "#0d0887"
             ],
             [
              0.1111111111111111,
              "#46039f"
             ],
             [
              0.2222222222222222,
              "#7201a8"
             ],
             [
              0.3333333333333333,
              "#9c179e"
             ],
             [
              0.4444444444444444,
              "#bd3786"
             ],
             [
              0.5555555555555556,
              "#d8576b"
             ],
             [
              0.6666666666666666,
              "#ed7953"
             ],
             [
              0.7777777777777778,
              "#fb9f3a"
             ],
             [
              0.8888888888888888,
              "#fdca26"
             ],
             [
              1.0,
              "#f0f921"
             ]
            ]
           }
          ],
          "choropleth": [
           {
            "type": "choropleth",
            "colorbar": {
             "outlinewidth": 0,
             "ticks": ""
            }
           }
          ],
          "histogram2d": [
           {
            "type": "histogram2d",
            "colorbar": {
             "outlinewidth": 0,
             "ticks": ""
            },
            "colorscale": [
             [
              0.0,
              "#0d0887"
             ],
             [
              0.1111111111111111,
              "#46039f"
             ],
             [
              0.2222222222222222,
              "#7201a8"
             ],
             [
              0.3333333333333333,
              "#9c179e"
             ],
             [
              0.4444444444444444,
              "#bd3786"
             ],
             [
              0.5555555555555556,
              "#d8576b"
             ],
             [
              0.6666666666666666,
              "#ed7953"
             ],
             [
              0.7777777777777778,
              "#fb9f3a"
             ],
             [
              0.8888888888888888,
              "#fdca26"
             ],
             [
              1.0,
              "#f0f921"
             ]
            ]
           }
          ],
          "heatmap": [
           {
            "type": "heatmap",
            "colorbar": {
             "outlinewidth": 0,
             "ticks": ""
            },
            "colorscale": [
             [
              0.0,
              "#0d0887"
             ],
             [
              0.1111111111111111,
              "#46039f"
             ],
             [
              0.2222222222222222,
              "#7201a8"
             ],
             [
              0.3333333333333333,
              "#9c179e"
             ],
             [
              0.4444444444444444,
              "#bd3786"
             ],
             [
              0.5555555555555556,
              "#d8576b"
             ],
             [
              0.6666666666666666,
              "#ed7953"
             ],
             [
              0.7777777777777778,
              "#fb9f3a"
             ],
             [
              0.8888888888888888,
              "#fdca26"
             ],
             [
              1.0,
              "#f0f921"
             ]
            ]
           }
          ],
          "heatmapgl": [
           {
            "type": "heatmapgl",
            "colorbar": {
             "outlinewidth": 0,
             "ticks": ""
            },
            "colorscale": [
             [
              0.0,
              "#0d0887"
             ],
             [
              0.1111111111111111,
              "#46039f"
             ],
             [
              0.2222222222222222,
              "#7201a8"
             ],
             [
              0.3333333333333333,
              "#9c179e"
             ],
             [
              0.4444444444444444,
              "#bd3786"
             ],
             [
              0.5555555555555556,
              "#d8576b"
             ],
             [
              0.6666666666666666,
              "#ed7953"
             ],
             [
              0.7777777777777778,
              "#fb9f3a"
             ],
             [
              0.8888888888888888,
              "#fdca26"
             ],
             [
              1.0,
              "#f0f921"
             ]
            ]
           }
          ],
          "contourcarpet": [
           {
            "type": "contourcarpet",
            "colorbar": {
             "outlinewidth": 0,
             "ticks": ""
            }
           }
          ],
          "contour": [
           {
            "type": "contour",
            "colorbar": {
             "outlinewidth": 0,
             "ticks": ""
            },
            "colorscale": [
             [
              0.0,
              "#0d0887"
             ],
             [
              0.1111111111111111,
              "#46039f"
             ],
             [
              0.2222222222222222,
              "#7201a8"
             ],
             [
              0.3333333333333333,
              "#9c179e"
             ],
             [
              0.4444444444444444,
              "#bd3786"
             ],
             [
              0.5555555555555556,
              "#d8576b"
             ],
             [
              0.6666666666666666,
              "#ed7953"
             ],
             [
              0.7777777777777778,
              "#fb9f3a"
             ],
             [
              0.8888888888888888,
              "#fdca26"
             ],
             [
              1.0,
              "#f0f921"
             ]
            ]
           }
          ],
          "surface": [
           {
            "type": "surface",
            "colorbar": {
             "outlinewidth": 0,
             "ticks": ""
            },
            "colorscale": [
             [
              0.0,
              "#0d0887"
             ],
             [
              0.1111111111111111,
              "#46039f"
             ],
             [
              0.2222222222222222,
              "#7201a8"
             ],
             [
              0.3333333333333333,
              "#9c179e"
             ],
             [
              0.4444444444444444,
              "#bd3786"
             ],
             [
              0.5555555555555556,
              "#d8576b"
             ],
             [
              0.6666666666666666,
              "#ed7953"
             ],
             [
              0.7777777777777778,
              "#fb9f3a"
             ],
             [
              0.8888888888888888,
              "#fdca26"
             ],
             [
              1.0,
              "#f0f921"
             ]
            ]
           }
          ],
          "mesh3d": [
           {
            "type": "mesh3d",
            "colorbar": {
             "outlinewidth": 0,
             "ticks": ""
            }
           }
          ],
          "scatter": [
           {
            "marker": {
             "line": {
              "color": "#283442"
             }
            },
            "type": "scatter"
           }
          ],
          "parcoords": [
           {
            "type": "parcoords",
            "line": {
             "colorbar": {
              "outlinewidth": 0,
              "ticks": ""
             }
            }
           }
          ],
          "scatterpolargl": [
           {
            "type": "scatterpolargl",
            "marker": {
             "colorbar": {
              "outlinewidth": 0,
              "ticks": ""
             }
            }
           }
          ],
          "bar": [
           {
            "error_x": {
             "color": "#f2f5fa"
            },
            "error_y": {
             "color": "#f2f5fa"
            },
            "marker": {
             "line": {
              "color": "rgb(17,17,17)",
              "width": 0.5
             },
             "pattern": {
              "fillmode": "overlay",
              "size": 10,
              "solidity": 0.2
             }
            },
            "type": "bar"
           }
          ],
          "scattergeo": [
           {
            "type": "scattergeo",
            "marker": {
             "colorbar": {
              "outlinewidth": 0,
              "ticks": ""
             }
            }
           }
          ],
          "scatterpolar": [
           {
            "type": "scatterpolar",
            "marker": {
             "colorbar": {
              "outlinewidth": 0,
              "ticks": ""
             }
            }
           }
          ],
          "histogram": [
           {
            "marker": {
             "pattern": {
              "fillmode": "overlay",
              "size": 10,
              "solidity": 0.2
             }
            },
            "type": "histogram"
           }
          ],
          "scattergl": [
           {
            "marker": {
             "line": {
              "color": "#283442"
             }
            },
            "type": "scattergl"
           }
          ],
          "scatter3d": [
           {
            "type": "scatter3d",
            "line": {
             "colorbar": {
              "outlinewidth": 0,
              "ticks": ""
             }
            },
            "marker": {
             "colorbar": {
              "outlinewidth": 0,
              "ticks": ""
             }
            }
           }
          ],
          "scattermapbox": [
           {
            "type": "scattermapbox",
            "marker": {
             "colorbar": {
              "outlinewidth": 0,
              "ticks": ""
             }
            }
           }
          ],
          "scatterternary": [
           {
            "type": "scatterternary",
            "marker": {
             "colorbar": {
              "outlinewidth": 0,
              "ticks": ""
             }
            }
           }
          ],
          "scattercarpet": [
           {
            "type": "scattercarpet",
            "marker": {
             "colorbar": {
              "outlinewidth": 0,
              "ticks": ""
             }
            }
           }
          ],
          "carpet": [
           {
            "aaxis": {
             "endlinecolor": "#A2B1C6",
             "gridcolor": "#506784",
             "linecolor": "#506784",
             "minorgridcolor": "#506784",
             "startlinecolor": "#A2B1C6"
            },
            "baxis": {
             "endlinecolor": "#A2B1C6",
             "gridcolor": "#506784",
             "linecolor": "#506784",
             "minorgridcolor": "#506784",
             "startlinecolor": "#A2B1C6"
            },
            "type": "carpet"
           }
          ],
          "table": [
           {
            "cells": {
             "fill": {
              "color": "#506784"
             },
             "line": {
              "color": "rgb(17,17,17)"
             }
            },
            "header": {
             "fill": {
              "color": "#2a3f5f"
             },
             "line": {
              "color": "rgb(17,17,17)"
             }
            },
            "type": "table"
           }
          ],
          "barpolar": [
           {
            "marker": {
             "line": {
              "color": "rgb(17,17,17)",
              "width": 0.5
             },
             "pattern": {
              "fillmode": "overlay",
              "size": 10,
              "solidity": 0.2
             }
            },
            "type": "barpolar"
           }
          ],
          "pie": [
           {
            "automargin": true,
            "type": "pie"
           }
          ]
         },
         "layout": {
          "autotypenumbers": "strict",
          "colorway": [
           "#636efa",
           "#EF553B",
           "#00cc96",
           "#ab63fa",
           "#FFA15A",
           "#19d3f3",
           "#FF6692",
           "#B6E880",
           "#FF97FF",
           "#FECB52"
          ],
          "font": {
           "color": "#f2f5fa"
          },
          "hovermode": "closest",
          "hoverlabel": {
           "align": "left"
          },
          "paper_bgcolor": "rgb(17,17,17)",
          "plot_bgcolor": "rgb(17,17,17)",
          "polar": {
           "bgcolor": "rgb(17,17,17)",
           "angularaxis": {
            "gridcolor": "#506784",
            "linecolor": "#506784",
            "ticks": ""
           },
           "radialaxis": {
            "gridcolor": "#506784",
            "linecolor": "#506784",
            "ticks": ""
           }
          },
          "ternary": {
           "bgcolor": "rgb(17,17,17)",
           "aaxis": {
            "gridcolor": "#506784",
            "linecolor": "#506784",
            "ticks": ""
           },
           "baxis": {
            "gridcolor": "#506784",
            "linecolor": "#506784",
            "ticks": ""
           },
           "caxis": {
            "gridcolor": "#506784",
            "linecolor": "#506784",
            "ticks": ""
           }
          },
          "coloraxis": {
           "colorbar": {
            "outlinewidth": 0,
            "ticks": ""
           }
          },
          "colorscale": {
           "sequential": [
            [
             0.0,
             "#0d0887"
            ],
            [
             0.1111111111111111,
             "#46039f"
            ],
            [
             0.2222222222222222,
             "#7201a8"
            ],
            [
             0.3333333333333333,
             "#9c179e"
            ],
            [
             0.4444444444444444,
             "#bd3786"
            ],
            [
             0.5555555555555556,
             "#d8576b"
            ],
            [
             0.6666666666666666,
             "#ed7953"
            ],
            [
             0.7777777777777778,
             "#fb9f3a"
            ],
            [
             0.8888888888888888,
             "#fdca26"
            ],
            [
             1.0,
             "#f0f921"
            ]
           ],
           "sequentialminus": [
            [
             0.0,
             "#0d0887"
            ],
            [
             0.1111111111111111,
             "#46039f"
            ],
            [
             0.2222222222222222,
             "#7201a8"
            ],
            [
             0.3333333333333333,
             "#9c179e"
            ],
            [
             0.4444444444444444,
             "#bd3786"
            ],
            [
             0.5555555555555556,
             "#d8576b"
            ],
            [
             0.6666666666666666,
             "#ed7953"
            ],
            [
             0.7777777777777778,
             "#fb9f3a"
            ],
            [
             0.8888888888888888,
             "#fdca26"
            ],
            [
             1.0,
             "#f0f921"
            ]
           ],
           "diverging": [
            [
             0,
             "#8e0152"
            ],
            [
             0.1,
             "#c51b7d"
            ],
            [
             0.2,
             "#de77ae"
            ],
            [
             0.3,
             "#f1b6da"
            ],
            [
             0.4,
             "#fde0ef"
            ],
            [
             0.5,
             "#f7f7f7"
            ],
            [
             0.6,
             "#e6f5d0"
            ],
            [
             0.7,
             "#b8e186"
            ],
            [
             0.8,
             "#7fbc41"
            ],
            [
             0.9,
             "#4d9221"
            ],
            [
             1,
             "#276419"
            ]
           ]
          },
          "xaxis": {
           "gridcolor": "#283442",
           "linecolor": "#506784",
           "ticks": "",
           "title": {
            "standoff": 15
           },
           "zerolinecolor": "#283442",
           "automargin": true,
           "zerolinewidth": 2
          },
          "yaxis": {
           "gridcolor": "#283442",
           "linecolor": "#506784",
           "ticks": "",
           "title": {
            "standoff": 15
           },
           "zerolinecolor": "#283442",
           "automargin": true,
           "zerolinewidth": 2
          },
          "scene": {
           "xaxis": {
            "backgroundcolor": "rgb(17,17,17)",
            "gridcolor": "#506784",
            "linecolor": "#506784",
            "showbackground": true,
            "ticks": "",
            "zerolinecolor": "#C8D4E3",
            "gridwidth": 2
           },
           "yaxis": {
            "backgroundcolor": "rgb(17,17,17)",
            "gridcolor": "#506784",
            "linecolor": "#506784",
            "showbackground": true,
            "ticks": "",
            "zerolinecolor": "#C8D4E3",
            "gridwidth": 2
           },
           "zaxis": {
            "backgroundcolor": "rgb(17,17,17)",
            "gridcolor": "#506784",
            "linecolor": "#506784",
            "showbackground": true,
            "ticks": "",
            "zerolinecolor": "#C8D4E3",
            "gridwidth": 2
           }
          },
          "shapedefaults": {
           "line": {
            "color": "#f2f5fa"
           }
          },
          "annotationdefaults": {
           "arrowcolor": "#f2f5fa",
           "arrowhead": 0,
           "arrowwidth": 1
          },
          "geo": {
           "bgcolor": "rgb(17,17,17)",
           "landcolor": "rgb(17,17,17)",
           "subunitcolor": "#506784",
           "showland": true,
           "showlakes": true,
           "lakecolor": "rgb(17,17,17)"
          },
          "title": {
           "x": 0.05
          },
          "updatemenudefaults": {
           "bgcolor": "#506784",
           "borderwidth": 0
          },
          "sliderdefaults": {
           "bgcolor": "#C8D4E3",
           "borderwidth": 1,
           "bordercolor": "rgb(17,17,17)",
           "tickwidth": 0
          },
          "mapbox": {
           "style": "dark"
          }
         }
        },
        "xaxis": {
         "anchor": "y",
         "domain": [
          0.0,
          0.16799999999999998
         ],
         "title": {
          "text": "alcohol"
         },
         "range": [
          11.03,
          14.83
         ]
        },
        "yaxis": {
         "anchor": "x",
         "domain": [
          0.7333333333333333,
          1.0
         ],
         "title": {
          "text": "Count"
         }
        },
        "xaxis2": {
         "anchor": "y2",
         "domain": [
          0.208,
          0.376
         ],
         "title": {
          "text": "malic_acid"
         },
         "range": [
          0.74,
          5.8
         ]
        },
        "yaxis2": {
         "anchor": "x2",
         "domain": [
          0.7333333333333333,
          1.0
         ],
         "title": {
          "text": "Count"
         }
        },
        "xaxis3": {
         "anchor": "y3",
         "domain": [
          0.416,
          0.584
         ],
         "title": {
          "text": "ash"
         },
         "range": [
          1.36,
          3.23
         ]
        },
        "yaxis3": {
         "anchor": "x3",
         "domain": [
          0.7333333333333333,
          1.0
         ],
         "title": {
          "text": "Count"
         }
        },
        "xaxis4": {
         "anchor": "y4",
         "domain": [
          0.624,
          0.792
         ],
         "title": {
          "text": "alcalinity_of_ash"
         },
         "range": [
          10.6,
          30.0
         ]
        },
        "yaxis4": {
         "anchor": "x4",
         "domain": [
          0.7333333333333333,
          1.0
         ],
         "title": {
          "text": "Count"
         }
        },
        "xaxis5": {
         "anchor": "y5",
         "domain": [
          0.832,
          1.0
         ],
         "title": {
          "text": "magnesium"
         },
         "range": [
          70.0,
          162.0
         ]
        },
        "yaxis5": {
         "anchor": "x5",
         "domain": [
          0.7333333333333333,
          1.0
         ],
         "title": {
          "text": "Count"
         }
        },
        "xaxis6": {
         "anchor": "y6",
         "domain": [
          0.0,
          0.16799999999999998
         ],
         "title": {
          "text": "total_phenols"
         },
         "range": [
          0.98,
          3.88
         ]
        },
        "yaxis6": {
         "anchor": "x6",
         "domain": [
          0.36666666666666664,
          0.6333333333333333
         ],
         "title": {
          "text": "Count"
         }
        },
        "xaxis7": {
         "anchor": "y7",
         "domain": [
          0.208,
          0.376
         ],
         "title": {
          "text": "flavanoids"
         },
         "range": [
          0.34,
          5.08
         ]
        },
        "yaxis7": {
         "anchor": "x7",
         "domain": [
          0.36666666666666664,
          0.6333333333333333
         ],
         "title": {
          "text": "Count"
         }
        },
        "xaxis8": {
         "anchor": "y8",
         "domain": [
          0.416,
          0.584
         ],
         "title": {
          "text": "nonflavanoid_phenols"
         },
         "range": [
          0.13,
          0.66
         ]
        },
        "yaxis8": {
         "anchor": "x8",
         "domain": [
          0.36666666666666664,
          0.6333333333333333
         ],
         "title": {
          "text": "Count"
         }
        },
        "xaxis9": {
         "anchor": "y9",
         "domain": [
          0.624,
          0.792
         ],
         "title": {
          "text": "proanthocyanins"
         },
         "range": [
          0.41,
          3.58
         ]
        },
        "yaxis9": {
         "anchor": "x9",
         "domain": [
          0.36666666666666664,
          0.6333333333333333
         ],
         "title": {
          "text": "Count"
         }
        },
        "xaxis10": {
         "anchor": "y10",
         "domain": [
          0.832,
          1.0
         ],
         "title": {
          "text": "color_intensity"
         },
         "range": [
          1.28,
          13.0
         ]
        },
        "yaxis10": {
         "anchor": "x10",
         "domain": [
          0.36666666666666664,
          0.6333333333333333
         ],
         "title": {
          "text": "Count"
         }
        },
        "xaxis11": {
         "anchor": "y11",
         "domain": [
          0.0,
          0.16799999999999998
         ],
         "title": {
          "text": "hue"
         },
         "range": [
          0.48,
          1.71
         ]
        },
        "yaxis11": {
         "anchor": "x11",
         "domain": [
          0.0,
          0.26666666666666666
         ],
         "title": {
          "text": "Count"
         }
        },
        "xaxis12": {
         "anchor": "y12",
         "domain": [
          0.208,
          0.376
         ],
         "title": {
          "text": "od280/od315_of_diluted_wines"
         },
         "range": [
          1.27,
          4.0
         ]
        },
        "yaxis12": {
         "anchor": "x12",
         "domain": [
          0.0,
          0.26666666666666666
         ],
         "title": {
          "text": "Count"
         }
        },
        "xaxis13": {
         "anchor": "y13",
         "domain": [
          0.416,
          0.584
         ],
         "title": {
          "text": "proline"
         },
         "range": [
          278.0,
          1680.0
         ]
        },
        "yaxis13": {
         "anchor": "x13",
         "domain": [
          0.0,
          0.26666666666666666
         ],
         "title": {
          "text": "Count"
         }
        },
        "xaxis14": {
         "anchor": "y14",
         "domain": [
          0.624,
          0.792
         ],
         "visible": false
        },
        "yaxis14": {
         "anchor": "x14",
         "domain": [
          0.0,
          0.26666666666666666
         ],
         "visible": false
        },
        "xaxis15": {
         "anchor": "y15",
         "domain": [
          0.832,
          1.0
         ],
         "visible": false
        },
        "yaxis15": {
         "anchor": "x15",
         "domain": [
          0.0,
          0.26666666666666666
         ],
         "visible": false
        },
        "title": {
         "text": "Histograms of the variables using Plotly",
         "x": 0.5
        },
        "legend": {
         "title": {
          "text": "Class"
         }
        },
        "barmode": "overlay",
        "bargap": 0.1,
        "height": 800
       },
       "config": {
        "displayModeBar": false,
        "plotlyServerURL": "https://plot.ly"
       }
      },
      "text/html": "<div>                            <div id=\"179877f3-6d90-4f35-9d45-4fd2df46eea8\" class=\"plotly-graph-div\" style=\"height:800px; width:100%;\"></div>            <script type=\"text/javascript\">                require([\"plotly\"], function(Plotly) {                    window.PLOTLYENV=window.PLOTLYENV || {};                                    if (document.getElementById(\"179877f3-6d90-4f35-9d45-4fd2df46eea8\")) {                    Plotly.newPlot(                        \"179877f3-6d90-4f35-9d45-4fd2df46eea8\",                        [{\"legendgroup\":\"class_0\",\"marker\":{\"color\":\"blue\"},\"name\":\"Class 0\",\"nbinsx\":30,\"opacity\":0.75,\"showlegend\":true,\"x\":[14.23,13.2,13.16,14.37,13.24,14.2,14.39,14.06,14.83,13.86,14.1,14.12,13.75,14.75,14.38,13.63,14.3,13.83,14.19,13.64,14.06,12.93,13.71,12.85,13.5,13.05,13.39,13.3,13.87,14.02,13.73,13.58,13.68,13.76,13.51,13.48,13.28,13.05,13.07,14.22,13.56,13.41,13.88,13.24,13.05,14.21,14.38,13.9,14.1,13.94,13.05,13.83,13.82,13.77,13.74,13.56,14.22,13.29,13.72],\"type\":\"histogram\",\"xaxis\":\"x\",\"yaxis\":\"y\"},{\"legendgroup\":\"class_0\",\"marker\":{\"color\":\"blue\"},\"name\":\"Class 0\",\"nbinsx\":30,\"opacity\":0.75,\"showlegend\":false,\"x\":[1.71,1.78,2.36,1.95,2.59,1.76,1.87,2.15,1.64,1.35,2.16,1.48,1.73,1.73,1.87,1.81,1.92,1.57,1.59,3.1,1.63,3.8,1.86,1.6,1.81,2.05,1.77,1.72,1.9,1.68,1.5,1.66,1.83,1.53,1.8,1.81,1.64,1.65,1.5,3.99,1.71,3.84,1.89,3.98,1.77,4.04,3.59,1.68,2.02,1.73,1.73,1.65,1.75,1.9,1.67,1.73,1.7,1.97,1.43],\"type\":\"histogram\",\"xaxis\":\"x2\",\"yaxis\":\"y2\"},{\"legendgroup\":\"class_0\",\"marker\":{\"color\":\"blue\"},\"name\":\"Class 0\",\"nbinsx\":30,\"opacity\":0.75,\"showlegend\":false,\"x\":[2.43,2.14,2.67,2.5,2.87,2.45,2.45,2.61,2.17,2.27,2.3,2.32,2.41,2.39,2.38,2.7,2.72,2.62,2.48,2.56,2.28,2.65,2.36,2.52,2.61,3.22,2.62,2.14,2.8,2.21,2.7,2.36,2.36,2.7,2.65,2.41,2.84,2.55,2.1,2.51,2.31,2.12,2.59,2.29,2.1,2.44,2.28,2.12,2.4,2.27,2.04,2.6,2.42,2.68,2.25,2.46,2.3,2.68,2.5],\"type\":\"histogram\",\"xaxis\":\"x3\",\"yaxis\":\"y3\"},{\"legendgroup\":\"class_0\",\"marker\":{\"color\":\"blue\"},\"name\":\"Class 0\",\"nbinsx\":30,\"opacity\":0.75,\"showlegend\":false,\"x\":[15.6,11.2,18.6,16.8,21.0,15.2,14.6,17.6,14.0,16.0,18.0,16.8,16.0,11.4,12.0,17.2,20.0,20.0,16.5,15.2,16.0,18.6,16.6,17.8,20.0,25.0,16.1,17.0,19.4,16.0,22.5,19.1,17.2,19.5,19.0,20.5,15.5,18.0,15.5,13.2,16.2,18.8,15.0,17.5,17.0,18.9,16.0,16.0,18.8,17.4,12.4,17.2,14.0,17.1,16.4,20.5,16.3,16.8,16.7],\"type\":\"histogram\",\"xaxis\":\"x4\",\"yaxis\":\"y4\"},{\"legendgroup\":\"class_0\",\"marker\":{\"color\":\"blue\"},\"name\":\"Class 0\",\"nbinsx\":30,\"opacity\":0.75,\"showlegend\":false,\"x\":[127.0,100.0,101.0,113.0,118.0,112.0,96.0,121.0,97.0,98.0,105.0,95.0,89.0,91.0,102.0,112.0,120.0,115.0,108.0,116.0,126.0,102.0,101.0,95.0,96.0,124.0,93.0,94.0,107.0,96.0,101.0,106.0,104.0,132.0,110.0,100.0,110.0,98.0,98.0,128.0,117.0,90.0,101.0,103.0,107.0,111.0,102.0,101.0,103.0,108.0,92.0,94.0,111.0,115.0,118.0,116.0,118.0,102.0,108.0],\"type\":\"histogram\",\"xaxis\":\"x5\",\"yaxis\":\"y5\"},{\"legendgroup\":\"class_0\",\"marker\":{\"color\":\"blue\"},\"name\":\"Class 0\",\"nbinsx\":30,\"opacity\":0.75,\"showlegend\":false,\"x\":[2.8,2.65,2.8,3.85,2.8,3.27,2.5,2.6,2.8,2.98,2.95,2.2,2.6,3.1,3.3,2.85,2.8,2.95,3.3,2.7,3.0,2.41,2.61,2.48,2.53,2.63,2.85,2.4,2.95,2.65,3.0,2.86,2.42,2.95,2.35,2.7,2.6,2.45,2.4,3.0,3.15,2.45,3.25,2.64,3.0,2.85,3.25,3.1,2.75,2.88,2.72,2.45,3.88,3.0,2.6,2.96,3.2,3.0,3.4],\"type\":\"histogram\",\"xaxis\":\"x6\",\"yaxis\":\"y6\"},{\"legendgroup\":\"class_0\",\"marker\":{\"color\":\"blue\"},\"name\":\"Class 0\",\"nbinsx\":30,\"opacity\":0.75,\"showlegend\":false,\"x\":[3.06,2.76,3.24,3.49,2.69,3.39,2.52,2.51,2.98,3.15,3.32,2.43,2.76,3.69,3.64,2.91,3.14,3.4,3.93,3.03,3.17,2.41,2.88,2.37,2.61,2.68,2.94,2.19,2.97,2.33,3.25,3.19,2.69,2.74,2.53,2.98,2.68,2.43,2.64,3.04,3.29,2.68,3.56,2.63,3.0,2.65,3.17,3.39,2.92,3.54,3.27,2.99,3.74,2.79,2.9,2.78,3.0,3.23,3.67],\"type\":\"histogram\",\"xaxis\":\"x7\",\"yaxis\":\"y7\"},{\"legendgroup\":\"class_0\",\"marker\":{\"color\":\"blue\"},\"name\":\"Class 0\",\"nbinsx\":30,\"opacity\":0.75,\"showlegend\":false,\"x\":[0.28,0.26,0.3,0.24,0.39,0.34,0.3,0.31,0.29,0.22,0.22,0.26,0.29,0.43,0.29,0.3,0.33,0.4,0.32,0.17,0.24,0.25,0.27,0.26,0.28,0.47,0.34,0.27,0.37,0.26,0.29,0.22,0.42,0.5,0.29,0.26,0.34,0.29,0.28,0.2,0.34,0.27,0.17,0.32,0.28,0.3,0.27,0.21,0.32,0.32,0.17,0.22,0.32,0.39,0.21,0.2,0.26,0.31,0.19],\"type\":\"histogram\",\"xaxis\":\"x8\",\"yaxis\":\"y8\"},{\"legendgroup\":\"class_0\",\"marker\":{\"color\":\"blue\"},\"name\":\"Class 0\",\"nbinsx\":30,\"opacity\":0.75,\"showlegend\":false,\"x\":[2.29,1.28,2.81,2.18,1.82,1.97,1.98,1.25,1.98,1.85,2.38,1.57,1.81,2.81,2.96,1.46,1.97,1.72,1.86,1.66,2.1,1.98,1.69,1.46,1.66,1.92,1.45,1.35,1.76,1.98,2.38,1.95,1.97,1.35,1.54,1.86,1.36,1.44,1.37,2.08,2.34,1.48,1.7,1.66,2.03,1.25,2.19,2.14,2.38,2.08,2.91,2.29,1.87,1.68,1.62,2.45,2.03,1.66,2.04],\"type\":\"histogram\",\"xaxis\":\"x9\",\"yaxis\":\"y9\"},{\"legendgroup\":\"class_0\",\"marker\":{\"color\":\"blue\"},\"name\":\"Class 0\",\"nbinsx\":30,\"opacity\":0.75,\"showlegend\":false,\"x\":[5.64,4.38,5.68,7.8,4.32,6.75,5.25,5.05,5.2,7.22,5.75,5.0,5.6,5.4,7.5,7.3,6.2,6.6,8.7,5.1,5.65,4.5,3.8,3.93,3.52,3.58,4.8,3.95,4.5,4.7,5.7,6.9,3.84,5.4,4.2,5.1,4.6,4.25,3.7,5.1,6.13,4.28,5.43,4.36,5.04,5.24,4.9,6.1,6.2,8.9,7.2,5.6,7.05,6.3,5.85,6.25,6.38,6.0,6.8],\"type\":\"histogram\",\"xaxis\":\"x10\",\"yaxis\":\"y10\"},{\"legendgroup\":\"class_0\",\"marker\":{\"color\":\"blue\"},\"name\":\"Class 0\",\"nbinsx\":30,\"opacity\":0.75,\"showlegend\":false,\"x\":[1.04,1.05,1.03,0.86,1.04,1.05,1.02,1.06,1.08,1.01,1.25,1.17,1.15,1.25,1.2,1.28,1.07,1.13,1.23,0.96,1.09,1.03,1.11,1.09,1.12,1.13,0.92,1.02,1.25,1.04,1.19,1.09,1.23,1.25,1.1,1.04,1.09,1.12,1.18,0.89,0.95,0.91,0.88,0.82,0.88,0.87,1.04,0.91,1.07,1.12,1.12,1.24,1.01,1.13,0.92,0.98,0.94,1.07,0.89],\"type\":\"histogram\",\"xaxis\":\"x11\",\"yaxis\":\"y11\"},{\"legendgroup\":\"class_0\",\"marker\":{\"color\":\"blue\"},\"name\":\"Class 0\",\"nbinsx\":30,\"opacity\":0.75,\"showlegend\":false,\"x\":[3.92,3.4,3.17,3.45,2.93,2.85,3.58,3.58,2.85,3.55,3.17,2.82,2.9,2.73,3.0,2.88,2.65,2.57,2.82,3.36,3.71,3.52,4.0,3.63,3.82,3.2,3.22,2.77,3.4,3.59,2.71,2.88,2.87,3.0,2.87,3.47,2.78,2.51,2.69,3.53,3.38,3.0,3.56,3.0,3.35,3.33,3.44,3.33,2.75,3.1,2.91,3.37,3.26,2.93,3.2,3.03,3.31,2.84,2.87],\"type\":\"histogram\",\"xaxis\":\"x12\",\"yaxis\":\"y12\"},{\"legendgroup\":\"class_0\",\"marker\":{\"color\":\"blue\"},\"name\":\"Class 0\",\"nbinsx\":30,\"opacity\":0.75,\"showlegend\":false,\"x\":[1065.0,1050.0,1185.0,1480.0,735.0,1450.0,1290.0,1295.0,1045.0,1045.0,1510.0,1280.0,1320.0,1150.0,1547.0,1310.0,1280.0,1130.0,1680.0,845.0,780.0,770.0,1035.0,1015.0,845.0,830.0,1195.0,1285.0,915.0,1035.0,1285.0,1515.0,990.0,1235.0,1095.0,920.0,880.0,1105.0,1020.0,760.0,795.0,1035.0,1095.0,680.0,885.0,1080.0,1065.0,985.0,1060.0,1260.0,1150.0,1265.0,1190.0,1375.0,1060.0,1120.0,970.0,1270.0,1285.0],\"type\":\"histogram\",\"xaxis\":\"x13\",\"yaxis\":\"y13\"},{\"legendgroup\":\"class_1\",\"marker\":{\"color\":\"red\"},\"name\":\"Class 1\",\"nbinsx\":30,\"opacity\":0.75,\"showlegend\":true,\"x\":[12.37,12.33,12.64,13.67,12.37,12.17,12.37,13.11,12.37,13.34,12.21,12.29,13.86,13.49,12.99,11.96,11.66,13.03,11.84,12.33,12.7,12.0,12.72,12.08,13.05,11.84,12.67,12.16,11.65,11.64,12.08,12.08,12.0,12.69,12.29,11.62,12.47,11.81,12.29,12.37,12.29,12.08,12.6,12.34,11.82,12.51,12.42,12.25,12.72,12.22,11.61,11.46,12.52,11.76,11.41,12.08,11.03,11.82,12.42,12.77,12.0,11.45,11.56,12.42,13.05,11.87,12.07,12.43,11.79,12.37,12.04],\"type\":\"histogram\",\"xaxis\":\"x\",\"yaxis\":\"y\"},{\"legendgroup\":\"class_1\",\"marker\":{\"color\":\"red\"},\"name\":\"Class 1\",\"nbinsx\":30,\"opacity\":0.75,\"showlegend\":false,\"x\":[0.94,1.1,1.36,1.25,1.13,1.45,1.21,1.01,1.17,0.94,1.19,1.61,1.51,1.66,1.67,1.09,1.88,0.9,2.89,0.99,3.87,0.92,1.81,1.13,3.86,0.89,0.98,1.61,1.67,2.06,1.33,1.83,1.51,1.53,2.83,1.99,1.52,2.12,1.41,1.07,3.17,2.08,1.34,2.45,1.72,1.73,2.55,1.73,1.75,1.29,1.35,3.74,2.43,2.68,0.74,1.39,1.51,1.47,1.61,3.43,3.43,2.4,2.05,4.43,5.8,4.31,2.16,1.53,2.13,1.63,4.3],\"type\":\"histogram\",\"xaxis\":\"x2\",\"yaxis\":\"y2\"},{\"legendgroup\":\"class_1\",\"marker\":{\"color\":\"red\"},\"name\":\"Class 1\",\"nbinsx\":30,\"opacity\":0.75,\"showlegend\":false,\"x\":[1.36,2.28,2.02,1.92,2.16,2.53,2.56,1.7,1.92,2.36,1.75,2.21,2.67,2.24,2.6,2.3,1.92,1.71,2.23,1.95,2.4,2.0,2.2,2.51,2.32,2.58,2.24,2.31,2.62,2.46,2.3,2.32,2.42,2.26,2.22,2.28,2.2,2.74,1.98,2.1,2.21,1.7,1.9,2.46,1.88,1.98,2.27,2.12,2.28,1.94,2.7,1.82,2.17,2.92,2.5,2.5,2.2,1.99,2.19,1.98,2.0,2.42,3.23,2.73,2.13,2.39,2.17,2.29,2.78,2.3,2.38],\"type\":\"histogram\",\"xaxis\":\"x3\",\"yaxis\":\"y3\"},{\"legendgroup\":\"class_1\",\"marker\":{\"color\":\"red\"},\"name\":\"Class 1\",\"nbinsx\":30,\"opacity\":0.75,\"showlegend\":false,\"x\":[10.6,16.0,16.8,18.0,19.0,19.0,18.1,15.0,19.6,17.0,16.8,20.4,25.0,24.0,30.0,21.0,16.0,16.0,18.0,14.8,23.0,19.0,18.8,24.0,22.5,18.0,18.0,22.8,26.0,21.6,23.6,18.5,22.0,20.7,18.0,18.0,19.0,21.5,16.0,18.5,18.0,17.5,18.5,21.0,19.5,20.5,22.0,19.0,22.5,19.0,20.0,19.5,21.0,20.0,21.0,22.5,21.5,20.8,22.5,16.0,19.0,20.0,28.5,26.5,21.5,21.0,21.0,21.5,28.5,24.5,22.0],\"type\":\"histogram\",\"xaxis\":\"x4\",\"yaxis\":\"y4\"},{\"legendgroup\":\"class_1\",\"marker\":{\"color\":\"red\"},\"name\":\"Class 1\",\"nbinsx\":30,\"opacity\":0.75,\"showlegend\":false,\"x\":[88.0,101.0,100.0,94.0,87.0,104.0,98.0,78.0,78.0,110.0,151.0,103.0,86.0,87.0,139.0,101.0,97.0,86.0,112.0,136.0,101.0,86.0,86.0,78.0,85.0,94.0,99.0,90.0,88.0,84.0,70.0,81.0,86.0,80.0,88.0,98.0,162.0,134.0,85.0,88.0,88.0,97.0,88.0,98.0,86.0,85.0,90.0,80.0,84.0,92.0,94.0,107.0,88.0,103.0,88.0,84.0,85.0,86.0,108.0,80.0,87.0,96.0,119.0,102.0,86.0,82.0,85.0,86.0,92.0,88.0,80.0],\"type\":\"histogram\",\"xaxis\":\"x5\",\"yaxis\":\"y5\"},{\"legendgroup\":\"class_1\",\"marker\":{\"color\":\"red\"},\"name\":\"Class 1\",\"nbinsx\":30,\"opacity\":0.75,\"showlegend\":false,\"x\":[1.98,2.05,2.02,2.1,3.5,1.89,2.42,2.98,2.11,2.53,1.85,1.1,2.95,1.88,3.3,3.38,1.61,1.95,1.72,1.9,2.83,2.42,2.2,2.0,1.65,2.2,2.2,1.78,1.92,1.95,2.2,1.6,1.45,1.38,2.45,3.02,2.5,1.6,2.55,3.52,2.85,2.23,1.45,2.56,2.5,2.2,1.68,1.65,1.38,2.36,2.74,3.18,2.55,1.75,2.48,2.56,2.46,1.98,2.0,1.63,2.0,2.9,3.18,2.2,2.62,2.86,2.6,2.74,2.13,2.22,2.1],\"type\":\"histogram\",\"xaxis\":\"x6\",\"yaxis\":\"y6\"},{\"legendgroup\":\"class_1\",\"marker\":{\"color\":\"red\"},\"name\":\"Class 1\",\"nbinsx\":30,\"opacity\":0.75,\"showlegend\":false,\"x\":[0.57,1.09,1.41,1.79,3.1,1.75,2.65,3.18,2.0,1.3,1.28,1.02,2.86,1.84,2.89,2.14,1.57,2.03,1.32,1.85,2.55,2.26,2.53,1.58,1.59,2.21,1.94,1.69,1.61,1.69,1.59,1.5,1.25,1.46,2.25,2.26,2.27,0.99,2.5,3.75,2.99,2.17,1.36,2.11,1.64,1.92,1.84,2.03,1.76,2.04,2.92,2.58,2.27,2.03,2.01,2.29,2.17,1.6,2.09,1.25,1.64,2.79,5.08,2.13,2.65,3.03,2.65,3.15,2.24,2.45,1.75],\"type\":\"histogram\",\"xaxis\":\"x7\",\"yaxis\":\"y7\"},{\"legendgroup\":\"class_1\",\"marker\":{\"color\":\"red\"},\"name\":\"Class 1\",\"nbinsx\":30,\"opacity\":0.75,\"showlegend\":false,\"x\":[0.28,0.63,0.53,0.32,0.19,0.45,0.37,0.26,0.27,0.55,0.14,0.37,0.21,0.27,0.21,0.13,0.34,0.24,0.43,0.35,0.43,0.3,0.26,0.4,0.61,0.22,0.3,0.43,0.4,0.48,0.42,0.52,0.5,0.58,0.25,0.17,0.32,0.14,0.29,0.24,0.45,0.26,0.29,0.34,0.37,0.32,0.66,0.37,0.48,0.39,0.29,0.24,0.26,0.6,0.42,0.43,0.52,0.3,0.34,0.43,0.37,0.32,0.47,0.43,0.3,0.21,0.37,0.39,0.58,0.4,0.42],\"type\":\"histogram\",\"xaxis\":\"x8\",\"yaxis\":\"y8\"},{\"legendgroup\":\"class_1\",\"marker\":{\"color\":\"red\"},\"name\":\"Class 1\",\"nbinsx\":30,\"opacity\":0.75,\"showlegend\":false,\"x\":[0.42,0.41,0.62,0.73,1.87,1.03,2.08,2.28,1.04,0.42,2.5,1.46,1.87,1.03,1.96,1.65,1.15,1.46,0.95,2.76,1.95,1.43,1.77,1.4,1.62,2.35,1.46,1.56,1.34,1.35,1.38,1.64,1.63,1.62,1.99,1.35,3.28,1.56,1.77,1.95,2.81,1.4,1.35,1.31,1.42,1.48,1.42,1.63,1.63,2.08,2.49,3.58,1.22,1.05,1.44,1.04,2.01,1.53,1.61,0.83,1.87,1.83,1.87,1.71,2.01,2.91,1.35,1.77,1.76,1.9,1.35],\"type\":\"histogram\",\"xaxis\":\"x9\",\"yaxis\":\"y9\"},{\"legendgroup\":\"class_1\",\"marker\":{\"color\":\"red\"},\"name\":\"Class 1\",\"nbinsx\":30,\"opacity\":0.75,\"showlegend\":false,\"x\":[1.95,3.27,5.75,3.8,4.45,2.95,4.6,5.3,4.68,3.17,2.85,3.05,3.38,3.74,3.35,3.21,3.8,4.6,2.65,3.4,2.57,2.5,3.9,2.2,4.8,3.05,2.62,2.45,2.6,2.8,1.74,2.4,3.6,3.05,2.15,3.25,2.6,2.5,2.9,4.5,2.3,3.3,2.45,2.8,2.06,2.94,2.7,3.4,3.3,2.7,2.65,2.9,2.0,3.8,3.08,2.9,1.9,1.95,2.06,3.4,1.28,3.25,6.0,2.08,2.6,2.8,2.76,3.94,3.0,2.12,2.6],\"type\":\"histogram\",\"xaxis\":\"x10\",\"yaxis\":\"y10\"},{\"legendgroup\":\"class_1\",\"marker\":{\"color\":\"red\"},\"name\":\"Class 1\",\"nbinsx\":30,\"opacity\":0.75,\"showlegend\":false,\"x\":[1.05,1.25,0.98,1.23,1.22,1.45,1.19,1.12,1.12,1.02,1.28,0.906,1.36,0.98,1.31,0.99,1.23,1.19,0.96,1.06,1.19,1.38,1.16,1.31,0.84,0.79,1.23,1.33,1.36,1.0,1.07,1.08,1.05,0.96,1.15,1.16,1.16,0.95,1.23,1.04,1.42,1.27,1.04,0.8,0.94,1.04,0.86,1.0,0.88,0.86,0.96,0.75,0.9,1.23,1.1,0.93,1.71,0.95,1.06,0.7,0.93,0.8,0.93,0.92,0.73,0.75,0.86,0.69,0.97,0.89,0.79],\"type\":\"histogram\",\"xaxis\":\"x11\",\"yaxis\":\"y11\"},{\"legendgroup\":\"class_1\",\"marker\":{\"color\":\"red\"},\"name\":\"Class 1\",\"nbinsx\":30,\"opacity\":0.75,\"showlegend\":false,\"x\":[1.82,1.67,1.59,2.46,2.87,2.23,2.3,3.18,3.48,1.93,3.07,1.82,3.16,2.78,3.5,3.13,2.14,2.48,2.52,2.31,3.13,3.12,3.14,2.72,2.01,3.08,3.16,2.26,3.21,2.75,3.21,2.27,2.65,2.06,3.3,2.96,2.63,2.26,2.74,2.77,2.83,2.96,2.77,3.38,2.44,3.57,3.3,3.17,2.42,3.02,3.26,2.81,2.78,2.5,2.31,3.19,2.87,3.33,2.96,2.12,3.05,3.39,3.69,3.12,3.1,3.64,3.28,2.84,2.44,2.78,2.57],\"type\":\"histogram\",\"xaxis\":\"x12\",\"yaxis\":\"y12\"},{\"legendgroup\":\"class_1\",\"marker\":{\"color\":\"red\"},\"name\":\"Class 1\",\"nbinsx\":30,\"opacity\":0.75,\"showlegend\":false,\"x\":[520.0,680.0,450.0,630.0,420.0,355.0,678.0,502.0,510.0,750.0,718.0,870.0,410.0,472.0,985.0,886.0,428.0,392.0,500.0,750.0,463.0,278.0,714.0,630.0,515.0,520.0,450.0,495.0,562.0,680.0,625.0,480.0,450.0,495.0,290.0,345.0,937.0,625.0,428.0,660.0,406.0,710.0,562.0,438.0,415.0,672.0,315.0,510.0,488.0,312.0,680.0,562.0,325.0,607.0,434.0,385.0,407.0,495.0,345.0,372.0,564.0,625.0,465.0,365.0,380.0,380.0,378.0,352.0,466.0,342.0,580.0],\"type\":\"histogram\",\"xaxis\":\"x13\",\"yaxis\":\"y13\"},{\"legendgroup\":\"class_2\",\"marker\":{\"color\":\"green\"},\"name\":\"Class 2\",\"nbinsx\":30,\"opacity\":0.75,\"showlegend\":true,\"x\":[12.86,12.88,12.81,12.7,12.51,12.6,12.25,12.53,13.49,12.84,12.93,13.36,13.52,13.62,12.25,13.16,13.88,12.87,13.32,13.08,13.5,12.79,13.11,13.23,12.58,13.17,13.84,12.45,14.34,13.48,12.36,13.69,12.85,12.96,13.78,13.73,13.45,12.82,13.58,13.4,12.2,12.77,14.16,13.71,13.4,13.27,13.17,14.13],\"type\":\"histogram\",\"xaxis\":\"x\",\"yaxis\":\"y\"},{\"legendgroup\":\"class_2\",\"marker\":{\"color\":\"green\"},\"name\":\"Class 2\",\"nbinsx\":30,\"opacity\":0.75,\"showlegend\":false,\"x\":[1.35,2.99,2.31,3.55,1.24,2.46,4.72,5.51,3.59,2.96,2.81,2.56,3.17,4.95,3.88,3.57,5.04,4.61,3.24,3.9,3.12,2.67,1.9,3.3,1.29,5.19,4.12,3.03,1.68,1.67,3.83,3.26,3.27,3.45,2.76,4.36,3.7,3.37,2.58,4.6,3.03,2.39,2.51,5.65,3.91,4.28,2.59,4.1],\"type\":\"histogram\",\"xaxis\":\"x2\",\"yaxis\":\"y2\"},{\"legendgroup\":\"class_2\",\"marker\":{\"color\":\"green\"},\"name\":\"Class 2\",\"nbinsx\":30,\"opacity\":0.75,\"showlegend\":false,\"x\":[2.32,2.4,2.4,2.36,2.25,2.2,2.54,2.64,2.19,2.61,2.7,2.35,2.72,2.35,2.2,2.15,2.23,2.48,2.38,2.36,2.62,2.48,2.75,2.28,2.1,2.32,2.38,2.64,2.7,2.64,2.38,2.54,2.58,2.35,2.3,2.26,2.6,2.3,2.69,2.86,2.32,2.28,2.48,2.45,2.48,2.26,2.37,2.74],\"type\":\"histogram\",\"xaxis\":\"x3\",\"yaxis\":\"y3\"},{\"legendgroup\":\"class_2\",\"marker\":{\"color\":\"green\"},\"name\":\"Class 2\",\"nbinsx\":30,\"opacity\":0.75,\"showlegend\":false,\"x\":[18.0,20.0,24.0,21.5,17.5,18.5,21.0,25.0,19.5,24.0,21.0,20.0,23.5,20.0,18.5,21.0,20.0,21.5,21.5,21.5,24.0,22.0,25.5,18.5,20.0,22.0,19.5,27.0,25.0,22.5,21.0,20.0,22.0,18.5,22.0,22.5,23.0,19.5,24.5,25.0,19.0,19.5,20.0,20.5,23.0,20.0,20.0,24.5],\"type\":\"histogram\",\"xaxis\":\"x4\",\"yaxis\":\"y4\"},{\"legendgroup\":\"class_2\",\"marker\":{\"color\":\"green\"},\"name\":\"Class 2\",\"nbinsx\":30,\"opacity\":0.75,\"showlegend\":false,\"x\":[122.0,104.0,98.0,106.0,85.0,94.0,89.0,96.0,88.0,101.0,96.0,89.0,97.0,92.0,112.0,102.0,80.0,86.0,92.0,113.0,123.0,112.0,116.0,98.0,103.0,93.0,89.0,97.0,98.0,89.0,88.0,107.0,106.0,106.0,90.0,88.0,111.0,88.0,105.0,112.0,96.0,86.0,91.0,95.0,102.0,120.0,120.0,96.0],\"type\":\"histogram\",\"xaxis\":\"x5\",\"yaxis\":\"y5\"},{\"legendgroup\":\"class_2\",\"marker\":{\"color\":\"green\"},\"name\":\"Class 2\",\"nbinsx\":30,\"opacity\":0.75,\"showlegend\":false,\"x\":[1.51,1.3,1.15,1.7,2.0,1.62,1.38,1.79,1.62,2.32,1.54,1.4,1.55,2.0,1.38,1.5,0.98,1.7,1.93,1.41,1.4,1.48,2.2,1.8,1.48,1.74,1.8,1.9,2.8,2.6,2.3,1.83,1.65,1.39,1.35,1.28,1.7,1.48,1.55,1.98,1.25,1.39,1.68,1.68,1.8,1.59,1.65,2.05],\"type\":\"histogram\",\"xaxis\":\"x6\",\"yaxis\":\"y6\"},{\"legendgroup\":\"class_2\",\"marker\":{\"color\":\"green\"},\"name\":\"Class 2\",\"nbinsx\":30,\"opacity\":0.75,\"showlegend\":false,\"x\":[1.25,1.22,1.09,1.2,0.58,0.66,0.47,0.6,0.48,0.6,0.5,0.5,0.52,0.8,0.78,0.55,0.34,0.65,0.76,1.39,1.57,1.36,1.28,0.83,0.58,0.63,0.83,0.58,1.31,1.1,0.92,0.56,0.6,0.7,0.68,0.47,0.92,0.66,0.84,0.96,0.49,0.51,0.7,0.61,0.75,0.69,0.68,0.76],\"type\":\"histogram\",\"xaxis\":\"x7\",\"yaxis\":\"y7\"},{\"legendgroup\":\"class_2\",\"marker\":{\"color\":\"green\"},\"name\":\"Class 2\",\"nbinsx\":30,\"opacity\":0.75,\"showlegend\":false,\"x\":[0.21,0.24,0.27,0.17,0.6,0.63,0.53,0.63,0.58,0.53,0.53,0.37,0.5,0.47,0.29,0.43,0.4,0.47,0.45,0.34,0.22,0.24,0.26,0.61,0.53,0.61,0.48,0.63,0.53,0.52,0.5,0.5,0.6,0.4,0.41,0.52,0.43,0.4,0.39,0.27,0.4,0.48,0.44,0.52,0.43,0.43,0.53,0.56],\"type\":\"histogram\",\"xaxis\":\"x8\",\"yaxis\":\"y8\"},{\"legendgroup\":\"class_2\",\"marker\":{\"color\":\"green\"},\"name\":\"Class 2\",\"nbinsx\":30,\"opacity\":0.75,\"showlegend\":false,\"x\":[0.94,0.83,0.83,0.84,1.25,0.94,0.8,1.1,0.88,0.81,0.75,0.64,0.55,1.02,1.14,1.3,0.68,0.86,1.25,1.14,1.25,1.26,1.56,1.87,1.4,1.55,1.56,1.14,2.7,2.29,1.04,0.8,0.96,0.94,1.03,1.15,1.46,0.97,1.54,1.11,0.73,0.64,1.24,1.06,1.41,1.35,1.46,1.35],\"type\":\"histogram\",\"xaxis\":\"x9\",\"yaxis\":\"y9\"},{\"legendgroup\":\"class_2\",\"marker\":{\"color\":\"green\"},\"name\":\"Class 2\",\"nbinsx\":30,\"opacity\":0.75,\"showlegend\":false,\"x\":[4.1,5.4,5.7,5.0,5.45,7.1,3.85,5.0,5.7,4.92,4.6,5.6,4.35,4.4,8.21,4.0,4.9,7.65,8.42,9.4,8.6,10.8,7.1,10.52,7.6,7.9,9.01,7.5,13.0,11.75,7.65,5.88,5.58,5.28,9.58,6.62,10.68,10.26,8.66,8.5,5.5,9.899999,9.7,7.7,7.3,10.2,9.3,9.2],\"type\":\"histogram\",\"xaxis\":\"x10\",\"yaxis\":\"y10\"},{\"legendgroup\":\"class_2\",\"marker\":{\"color\":\"green\"},\"name\":\"Class 2\",\"nbinsx\":30,\"opacity\":0.75,\"showlegend\":false,\"x\":[0.76,0.74,0.66,0.78,0.75,0.73,0.75,0.82,0.81,0.89,0.77,0.7,0.89,0.91,0.65,0.6,0.58,0.54,0.55,0.57,0.59,0.48,0.61,0.56,0.58,0.6,0.57,0.67,0.57,0.57,0.56,0.96,0.87,0.68,0.7,0.78,0.85,0.72,0.74,0.67,0.66,0.57,0.62,0.64,0.7,0.59,0.6,0.61],\"type\":\"histogram\",\"xaxis\":\"x11\",\"yaxis\":\"y11\"},{\"legendgroup\":\"class_2\",\"marker\":{\"color\":\"green\"},\"name\":\"Class 2\",\"nbinsx\":30,\"opacity\":0.75,\"showlegend\":false,\"x\":[1.29,1.42,1.36,1.29,1.51,1.58,1.27,1.69,1.82,2.15,2.31,2.47,2.06,2.05,2.0,1.68,1.33,1.86,1.62,1.33,1.3,1.47,1.33,1.51,1.55,1.48,1.64,1.73,1.96,1.78,1.58,1.82,2.11,1.75,1.68,1.75,1.56,1.75,1.8,1.92,1.83,1.63,1.71,1.74,1.56,1.56,1.62,1.6],\"type\":\"histogram\",\"xaxis\":\"x12\",\"yaxis\":\"y12\"},{\"legendgroup\":\"class_2\",\"marker\":{\"color\":\"green\"},\"name\":\"Class 2\",\"nbinsx\":30,\"opacity\":0.75,\"showlegend\":false,\"x\":[630.0,530.0,560.0,600.0,650.0,695.0,720.0,515.0,580.0,590.0,600.0,780.0,520.0,550.0,855.0,830.0,415.0,625.0,650.0,550.0,500.0,480.0,425.0,675.0,640.0,725.0,480.0,880.0,660.0,620.0,520.0,680.0,570.0,675.0,615.0,520.0,695.0,685.0,750.0,630.0,510.0,470.0,660.0,740.0,750.0,835.0,840.0,560.0],\"type\":\"histogram\",\"xaxis\":\"x13\",\"yaxis\":\"y13\"}],                        {\"template\":{\"data\":{\"histogram2dcontour\":[{\"type\":\"histogram2dcontour\",\"colorbar\":{\"outlinewidth\":0,\"ticks\":\"\"},\"colorscale\":[[0.0,\"#0d0887\"],[0.1111111111111111,\"#46039f\"],[0.2222222222222222,\"#7201a8\"],[0.3333333333333333,\"#9c179e\"],[0.4444444444444444,\"#bd3786\"],[0.5555555555555556,\"#d8576b\"],[0.6666666666666666,\"#ed7953\"],[0.7777777777777778,\"#fb9f3a\"],[0.8888888888888888,\"#fdca26\"],[1.0,\"#f0f921\"]]}],\"choropleth\":[{\"type\":\"choropleth\",\"colorbar\":{\"outlinewidth\":0,\"ticks\":\"\"}}],\"histogram2d\":[{\"type\":\"histogram2d\",\"colorbar\":{\"outlinewidth\":0,\"ticks\":\"\"},\"colorscale\":[[0.0,\"#0d0887\"],[0.1111111111111111,\"#46039f\"],[0.2222222222222222,\"#7201a8\"],[0.3333333333333333,\"#9c179e\"],[0.4444444444444444,\"#bd3786\"],[0.5555555555555556,\"#d8576b\"],[0.6666666666666666,\"#ed7953\"],[0.7777777777777778,\"#fb9f3a\"],[0.8888888888888888,\"#fdca26\"],[1.0,\"#f0f921\"]]}],\"heatmap\":[{\"type\":\"heatmap\",\"colorbar\":{\"outlinewidth\":0,\"ticks\":\"\"},\"colorscale\":[[0.0,\"#0d0887\"],[0.1111111111111111,\"#46039f\"],[0.2222222222222222,\"#7201a8\"],[0.3333333333333333,\"#9c179e\"],[0.4444444444444444,\"#bd3786\"],[0.5555555555555556,\"#d8576b\"],[0.6666666666666666,\"#ed7953\"],[0.7777777777777778,\"#fb9f3a\"],[0.8888888888888888,\"#fdca26\"],[1.0,\"#f0f921\"]]}],\"heatmapgl\":[{\"type\":\"heatmapgl\",\"colorbar\":{\"outlinewidth\":0,\"ticks\":\"\"},\"colorscale\":[[0.0,\"#0d0887\"],[0.1111111111111111,\"#46039f\"],[0.2222222222222222,\"#7201a8\"],[0.3333333333333333,\"#9c179e\"],[0.4444444444444444,\"#bd3786\"],[0.5555555555555556,\"#d8576b\"],[0.6666666666666666,\"#ed7953\"],[0.7777777777777778,\"#fb9f3a\"],[0.8888888888888888,\"#fdca26\"],[1.0,\"#f0f921\"]]}],\"contourcarpet\":[{\"type\":\"contourcarpet\",\"colorbar\":{\"outlinewidth\":0,\"ticks\":\"\"}}],\"contour\":[{\"type\":\"contour\",\"colorbar\":{\"outlinewidth\":0,\"ticks\":\"\"},\"colorscale\":[[0.0,\"#0d0887\"],[0.1111111111111111,\"#46039f\"],[0.2222222222222222,\"#7201a8\"],[0.3333333333333333,\"#9c179e\"],[0.4444444444444444,\"#bd3786\"],[0.5555555555555556,\"#d8576b\"],[0.6666666666666666,\"#ed7953\"],[0.7777777777777778,\"#fb9f3a\"],[0.8888888888888888,\"#fdca26\"],[1.0,\"#f0f921\"]]}],\"surface\":[{\"type\":\"surface\",\"colorbar\":{\"outlinewidth\":0,\"ticks\":\"\"},\"colorscale\":[[0.0,\"#0d0887\"],[0.1111111111111111,\"#46039f\"],[0.2222222222222222,\"#7201a8\"],[0.3333333333333333,\"#9c179e\"],[0.4444444444444444,\"#bd3786\"],[0.5555555555555556,\"#d8576b\"],[0.6666666666666666,\"#ed7953\"],[0.7777777777777778,\"#fb9f3a\"],[0.8888888888888888,\"#fdca26\"],[1.0,\"#f0f921\"]]}],\"mesh3d\":[{\"type\":\"mesh3d\",\"colorbar\":{\"outlinewidth\":0,\"ticks\":\"\"}}],\"scatter\":[{\"marker\":{\"line\":{\"color\":\"#283442\"}},\"type\":\"scatter\"}],\"parcoords\":[{\"type\":\"parcoords\",\"line\":{\"colorbar\":{\"outlinewidth\":0,\"ticks\":\"\"}}}],\"scatterpolargl\":[{\"type\":\"scatterpolargl\",\"marker\":{\"colorbar\":{\"outlinewidth\":0,\"ticks\":\"\"}}}],\"bar\":[{\"error_x\":{\"color\":\"#f2f5fa\"},\"error_y\":{\"color\":\"#f2f5fa\"},\"marker\":{\"line\":{\"color\":\"rgb(17,17,17)\",\"width\":0.5},\"pattern\":{\"fillmode\":\"overlay\",\"size\":10,\"solidity\":0.2}},\"type\":\"bar\"}],\"scattergeo\":[{\"type\":\"scattergeo\",\"marker\":{\"colorbar\":{\"outlinewidth\":0,\"ticks\":\"\"}}}],\"scatterpolar\":[{\"type\":\"scatterpolar\",\"marker\":{\"colorbar\":{\"outlinewidth\":0,\"ticks\":\"\"}}}],\"histogram\":[{\"marker\":{\"pattern\":{\"fillmode\":\"overlay\",\"size\":10,\"solidity\":0.2}},\"type\":\"histogram\"}],\"scattergl\":[{\"marker\":{\"line\":{\"color\":\"#283442\"}},\"type\":\"scattergl\"}],\"scatter3d\":[{\"type\":\"scatter3d\",\"line\":{\"colorbar\":{\"outlinewidth\":0,\"ticks\":\"\"}},\"marker\":{\"colorbar\":{\"outlinewidth\":0,\"ticks\":\"\"}}}],\"scattermapbox\":[{\"type\":\"scattermapbox\",\"marker\":{\"colorbar\":{\"outlinewidth\":0,\"ticks\":\"\"}}}],\"scatterternary\":[{\"type\":\"scatterternary\",\"marker\":{\"colorbar\":{\"outlinewidth\":0,\"ticks\":\"\"}}}],\"scattercarpet\":[{\"type\":\"scattercarpet\",\"marker\":{\"colorbar\":{\"outlinewidth\":0,\"ticks\":\"\"}}}],\"carpet\":[{\"aaxis\":{\"endlinecolor\":\"#A2B1C6\",\"gridcolor\":\"#506784\",\"linecolor\":\"#506784\",\"minorgridcolor\":\"#506784\",\"startlinecolor\":\"#A2B1C6\"},\"baxis\":{\"endlinecolor\":\"#A2B1C6\",\"gridcolor\":\"#506784\",\"linecolor\":\"#506784\",\"minorgridcolor\":\"#506784\",\"startlinecolor\":\"#A2B1C6\"},\"type\":\"carpet\"}],\"table\":[{\"cells\":{\"fill\":{\"color\":\"#506784\"},\"line\":{\"color\":\"rgb(17,17,17)\"}},\"header\":{\"fill\":{\"color\":\"#2a3f5f\"},\"line\":{\"color\":\"rgb(17,17,17)\"}},\"type\":\"table\"}],\"barpolar\":[{\"marker\":{\"line\":{\"color\":\"rgb(17,17,17)\",\"width\":0.5},\"pattern\":{\"fillmode\":\"overlay\",\"size\":10,\"solidity\":0.2}},\"type\":\"barpolar\"}],\"pie\":[{\"automargin\":true,\"type\":\"pie\"}]},\"layout\":{\"autotypenumbers\":\"strict\",\"colorway\":[\"#636efa\",\"#EF553B\",\"#00cc96\",\"#ab63fa\",\"#FFA15A\",\"#19d3f3\",\"#FF6692\",\"#B6E880\",\"#FF97FF\",\"#FECB52\"],\"font\":{\"color\":\"#f2f5fa\"},\"hovermode\":\"closest\",\"hoverlabel\":{\"align\":\"left\"},\"paper_bgcolor\":\"rgb(17,17,17)\",\"plot_bgcolor\":\"rgb(17,17,17)\",\"polar\":{\"bgcolor\":\"rgb(17,17,17)\",\"angularaxis\":{\"gridcolor\":\"#506784\",\"linecolor\":\"#506784\",\"ticks\":\"\"},\"radialaxis\":{\"gridcolor\":\"#506784\",\"linecolor\":\"#506784\",\"ticks\":\"\"}},\"ternary\":{\"bgcolor\":\"rgb(17,17,17)\",\"aaxis\":{\"gridcolor\":\"#506784\",\"linecolor\":\"#506784\",\"ticks\":\"\"},\"baxis\":{\"gridcolor\":\"#506784\",\"linecolor\":\"#506784\",\"ticks\":\"\"},\"caxis\":{\"gridcolor\":\"#506784\",\"linecolor\":\"#506784\",\"ticks\":\"\"}},\"coloraxis\":{\"colorbar\":{\"outlinewidth\":0,\"ticks\":\"\"}},\"colorscale\":{\"sequential\":[[0.0,\"#0d0887\"],[0.1111111111111111,\"#46039f\"],[0.2222222222222222,\"#7201a8\"],[0.3333333333333333,\"#9c179e\"],[0.4444444444444444,\"#bd3786\"],[0.5555555555555556,\"#d8576b\"],[0.6666666666666666,\"#ed7953\"],[0.7777777777777778,\"#fb9f3a\"],[0.8888888888888888,\"#fdca26\"],[1.0,\"#f0f921\"]],\"sequentialminus\":[[0.0,\"#0d0887\"],[0.1111111111111111,\"#46039f\"],[0.2222222222222222,\"#7201a8\"],[0.3333333333333333,\"#9c179e\"],[0.4444444444444444,\"#bd3786\"],[0.5555555555555556,\"#d8576b\"],[0.6666666666666666,\"#ed7953\"],[0.7777777777777778,\"#fb9f3a\"],[0.8888888888888888,\"#fdca26\"],[1.0,\"#f0f921\"]],\"diverging\":[[0,\"#8e0152\"],[0.1,\"#c51b7d\"],[0.2,\"#de77ae\"],[0.3,\"#f1b6da\"],[0.4,\"#fde0ef\"],[0.5,\"#f7f7f7\"],[0.6,\"#e6f5d0\"],[0.7,\"#b8e186\"],[0.8,\"#7fbc41\"],[0.9,\"#4d9221\"],[1,\"#276419\"]]},\"xaxis\":{\"gridcolor\":\"#283442\",\"linecolor\":\"#506784\",\"ticks\":\"\",\"title\":{\"standoff\":15},\"zerolinecolor\":\"#283442\",\"automargin\":true,\"zerolinewidth\":2},\"yaxis\":{\"gridcolor\":\"#283442\",\"linecolor\":\"#506784\",\"ticks\":\"\",\"title\":{\"standoff\":15},\"zerolinecolor\":\"#283442\",\"automargin\":true,\"zerolinewidth\":2},\"scene\":{\"xaxis\":{\"backgroundcolor\":\"rgb(17,17,17)\",\"gridcolor\":\"#506784\",\"linecolor\":\"#506784\",\"showbackground\":true,\"ticks\":\"\",\"zerolinecolor\":\"#C8D4E3\",\"gridwidth\":2},\"yaxis\":{\"backgroundcolor\":\"rgb(17,17,17)\",\"gridcolor\":\"#506784\",\"linecolor\":\"#506784\",\"showbackground\":true,\"ticks\":\"\",\"zerolinecolor\":\"#C8D4E3\",\"gridwidth\":2},\"zaxis\":{\"backgroundcolor\":\"rgb(17,17,17)\",\"gridcolor\":\"#506784\",\"linecolor\":\"#506784\",\"showbackground\":true,\"ticks\":\"\",\"zerolinecolor\":\"#C8D4E3\",\"gridwidth\":2}},\"shapedefaults\":{\"line\":{\"color\":\"#f2f5fa\"}},\"annotationdefaults\":{\"arrowcolor\":\"#f2f5fa\",\"arrowhead\":0,\"arrowwidth\":1},\"geo\":{\"bgcolor\":\"rgb(17,17,17)\",\"landcolor\":\"rgb(17,17,17)\",\"subunitcolor\":\"#506784\",\"showland\":true,\"showlakes\":true,\"lakecolor\":\"rgb(17,17,17)\"},\"title\":{\"x\":0.05},\"updatemenudefaults\":{\"bgcolor\":\"#506784\",\"borderwidth\":0},\"sliderdefaults\":{\"bgcolor\":\"#C8D4E3\",\"borderwidth\":1,\"bordercolor\":\"rgb(17,17,17)\",\"tickwidth\":0},\"mapbox\":{\"style\":\"dark\"}}},\"xaxis\":{\"anchor\":\"y\",\"domain\":[0.0,0.16799999999999998],\"title\":{\"text\":\"alcohol\"},\"range\":[11.03,14.83]},\"yaxis\":{\"anchor\":\"x\",\"domain\":[0.7333333333333333,1.0],\"title\":{\"text\":\"Count\"}},\"xaxis2\":{\"anchor\":\"y2\",\"domain\":[0.208,0.376],\"title\":{\"text\":\"malic_acid\"},\"range\":[0.74,5.8]},\"yaxis2\":{\"anchor\":\"x2\",\"domain\":[0.7333333333333333,1.0],\"title\":{\"text\":\"Count\"}},\"xaxis3\":{\"anchor\":\"y3\",\"domain\":[0.416,0.584],\"title\":{\"text\":\"ash\"},\"range\":[1.36,3.23]},\"yaxis3\":{\"anchor\":\"x3\",\"domain\":[0.7333333333333333,1.0],\"title\":{\"text\":\"Count\"}},\"xaxis4\":{\"anchor\":\"y4\",\"domain\":[0.624,0.792],\"title\":{\"text\":\"alcalinity_of_ash\"},\"range\":[10.6,30.0]},\"yaxis4\":{\"anchor\":\"x4\",\"domain\":[0.7333333333333333,1.0],\"title\":{\"text\":\"Count\"}},\"xaxis5\":{\"anchor\":\"y5\",\"domain\":[0.832,1.0],\"title\":{\"text\":\"magnesium\"},\"range\":[70.0,162.0]},\"yaxis5\":{\"anchor\":\"x5\",\"domain\":[0.7333333333333333,1.0],\"title\":{\"text\":\"Count\"}},\"xaxis6\":{\"anchor\":\"y6\",\"domain\":[0.0,0.16799999999999998],\"title\":{\"text\":\"total_phenols\"},\"range\":[0.98,3.88]},\"yaxis6\":{\"anchor\":\"x6\",\"domain\":[0.36666666666666664,0.6333333333333333],\"title\":{\"text\":\"Count\"}},\"xaxis7\":{\"anchor\":\"y7\",\"domain\":[0.208,0.376],\"title\":{\"text\":\"flavanoids\"},\"range\":[0.34,5.08]},\"yaxis7\":{\"anchor\":\"x7\",\"domain\":[0.36666666666666664,0.6333333333333333],\"title\":{\"text\":\"Count\"}},\"xaxis8\":{\"anchor\":\"y8\",\"domain\":[0.416,0.584],\"title\":{\"text\":\"nonflavanoid_phenols\"},\"range\":[0.13,0.66]},\"yaxis8\":{\"anchor\":\"x8\",\"domain\":[0.36666666666666664,0.6333333333333333],\"title\":{\"text\":\"Count\"}},\"xaxis9\":{\"anchor\":\"y9\",\"domain\":[0.624,0.792],\"title\":{\"text\":\"proanthocyanins\"},\"range\":[0.41,3.58]},\"yaxis9\":{\"anchor\":\"x9\",\"domain\":[0.36666666666666664,0.6333333333333333],\"title\":{\"text\":\"Count\"}},\"xaxis10\":{\"anchor\":\"y10\",\"domain\":[0.832,1.0],\"title\":{\"text\":\"color_intensity\"},\"range\":[1.28,13.0]},\"yaxis10\":{\"anchor\":\"x10\",\"domain\":[0.36666666666666664,0.6333333333333333],\"title\":{\"text\":\"Count\"}},\"xaxis11\":{\"anchor\":\"y11\",\"domain\":[0.0,0.16799999999999998],\"title\":{\"text\":\"hue\"},\"range\":[0.48,1.71]},\"yaxis11\":{\"anchor\":\"x11\",\"domain\":[0.0,0.26666666666666666],\"title\":{\"text\":\"Count\"}},\"xaxis12\":{\"anchor\":\"y12\",\"domain\":[0.208,0.376],\"title\":{\"text\":\"od280/od315_of_diluted_wines\"},\"range\":[1.27,4.0]},\"yaxis12\":{\"anchor\":\"x12\",\"domain\":[0.0,0.26666666666666666],\"title\":{\"text\":\"Count\"}},\"xaxis13\":{\"anchor\":\"y13\",\"domain\":[0.416,0.584],\"title\":{\"text\":\"proline\"},\"range\":[278.0,1680.0]},\"yaxis13\":{\"anchor\":\"x13\",\"domain\":[0.0,0.26666666666666666],\"title\":{\"text\":\"Count\"}},\"xaxis14\":{\"anchor\":\"y14\",\"domain\":[0.624,0.792],\"visible\":false},\"yaxis14\":{\"anchor\":\"x14\",\"domain\":[0.0,0.26666666666666666],\"visible\":false},\"xaxis15\":{\"anchor\":\"y15\",\"domain\":[0.832,1.0],\"visible\":false},\"yaxis15\":{\"anchor\":\"x15\",\"domain\":[0.0,0.26666666666666666],\"visible\":false},\"title\":{\"text\":\"Histograms of the variables using Plotly\",\"x\":0.5},\"legend\":{\"title\":{\"text\":\"Class\"}},\"barmode\":\"overlay\",\"bargap\":0.1,\"height\":800},                        {\"displayModeBar\": false, \"responsive\": true}                    ).then(function(){\n                            \nvar gd = document.getElementById('179877f3-6d90-4f35-9d45-4fd2df46eea8');\nvar x = new MutationObserver(function (mutations, observer) {{\n        var display = window.getComputedStyle(gd).display;\n        if (!display || display === 'none') {{\n            console.log([gd, 'removed!']);\n            Plotly.purge(gd);\n            observer.disconnect();\n        }}\n}});\n\n// Listen for the removal of the full notebook cells\nvar notebookContainer = gd.closest('#notebook-container');\nif (notebookContainer) {{\n    x.observe(notebookContainer, {childList: true});\n}}\n\n// Listen for the clearing of the current output cell\nvar outputEl = gd.closest('.output');\nif (outputEl) {{\n    x.observe(outputEl, {childList: true});\n}}\n\n                        })                };                });            </script>        </div>"
     },
     "metadata": {},
     "output_type": "display_data"
    }
   ],
   "source": [
    "# Create a 3x5 subplot grid (since there are 13 features)\n",
    "plotly_fig = make_subplots(rows=3, cols=5)\n",
    "\n",
    "# Define the colors for each class\n",
    "colors = ['blue', 'red', 'green']\n",
    "\n",
    "# Get the min and max values for each feature to set the axis range\n",
    "feature_ranges = {col: (df[col].min(), df[col].max()) for col in df.columns}\n",
    "\n",
    "# Plot histograms using Plotly\n",
    "for i, cls in enumerate(sorted(target.unique())):  # Ensure consistent color assignment\n",
    "    for j, col in enumerate(df.columns):\n",
    "        # Add only the first trace of each class to the legend\n",
    "        show_legend = j == 0\n",
    "        plotly_fig.add_trace(\n",
    "            go.Histogram(\n",
    "                x=df[col][target == cls],\n",
    "                nbinsx=30,\n",
    "                name=f'Class {cls}',\n",
    "                marker=dict(color=colors[i]),\n",
    "                opacity=0.75,\n",
    "                legendgroup=f'class_{cls}',  # Set a unique legend group for each class\n",
    "                showlegend=show_legend\n",
    "            ),\n",
    "            row=(j // 5) + 1,\n",
    "            col=(j % 5) + 1\n",
    "        )\n",
    "\n",
    "# Set the titles for each subplot and adjust the range\n",
    "for i, col in enumerate(df.columns):\n",
    "    row, col_num = (i // 5) + 1, (i % 5) + 1\n",
    "    plotly_fig.update_xaxes(title_text=col, row=row, col=col_num, range=feature_ranges[col])\n",
    "    plotly_fig.update_yaxes(title_text='Count', row=row, col=col_num)\n",
    "\n",
    "# Update layout\n",
    "plotly_fig.update_layout(\n",
    "    title_text='Histograms of the variables using Plotly',\n",
    "    title_x=0.5,\n",
    "    legend_title_text='Class',\n",
    "    barmode='overlay',\n",
    "    bargap=0.1,\n",
    "    height=800  # Adjust the height to fit all subplots neatly\n",
    ")\n",
    "\n",
    "# Hide the empty subplots\n",
    "for i in range(len(df.columns), 15):\n",
    "    row, col = (i // 5) + 1, (i % 5) + 1\n",
    "    plotly_fig.update_xaxes(visible=False, row=row, col=col)\n",
    "    plotly_fig.update_yaxes(visible=False, row=row, col=col)\n",
    "\n",
    "# Save the plot\n",
    "plotly_fig.write_html(\"plotly_histograms.html\")\n",
    "\n",
    "# Show the Plotly interactive plot\n",
    "plotly_fig.show(config={'displayModeBar': False})  # Hide the modebar by default"
   ]
  },
  {
   "cell_type": "markdown",
   "source": [],
   "metadata": {
    "collapsed": false
   }
  },
  {
   "cell_type": "markdown",
   "metadata": {
    "id": "Q6tKlh65lg6r"
   },
   "source": [
    "#Data Preprocessing\n",
    "\n",
    "- Split the dataset into features and target labels.\n",
    "- Split the data into training and testing sets using train_test_split from sklearn.model_selection."
   ]
  },
  {
   "cell_type": "code",
   "execution_count": 5,
   "metadata": {
    "id": "C6UKfRfQlxRj",
    "ExecuteTime": {
     "end_time": "2024-03-08T13:40:07.070948Z",
     "start_time": "2024-03-08T13:40:06.958782Z"
    }
   },
   "outputs": [
    {
     "data": {
      "text/plain": "((124, 13), (54, 13), (124,), (54,))"
     },
     "execution_count": 5,
     "metadata": {},
     "output_type": "execute_result"
    }
   ],
   "source": [
    "from sklearn.model_selection import train_test_split\n",
    "\n",
    "X_train, X_test, y_train, y_test = train_test_split(df, target, test_size=0.3, random_state=42)\n",
    "\n",
    "X_train.shape, X_test.shape, y_train.shape, y_test.shape"
   ]
  },
  {
   "cell_type": "markdown",
   "metadata": {
    "id": "__ovTewVl-ir"
   },
   "source": [
    "# Baseline Model\n",
    "\n",
    "Train a baseline SVM model using default hyperparameters.\n",
    "Evaluate the model's performance on the testing set using metrics like accuracy, precision, recall, and F1-score. Experiment with different kernel functions (e.g., linear, polynomial, RBF) and observe their effects on model performance."
   ]
  },
  {
   "cell_type": "code",
   "execution_count": 6,
   "metadata": {
    "id": "ykUPuvlcl94k",
    "ExecuteTime": {
     "end_time": "2024-03-08T13:40:16.389379Z",
     "start_time": "2024-03-08T13:40:16.262758Z"
    }
   },
   "outputs": [
    {
     "name": "stdout",
     "output_type": "stream",
     "text": [
      "              precision    recall  f1-score   support\n",
      "\n",
      "           0       1.00      1.00      1.00        19\n",
      "           1       0.63      0.90      0.75        21\n",
      "           2       0.60      0.21      0.32        14\n",
      "\n",
      "    accuracy                           0.76        54\n",
      "   macro avg       0.74      0.71      0.69        54\n",
      "weighted avg       0.75      0.76      0.72        54\n"
     ]
    }
   ],
   "source": [
    "from sklearn.svm import SVC\n",
    "from sklearn.metrics import classification_report\n",
    "\n",
    "svm_linear = SVC()\n",
    "\n",
    "svm_linear.fit(X_train, y_train)\n",
    "\n",
    "y_pred = svm_linear.predict(X_test)\n",
    "\n",
    "print(classification_report(y_test, y_pred))"
   ]
  },
  {
   "cell_type": "code",
   "execution_count": 7,
   "metadata": {
    "ExecuteTime": {
     "end_time": "2024-03-08T13:40:25.195042Z",
     "start_time": "2024-03-08T13:40:25.169004Z"
    }
   },
   "outputs": [
    {
     "name": "stdout",
     "output_type": "stream",
     "text": [
      "              precision    recall  f1-score   support\n",
      "\n",
      "           0       1.00      1.00      1.00        19\n",
      "           1       0.95      1.00      0.98        21\n",
      "           2       1.00      0.93      0.96        14\n",
      "\n",
      "    accuracy                           0.98        54\n",
      "   macro avg       0.98      0.98      0.98        54\n",
      "weighted avg       0.98      0.98      0.98        54\n"
     ]
    }
   ],
   "source": [
    "from sklearn.preprocessing import StandardScaler\n",
    "\n",
    "scaler = StandardScaler()\n",
    "\n",
    "X_train_scaled = scaler.fit_transform(X_train)\n",
    "X_test_scaled = scaler.transform(X_test)\n",
    "\n",
    "svm_linear.fit(X_train_scaled, y_train)\n",
    "\n",
    "y_pred = svm_linear.predict(X_test_scaled)\n",
    "\n",
    "print(classification_report(y_test, y_pred))"
   ]
  },
  {
   "cell_type": "markdown",
   "metadata": {
    "id": "6OKl2qDhlxfL"
   },
   "source": [
    "#Data Normalization\n",
    "\n",
    "Standardize the features using StandardScaler from sklearn.preprocessing.\n",
    "Explore the effects of data normalization on model performance with different normalization techniques."
   ]
  },
  {
   "cell_type": "code",
   "execution_count": 12,
   "metadata": {
    "ExecuteTime": {
     "end_time": "2024-03-03T15:17:14.266465Z",
     "start_time": "2024-03-03T15:17:14.050279Z"
    },
    "id": "1WXtlop5mKed"
   },
   "outputs": [
    {
     "data": {
      "image/png": "[encoded data removed]",
      "text/plain": [
       "<Figure size 640x480 with 1 Axes>"
      ]
     },
     "metadata": {},
     "output_type": "display_data"
    }
   ],
   "source": [
    "# import scalers\n",
    "from sklearn.preprocessing import MinMaxScaler, RobustScaler, StandardScaler\n",
    "from sklearn.metrics import f1_score\n",
    "\n",
    "# create a dummy scaler that does nothing\n",
    "class DummyScaler:\n",
    "    \n",
    "    def fit(self, X):\n",
    "        pass\n",
    "    def transform(self, X):\n",
    "        return X\n",
    "    def fit_transform(self, X):\n",
    "        return X\n",
    "\n",
    "\n",
    "# init the scalers\n",
    "scalers = [DummyScaler(), MinMaxScaler(), RobustScaler(), StandardScaler()]\n",
    "\n",
    "# init a model\n",
    "svm = SVC()\n",
    "\n",
    "# arrays to store the results\n",
    "train_scores = []\n",
    "\n",
    "# loop through the scalers\n",
    "for scaler in scalers:\n",
    "    # scale the data\n",
    "    X_train_scaled = scaler.fit_transform(X_train)\n",
    "    X_test_scaled = scaler.transform(X_test)\n",
    "    \n",
    "    # fit the model\n",
    "    svm.fit(X_train_scaled, y_train)\n",
    "    \n",
    "    # predict\n",
    "    y_pred = svm.predict(X_test_scaled)\n",
    "    \n",
    "    # score\n",
    "    train_scores.append(f1_score(y_test, y_pred, average='macro'))\n",
    "    \n",
    "# plot the results\n",
    "plt.bar(['No scaling', 'MinMax', 'Robust', 'Standard'], train_scores)\n",
    "plt.xlabel('Scaler')\n",
    "plt.ylabel('F1 Score')\n",
    "plt.title('Effect of Scaling on F1 Score')\n",
    "\n",
    "plt.tight_layout()\n",
    "plt.show()"
   ]
  },
  {
   "cell_type": "markdown",
   "metadata": {
    "id": "Rbx9YpVSmP1V"
   },
   "source": [
    "#Hyperparameter Tuning\n",
    "\n",
    "Perform hyperparameter tuning to find the best combination of hyperparameters for the SVM model.\n",
    "Tune hyperparameters such as C (regularization parameter) and the choice of kernel (linear, polynomial, RBF).\n",
    "Use techniques like GridSearchCV or RandomizedSearchCV from sklearn.model_selection to efficiently search through the hyperparameter space."
   ]
  },
  {
   "cell_type": "code",
   "execution_count": 13,
   "metadata": {
    "ExecuteTime": {
     "end_time": "2024-03-03T15:17:29.176611Z",
     "start_time": "2024-03-03T15:17:24.192153Z"
    },
    "id": "K1XtODy-meFB"
   },
   "outputs": [
    {
     "name": "stdout",
     "output_type": "stream",
     "text": [
      "Starting grid search for linear kernel...\n",
      "Fitting 10 folds for each of 12 candidates, totalling 120 fits\n",
      "Best CV score for linear kernel = 0.984\n",
      "Best parameters for linear kernel: {'svc__C': 1, 'svc__gamma': 'scale', 'svc__kernel': 'linear', 'svc__shrinking': True}\n",
      "\n",
      "Starting grid search for poly kernel...\n",
      "Fitting 10 folds for each of 18 candidates, totalling 180 fits\n",
      "Best CV score for poly kernel = 0.958\n",
      "Best parameters for poly kernel: {'svc__C': 5, 'svc__degree': 3, 'svc__kernel': 'poly', 'svc__shrinking': True}\n",
      "\n",
      "Starting grid search for rbf kernel...\n",
      "Fitting 10 folds for each of 12 candidates, totalling 120 fits\n",
      "Best CV score for rbf kernel = 0.974\n",
      "Best parameters for rbf kernel: {'svc__C': 1, 'svc__gamma': 'scale', 'svc__kernel': 'rbf', 'svc__shrinking': True}\n",
      "\n",
      "Starting grid search for sigmoid kernel...\n",
      "Fitting 10 folds for each of 12 candidates, totalling 120 fits\n",
      "Best CV score for sigmoid kernel = 0.976\n",
      "Best parameters for sigmoid kernel: {'svc__C': 1, 'svc__gamma': 'scale', 'svc__kernel': 'sigmoid', 'svc__shrinking': True}\n"
     ]
    }
   ],
   "source": [
    "from sklearn.metrics import f1_score, make_scorer\n",
    "from sklearn.svm import SVC\n",
    "from sklearn.pipeline import Pipeline\n",
    "from sklearn.preprocessing import StandardScaler\n",
    "from sklearn.model_selection import GridSearchCV\n",
    "\n",
    "# Initialize the scorer\n",
    "scorer = make_scorer(f1_score, average='macro')\n",
    "\n",
    "# Define the base pipeline\n",
    "pipe = Pipeline(steps=[('scaler', StandardScaler()), ('svc', SVC(cache_size=1000))])\n",
    "\n",
    "# Define a separate param grid for each kernel\n",
    "param_grids = {\n",
    "    'linear': {'svc__kernel': ['linear'], 'svc__C': [1, 5, 10], 'svc__gamma': ['scale', 'auto'], 'svc__shrinking': [True, False]},\n",
    "    'poly': {'svc__kernel': ['poly'], 'svc__degree': [2, 3, 4], 'svc__C': [1, 5, 10], 'svc__shrinking': [True, False]},\n",
    "    'rbf': {'svc__kernel': ['rbf'], 'svc__gamma': ['scale', 'auto'], 'svc__C': [1, 5, 10], 'svc__shrinking': [True, False]},\n",
    "    'sigmoid': {'svc__kernel': ['sigmoid'], 'svc__gamma': ['scale', 'auto'], 'svc__C': [1, 5, 10], 'svc__shrinking': [True, False]}\n",
    "}\n",
    "\n",
    "# Dictionary to store the best estimator for each kernel\n",
    "best_estimators = {}\n",
    "\n",
    "# Perform a grid search for each kernel\n",
    "for kernel in param_grids:\n",
    "    print(f\"Starting grid search for {kernel} kernel...\")\n",
    "    SVC_CV = GridSearchCV(pipe, param_grids[kernel], cv=10, scoring=scorer, n_jobs=-1, verbose=True)\n",
    "    SVC_CV.fit(X_train, y_train)\n",
    "    best_estimators[kernel] = SVC_CV.best_estimator_\n",
    "    print(f\"Best CV score for {kernel} kernel = {SVC_CV.best_score_:.3f}\")\n",
    "    print(f\"Best parameters for {kernel} kernel: {SVC_CV.best_params_}\\n\")\n"
   ]
  },
  {
   "cell_type": "markdown",
   "metadata": {
    "id": "8AFd23UzmeYM"
   },
   "source": [
    "#Effects of Data Size\n",
    "\n",
    "Explore the effects of varying the size of the training data on model performance.\n",
    "Train SVM models using different proportions of the training data (change the number of CV folds) and observe how performance changes. Visualize the relationship between training size and model performance."
   ]
  },
  {
   "cell_type": "code",
   "execution_count": 15,
   "metadata": {
    "ExecuteTime": {
     "end_time": "2024-03-03T15:18:01.710848Z",
     "start_time": "2024-03-03T15:18:00.974946Z"
    }
   },
   "outputs": [
    {
     "name": "stdout",
     "output_type": "stream",
     "text": [
      "Starting cross-validation for linear kernel...\n",
      "Starting cross-validation for poly kernel...\n",
      "Starting cross-validation for rbf kernel...\n",
      "Starting cross-validation for sigmoid kernel...\n"
     ]
    }
   ],
   "source": [
    "from sklearn.model_selection import cross_val_score\n",
    "import matplotlib.pyplot as plt\n",
    "\n",
    "# Define the training sizes / CV folds\n",
    "folds = [2, 3, 4, 5, 6, 7, 8, 9, 10]\n",
    "\n",
    "# Dictionary to store the best parameters for each kernel from GridSearchCV\n",
    "best_params = {\n",
    "    'linear': {'kernel': 'linear', 'C': 1, 'gamma': 'scale', 'shrinking': True},\n",
    "    'poly': {'kernel': 'poly', 'C': 5, 'degree': 3, 'shrinking': True},\n",
    "    'rbf': {'kernel': 'rbf', 'C': 1, 'gamma': 'scale', 'shrinking': True},\n",
    "    'sigmoid': {'kernel': 'sigmoid', 'C': 1, 'gamma': 'scale', 'shrinking': True}\n",
    "}\n",
    "\n",
    "# Initialize the results dictionary\n",
    "results = {kernel: [] for kernel in best_params}\n",
    "\n",
    "# Loop through each kernel and perform cross-validation\n",
    "for kernel, params in best_params.items():\n",
    "    # Initialize the model with the best parameters\n",
    "    svm = SVC(**params, cache_size=1000)\n",
    "\n",
    "    # Define the pipeline\n",
    "    pipe = Pipeline(steps=[('scaler', StandardScaler()), ('svc', svm)])\n",
    "    \n",
    "    print(f\"Starting cross-validation for {kernel} kernel...\")\n",
    "    \n",
    "    # Loop through the folds\n",
    "    for fold in folds:\n",
    "        scores = cross_val_score(pipe, X_train, y_train, cv=fold, scoring=scorer, n_jobs=-1)\n",
    "        results[kernel].append(scores.mean())\n"
   ]
  },
  {
   "cell_type": "code",
   "execution_count": 20,
   "metadata": {
    "ExecuteTime": {
     "end_time": "2024-03-04T02:42:29.271294Z",
     "start_time": "2024-03-04T02:42:28.896477Z"
    }
   },
   "outputs": [
    {
     "data": {
      "image/png": "[encoded data removed]",
      "text/plain": [
       "<Figure size 1000x600 with 1 Axes>"
      ]
     },
     "metadata": {},
     "output_type": "display_data"
    }
   ],
   "source": [
    "# have 1 plot for all kernels\n",
    "fig, ax = plt.subplots(figsize=(10, 6))\n",
    "\n",
    "# Plot the results\n",
    "for kernel, scores in results.items():\n",
    "    ax.plot(folds, scores, marker='o', label=kernel)\n",
    "    \n",
    "# Add labels and title\n",
    "ax.set_xlabel('Number of Folds')\n",
    "ax.set_ylabel('F1 Score')\n",
    "ax.set_title('Effect of Training Size on Model Performance')\n",
    "ax.legend(title='Kernel', loc='best')\n",
    "\n",
    "plt.tight_layout()\n",
    "plt.show()"
   ]
  },
  {
   "cell_type": "markdown",
   "metadata": {
    "id": "kPr0Wrbtmfo9"
   },
   "source": [
    "# Model Evaluation\n",
    "\n",
    "Evaluate the final tuned SVM model on the testing set using various performance metrics.\n",
    "Plot confusion matrices to visualize the model's predictions.\n",
    "Discuss the results and insights gained from the experimentation."
   ]
  },
  {
   "cell_type": "code",
   "execution_count": 17,
   "metadata": {
    "ExecuteTime": {
     "end_time": "2024-03-03T15:19:18.892399Z",
     "start_time": "2024-03-03T15:19:18.845921Z"
    },
    "id": "rmaLlz4knMIS"
   },
   "outputs": [
    {
     "name": "stdout",
     "output_type": "stream",
     "text": [
      "Test scores for linear kernel:\n",
      "Classification Report:\n",
      "              precision    recall  f1-score   support\n",
      "\n",
      "           0       1.00      1.00      1.00        19\n",
      "           1       1.00      0.95      0.98        21\n",
      "           2       0.93      1.00      0.97        14\n",
      "\n",
      "    accuracy                           0.98        54\n",
      "   macro avg       0.98      0.98      0.98        54\n",
      "weighted avg       0.98      0.98      0.98        54\n",
      "\n",
      "Confusion Matrix:\n",
      "[[19  0  0]\n",
      " [ 0 20  1]\n",
      " [ 0  0 14]]\n",
      "\n",
      "------------------------------------------------------\n",
      "\n",
      "Test scores for poly kernel:\n",
      "Classification Report:\n",
      "              precision    recall  f1-score   support\n",
      "\n",
      "           0       0.95      1.00      0.97        19\n",
      "           1       1.00      0.95      0.98        21\n",
      "           2       1.00      1.00      1.00        14\n",
      "\n",
      "    accuracy                           0.98        54\n",
      "   macro avg       0.98      0.98      0.98        54\n",
      "weighted avg       0.98      0.98      0.98        54\n",
      "\n",
      "Confusion Matrix:\n",
      "[[19  0  0]\n",
      " [ 1 20  0]\n",
      " [ 0  0 14]]\n",
      "\n",
      "------------------------------------------------------\n",
      "\n",
      "Test scores for rbf kernel:\n",
      "Classification Report:\n",
      "              precision    recall  f1-score   support\n",
      "\n",
      "           0       1.00      1.00      1.00        19\n",
      "           1       0.95      1.00      0.98        21\n",
      "           2       1.00      0.93      0.96        14\n",
      "\n",
      "    accuracy                           0.98        54\n",
      "   macro avg       0.98      0.98      0.98        54\n",
      "weighted avg       0.98      0.98      0.98        54\n",
      "\n",
      "Confusion Matrix:\n",
      "[[19  0  0]\n",
      " [ 0 21  0]\n",
      " [ 0  1 13]]\n",
      "\n",
      "------------------------------------------------------\n",
      "\n",
      "Test scores for sigmoid kernel:\n",
      "Classification Report:\n",
      "              precision    recall  f1-score   support\n",
      "\n",
      "           0       0.95      1.00      0.97        19\n",
      "           1       1.00      0.95      0.98        21\n",
      "           2       1.00      1.00      1.00        14\n",
      "\n",
      "    accuracy                           0.98        54\n",
      "   macro avg       0.98      0.98      0.98        54\n",
      "weighted avg       0.98      0.98      0.98        54\n",
      "\n",
      "Confusion Matrix:\n",
      "[[19  0  0]\n",
      " [ 1 20  0]\n",
      " [ 0  0 14]]\n",
      "\n",
      "------------------------------------------------------\n"
     ]
    }
   ],
   "source": [
    "# import scoring functions\n",
    "from sklearn.metrics import classification_report, confusion_matrix\n",
    "\n",
    "# Now, for each kernel's best estimator, predict on the test set and evaluate performance\n",
    "test_scores = {}\n",
    "for kernel, estimator in best_estimators.items():\n",
    "    y_pred = estimator.predict(X_test)\n",
    "    \n",
    "    test_scores[kernel] = {\n",
    "        'classification_report': classification_report(y_test, y_pred),\n",
    "        'confusion_matrix': confusion_matrix(y_test, y_pred)\n",
    "    }\n",
    "    \n",
    "    print(f\"Test scores for {kernel} kernel:\")\n",
    "    print(f\"Classification Report:\\n{test_scores[kernel]['classification_report']}\")\n",
    "    print(f\"Confusion Matrix:\\n{test_scores[kernel]['confusion_matrix']}\\n\")\n",
    "    print(\"------------------------------------------------------\\n\")"
   ]
  },
  {
   "cell_type": "code",
   "execution_count": 22,
   "metadata": {
    "ExecuteTime": {
     "end_time": "2024-03-04T02:53:13.905790Z",
     "start_time": "2024-03-04T02:53:12.187051Z"
    }
   },
   "outputs": [
    {
     "data": {
      "image/png": "[encoded data removed]",
      "text/plain": [
       "<Figure size 1500x1200 with 8 Axes>"
      ]
     },
     "metadata": {},
     "output_type": "display_data"
    }
   ],
   "source": [
    "# Plot the confusion matrices for each kernel's best estimator\n",
    "fig, axes = plt.subplots(2, 2, figsize=(15, 12))\n",
    "\n",
    "for i, (kernel, scores) in enumerate(test_scores.items()):\n",
    "    row, col = i // 2, i % 2\n",
    "    sns.heatmap(scores['confusion_matrix'], annot=True, fmt='d', cmap='Blues', ax=axes[row, col])\n",
    "    axes[row, col].set_title(f'Confusion Matrix ({kernel} kernel)')\n",
    "    axes[row, col].set_xlabel('Predicted Label')\n",
    "    axes[row, col].set_ylabel('True Label')\n",
    "    \n",
    "plt.tight_layout()\n",
    "plt.show()"
   ]
  },
  {
   "cell_type": "markdown",
   "source": [
    "# Discussion\n",
    "\n",
    "The SVM model was trained and evaluated on the Wine dataset, which contains 13 features related to the chemical properties of different wines. The dataset was split into training and testing sets, and a baseline SVM model was trained using the default hyperparameters. The model's performance was evaluated using metrics such as accuracy, precision, recall, and F1-score. The effects of data normalization and hyperparameter tuning were explored, and the final tuned SVM model was evaluated on the testing set.\n",
    "\n",
    "We observe that for any kernel, after some basic hyperparameter tuning, the model performs well on the test set. The F1 score is high for all kernels, and the confusion matrices show that the model is able to accurately classify the wine samples into their respective classes. This indicates that the SVM model is able to effectively learn the decision boundaries between the different classes of wines based on their chemical properties. The choice of kernel does not seem to have a significant impact on the model's performance, as all kernels perform similarly well on the test set."
   ],
   "metadata": {
    "collapsed": false
   }
  }
 ],
 "metadata": {
  "colab": {
   "include_colab_link": true,
   "provenance": []
  },
  "kernelspec": {
   "display_name": "Python 3 (ipykernel)",
   "language": "python",
   "name": "python3"
  },
  "language_info": {
   "codemirror_mode": {
    "name": "ipython",
    "version": 3
   },
   "file_extension": ".py",
   "mimetype": "text/x-python",
   "name": "python",
   "nbconvert_exporter": "python",
   "pygments_lexer": "ipython3",
   "version": "3.11.5"
  }
 },
 "nbformat": 4,
 "nbformat_minor": 1
}
