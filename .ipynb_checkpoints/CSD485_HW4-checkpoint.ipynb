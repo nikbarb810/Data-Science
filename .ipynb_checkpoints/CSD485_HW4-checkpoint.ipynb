{
 "nbformat": 4,
 "nbformat_minor": 0,
 "metadata": {
  "kernelspec": {
   "display_name": "Python 3",
   "language": "python",
   "name": "python3"
  },
  "language_info": {
   "codemirror_mode": {
    "name": "ipython",
    "version": 3
   },
   "file_extension": ".py",
   "mimetype": "text/x-python",
   "name": "python",
   "nbconvert_exporter": "python",
   "pygments_lexer": "ipython3",
   "version": "3.6.8"
  },
  "colab": {
   "provenance": [],
   "include_colab_link": true
  }
 },
 "cells": [
  {
   "cell_type": "markdown",
   "metadata": {
    "id": "view-in-github",
    "colab_type": "text"
   },
   "source": [
    "<a href=\"https://colab.research.google.com/github/gtsagkatakis/Data-Science-and-Applications/blob/main/CSD458_HW4.ipynb\" target=\"_parent\"><img src=\"https://colab.research.google.com/assets/colab-badge.svg\" alt=\"Open In Colab\"/></a>"
   ]
  },
  {
   "cell_type": "markdown",
   "source": [
    "#HOMEWORK 4\n",
    "Classifying MNIST using Multi-Layer Perceptron (MLP)\n"
   ],
   "metadata": {
    "id": "M5fPfFJDDNy2"
   }
  },
  {
   "cell_type": "code",
   "outputs": [],
   "source": [
    "import tensorflow as tf\n",
    "from tensorflow.keras import layers, models\n",
    "from tensorflow.keras.datasets import mnist\n",
    "from tensorflow.keras.utils import to_categorical\n",
    "import matplotlib.pyplot as plt\n",
    "import keras\n",
    "from keras import layers\n",
    "import numpy as np\n",
    "import pandas as pd"
   ],
   "metadata": {
    "collapsed": false,
    "ExecuteTime": {
     "end_time": "2024-03-11T18:17:08.213873Z",
     "start_time": "2024-03-11T18:17:08.199962Z"
    }
   },
   "execution_count": 46
  },
  {
   "cell_type": "code",
   "metadata": {
    "id": "iVtVwCK48yE1",
    "ExecuteTime": {
     "end_time": "2024-03-11T15:53:44.027317Z",
     "start_time": "2024-03-11T15:53:43.418975Z"
    }
   },
   "source": [
    "# Load and preprocess the MNIST dataset\n",
    "(train_images, train_labels), (test_images, test_labels) = mnist.load_data()\n",
    "\n",
    "train_images = train_images.reshape((60000, 28, 28, 1)).astype('float32') / 255\n",
    "test_images = test_images.reshape((10000, 28, 28, 1)).astype('float32') / 255\n",
    "\n",
    "train_labels = to_categorical(train_labels)\n",
    "test_labels = to_categorical(test_labels)\n"
   ],
   "execution_count": 10,
   "outputs": []
  },
  {
   "cell_type": "code",
   "source": [
    "# Build an MLP model\n",
    "from tensorflow.keras import models, layers\n",
    "\n",
    "# Define the model\n",
    "model_simple = models.Sequential()\n",
    "model_simple.add(layers.Flatten(input_shape=(28, 28, 1)))  # Flatten the input images\n",
    "model_simple.add(layers.Dense(128, activation='relu'))  # Hidden layer with 128 neurons and ReLU activation\n",
    "model_simple.add(layers.Dense(10, activation='softmax'))  # Output layer with 10 neurons (classes) and softmax activation\n",
    "\n",
    "# Summary of the model\n",
    "model_simple.summary()"
   ],
   "metadata": {
    "id": "1kbQcHKD5nz-",
    "ExecuteTime": {
     "end_time": "2024-03-11T15:56:21.702175Z",
     "start_time": "2024-03-11T15:56:21.634379Z"
    }
   },
   "execution_count": 15,
   "outputs": [
    {
     "name": "stdout",
     "output_type": "stream",
     "text": [
      "Model: \"sequential_2\"\n",
      "_________________________________________________________________\n",
      " Layer (type)                Output Shape              Param #   \n",
      "=================================================================\n",
      " flatten_3 (Flatten)         (None, 784)               0         \n",
      "                                                                 \n",
      " dense_3 (Dense)             (None, 128)               100480    \n",
      "                                                                 \n",
      " dense_4 (Dense)             (None, 10)                1290      \n",
      "                                                                 \n",
      "=================================================================\n",
      "Total params: 101,770\n",
      "Trainable params: 101,770\n",
      "Non-trainable params: 0\n",
      "_________________________________________________________________\n"
     ]
    }
   ]
  },
  {
   "cell_type": "code",
   "source": [
    "# Compile the model, choose optimizer, loss and metrics\n",
    "model_simple.compile(optimizer='adam',\n",
    "              loss='categorical_crossentropy',\n",
    "              metrics=['accuracy'])"
   ],
   "metadata": {
    "id": "90sG_0nk5mwX",
    "ExecuteTime": {
     "end_time": "2024-03-11T15:56:32.085419Z",
     "start_time": "2024-03-11T15:56:32.071174Z"
    }
   },
   "execution_count": 16,
   "outputs": []
  },
  {
   "cell_type": "code",
   "source": [
    "# Train the model and save the history. Define epochs, batch_size and validation_split\n",
    "history = model_simple.fit(train_images, train_labels, epochs=10, batch_size=128, validation_split=0.2)"
   ],
   "metadata": {
    "id": "ZBBxQQNT5lc0",
    "ExecuteTime": {
     "end_time": "2024-03-11T15:56:51.215713Z",
     "start_time": "2024-03-11T15:56:34.190078Z"
    }
   },
   "execution_count": 17,
   "outputs": [
    {
     "name": "stdout",
     "output_type": "stream",
     "text": [
      "Epoch 1/10\n",
      "375/375 [==============================] - 3s 4ms/step - loss: 0.3866 - accuracy: 0.8960 - val_loss: 0.2080 - val_accuracy: 0.9431\n",
      "Epoch 2/10\n",
      "375/375 [==============================] - 1s 4ms/step - loss: 0.1877 - accuracy: 0.9469 - val_loss: 0.1604 - val_accuracy: 0.9557\n",
      "Epoch 3/10\n",
      "375/375 [==============================] - 1s 3ms/step - loss: 0.1370 - accuracy: 0.9621 - val_loss: 0.1330 - val_accuracy: 0.9628\n",
      "Epoch 4/10\n",
      "375/375 [==============================] - 1s 4ms/step - loss: 0.1084 - accuracy: 0.9688 - val_loss: 0.1230 - val_accuracy: 0.9640\n",
      "Epoch 5/10\n",
      "375/375 [==============================] - 1s 4ms/step - loss: 0.0877 - accuracy: 0.9749 - val_loss: 0.1073 - val_accuracy: 0.9677\n",
      "Epoch 6/10\n",
      "375/375 [==============================] - 1s 3ms/step - loss: 0.0726 - accuracy: 0.9798 - val_loss: 0.1045 - val_accuracy: 0.9708\n",
      "Epoch 7/10\n",
      "375/375 [==============================] - 1s 4ms/step - loss: 0.0601 - accuracy: 0.9834 - val_loss: 0.0943 - val_accuracy: 0.9721\n",
      "Epoch 8/10\n",
      "375/375 [==============================] - 2s 5ms/step - loss: 0.0510 - accuracy: 0.9857 - val_loss: 0.0931 - val_accuracy: 0.9724\n",
      "Epoch 9/10\n",
      "375/375 [==============================] - 3s 8ms/step - loss: 0.0437 - accuracy: 0.9885 - val_loss: 0.0902 - val_accuracy: 0.9738\n",
      "Epoch 10/10\n",
      "375/375 [==============================] - 2s 4ms/step - loss: 0.0374 - accuracy: 0.9900 - val_loss: 0.0911 - val_accuracy: 0.9728\n"
     ]
    }
   ]
  },
  {
   "cell_type": "code",
   "source": [
    "# Plot training & validation accuracy values and loss values per epoch\n",
    "plt.figure(figsize=(12, 6))\n",
    "\n",
    "# Plot training & validation accuracy values\n",
    "plt.subplot(1, 2, 1)\n",
    "plt.plot(history.history['accuracy'])\n",
    "plt.plot(history.history['val_accuracy'])\n",
    "plt.title('Model accuracy')\n",
    "plt.ylabel('Accuracy')\n",
    "plt.xlabel('Epoch')\n",
    "plt.legend(['Train', 'Validation'], loc='upper left')\n",
    "\n",
    "# Plot training & validation loss values\n",
    "plt.subplot(1, 2, 2)\n",
    "plt.plot(history.history['loss'])\n",
    "plt.plot(history.history['val_loss'])\n",
    "plt.title('Model loss')\n",
    "plt.ylabel('Loss')\n",
    "plt.xlabel('Epoch')\n",
    "plt.legend(['Train', 'Validation'], loc='upper left')\n",
    "\n",
    "plt.show()"
   ],
   "metadata": {
    "id": "vAkOIy965hJ6",
    "ExecuteTime": {
     "end_time": "2024-03-11T15:56:58.338017Z",
     "start_time": "2024-03-11T15:56:58.015537Z"
    }
   },
   "execution_count": 18,
   "outputs": [
    {
     "data": {
      "text/plain": "<Figure size 1200x600 with 2 Axes>",
      "image/png": "[encoded data removed]"
     },
     "metadata": {},
     "output_type": "display_data"
    }
   ]
  },
  {
   "cell_type": "markdown",
   "source": [
    "We see that as the number of epochs increases, the training accuracy increases and the training loss decreases. However, the validation accuracy and loss do not improve after the 6th epoch. This is a sign of overfitting. Adding a dropout layer may prevent this from happening."
   ],
   "metadata": {
    "collapsed": false
   }
  },
  {
   "cell_type": "code",
   "source": [
    "# Evaluate the model on the test set and report test accuracy\n",
    "test_loss, test_acc = model_simple.evaluate(test_images, test_labels)\n",
    "print('Test accuracy:', test_acc)"
   ],
   "metadata": {
    "id": "26zrWA8S5iru",
    "ExecuteTime": {
     "end_time": "2024-03-11T15:57:05.581049Z",
     "start_time": "2024-03-11T15:57:04.897388Z"
    }
   },
   "execution_count": 19,
   "outputs": [
    {
     "name": "stdout",
     "output_type": "stream",
     "text": [
      "313/313 [==============================] - 1s 2ms/step - loss: 0.0766 - accuracy: 0.9768\n",
      "Test accuracy: 0.9768000245094299\n"
     ]
    }
   ]
  },
  {
   "cell_type": "markdown",
   "source": [
    "We observe that the simple model scores an accuracy of 97.8% on the test set. This is a good result, but we can try to improve it by using a Convolutional Neural Network (CNN) instead of a Multi-Layer Perceptron (MLP)."
   ],
   "metadata": {
    "collapsed": false
   }
  },
  {
   "cell_type": "code",
   "source": [
    "# Explore the impact of different hyper-parameters e.g. number of hidden layers on training and testing performance\n",
    "\n",
    "model_cnn = keras.Sequential(\n",
    "    [\n",
    "        keras.Input(shape=(28, 28, 1)),\n",
    "        layers.Conv2D(32, kernel_size=(3, 3), activation=\"relu\"),\n",
    "        layers.MaxPooling2D(pool_size=(2, 2)),\n",
    "        layers.Conv2D(64, kernel_size=(3, 3), activation=\"relu\"),\n",
    "        layers.MaxPooling2D(pool_size=(2, 2)),\n",
    "        layers.Flatten(),\n",
    "        layers.Dropout(0.5),\n",
    "        layers.Dense(10, activation=\"softmax\"),\n",
    "    ]\n",
    ")\n",
    "\n",
    "model_cnn.summary()"
   ],
   "metadata": {
    "id": "v3VpW53o5sgU",
    "ExecuteTime": {
     "end_time": "2024-03-11T15:57:12.962841Z",
     "start_time": "2024-03-11T15:57:12.838827Z"
    }
   },
   "execution_count": 20,
   "outputs": [
    {
     "name": "stdout",
     "output_type": "stream",
     "text": [
      "Model: \"sequential_3\"\n",
      "_________________________________________________________________\n",
      " Layer (type)                Output Shape              Param #   \n",
      "=================================================================\n",
      " conv2d_4 (Conv2D)           (None, 26, 26, 32)        320       \n",
      "                                                                 \n",
      " max_pooling2d_4 (MaxPooling  (None, 13, 13, 32)       0         \n",
      " 2D)                                                             \n",
      "                                                                 \n",
      " conv2d_5 (Conv2D)           (None, 11, 11, 64)        18496     \n",
      "                                                                 \n",
      " max_pooling2d_5 (MaxPooling  (None, 5, 5, 64)         0         \n",
      " 2D)                                                             \n",
      "                                                                 \n",
      " flatten_4 (Flatten)         (None, 1600)              0         \n",
      "                                                                 \n",
      " dropout_2 (Dropout)         (None, 1600)              0         \n",
      "                                                                 \n",
      " dense_5 (Dense)             (None, 10)                16010     \n",
      "                                                                 \n",
      "=================================================================\n",
      "Total params: 34,826\n",
      "Trainable params: 34,826\n",
      "Non-trainable params: 0\n",
      "_________________________________________________________________\n"
     ]
    }
   ]
  },
  {
   "cell_type": "code",
   "outputs": [
    {
     "name": "stdout",
     "output_type": "stream",
     "text": [
      "Epoch 1/10\n",
      "375/375 [==============================] - 12s 30ms/step - loss: 0.3850 - accuracy: 0.8841 - val_loss: 0.0999 - val_accuracy: 0.9712\n",
      "Epoch 2/10\n",
      "375/375 [==============================] - 11s 30ms/step - loss: 0.1209 - accuracy: 0.9637 - val_loss: 0.0720 - val_accuracy: 0.9789\n",
      "Epoch 3/10\n",
      "375/375 [==============================] - 12s 33ms/step - loss: 0.0899 - accuracy: 0.9724 - val_loss: 0.0606 - val_accuracy: 0.9826\n",
      "Epoch 4/10\n",
      "375/375 [==============================] - 12s 32ms/step - loss: 0.0728 - accuracy: 0.9783 - val_loss: 0.0533 - val_accuracy: 0.9840\n",
      "Epoch 5/10\n",
      "375/375 [==============================] - 11s 30ms/step - loss: 0.0639 - accuracy: 0.9804 - val_loss: 0.0464 - val_accuracy: 0.9862\n",
      "Epoch 6/10\n",
      "375/375 [==============================] - 13s 33ms/step - loss: 0.0574 - accuracy: 0.9819 - val_loss: 0.0432 - val_accuracy: 0.9877\n",
      "Epoch 7/10\n",
      "375/375 [==============================] - 14s 38ms/step - loss: 0.0536 - accuracy: 0.9827 - val_loss: 0.0386 - val_accuracy: 0.9888\n",
      "Epoch 8/10\n",
      "375/375 [==============================] - 13s 34ms/step - loss: 0.0498 - accuracy: 0.9842 - val_loss: 0.0374 - val_accuracy: 0.9889\n",
      "Epoch 9/10\n",
      "375/375 [==============================] - 11s 30ms/step - loss: 0.0479 - accuracy: 0.9852 - val_loss: 0.0372 - val_accuracy: 0.9893\n",
      "Epoch 10/10\n",
      "375/375 [==============================] - 13s 34ms/step - loss: 0.0425 - accuracy: 0.9862 - val_loss: 0.0385 - val_accuracy: 0.9883\n"
     ]
    }
   ],
   "source": [
    "# Compile the model, choose optimizer, loss and metrics\n",
    "model_cnn.compile(optimizer='adam',\n",
    "              loss='categorical_crossentropy',\n",
    "              metrics=['accuracy'])\n",
    "\n",
    "# Train the model and save the history. Define epochs, batch_size and validation_split\n",
    "history = model_cnn.fit(train_images, train_labels, epochs=10, batch_size=128, validation_split=0.2)"
   ],
   "metadata": {
    "collapsed": false,
    "ExecuteTime": {
     "end_time": "2024-03-11T15:59:25.584728Z",
     "start_time": "2024-03-11T15:57:22.977327Z"
    }
   },
   "execution_count": 21
  },
  {
   "cell_type": "code",
   "outputs": [
    {
     "data": {
      "text/plain": "<Figure size 1200x600 with 2 Axes>",
      "image/png": "[encoded data removed]"
     },
     "metadata": {},
     "output_type": "display_data"
    }
   ],
   "source": [
    "# Plot training & validation accuracy values and loss values per epoch\n",
    "plt.figure(figsize=(12, 6))\n",
    "\n",
    "# Plot training & validation accuracy values\n",
    "plt.subplot(1, 2, 1)\n",
    "plt.plot(history.history['accuracy'])\n",
    "plt.plot(history.history['val_accuracy'])\n",
    "plt.title('Model accuracy')\n",
    "plt.ylabel('Accuracy')\n",
    "plt.xlabel('Epoch')\n",
    "plt.legend(['Train', 'Validation'], loc='upper left')\n",
    "\n",
    "# Plot training & validation loss values\n",
    "plt.subplot(1, 2, 2)\n",
    "plt.plot(history.history['loss'])\n",
    "plt.plot(history.history['val_loss'])\n",
    "plt.title('Model loss')\n",
    "plt.ylabel('Loss')\n",
    "plt.xlabel('Epoch')\n",
    "plt.legend(['Train', 'Validation'], loc='upper left')\n",
    "\n",
    "plt.show()"
   ],
   "metadata": {
    "collapsed": false,
    "ExecuteTime": {
     "end_time": "2024-03-11T16:01:58.690225Z",
     "start_time": "2024-03-11T16:01:58.368360Z"
    }
   },
   "execution_count": 22
  },
  {
   "cell_type": "markdown",
   "source": [
    "The more sophisticated model, with a dropout layer, scores better than the simple MLP, whilst also preventing overfitting. We observe that 2 epochs are enough for the model to converge and that the validation accuracy does not show a decrease, as was the case with the simple model. The test accuracy is 98.9%, which is better than the simple model."
   ],
   "metadata": {
    "collapsed": false
   }
  },
  {
   "cell_type": "code",
   "outputs": [
    {
     "name": "stdout",
     "output_type": "stream",
     "text": [
      "313/313 [==============================] - 2s 6ms/step - loss: 0.0302 - accuracy: 0.9897\n",
      "Test accuracy: 0.9897000193595886\n"
     ]
    }
   ],
   "source": [
    "# Evaluate the model on the test set and report test accuracy\n",
    "test_loss, test_acc = model_cnn.evaluate(test_images, test_labels)\n",
    "print('Test accuracy:', test_acc)"
   ],
   "metadata": {
    "collapsed": false,
    "ExecuteTime": {
     "end_time": "2024-03-11T16:02:22.546390Z",
     "start_time": "2024-03-11T16:02:20.490621Z"
    }
   },
   "execution_count": 23
  },
  {
   "cell_type": "code",
   "source": [
    "# Explore the impact of training set size on training and testing performance (keep the same testing set while varying the training set)\n",
    "\n",
    "# define the parameters to be tested\n",
    "train_val_splits = [0.1, 0.2, 0.3, 0.4, 0.5]\n",
    "batch_size = [128, 256, 512]\n",
    "lr = [0.001, 0.01, 0.1]\n",
    "\n",
    "# we will test both simple and cnn models\n",
    "models = [model_simple, model_cnn]\n",
    "\n",
    "# we will store the results in a dictionary\n",
    "results = {}\n",
    "\n",
    "# loop through the parameters\n",
    "# we dont have to preproccess the data again, so we can just loop through the models and the parameters\n",
    "for model in models:\n",
    "    for split in train_val_splits:\n",
    "        for batch in batch_size:\n",
    "            for l in lr:\n",
    "                print(f\"Training model {model} with split {split}, batch {batch} and learning rate {l}\")\n",
    "                # Compile the model, choose optimizer, loss and metrics\n",
    "                model.compile(optimizer=keras.optimizers.Adam(learning_rate=l),\n",
    "                              loss='categorical_crossentropy',\n",
    "                              metrics=['accuracy'])\n",
    "\n",
    "                # Train the model and save the history. Define epochs, batch_size and validation_split\n",
    "                history = model.fit(train_images, train_labels, epochs=10, batch_size=batch, validation_split=split)\n",
    "\n",
    "                # Evaluate the model on the test set and report test accuracy\n",
    "                test_loss, test_acc = model.evaluate(test_images, test_labels)\n",
    "\n",
    "                # store the results\n",
    "                results[f\"model_{model}_split_{split}_batch_{batch}_lr_{l}\"] = test_acc\n",
    "        \n",
    "# print the results\n",
    "print(results)"
   ],
   "metadata": {
    "id": "JywO0-Ol6UiH",
    "ExecuteTime": {
     "end_time": "2024-03-11T17:35:19.775356Z",
     "start_time": "2024-03-11T16:08:59.826457Z"
    }
   },
   "execution_count": 25,
   "outputs": [
    {
     "name": "stdout",
     "output_type": "stream",
     "text": [
      "Training model <keras.engine.sequential.Sequential object at 0x0000027542597220> with split 0.1, batch 128 and learning rate 0.001\n",
      "Epoch 1/10\n",
      "422/422 [==============================] - 2s 3ms/step - loss: 0.0158 - accuracy: 0.9951 - val_loss: 0.1094 - val_accuracy: 0.9797\n",
      "Epoch 2/10\n",
      "422/422 [==============================] - 2s 4ms/step - loss: 0.0064 - accuracy: 0.9981 - val_loss: 0.1068 - val_accuracy: 0.9800\n",
      "Epoch 3/10\n",
      "422/422 [==============================] - 1s 3ms/step - loss: 0.0039 - accuracy: 0.9991 - val_loss: 0.1072 - val_accuracy: 0.9818\n",
      "Epoch 4/10\n",
      "422/422 [==============================] - 1s 3ms/step - loss: 0.0024 - accuracy: 0.9996 - val_loss: 0.1088 - val_accuracy: 0.9805\n",
      "Epoch 5/10\n",
      "422/422 [==============================] - 1s 2ms/step - loss: 0.0017 - accuracy: 0.9997 - val_loss: 0.1123 - val_accuracy: 0.9802\n",
      "Epoch 6/10\n",
      "422/422 [==============================] - 1s 2ms/step - loss: 0.0012 - accuracy: 0.9998 - val_loss: 0.1176 - val_accuracy: 0.9790\n",
      "Epoch 7/10\n",
      "422/422 [==============================] - 1s 3ms/step - loss: 8.4302e-04 - accuracy: 1.0000 - val_loss: 0.1154 - val_accuracy: 0.9807\n",
      "Epoch 8/10\n",
      "422/422 [==============================] - 1s 2ms/step - loss: 6.0643e-04 - accuracy: 1.0000 - val_loss: 0.1183 - val_accuracy: 0.9813\n",
      "Epoch 9/10\n",
      "422/422 [==============================] - 1s 2ms/step - loss: 5.4189e-04 - accuracy: 0.9999 - val_loss: 0.1247 - val_accuracy: 0.9798\n",
      "Epoch 10/10\n",
      "422/422 [==============================] - 1s 2ms/step - loss: 3.3309e-04 - accuracy: 1.0000 - val_loss: 0.1214 - val_accuracy: 0.9808\n",
      "313/313 [==============================] - 0s 1ms/step - loss: 0.1229 - accuracy: 0.9815\n",
      "Training model <keras.engine.sequential.Sequential object at 0x0000027542597220> with split 0.1, batch 128 and learning rate 0.01\n",
      "Epoch 1/10\n",
      "422/422 [==============================] - 2s 3ms/step - loss: 0.0603 - accuracy: 0.9853 - val_loss: 0.1833 - val_accuracy: 0.9690\n",
      "Epoch 2/10\n",
      "422/422 [==============================] - 1s 2ms/step - loss: 0.0547 - accuracy: 0.9866 - val_loss: 0.1628 - val_accuracy: 0.9747\n",
      "Epoch 3/10\n",
      "422/422 [==============================] - 1s 3ms/step - loss: 0.0538 - accuracy: 0.9870 - val_loss: 0.1731 - val_accuracy: 0.9748\n",
      "Epoch 4/10\n",
      "422/422 [==============================] - 1s 3ms/step - loss: 0.0522 - accuracy: 0.9871 - val_loss: 0.1993 - val_accuracy: 0.9748\n",
      "Epoch 5/10\n",
      "422/422 [==============================] - 1s 3ms/step - loss: 0.0526 - accuracy: 0.9880 - val_loss: 0.2016 - val_accuracy: 0.9768\n",
      "Epoch 6/10\n",
      "422/422 [==============================] - 1s 3ms/step - loss: 0.0561 - accuracy: 0.9876 - val_loss: 0.2454 - val_accuracy: 0.9713\n",
      "Epoch 7/10\n",
      "422/422 [==============================] - 1s 2ms/step - loss: 0.0447 - accuracy: 0.9900 - val_loss: 0.2084 - val_accuracy: 0.9775\n",
      "Epoch 8/10\n",
      "422/422 [==============================] - 1s 2ms/step - loss: 0.0522 - accuracy: 0.9896 - val_loss: 0.2372 - val_accuracy: 0.9752\n",
      "Epoch 9/10\n",
      "422/422 [==============================] - 1s 2ms/step - loss: 0.0426 - accuracy: 0.9906 - val_loss: 0.2679 - val_accuracy: 0.9730\n",
      "Epoch 10/10\n",
      "422/422 [==============================] - 1s 2ms/step - loss: 0.0436 - accuracy: 0.9904 - val_loss: 0.2617 - val_accuracy: 0.9747\n",
      "313/313 [==============================] - 1s 2ms/step - loss: 0.2446 - accuracy: 0.9759\n",
      "Training model <keras.engine.sequential.Sequential object at 0x0000027542597220> with split 0.1, batch 128 and learning rate 0.1\n",
      "Epoch 1/10\n",
      "422/422 [==============================] - 2s 3ms/step - loss: 0.6973 - accuracy: 0.8910 - val_loss: 0.4094 - val_accuracy: 0.9165\n",
      "Epoch 2/10\n",
      "422/422 [==============================] - 1s 2ms/step - loss: 0.5345 - accuracy: 0.8852 - val_loss: 0.5580 - val_accuracy: 0.8945\n",
      "Epoch 3/10\n",
      "422/422 [==============================] - 1s 2ms/step - loss: 0.5721 - accuracy: 0.8808 - val_loss: 0.3423 - val_accuracy: 0.9145\n",
      "Epoch 4/10\n",
      "422/422 [==============================] - 1s 2ms/step - loss: 0.5156 - accuracy: 0.8792 - val_loss: 0.5157 - val_accuracy: 0.8657\n",
      "Epoch 5/10\n",
      "422/422 [==============================] - 1s 2ms/step - loss: 0.5727 - accuracy: 0.8554 - val_loss: 0.4524 - val_accuracy: 0.8752\n",
      "Epoch 6/10\n",
      "422/422 [==============================] - 1s 2ms/step - loss: 0.5296 - accuracy: 0.8754 - val_loss: 0.5993 - val_accuracy: 0.8645\n",
      "Epoch 7/10\n",
      "422/422 [==============================] - 1s 2ms/step - loss: 0.5580 - accuracy: 0.8658 - val_loss: 0.6072 - val_accuracy: 0.8665\n",
      "Epoch 8/10\n",
      "422/422 [==============================] - 1s 2ms/step - loss: 0.5547 - accuracy: 0.8634 - val_loss: 0.5035 - val_accuracy: 0.8672\n",
      "Epoch 9/10\n",
      "422/422 [==============================] - 1s 2ms/step - loss: 0.6249 - accuracy: 0.8448 - val_loss: 0.6442 - val_accuracy: 0.8523\n",
      "Epoch 10/10\n",
      "422/422 [==============================] - 1s 3ms/step - loss: 0.7050 - accuracy: 0.8254 - val_loss: 0.6698 - val_accuracy: 0.8213\n",
      "313/313 [==============================] - 1s 2ms/step - loss: 0.7934 - accuracy: 0.7980\n",
      "Training model <keras.engine.sequential.Sequential object at 0x0000027542597220> with split 0.1, batch 256 and learning rate 0.001\n",
      "Epoch 1/10\n",
      "211/211 [==============================] - 1s 4ms/step - loss: 0.6417 - accuracy: 0.8107 - val_loss: 0.5762 - val_accuracy: 0.8412\n",
      "Epoch 2/10\n",
      "211/211 [==============================] - 1s 3ms/step - loss: 0.5653 - accuracy: 0.8285 - val_loss: 0.5378 - val_accuracy: 0.8525\n",
      "Epoch 3/10\n",
      "211/211 [==============================] - 1s 3ms/step - loss: 0.5259 - accuracy: 0.8392 - val_loss: 0.5093 - val_accuracy: 0.8608\n",
      "Epoch 4/10\n",
      "211/211 [==============================] - 1s 3ms/step - loss: 0.4991 - accuracy: 0.8466 - val_loss: 0.4861 - val_accuracy: 0.8703\n",
      "Epoch 5/10\n",
      "211/211 [==============================] - 1s 3ms/step - loss: 0.4773 - accuracy: 0.8529 - val_loss: 0.4703 - val_accuracy: 0.8733\n",
      "Epoch 6/10\n",
      "211/211 [==============================] - 1s 3ms/step - loss: 0.4593 - accuracy: 0.8584 - val_loss: 0.4556 - val_accuracy: 0.8775\n",
      "Epoch 7/10\n",
      "211/211 [==============================] - 1s 3ms/step - loss: 0.4456 - accuracy: 0.8609 - val_loss: 0.4425 - val_accuracy: 0.8815\n",
      "Epoch 8/10\n",
      "211/211 [==============================] - 1s 3ms/step - loss: 0.4336 - accuracy: 0.8640 - val_loss: 0.4348 - val_accuracy: 0.8817\n",
      "Epoch 9/10\n",
      "211/211 [==============================] - 1s 3ms/step - loss: 0.4242 - accuracy: 0.8659 - val_loss: 0.4290 - val_accuracy: 0.8833\n",
      "Epoch 10/10\n",
      "211/211 [==============================] - 1s 3ms/step - loss: 0.4154 - accuracy: 0.8684 - val_loss: 0.4241 - val_accuracy: 0.8848\n",
      "313/313 [==============================] - 1s 2ms/step - loss: 0.5454 - accuracy: 0.8678\n",
      "Training model <keras.engine.sequential.Sequential object at 0x0000027542597220> with split 0.1, batch 256 and learning rate 0.01\n",
      "Epoch 1/10\n",
      "211/211 [==============================] - 1s 4ms/step - loss: 0.4006 - accuracy: 0.8799 - val_loss: 0.3884 - val_accuracy: 0.8998\n",
      "Epoch 2/10\n",
      "211/211 [==============================] - 1s 3ms/step - loss: 0.3585 - accuracy: 0.8905 - val_loss: 0.3664 - val_accuracy: 0.9050\n",
      "Epoch 3/10\n",
      "211/211 [==============================] - 1s 3ms/step - loss: 0.3315 - accuracy: 0.8980 - val_loss: 0.3512 - val_accuracy: 0.9112\n",
      "Epoch 4/10\n",
      "211/211 [==============================] - 1s 3ms/step - loss: 0.3092 - accuracy: 0.9052 - val_loss: 0.3448 - val_accuracy: 0.9177\n",
      "Epoch 5/10\n",
      "211/211 [==============================] - 1s 3ms/step - loss: 0.2870 - accuracy: 0.9131 - val_loss: 0.3096 - val_accuracy: 0.9210\n",
      "Epoch 6/10\n",
      "211/211 [==============================] - 1s 3ms/step - loss: 0.2699 - accuracy: 0.9183 - val_loss: 0.3080 - val_accuracy: 0.9248\n",
      "Epoch 7/10\n",
      "211/211 [==============================] - 1s 3ms/step - loss: 0.2588 - accuracy: 0.9216 - val_loss: 0.3036 - val_accuracy: 0.9287\n",
      "Epoch 8/10\n",
      "211/211 [==============================] - 1s 3ms/step - loss: 0.2476 - accuracy: 0.9260 - val_loss: 0.2885 - val_accuracy: 0.9317\n",
      "Epoch 9/10\n",
      "211/211 [==============================] - 1s 3ms/step - loss: 0.2403 - accuracy: 0.9290 - val_loss: 0.2973 - val_accuracy: 0.9340\n",
      "Epoch 10/10\n",
      "211/211 [==============================] - 1s 3ms/step - loss: 0.2327 - accuracy: 0.9314 - val_loss: 0.2787 - val_accuracy: 0.9377\n",
      "313/313 [==============================] - 1s 2ms/step - loss: 0.3833 - accuracy: 0.9273\n",
      "Training model <keras.engine.sequential.Sequential object at 0x0000027542597220> with split 0.1, batch 256 and learning rate 0.1\n",
      "Epoch 1/10\n",
      "211/211 [==============================] - 2s 5ms/step - loss: 0.4222 - accuracy: 0.8963 - val_loss: 0.4127 - val_accuracy: 0.9037\n",
      "Epoch 2/10\n",
      "211/211 [==============================] - 1s 3ms/step - loss: 0.4173 - accuracy: 0.8875 - val_loss: 0.6498 - val_accuracy: 0.8918\n",
      "Epoch 3/10\n",
      "211/211 [==============================] - 1s 4ms/step - loss: 0.4128 - accuracy: 0.8948 - val_loss: 0.4918 - val_accuracy: 0.8882\n",
      "Epoch 4/10\n",
      "211/211 [==============================] - 1s 3ms/step - loss: 0.4139 - accuracy: 0.8897 - val_loss: 0.4426 - val_accuracy: 0.9040\n",
      "Epoch 5/10\n",
      "211/211 [==============================] - 1s 3ms/step - loss: 0.4230 - accuracy: 0.8879 - val_loss: 0.7464 - val_accuracy: 0.8660\n",
      "Epoch 6/10\n",
      "211/211 [==============================] - 1s 3ms/step - loss: 0.4662 - accuracy: 0.8761 - val_loss: 0.5581 - val_accuracy: 0.8933\n",
      "Epoch 7/10\n",
      "211/211 [==============================] - 1s 3ms/step - loss: 0.4131 - accuracy: 0.8953 - val_loss: 0.4322 - val_accuracy: 0.9057\n",
      "Epoch 8/10\n",
      "211/211 [==============================] - 1s 3ms/step - loss: 0.4357 - accuracy: 0.8845 - val_loss: 0.5110 - val_accuracy: 0.8960\n",
      "Epoch 9/10\n",
      "211/211 [==============================] - 1s 3ms/step - loss: 0.4089 - accuracy: 0.8881 - val_loss: 0.4139 - val_accuracy: 0.9083\n",
      "Epoch 10/10\n",
      "211/211 [==============================] - 1s 3ms/step - loss: 0.4491 - accuracy: 0.8859 - val_loss: 0.5044 - val_accuracy: 0.8867\n",
      "313/313 [==============================] - 1s 2ms/step - loss: 0.7760 - accuracy: 0.8736\n",
      "Training model <keras.engine.sequential.Sequential object at 0x0000027542597220> with split 0.1, batch 512 and learning rate 0.001\n",
      "Epoch 1/10\n",
      "106/106 [==============================] - 1s 6ms/step - loss: 0.3726 - accuracy: 0.8988 - val_loss: 0.4707 - val_accuracy: 0.9038\n",
      "Epoch 2/10\n",
      "106/106 [==============================] - 0s 4ms/step - loss: 0.3467 - accuracy: 0.9032 - val_loss: 0.4593 - val_accuracy: 0.9060\n",
      "Epoch 3/10\n",
      "106/106 [==============================] - 0s 4ms/step - loss: 0.3331 - accuracy: 0.9052 - val_loss: 0.4518 - val_accuracy: 0.9080\n",
      "Epoch 4/10\n",
      "106/106 [==============================] - 0s 4ms/step - loss: 0.3229 - accuracy: 0.9065 - val_loss: 0.4446 - val_accuracy: 0.9087\n",
      "Epoch 5/10\n",
      "106/106 [==============================] - 0s 4ms/step - loss: 0.3150 - accuracy: 0.9073 - val_loss: 0.4394 - val_accuracy: 0.9093\n",
      "Epoch 6/10\n",
      "106/106 [==============================] - 0s 4ms/step - loss: 0.3090 - accuracy: 0.9081 - val_loss: 0.4347 - val_accuracy: 0.9100\n",
      "Epoch 7/10\n",
      "106/106 [==============================] - 0s 4ms/step - loss: 0.3037 - accuracy: 0.9090 - val_loss: 0.4324 - val_accuracy: 0.9112\n",
      "Epoch 8/10\n",
      "106/106 [==============================] - 0s 4ms/step - loss: 0.2985 - accuracy: 0.9099 - val_loss: 0.4285 - val_accuracy: 0.9112\n",
      "Epoch 9/10\n",
      "106/106 [==============================] - 0s 4ms/step - loss: 0.2944 - accuracy: 0.9103 - val_loss: 0.4278 - val_accuracy: 0.9122\n",
      "Epoch 10/10\n",
      "106/106 [==============================] - 0s 4ms/step - loss: 0.2902 - accuracy: 0.9115 - val_loss: 0.4253 - val_accuracy: 0.9130\n",
      "313/313 [==============================] - 1s 2ms/step - loss: 0.6797 - accuracy: 0.9042\n",
      "Training model <keras.engine.sequential.Sequential object at 0x0000027542597220> with split 0.1, batch 512 and learning rate 0.01\n",
      "Epoch 1/10\n",
      "106/106 [==============================] - 1s 9ms/step - loss: 0.2847 - accuracy: 0.9155 - val_loss: 0.4372 - val_accuracy: 0.9195\n",
      "Epoch 2/10\n",
      "106/106 [==============================] - 1s 5ms/step - loss: 0.2636 - accuracy: 0.9205 - val_loss: 0.3980 - val_accuracy: 0.9227\n",
      "Epoch 3/10\n",
      "106/106 [==============================] - 0s 4ms/step - loss: 0.2501 - accuracy: 0.9224 - val_loss: 0.3969 - val_accuracy: 0.9225\n",
      "Epoch 4/10\n",
      "106/106 [==============================] - 0s 4ms/step - loss: 0.2418 - accuracy: 0.9250 - val_loss: 0.3811 - val_accuracy: 0.9242\n",
      "Epoch 5/10\n",
      "106/106 [==============================] - 0s 4ms/step - loss: 0.2344 - accuracy: 0.9270 - val_loss: 0.4006 - val_accuracy: 0.9278\n",
      "Epoch 6/10\n",
      "106/106 [==============================] - 0s 4ms/step - loss: 0.2277 - accuracy: 0.9290 - val_loss: 0.3900 - val_accuracy: 0.9288\n",
      "Epoch 7/10\n",
      "106/106 [==============================] - 0s 4ms/step - loss: 0.2217 - accuracy: 0.9304 - val_loss: 0.3833 - val_accuracy: 0.9293\n",
      "Epoch 8/10\n",
      "106/106 [==============================] - 0s 5ms/step - loss: 0.2169 - accuracy: 0.9313 - val_loss: 0.4006 - val_accuracy: 0.9297\n",
      "Epoch 9/10\n",
      "106/106 [==============================] - 0s 4ms/step - loss: 0.2128 - accuracy: 0.9327 - val_loss: 0.3873 - val_accuracy: 0.9288\n",
      "Epoch 10/10\n",
      "106/106 [==============================] - 0s 4ms/step - loss: 0.2105 - accuracy: 0.9331 - val_loss: 0.3814 - val_accuracy: 0.9303\n",
      "313/313 [==============================] - 1s 2ms/step - loss: 0.6864 - accuracy: 0.9239\n",
      "Training model <keras.engine.sequential.Sequential object at 0x0000027542597220> with split 0.1, batch 512 and learning rate 0.1\n",
      "Epoch 1/10\n",
      "106/106 [==============================] - 1s 6ms/step - loss: 0.3464 - accuracy: 0.9056 - val_loss: 0.4539 - val_accuracy: 0.9108\n",
      "Epoch 2/10\n",
      "106/106 [==============================] - 0s 4ms/step - loss: 0.3183 - accuracy: 0.9126 - val_loss: 0.4506 - val_accuracy: 0.9090\n",
      "Epoch 3/10\n",
      "106/106 [==============================] - 0s 4ms/step - loss: 0.3206 - accuracy: 0.9110 - val_loss: 0.4637 - val_accuracy: 0.9093\n",
      "Epoch 4/10\n",
      "106/106 [==============================] - 0s 4ms/step - loss: 0.3276 - accuracy: 0.9110 - val_loss: 0.5170 - val_accuracy: 0.9043\n",
      "Epoch 5/10\n",
      "106/106 [==============================] - 0s 4ms/step - loss: 0.3041 - accuracy: 0.9148 - val_loss: 0.4407 - val_accuracy: 0.9212\n",
      "Epoch 6/10\n",
      "106/106 [==============================] - 0s 4ms/step - loss: 0.2938 - accuracy: 0.9200 - val_loss: 0.3939 - val_accuracy: 0.9277\n",
      "Epoch 7/10\n",
      "106/106 [==============================] - 0s 4ms/step - loss: 0.3148 - accuracy: 0.9140 - val_loss: 0.4482 - val_accuracy: 0.9185\n",
      "Epoch 8/10\n",
      "106/106 [==============================] - 0s 4ms/step - loss: 0.3084 - accuracy: 0.9166 - val_loss: 0.4950 - val_accuracy: 0.9178\n",
      "Epoch 9/10\n",
      "106/106 [==============================] - 0s 4ms/step - loss: 0.3062 - accuracy: 0.9187 - val_loss: 0.4442 - val_accuracy: 0.9182\n",
      "Epoch 10/10\n",
      "106/106 [==============================] - 0s 4ms/step - loss: 0.2874 - accuracy: 0.9207 - val_loss: 0.3928 - val_accuracy: 0.9247\n",
      "313/313 [==============================] - 0s 1ms/step - loss: 0.6621 - accuracy: 0.9124\n",
      "Training model <keras.engine.sequential.Sequential object at 0x0000027542597220> with split 0.2, batch 128 and learning rate 0.001\n",
      "Epoch 1/10\n",
      "375/375 [==============================] - 2s 3ms/step - loss: 0.2510 - accuracy: 0.9262 - val_loss: 0.3254 - val_accuracy: 0.9251\n",
      "Epoch 2/10\n",
      "375/375 [==============================] - 1s 3ms/step - loss: 0.2355 - accuracy: 0.9292 - val_loss: 0.3209 - val_accuracy: 0.9265\n",
      "Epoch 3/10\n",
      "375/375 [==============================] - 1s 3ms/step - loss: 0.2264 - accuracy: 0.9312 - val_loss: 0.3205 - val_accuracy: 0.9274\n",
      "Epoch 4/10\n",
      "375/375 [==============================] - 1s 3ms/step - loss: 0.2215 - accuracy: 0.9323 - val_loss: 0.3183 - val_accuracy: 0.9285\n",
      "Epoch 5/10\n",
      "375/375 [==============================] - 1s 3ms/step - loss: 0.2178 - accuracy: 0.9329 - val_loss: 0.3178 - val_accuracy: 0.9294\n",
      "Epoch 6/10\n",
      "375/375 [==============================] - 1s 3ms/step - loss: 0.2144 - accuracy: 0.9335 - val_loss: 0.3182 - val_accuracy: 0.9302\n",
      "Epoch 7/10\n",
      "375/375 [==============================] - 1s 3ms/step - loss: 0.2114 - accuracy: 0.9345 - val_loss: 0.3161 - val_accuracy: 0.9306\n",
      "Epoch 8/10\n",
      "375/375 [==============================] - 1s 3ms/step - loss: 0.2087 - accuracy: 0.9350 - val_loss: 0.3160 - val_accuracy: 0.9304\n",
      "Epoch 9/10\n",
      "375/375 [==============================] - 1s 3ms/step - loss: 0.2067 - accuracy: 0.9354 - val_loss: 0.3175 - val_accuracy: 0.9312\n",
      "Epoch 10/10\n",
      "375/375 [==============================] - 1s 3ms/step - loss: 0.2046 - accuracy: 0.9359 - val_loss: 0.3191 - val_accuracy: 0.9312\n",
      "313/313 [==============================] - 1s 2ms/step - loss: 0.6618 - accuracy: 0.9235\n",
      "Training model <keras.engine.sequential.Sequential object at 0x0000027542597220> with split 0.2, batch 128 and learning rate 0.01\n",
      "Epoch 1/10\n",
      "375/375 [==============================] - 2s 3ms/step - loss: 0.2168 - accuracy: 0.9365 - val_loss: 0.3531 - val_accuracy: 0.9324\n",
      "Epoch 2/10\n",
      "375/375 [==============================] - 1s 3ms/step - loss: 0.2028 - accuracy: 0.9384 - val_loss: 0.3295 - val_accuracy: 0.9334\n",
      "Epoch 3/10\n",
      "375/375 [==============================] - 1s 3ms/step - loss: 0.1996 - accuracy: 0.9394 - val_loss: 0.3443 - val_accuracy: 0.9344\n",
      "Epoch 4/10\n",
      "375/375 [==============================] - 1s 3ms/step - loss: 0.1947 - accuracy: 0.9411 - val_loss: 0.3387 - val_accuracy: 0.9353\n",
      "Epoch 5/10\n",
      "375/375 [==============================] - 1s 3ms/step - loss: 0.1906 - accuracy: 0.9420 - val_loss: 0.3285 - val_accuracy: 0.9340\n",
      "Epoch 6/10\n",
      "375/375 [==============================] - 1s 3ms/step - loss: 0.1875 - accuracy: 0.9433 - val_loss: 0.3224 - val_accuracy: 0.9349\n",
      "Epoch 7/10\n",
      "375/375 [==============================] - 1s 3ms/step - loss: 0.1840 - accuracy: 0.9436 - val_loss: 0.3493 - val_accuracy: 0.9374\n",
      "Epoch 8/10\n",
      "375/375 [==============================] - 1s 3ms/step - loss: 0.1838 - accuracy: 0.9442 - val_loss: 0.3415 - val_accuracy: 0.9370\n",
      "Epoch 9/10\n",
      "375/375 [==============================] - 1s 3ms/step - loss: 0.1812 - accuracy: 0.9450 - val_loss: 0.3499 - val_accuracy: 0.9361\n",
      "Epoch 10/10\n",
      "375/375 [==============================] - 1s 3ms/step - loss: 0.1782 - accuracy: 0.9455 - val_loss: 0.3347 - val_accuracy: 0.9359\n",
      "313/313 [==============================] - 1s 2ms/step - loss: 0.7061 - accuracy: 0.9311\n",
      "Training model <keras.engine.sequential.Sequential object at 0x0000027542597220> with split 0.2, batch 128 and learning rate 0.1\n",
      "Epoch 1/10\n",
      "375/375 [==============================] - 2s 3ms/step - loss: 0.4777 - accuracy: 0.8917 - val_loss: 0.5990 - val_accuracy: 0.8935\n",
      "Epoch 2/10\n",
      "375/375 [==============================] - 1s 3ms/step - loss: 0.4948 - accuracy: 0.8757 - val_loss: 0.5971 - val_accuracy: 0.8785\n",
      "Epoch 3/10\n",
      "375/375 [==============================] - 1s 3ms/step - loss: 0.5030 - accuracy: 0.8761 - val_loss: 0.6229 - val_accuracy: 0.8713\n",
      "Epoch 4/10\n",
      "375/375 [==============================] - 1s 3ms/step - loss: 0.5249 - accuracy: 0.8666 - val_loss: 0.7001 - val_accuracy: 0.8578\n",
      "Epoch 5/10\n",
      "375/375 [==============================] - 1s 3ms/step - loss: 0.5131 - accuracy: 0.8686 - val_loss: 0.7067 - val_accuracy: 0.8735\n",
      "Epoch 6/10\n",
      "375/375 [==============================] - 1s 3ms/step - loss: 0.5097 - accuracy: 0.8705 - val_loss: 0.5754 - val_accuracy: 0.8914\n",
      "Epoch 7/10\n",
      "375/375 [==============================] - 1s 3ms/step - loss: 0.4947 - accuracy: 0.8737 - val_loss: 0.7082 - val_accuracy: 0.8699\n",
      "Epoch 8/10\n",
      "375/375 [==============================] - 1s 3ms/step - loss: 0.6082 - accuracy: 0.8463 - val_loss: 0.5613 - val_accuracy: 0.8639\n",
      "Epoch 9/10\n",
      "375/375 [==============================] - 1s 3ms/step - loss: 0.4852 - accuracy: 0.8714 - val_loss: 0.5584 - val_accuracy: 0.8698\n",
      "Epoch 10/10\n",
      "375/375 [==============================] - 1s 3ms/step - loss: 0.5393 - accuracy: 0.8605 - val_loss: 0.9553 - val_accuracy: 0.8721\n",
      "313/313 [==============================] - 0s 1ms/step - loss: 1.1590 - accuracy: 0.8689\n",
      "Training model <keras.engine.sequential.Sequential object at 0x0000027542597220> with split 0.2, batch 256 and learning rate 0.001\n",
      "Epoch 1/10\n",
      "188/188 [==============================] - 2s 7ms/step - loss: 0.5671 - accuracy: 0.8752 - val_loss: 0.8624 - val_accuracy: 0.8749\n",
      "Epoch 2/10\n",
      "188/188 [==============================] - 1s 5ms/step - loss: 0.5102 - accuracy: 0.8766 - val_loss: 0.8246 - val_accuracy: 0.8749\n",
      "Epoch 3/10\n",
      "188/188 [==============================] - 1s 4ms/step - loss: 0.4828 - accuracy: 0.8775 - val_loss: 0.8033 - val_accuracy: 0.8759\n",
      "Epoch 4/10\n",
      "188/188 [==============================] - 1s 3ms/step - loss: 0.4652 - accuracy: 0.8791 - val_loss: 0.7849 - val_accuracy: 0.8776\n",
      "Epoch 5/10\n",
      "188/188 [==============================] - 1s 3ms/step - loss: 0.4519 - accuracy: 0.8802 - val_loss: 0.7724 - val_accuracy: 0.8797\n",
      "Epoch 6/10\n",
      "188/188 [==============================] - 1s 4ms/step - loss: 0.4410 - accuracy: 0.8823 - val_loss: 0.7683 - val_accuracy: 0.8813\n",
      "Epoch 7/10\n",
      "188/188 [==============================] - 1s 5ms/step - loss: 0.4324 - accuracy: 0.8842 - val_loss: 0.7631 - val_accuracy: 0.8829\n",
      "Epoch 8/10\n",
      "188/188 [==============================] - 1s 4ms/step - loss: 0.4261 - accuracy: 0.8856 - val_loss: 0.7579 - val_accuracy: 0.8835\n",
      "Epoch 9/10\n",
      "188/188 [==============================] - 1s 4ms/step - loss: 0.4215 - accuracy: 0.8861 - val_loss: 0.7507 - val_accuracy: 0.8846\n",
      "Epoch 10/10\n",
      "188/188 [==============================] - 1s 4ms/step - loss: 0.4170 - accuracy: 0.8872 - val_loss: 0.7449 - val_accuracy: 0.8852\n",
      "313/313 [==============================] - 1s 2ms/step - loss: 0.9354 - accuracy: 0.8789\n",
      "Training model <keras.engine.sequential.Sequential object at 0x0000027542597220> with split 0.2, batch 256 and learning rate 0.01\n",
      "Epoch 1/10\n",
      "188/188 [==============================] - 1s 5ms/step - loss: 0.4079 - accuracy: 0.8960 - val_loss: 0.7685 - val_accuracy: 0.8974\n",
      "Epoch 2/10\n",
      "188/188 [==============================] - 1s 4ms/step - loss: 0.3735 - accuracy: 0.9023 - val_loss: 0.7355 - val_accuracy: 0.8989\n",
      "Epoch 3/10\n",
      "188/188 [==============================] - 1s 5ms/step - loss: 0.3528 - accuracy: 0.9070 - val_loss: 0.7280 - val_accuracy: 0.9026\n",
      "Epoch 4/10\n",
      "188/188 [==============================] - 1s 3ms/step - loss: 0.3360 - accuracy: 0.9108 - val_loss: 0.7054 - val_accuracy: 0.9049\n",
      "Epoch 5/10\n",
      "188/188 [==============================] - 1s 4ms/step - loss: 0.3301 - accuracy: 0.9137 - val_loss: 0.7047 - val_accuracy: 0.9068\n",
      "Epoch 6/10\n",
      "188/188 [==============================] - 1s 4ms/step - loss: 0.3139 - accuracy: 0.9163 - val_loss: 0.6763 - val_accuracy: 0.9096\n",
      "Epoch 7/10\n",
      "188/188 [==============================] - 1s 3ms/step - loss: 0.3103 - accuracy: 0.9194 - val_loss: 0.6802 - val_accuracy: 0.9125\n",
      "Epoch 8/10\n",
      "188/188 [==============================] - 1s 4ms/step - loss: 0.3013 - accuracy: 0.9208 - val_loss: 0.6631 - val_accuracy: 0.9101\n",
      "Epoch 9/10\n",
      "188/188 [==============================] - 1s 3ms/step - loss: 0.2943 - accuracy: 0.9224 - val_loss: 0.6674 - val_accuracy: 0.9159\n",
      "Epoch 10/10\n",
      "188/188 [==============================] - 1s 4ms/step - loss: 0.2908 - accuracy: 0.9247 - val_loss: 0.6640 - val_accuracy: 0.9168\n",
      "313/313 [==============================] - 1s 2ms/step - loss: 1.0678 - accuracy: 0.9119\n",
      "Training model <keras.engine.sequential.Sequential object at 0x0000027542597220> with split 0.2, batch 256 and learning rate 0.1\n",
      "Epoch 1/10\n",
      "188/188 [==============================] - 2s 5ms/step - loss: 0.4459 - accuracy: 0.9039 - val_loss: 0.7816 - val_accuracy: 0.8827\n",
      "Epoch 2/10\n",
      "188/188 [==============================] - 1s 4ms/step - loss: 0.4348 - accuracy: 0.8960 - val_loss: 0.7660 - val_accuracy: 0.8932\n",
      "Epoch 3/10\n",
      "188/188 [==============================] - 1s 3ms/step - loss: 0.5088 - accuracy: 0.8745 - val_loss: 0.7912 - val_accuracy: 0.8781\n",
      "Epoch 4/10\n",
      "188/188 [==============================] - 1s 3ms/step - loss: 0.4963 - accuracy: 0.8819 - val_loss: 0.8655 - val_accuracy: 0.8574\n",
      "Epoch 5/10\n",
      "188/188 [==============================] - 1s 4ms/step - loss: 0.5094 - accuracy: 0.8776 - val_loss: 0.8073 - val_accuracy: 0.8677\n",
      "Epoch 6/10\n",
      "188/188 [==============================] - 1s 3ms/step - loss: 0.5177 - accuracy: 0.8793 - val_loss: 0.8415 - val_accuracy: 0.8954\n",
      "Epoch 7/10\n",
      "188/188 [==============================] - 1s 3ms/step - loss: 0.5000 - accuracy: 0.8883 - val_loss: 0.7587 - val_accuracy: 0.8763\n",
      "Epoch 8/10\n",
      "188/188 [==============================] - 1s 4ms/step - loss: 0.4954 - accuracy: 0.8943 - val_loss: 0.7129 - val_accuracy: 0.8777\n",
      "Epoch 9/10\n",
      "188/188 [==============================] - 1s 4ms/step - loss: 0.4428 - accuracy: 0.8959 - val_loss: 0.9414 - val_accuracy: 0.8917\n",
      "Epoch 10/10\n",
      "188/188 [==============================] - 1s 3ms/step - loss: 0.4240 - accuracy: 0.8996 - val_loss: 0.7405 - val_accuracy: 0.8998\n",
      "313/313 [==============================] - 1s 2ms/step - loss: 1.2431 - accuracy: 0.8951\n",
      "Training model <keras.engine.sequential.Sequential object at 0x0000027542597220> with split 0.2, batch 512 and learning rate 0.001\n",
      "Epoch 1/10\n",
      "94/94 [==============================] - 1s 7ms/step - loss: 0.3965 - accuracy: 0.9070 - val_loss: 0.7170 - val_accuracy: 0.9019\n",
      "Epoch 2/10\n",
      "94/94 [==============================] - 0s 5ms/step - loss: 0.3762 - accuracy: 0.9091 - val_loss: 0.7036 - val_accuracy: 0.9027\n",
      "Epoch 3/10\n",
      "94/94 [==============================] - 0s 5ms/step - loss: 0.3614 - accuracy: 0.9111 - val_loss: 0.6936 - val_accuracy: 0.9041\n",
      "Epoch 4/10\n",
      "94/94 [==============================] - 0s 5ms/step - loss: 0.3523 - accuracy: 0.9123 - val_loss: 0.6876 - val_accuracy: 0.9047\n",
      "Epoch 5/10\n",
      "94/94 [==============================] - 0s 4ms/step - loss: 0.3456 - accuracy: 0.9132 - val_loss: 0.6849 - val_accuracy: 0.9057\n",
      "Epoch 6/10\n",
      "94/94 [==============================] - 0s 5ms/step - loss: 0.3397 - accuracy: 0.9142 - val_loss: 0.6832 - val_accuracy: 0.9072\n",
      "Epoch 7/10\n",
      "94/94 [==============================] - 0s 5ms/step - loss: 0.3337 - accuracy: 0.9152 - val_loss: 0.6818 - val_accuracy: 0.9083\n",
      "Epoch 8/10\n",
      "94/94 [==============================] - 0s 5ms/step - loss: 0.3296 - accuracy: 0.9159 - val_loss: 0.6807 - val_accuracy: 0.9085\n",
      "Epoch 9/10\n",
      "94/94 [==============================] - 0s 4ms/step - loss: 0.3262 - accuracy: 0.9165 - val_loss: 0.6806 - val_accuracy: 0.9088\n",
      "Epoch 10/10\n",
      "94/94 [==============================] - 0s 4ms/step - loss: 0.3233 - accuracy: 0.9170 - val_loss: 0.6810 - val_accuracy: 0.9094\n",
      "313/313 [==============================] - 1s 2ms/step - loss: 1.1745 - accuracy: 0.9046\n",
      "Training model <keras.engine.sequential.Sequential object at 0x0000027542597220> with split 0.2, batch 512 and learning rate 0.01\n",
      "Epoch 1/10\n",
      "94/94 [==============================] - 1s 7ms/step - loss: 0.3175 - accuracy: 0.9195 - val_loss: 0.7146 - val_accuracy: 0.9143\n",
      "Epoch 2/10\n",
      "94/94 [==============================] - 1s 6ms/step - loss: 0.3016 - accuracy: 0.9229 - val_loss: 0.7089 - val_accuracy: 0.9154\n",
      "Epoch 3/10\n",
      "94/94 [==============================] - 1s 5ms/step - loss: 0.2919 - accuracy: 0.9243 - val_loss: 0.7245 - val_accuracy: 0.9161\n",
      "Epoch 4/10\n",
      "94/94 [==============================] - 1s 6ms/step - loss: 0.2843 - accuracy: 0.9261 - val_loss: 0.7536 - val_accuracy: 0.9183\n",
      "Epoch 5/10\n",
      "94/94 [==============================] - 1s 6ms/step - loss: 0.2797 - accuracy: 0.9275 - val_loss: 0.7351 - val_accuracy: 0.9182\n",
      "Epoch 6/10\n",
      "94/94 [==============================] - 0s 5ms/step - loss: 0.2750 - accuracy: 0.9287 - val_loss: 0.7552 - val_accuracy: 0.9202\n",
      "Epoch 7/10\n",
      "94/94 [==============================] - 0s 5ms/step - loss: 0.2683 - accuracy: 0.9302 - val_loss: 0.7749 - val_accuracy: 0.9208\n",
      "Epoch 8/10\n",
      "94/94 [==============================] - 0s 4ms/step - loss: 0.2661 - accuracy: 0.9320 - val_loss: 0.7784 - val_accuracy: 0.9220\n",
      "Epoch 9/10\n",
      "94/94 [==============================] - 0s 4ms/step - loss: 0.2637 - accuracy: 0.9320 - val_loss: 0.8075 - val_accuracy: 0.9219\n",
      "Epoch 10/10\n",
      "94/94 [==============================] - 0s 5ms/step - loss: 0.2603 - accuracy: 0.9333 - val_loss: 0.8048 - val_accuracy: 0.9222\n",
      "313/313 [==============================] - 1s 2ms/step - loss: 1.5455 - accuracy: 0.9191\n",
      "Training model <keras.engine.sequential.Sequential object at 0x0000027542597220> with split 0.2, batch 512 and learning rate 0.1\n",
      "Epoch 1/10\n",
      "94/94 [==============================] - 1s 8ms/step - loss: 0.3643 - accuracy: 0.9182 - val_loss: 0.7437 - val_accuracy: 0.9107\n",
      "Epoch 2/10\n",
      "94/94 [==============================] - 0s 5ms/step - loss: 0.3778 - accuracy: 0.9158 - val_loss: 0.7568 - val_accuracy: 0.9057\n",
      "Epoch 3/10\n",
      "94/94 [==============================] - 0s 5ms/step - loss: 0.3483 - accuracy: 0.9156 - val_loss: 0.7094 - val_accuracy: 0.9129\n",
      "Epoch 4/10\n",
      "94/94 [==============================] - 1s 6ms/step - loss: 0.3627 - accuracy: 0.9167 - val_loss: 0.8662 - val_accuracy: 0.9106\n",
      "Epoch 5/10\n",
      "94/94 [==============================] - 1s 6ms/step - loss: 0.3738 - accuracy: 0.9103 - val_loss: 0.7274 - val_accuracy: 0.9011\n",
      "Epoch 6/10\n",
      "94/94 [==============================] - 1s 6ms/step - loss: 0.3966 - accuracy: 0.9097 - val_loss: 0.8862 - val_accuracy: 0.9057\n",
      "Epoch 7/10\n",
      "94/94 [==============================] - 1s 5ms/step - loss: 0.3660 - accuracy: 0.9118 - val_loss: 0.7823 - val_accuracy: 0.9089\n",
      "Epoch 8/10\n",
      "94/94 [==============================] - 1s 6ms/step - loss: 0.3491 - accuracy: 0.9132 - val_loss: 0.7614 - val_accuracy: 0.8874\n",
      "Epoch 9/10\n",
      "94/94 [==============================] - 0s 5ms/step - loss: 0.3494 - accuracy: 0.9146 - val_loss: 0.7902 - val_accuracy: 0.9119\n",
      "Epoch 10/10\n",
      "94/94 [==============================] - 0s 4ms/step - loss: 0.3591 - accuracy: 0.9150 - val_loss: 0.7099 - val_accuracy: 0.8992\n",
      "313/313 [==============================] - 1s 2ms/step - loss: 1.0366 - accuracy: 0.8968\n",
      "Training model <keras.engine.sequential.Sequential object at 0x0000027542597220> with split 0.3, batch 128 and learning rate 0.001\n",
      "Epoch 1/10\n",
      "329/329 [==============================] - 2s 4ms/step - loss: 0.3417 - accuracy: 0.9112 - val_loss: 0.5754 - val_accuracy: 0.9105\n",
      "Epoch 2/10\n",
      "329/329 [==============================] - 1s 3ms/step - loss: 0.3229 - accuracy: 0.9155 - val_loss: 0.5846 - val_accuracy: 0.9128\n",
      "Epoch 3/10\n",
      "329/329 [==============================] - 1s 4ms/step - loss: 0.3126 - accuracy: 0.9175 - val_loss: 0.5935 - val_accuracy: 0.9143\n",
      "Epoch 4/10\n",
      "329/329 [==============================] - 1s 4ms/step - loss: 0.3062 - accuracy: 0.9192 - val_loss: 0.6003 - val_accuracy: 0.9151\n",
      "Epoch 5/10\n",
      "329/329 [==============================] - 1s 3ms/step - loss: 0.2997 - accuracy: 0.9208 - val_loss: 0.6128 - val_accuracy: 0.9168\n",
      "Epoch 6/10\n",
      "329/329 [==============================] - 1s 3ms/step - loss: 0.2953 - accuracy: 0.9222 - val_loss: 0.6179 - val_accuracy: 0.9172\n",
      "Epoch 7/10\n",
      "329/329 [==============================] - 1s 3ms/step - loss: 0.2914 - accuracy: 0.9230 - val_loss: 0.6209 - val_accuracy: 0.9180\n",
      "Epoch 8/10\n",
      "329/329 [==============================] - 1s 3ms/step - loss: 0.2881 - accuracy: 0.9238 - val_loss: 0.6257 - val_accuracy: 0.9186\n",
      "Epoch 9/10\n",
      "329/329 [==============================] - 1s 3ms/step - loss: 0.2860 - accuracy: 0.9243 - val_loss: 0.6299 - val_accuracy: 0.9191\n",
      "Epoch 10/10\n",
      "329/329 [==============================] - 1s 3ms/step - loss: 0.2831 - accuracy: 0.9251 - val_loss: 0.6415 - val_accuracy: 0.9198\n",
      "313/313 [==============================] - 1s 2ms/step - loss: 1.2398 - accuracy: 0.9113\n",
      "Training model <keras.engine.sequential.Sequential object at 0x0000027542597220> with split 0.3, batch 128 and learning rate 0.01\n",
      "Epoch 1/10\n",
      "329/329 [==============================] - 2s 4ms/step - loss: 0.2895 - accuracy: 0.9269 - val_loss: 0.7054 - val_accuracy: 0.9236\n",
      "Epoch 2/10\n",
      "329/329 [==============================] - 1s 3ms/step - loss: 0.2725 - accuracy: 0.9305 - val_loss: 0.7159 - val_accuracy: 0.9268\n",
      "Epoch 3/10\n",
      "329/329 [==============================] - 1s 3ms/step - loss: 0.2651 - accuracy: 0.9322 - val_loss: 0.6952 - val_accuracy: 0.9259\n",
      "Epoch 4/10\n",
      "329/329 [==============================] - 1s 3ms/step - loss: 0.2599 - accuracy: 0.9336 - val_loss: 0.7475 - val_accuracy: 0.9283\n",
      "Epoch 5/10\n",
      "329/329 [==============================] - 1s 3ms/step - loss: 0.2545 - accuracy: 0.9348 - val_loss: 0.7826 - val_accuracy: 0.9299\n",
      "Epoch 6/10\n",
      "329/329 [==============================] - 1s 3ms/step - loss: 0.2513 - accuracy: 0.9365 - val_loss: 0.7455 - val_accuracy: 0.9290\n",
      "Epoch 7/10\n",
      "329/329 [==============================] - 1s 4ms/step - loss: 0.2491 - accuracy: 0.9375 - val_loss: 0.7460 - val_accuracy: 0.9282\n",
      "Epoch 8/10\n",
      "329/329 [==============================] - 1s 4ms/step - loss: 0.2459 - accuracy: 0.9375 - val_loss: 0.7783 - val_accuracy: 0.9307\n",
      "Epoch 9/10\n",
      "329/329 [==============================] - 1s 4ms/step - loss: 0.2466 - accuracy: 0.9381 - val_loss: 0.7834 - val_accuracy: 0.9305\n",
      "Epoch 10/10\n",
      "329/329 [==============================] - 1s 3ms/step - loss: 0.2413 - accuracy: 0.9385 - val_loss: 0.7555 - val_accuracy: 0.9315\n",
      "313/313 [==============================] - 1s 2ms/step - loss: 1.6546 - accuracy: 0.9247\n",
      "Training model <keras.engine.sequential.Sequential object at 0x0000027542597220> with split 0.3, batch 128 and learning rate 0.1\n",
      "Epoch 1/10\n",
      "329/329 [==============================] - 2s 5ms/step - loss: 0.4656 - accuracy: 0.9019 - val_loss: 1.1209 - val_accuracy: 0.8954\n",
      "Epoch 2/10\n",
      "329/329 [==============================] - 1s 3ms/step - loss: 0.5740 - accuracy: 0.8773 - val_loss: 1.2612 - val_accuracy: 0.8050\n",
      "Epoch 3/10\n",
      "329/329 [==============================] - 1s 3ms/step - loss: 0.6217 - accuracy: 0.8486 - val_loss: 1.4098 - val_accuracy: 0.7409\n",
      "Epoch 4/10\n",
      "329/329 [==============================] - 1s 3ms/step - loss: 0.6138 - accuracy: 0.8288 - val_loss: 1.1085 - val_accuracy: 0.8727\n",
      "Epoch 5/10\n",
      "329/329 [==============================] - 1s 4ms/step - loss: 0.5011 - accuracy: 0.8750 - val_loss: 1.3263 - val_accuracy: 0.8873\n",
      "Epoch 6/10\n",
      "329/329 [==============================] - 1s 5ms/step - loss: 0.5442 - accuracy: 0.8684 - val_loss: 1.7342 - val_accuracy: 0.8659\n",
      "Epoch 7/10\n",
      "329/329 [==============================] - 1s 4ms/step - loss: 0.5602 - accuracy: 0.8696 - val_loss: 0.9302 - val_accuracy: 0.7694\n",
      "Epoch 8/10\n",
      "329/329 [==============================] - 1s 5ms/step - loss: 0.7299 - accuracy: 0.7708 - val_loss: 1.2039 - val_accuracy: 0.7712\n",
      "Epoch 9/10\n",
      "329/329 [==============================] - 1s 4ms/step - loss: 0.7212 - accuracy: 0.7614 - val_loss: 1.2222 - val_accuracy: 0.7658\n",
      "Epoch 10/10\n",
      "329/329 [==============================] - 1s 4ms/step - loss: 0.7728 - accuracy: 0.7699 - val_loss: 1.1560 - val_accuracy: 0.7722\n",
      "313/313 [==============================] - 1s 2ms/step - loss: 1.6755 - accuracy: 0.7628\n",
      "Training model <keras.engine.sequential.Sequential object at 0x0000027542597220> with split 0.3, batch 256 and learning rate 0.001\n",
      "Epoch 1/10\n",
      "165/165 [==============================] - 1s 5ms/step - loss: 0.8063 - accuracy: 0.7723 - val_loss: 1.0930 - val_accuracy: 0.7838\n",
      "Epoch 2/10\n",
      "165/165 [==============================] - 1s 4ms/step - loss: 0.7520 - accuracy: 0.7811 - val_loss: 1.0490 - val_accuracy: 0.7922\n",
      "Epoch 3/10\n",
      "165/165 [==============================] - 1s 4ms/step - loss: 0.7100 - accuracy: 0.7911 - val_loss: 1.0163 - val_accuracy: 0.8024\n",
      "Epoch 4/10\n",
      "165/165 [==============================] - 1s 3ms/step - loss: 0.6735 - accuracy: 0.8003 - val_loss: 0.9914 - val_accuracy: 0.8113\n",
      "Epoch 5/10\n",
      "165/165 [==============================] - 1s 4ms/step - loss: 0.6459 - accuracy: 0.8077 - val_loss: 0.9720 - val_accuracy: 0.8186\n",
      "Epoch 6/10\n",
      "165/165 [==============================] - 1s 4ms/step - loss: 0.6238 - accuracy: 0.8145 - val_loss: 0.9554 - val_accuracy: 0.8253\n",
      "Epoch 7/10\n",
      "165/165 [==============================] - 1s 3ms/step - loss: 0.6014 - accuracy: 0.8225 - val_loss: 0.9458 - val_accuracy: 0.8319\n",
      "Epoch 8/10\n",
      "165/165 [==============================] - 1s 4ms/step - loss: 0.5811 - accuracy: 0.8293 - val_loss: 0.9374 - val_accuracy: 0.8370\n",
      "Epoch 9/10\n",
      "165/165 [==============================] - 1s 4ms/step - loss: 0.5625 - accuracy: 0.8360 - val_loss: 0.9271 - val_accuracy: 0.8424\n",
      "Epoch 10/10\n",
      "165/165 [==============================] - 1s 4ms/step - loss: 0.5433 - accuracy: 0.8432 - val_loss: 0.9169 - val_accuracy: 0.8488\n",
      "313/313 [==============================] - 0s 1ms/step - loss: 1.4635 - accuracy: 0.8365\n",
      "Training model <keras.engine.sequential.Sequential object at 0x0000027542597220> with split 0.3, batch 256 and learning rate 0.01\n",
      "Epoch 1/10\n",
      "165/165 [==============================] - 1s 5ms/step - loss: 0.4830 - accuracy: 0.8693 - val_loss: 0.9826 - val_accuracy: 0.8798\n",
      "Epoch 2/10\n",
      "165/165 [==============================] - 1s 3ms/step - loss: 0.4126 - accuracy: 0.8879 - val_loss: 1.0425 - val_accuracy: 0.8895\n",
      "Epoch 3/10\n",
      "165/165 [==============================] - 1s 4ms/step - loss: 0.3840 - accuracy: 0.8976 - val_loss: 1.0664 - val_accuracy: 0.8951\n",
      "Epoch 4/10\n",
      "165/165 [==============================] - 1s 4ms/step - loss: 0.3572 - accuracy: 0.9026 - val_loss: 1.0615 - val_accuracy: 0.8965\n",
      "Epoch 5/10\n",
      "165/165 [==============================] - 1s 3ms/step - loss: 0.3394 - accuracy: 0.9083 - val_loss: 1.0858 - val_accuracy: 0.9012\n",
      "Epoch 6/10\n",
      "165/165 [==============================] - 1s 3ms/step - loss: 0.3287 - accuracy: 0.9116 - val_loss: 1.1196 - val_accuracy: 0.9049\n",
      "Epoch 7/10\n",
      "165/165 [==============================] - 1s 3ms/step - loss: 0.3265 - accuracy: 0.9118 - val_loss: 1.0502 - val_accuracy: 0.9047\n",
      "Epoch 8/10\n",
      "165/165 [==============================] - 1s 4ms/step - loss: 0.3142 - accuracy: 0.9144 - val_loss: 1.1401 - val_accuracy: 0.9088\n",
      "Epoch 9/10\n",
      "165/165 [==============================] - 1s 4ms/step - loss: 0.3127 - accuracy: 0.9172 - val_loss: 1.1685 - val_accuracy: 0.9099\n",
      "Epoch 10/10\n",
      "165/165 [==============================] - 1s 4ms/step - loss: 0.3030 - accuracy: 0.9197 - val_loss: 1.1337 - val_accuracy: 0.9092\n",
      "313/313 [==============================] - 1s 2ms/step - loss: 1.8472 - accuracy: 0.9021\n",
      "Training model <keras.engine.sequential.Sequential object at 0x0000027542597220> with split 0.3, batch 256 and learning rate 0.1\n",
      "Epoch 1/10\n",
      "165/165 [==============================] - 1s 5ms/step - loss: 0.4444 - accuracy: 0.8985 - val_loss: 1.1108 - val_accuracy: 0.8894\n",
      "Epoch 2/10\n",
      "165/165 [==============================] - 1s 4ms/step - loss: 0.5031 - accuracy: 0.8897 - val_loss: 1.1483 - val_accuracy: 0.8681\n",
      "Epoch 3/10\n",
      "165/165 [==============================] - 1s 4ms/step - loss: 0.4689 - accuracy: 0.8832 - val_loss: 1.1951 - val_accuracy: 0.8958\n",
      "Epoch 4/10\n",
      "165/165 [==============================] - 1s 4ms/step - loss: 0.4306 - accuracy: 0.8970 - val_loss: 1.1195 - val_accuracy: 0.9036\n",
      "Epoch 5/10\n",
      "165/165 [==============================] - 1s 3ms/step - loss: 0.4580 - accuracy: 0.8922 - val_loss: 1.0513 - val_accuracy: 0.8917\n",
      "Epoch 6/10\n",
      "165/165 [==============================] - 1s 4ms/step - loss: 0.5017 - accuracy: 0.8879 - val_loss: 1.0452 - val_accuracy: 0.8803\n",
      "Epoch 7/10\n",
      "165/165 [==============================] - 1s 4ms/step - loss: 0.4425 - accuracy: 0.8899 - val_loss: 1.0957 - val_accuracy: 0.8938\n",
      "Epoch 8/10\n",
      "165/165 [==============================] - 1s 3ms/step - loss: 0.5166 - accuracy: 0.8875 - val_loss: 1.1955 - val_accuracy: 0.8831\n",
      "Epoch 9/10\n",
      "165/165 [==============================] - 1s 4ms/step - loss: 0.5038 - accuracy: 0.8630 - val_loss: 0.9972 - val_accuracy: 0.8671\n",
      "Epoch 10/10\n",
      "165/165 [==============================] - 1s 4ms/step - loss: 0.4312 - accuracy: 0.8935 - val_loss: 1.2724 - val_accuracy: 0.8744\n",
      "313/313 [==============================] - 0s 1ms/step - loss: 1.7390 - accuracy: 0.8665\n",
      "Training model <keras.engine.sequential.Sequential object at 0x0000027542597220> with split 0.3, batch 512 and learning rate 0.001\n",
      "Epoch 1/10\n",
      "83/83 [==============================] - 1s 7ms/step - loss: 0.3885 - accuracy: 0.8984 - val_loss: 1.2563 - val_accuracy: 0.8958\n",
      "Epoch 2/10\n",
      "83/83 [==============================] - 0s 5ms/step - loss: 0.3721 - accuracy: 0.9005 - val_loss: 1.2495 - val_accuracy: 0.8969\n",
      "Epoch 3/10\n",
      "83/83 [==============================] - 0s 5ms/step - loss: 0.3630 - accuracy: 0.9020 - val_loss: 1.2488 - val_accuracy: 0.8983\n",
      "Epoch 4/10\n",
      "83/83 [==============================] - 0s 5ms/step - loss: 0.3573 - accuracy: 0.9028 - val_loss: 1.2490 - val_accuracy: 0.8991\n",
      "Epoch 5/10\n",
      "83/83 [==============================] - 0s 5ms/step - loss: 0.3530 - accuracy: 0.9036 - val_loss: 1.2495 - val_accuracy: 0.8994\n",
      "Epoch 6/10\n",
      "83/83 [==============================] - 0s 5ms/step - loss: 0.3495 - accuracy: 0.9044 - val_loss: 1.2493 - val_accuracy: 0.8998\n",
      "Epoch 7/10\n",
      "83/83 [==============================] - 0s 5ms/step - loss: 0.3463 - accuracy: 0.9050 - val_loss: 1.2469 - val_accuracy: 0.9004\n",
      "Epoch 8/10\n",
      "83/83 [==============================] - 0s 5ms/step - loss: 0.3433 - accuracy: 0.9057 - val_loss: 1.2528 - val_accuracy: 0.9012\n",
      "Epoch 9/10\n",
      "83/83 [==============================] - 0s 5ms/step - loss: 0.3403 - accuracy: 0.9065 - val_loss: 1.2630 - val_accuracy: 0.9017\n",
      "Epoch 10/10\n",
      "83/83 [==============================] - 0s 5ms/step - loss: 0.3379 - accuracy: 0.9073 - val_loss: 1.2660 - val_accuracy: 0.9019\n",
      "313/313 [==============================] - 0s 1ms/step - loss: 1.7754 - accuracy: 0.8969\n",
      "Training model <keras.engine.sequential.Sequential object at 0x0000027542597220> with split 0.3, batch 512 and learning rate 0.01\n",
      "Epoch 1/10\n",
      "83/83 [==============================] - 2s 8ms/step - loss: 0.3353 - accuracy: 0.9101 - val_loss: 1.3471 - val_accuracy: 0.9079\n",
      "Epoch 2/10\n",
      "83/83 [==============================] - 0s 5ms/step - loss: 0.3203 - accuracy: 0.9162 - val_loss: 1.3959 - val_accuracy: 0.9103\n",
      "Epoch 3/10\n",
      "83/83 [==============================] - 0s 5ms/step - loss: 0.3024 - accuracy: 0.9193 - val_loss: 1.4627 - val_accuracy: 0.9118\n",
      "Epoch 4/10\n",
      "83/83 [==============================] - 0s 5ms/step - loss: 0.2943 - accuracy: 0.9208 - val_loss: 1.5002 - val_accuracy: 0.9127\n",
      "Epoch 5/10\n",
      "83/83 [==============================] - 0s 5ms/step - loss: 0.2894 - accuracy: 0.9221 - val_loss: 1.5192 - val_accuracy: 0.9149\n",
      "Epoch 6/10\n",
      "83/83 [==============================] - 0s 5ms/step - loss: 0.2856 - accuracy: 0.9235 - val_loss: 1.5233 - val_accuracy: 0.9145\n",
      "Epoch 7/10\n",
      "83/83 [==============================] - 0s 4ms/step - loss: 0.2845 - accuracy: 0.9235 - val_loss: 1.5420 - val_accuracy: 0.9159\n",
      "Epoch 8/10\n",
      "83/83 [==============================] - 0s 5ms/step - loss: 0.2829 - accuracy: 0.9250 - val_loss: 1.5134 - val_accuracy: 0.9156\n",
      "Epoch 9/10\n",
      "83/83 [==============================] - 0s 5ms/step - loss: 0.2798 - accuracy: 0.9251 - val_loss: 1.5003 - val_accuracy: 0.9158\n",
      "Epoch 10/10\n",
      "83/83 [==============================] - 0s 5ms/step - loss: 0.2797 - accuracy: 0.9255 - val_loss: 1.5325 - val_accuracy: 0.9168\n",
      "313/313 [==============================] - 1s 2ms/step - loss: 2.2090 - accuracy: 0.9108\n",
      "Training model <keras.engine.sequential.Sequential object at 0x0000027542597220> with split 0.3, batch 512 and learning rate 0.1\n",
      "Epoch 1/10\n",
      "83/83 [==============================] - 1s 7ms/step - loss: 0.3510 - accuracy: 0.9150 - val_loss: 1.7942 - val_accuracy: 0.8886\n",
      "Epoch 2/10\n",
      "83/83 [==============================] - 0s 5ms/step - loss: 0.4304 - accuracy: 0.9015 - val_loss: 1.5069 - val_accuracy: 0.9017\n",
      "Epoch 3/10\n",
      "83/83 [==============================] - 0s 5ms/step - loss: 0.3717 - accuracy: 0.9122 - val_loss: 1.3336 - val_accuracy: 0.9025\n",
      "Epoch 4/10\n",
      "83/83 [==============================] - 0s 5ms/step - loss: 0.4130 - accuracy: 0.9068 - val_loss: 1.4151 - val_accuracy: 0.8954\n",
      "Epoch 5/10\n",
      "83/83 [==============================] - 0s 5ms/step - loss: 0.4008 - accuracy: 0.9041 - val_loss: 1.2383 - val_accuracy: 0.8978\n",
      "Epoch 6/10\n",
      "83/83 [==============================] - 0s 5ms/step - loss: 0.3351 - accuracy: 0.9137 - val_loss: 1.4757 - val_accuracy: 0.9081\n",
      "Epoch 7/10\n",
      "83/83 [==============================] - 0s 5ms/step - loss: 0.3374 - accuracy: 0.9140 - val_loss: 1.4177 - val_accuracy: 0.9070\n",
      "Epoch 8/10\n",
      "83/83 [==============================] - 0s 5ms/step - loss: 0.3913 - accuracy: 0.9001 - val_loss: 1.3291 - val_accuracy: 0.9085\n",
      "Epoch 9/10\n",
      "83/83 [==============================] - 0s 5ms/step - loss: 0.3871 - accuracy: 0.9084 - val_loss: 1.5120 - val_accuracy: 0.9081\n",
      "Epoch 10/10\n",
      "83/83 [==============================] - 0s 4ms/step - loss: 0.3453 - accuracy: 0.9129 - val_loss: 1.4190 - val_accuracy: 0.9138\n",
      "313/313 [==============================] - 0s 1ms/step - loss: 2.1746 - accuracy: 0.9069\n",
      "Training model <keras.engine.sequential.Sequential object at 0x0000027542597220> with split 0.4, batch 128 and learning rate 0.001\n",
      "Epoch 1/10\n",
      "282/282 [==============================] - 2s 4ms/step - loss: 0.3845 - accuracy: 0.9234 - val_loss: 1.1828 - val_accuracy: 0.9155\n",
      "Epoch 2/10\n",
      "282/282 [==============================] - 1s 3ms/step - loss: 0.3527 - accuracy: 0.9252 - val_loss: 1.2008 - val_accuracy: 0.9161\n",
      "Epoch 3/10\n",
      "282/282 [==============================] - 1s 3ms/step - loss: 0.3349 - accuracy: 0.9258 - val_loss: 1.2029 - val_accuracy: 0.9164\n",
      "Epoch 4/10\n",
      "282/282 [==============================] - 1s 3ms/step - loss: 0.3240 - accuracy: 0.9265 - val_loss: 1.2050 - val_accuracy: 0.9165\n",
      "Epoch 5/10\n",
      "282/282 [==============================] - 1s 3ms/step - loss: 0.3128 - accuracy: 0.9268 - val_loss: 1.2063 - val_accuracy: 0.9167\n",
      "Epoch 6/10\n",
      "282/282 [==============================] - 1s 3ms/step - loss: 0.3048 - accuracy: 0.9269 - val_loss: 1.2074 - val_accuracy: 0.9163\n",
      "Epoch 7/10\n",
      "282/282 [==============================] - 1s 4ms/step - loss: 0.2990 - accuracy: 0.9268 - val_loss: 1.2152 - val_accuracy: 0.9167\n",
      "Epoch 8/10\n",
      "282/282 [==============================] - 1s 4ms/step - loss: 0.2931 - accuracy: 0.9273 - val_loss: 1.2263 - val_accuracy: 0.9170\n",
      "Epoch 9/10\n",
      "282/282 [==============================] - 1s 3ms/step - loss: 0.2878 - accuracy: 0.9275 - val_loss: 1.2277 - val_accuracy: 0.9170\n",
      "Epoch 10/10\n",
      "282/282 [==============================] - 1s 3ms/step - loss: 0.2844 - accuracy: 0.9277 - val_loss: 1.2295 - val_accuracy: 0.9171\n",
      "313/313 [==============================] - 1s 2ms/step - loss: 2.1981 - accuracy: 0.9111\n",
      "Training model <keras.engine.sequential.Sequential object at 0x0000027542597220> with split 0.4, batch 128 and learning rate 0.01\n",
      "Epoch 1/10\n",
      "282/282 [==============================] - 2s 4ms/step - loss: 0.2902 - accuracy: 0.9287 - val_loss: 1.3355 - val_accuracy: 0.9197\n",
      "Epoch 2/10\n",
      "282/282 [==============================] - 1s 3ms/step - loss: 0.2764 - accuracy: 0.9306 - val_loss: 1.4537 - val_accuracy: 0.9226\n",
      "Epoch 3/10\n",
      "282/282 [==============================] - 1s 3ms/step - loss: 0.2645 - accuracy: 0.9327 - val_loss: 1.4937 - val_accuracy: 0.9224\n",
      "Epoch 4/10\n",
      "282/282 [==============================] - 1s 4ms/step - loss: 0.2566 - accuracy: 0.9332 - val_loss: 1.4945 - val_accuracy: 0.9222\n",
      "Epoch 5/10\n",
      "282/282 [==============================] - 1s 3ms/step - loss: 0.2593 - accuracy: 0.9336 - val_loss: 1.4733 - val_accuracy: 0.9225\n",
      "Epoch 6/10\n",
      "282/282 [==============================] - 1s 4ms/step - loss: 0.2513 - accuracy: 0.9346 - val_loss: 1.4960 - val_accuracy: 0.9235\n",
      "Epoch 7/10\n",
      "282/282 [==============================] - 1s 3ms/step - loss: 0.2545 - accuracy: 0.9356 - val_loss: 1.4764 - val_accuracy: 0.9227\n",
      "Epoch 8/10\n",
      "282/282 [==============================] - 1s 4ms/step - loss: 0.2517 - accuracy: 0.9345 - val_loss: 1.4868 - val_accuracy: 0.9239\n",
      "Epoch 9/10\n",
      "282/282 [==============================] - 1s 3ms/step - loss: 0.2484 - accuracy: 0.9357 - val_loss: 1.5241 - val_accuracy: 0.9242\n",
      "Epoch 10/10\n",
      "282/282 [==============================] - 1s 3ms/step - loss: 0.2440 - accuracy: 0.9369 - val_loss: 1.5386 - val_accuracy: 0.9251\n",
      "313/313 [==============================] - 1s 2ms/step - loss: 2.7187 - accuracy: 0.9194\n",
      "Training model <keras.engine.sequential.Sequential object at 0x0000027542597220> with split 0.4, batch 128 and learning rate 0.1\n",
      "Epoch 1/10\n",
      "282/282 [==============================] - 2s 5ms/step - loss: 0.4285 - accuracy: 0.9087 - val_loss: 1.2707 - val_accuracy: 0.8892\n",
      "Epoch 2/10\n",
      "282/282 [==============================] - 1s 4ms/step - loss: 0.5828 - accuracy: 0.8765 - val_loss: 1.6688 - val_accuracy: 0.8092\n",
      "Epoch 3/10\n",
      "282/282 [==============================] - 1s 3ms/step - loss: 0.6405 - accuracy: 0.8496 - val_loss: 1.5309 - val_accuracy: 0.8380\n",
      "Epoch 4/10\n",
      "282/282 [==============================] - 1s 3ms/step - loss: 0.6345 - accuracy: 0.8465 - val_loss: 1.1424 - val_accuracy: 0.8575\n",
      "Epoch 5/10\n",
      "282/282 [==============================] - 1s 3ms/step - loss: 0.5719 - accuracy: 0.8614 - val_loss: 1.0887 - val_accuracy: 0.8058\n",
      "Epoch 6/10\n",
      "282/282 [==============================] - 1s 3ms/step - loss: 0.5473 - accuracy: 0.8591 - val_loss: 1.2351 - val_accuracy: 0.8480\n",
      "Epoch 7/10\n",
      "282/282 [==============================] - 1s 3ms/step - loss: 0.6027 - accuracy: 0.8434 - val_loss: 1.1994 - val_accuracy: 0.8608\n",
      "Epoch 8/10\n",
      "282/282 [==============================] - 1s 3ms/step - loss: 0.5323 - accuracy: 0.8670 - val_loss: 1.1285 - val_accuracy: 0.8652\n",
      "Epoch 9/10\n",
      "282/282 [==============================] - 1s 3ms/step - loss: 0.5549 - accuracy: 0.8646 - val_loss: 1.2630 - val_accuracy: 0.8660\n",
      "Epoch 10/10\n",
      "282/282 [==============================] - 1s 3ms/step - loss: 0.4773 - accuracy: 0.8848 - val_loss: 1.3879 - val_accuracy: 0.8682\n",
      "313/313 [==============================] - 0s 1ms/step - loss: 2.5724 - accuracy: 0.8580\n",
      "Training model <keras.engine.sequential.Sequential object at 0x0000027542597220> with split 0.4, batch 256 and learning rate 0.001\n",
      "Epoch 1/10\n",
      "141/141 [==============================] - 1s 6ms/step - loss: 0.4975 - accuracy: 0.8741 - val_loss: 1.3750 - val_accuracy: 0.8742\n",
      "Epoch 2/10\n",
      "141/141 [==============================] - 1s 4ms/step - loss: 0.4708 - accuracy: 0.8797 - val_loss: 1.3621 - val_accuracy: 0.8774\n",
      "Epoch 3/10\n",
      "141/141 [==============================] - 1s 4ms/step - loss: 0.4518 - accuracy: 0.8836 - val_loss: 1.3577 - val_accuracy: 0.8798\n",
      "Epoch 4/10\n",
      "141/141 [==============================] - 1s 4ms/step - loss: 0.4391 - accuracy: 0.8862 - val_loss: 1.3661 - val_accuracy: 0.8824\n",
      "Epoch 5/10\n",
      "141/141 [==============================] - 1s 4ms/step - loss: 0.4286 - accuracy: 0.8886 - val_loss: 1.3663 - val_accuracy: 0.8837\n",
      "Epoch 6/10\n",
      "141/141 [==============================] - 1s 4ms/step - loss: 0.4197 - accuracy: 0.8902 - val_loss: 1.3826 - val_accuracy: 0.8850\n",
      "Epoch 7/10\n",
      "141/141 [==============================] - 1s 4ms/step - loss: 0.4122 - accuracy: 0.8922 - val_loss: 1.3850 - val_accuracy: 0.8864\n",
      "Epoch 8/10\n",
      "141/141 [==============================] - 1s 4ms/step - loss: 0.4056 - accuracy: 0.8936 - val_loss: 1.3910 - val_accuracy: 0.8879\n",
      "Epoch 9/10\n",
      "141/141 [==============================] - 1s 5ms/step - loss: 0.3979 - accuracy: 0.8951 - val_loss: 1.3949 - val_accuracy: 0.8890\n",
      "Epoch 10/10\n",
      "141/141 [==============================] - 1s 4ms/step - loss: 0.3918 - accuracy: 0.8965 - val_loss: 1.4037 - val_accuracy: 0.8905\n",
      "313/313 [==============================] - 1s 2ms/step - loss: 2.6678 - accuracy: 0.8826\n",
      "Training model <keras.engine.sequential.Sequential object at 0x0000027542597220> with split 0.4, batch 256 and learning rate 0.01\n",
      "Epoch 1/10\n",
      "141/141 [==============================] - 1s 6ms/step - loss: 0.3793 - accuracy: 0.9045 - val_loss: 1.5201 - val_accuracy: 0.8978\n",
      "Epoch 2/10\n",
      "141/141 [==============================] - 1s 4ms/step - loss: 0.3458 - accuracy: 0.9091 - val_loss: 1.5072 - val_accuracy: 0.8988\n",
      "Epoch 3/10\n",
      "141/141 [==============================] - 1s 4ms/step - loss: 0.3325 - accuracy: 0.9117 - val_loss: 1.5650 - val_accuracy: 0.9023\n",
      "Epoch 4/10\n",
      "141/141 [==============================] - 1s 4ms/step - loss: 0.3218 - accuracy: 0.9144 - val_loss: 1.6011 - val_accuracy: 0.9053\n",
      "Epoch 5/10\n",
      "141/141 [==============================] - 1s 5ms/step - loss: 0.3102 - accuracy: 0.9172 - val_loss: 1.6347 - val_accuracy: 0.9057\n",
      "Epoch 6/10\n",
      "141/141 [==============================] - 1s 4ms/step - loss: 0.3004 - accuracy: 0.9197 - val_loss: 1.7070 - val_accuracy: 0.9076\n",
      "Epoch 7/10\n",
      "141/141 [==============================] - 1s 4ms/step - loss: 0.2967 - accuracy: 0.9213 - val_loss: 1.7342 - val_accuracy: 0.9089\n",
      "Epoch 8/10\n",
      "141/141 [==============================] - 1s 4ms/step - loss: 0.3000 - accuracy: 0.9217 - val_loss: 1.6951 - val_accuracy: 0.9096\n",
      "Epoch 9/10\n",
      "141/141 [==============================] - 1s 4ms/step - loss: 0.2880 - accuracy: 0.9226 - val_loss: 1.7096 - val_accuracy: 0.9103\n",
      "Epoch 10/10\n",
      "141/141 [==============================] - 1s 4ms/step - loss: 0.2861 - accuracy: 0.9235 - val_loss: 1.7042 - val_accuracy: 0.9107\n",
      "313/313 [==============================] - 1s 2ms/step - loss: 3.1991 - accuracy: 0.9071\n",
      "Training model <keras.engine.sequential.Sequential object at 0x0000027542597220> with split 0.4, batch 256 and learning rate 0.1\n",
      "Epoch 1/10\n",
      "141/141 [==============================] - 1s 5ms/step - loss: 0.3885 - accuracy: 0.9099 - val_loss: 1.5008 - val_accuracy: 0.8964\n",
      "Epoch 2/10\n",
      "141/141 [==============================] - 1s 4ms/step - loss: 0.4311 - accuracy: 0.8969 - val_loss: 1.8458 - val_accuracy: 0.8830\n",
      "Epoch 3/10\n",
      "141/141 [==============================] - 1s 4ms/step - loss: 0.4349 - accuracy: 0.8994 - val_loss: 1.4971 - val_accuracy: 0.8890\n",
      "Epoch 4/10\n",
      "141/141 [==============================] - 1s 5ms/step - loss: 0.4610 - accuracy: 0.9003 - val_loss: 1.5139 - val_accuracy: 0.8863\n",
      "Epoch 5/10\n",
      "141/141 [==============================] - 1s 5ms/step - loss: 0.4166 - accuracy: 0.8988 - val_loss: 1.4821 - val_accuracy: 0.8778\n",
      "Epoch 6/10\n",
      "141/141 [==============================] - 1s 6ms/step - loss: 0.4370 - accuracy: 0.8968 - val_loss: 1.3885 - val_accuracy: 0.8753\n",
      "Epoch 7/10\n",
      "141/141 [==============================] - 1s 7ms/step - loss: 0.4073 - accuracy: 0.8991 - val_loss: 1.3679 - val_accuracy: 0.8424\n",
      "Epoch 8/10\n",
      "141/141 [==============================] - 1s 4ms/step - loss: 0.5287 - accuracy: 0.8734 - val_loss: 1.3708 - val_accuracy: 0.8860\n",
      "Epoch 9/10\n",
      "141/141 [==============================] - 1s 6ms/step - loss: 0.4231 - accuracy: 0.9029 - val_loss: 1.1621 - val_accuracy: 0.8912\n",
      "Epoch 10/10\n",
      "141/141 [==============================] - 1s 5ms/step - loss: 0.4384 - accuracy: 0.8905 - val_loss: 1.5286 - val_accuracy: 0.8692\n",
      "313/313 [==============================] - 2s 5ms/step - loss: 2.2847 - accuracy: 0.8605\n",
      "Training model <keras.engine.sequential.Sequential object at 0x0000027542597220> with split 0.4, batch 512 and learning rate 0.001\n",
      "Epoch 1/10\n",
      "71/71 [==============================] - 2s 10ms/step - loss: 0.4239 - accuracy: 0.8790 - val_loss: 1.5300 - val_accuracy: 0.8718\n",
      "Epoch 2/10\n",
      "71/71 [==============================] - 0s 7ms/step - loss: 0.4118 - accuracy: 0.8814 - val_loss: 1.5296 - val_accuracy: 0.8738\n",
      "Epoch 3/10\n",
      "71/71 [==============================] - 0s 6ms/step - loss: 0.4026 - accuracy: 0.8840 - val_loss: 1.5328 - val_accuracy: 0.8762\n",
      "Epoch 4/10\n",
      "71/71 [==============================] - 0s 6ms/step - loss: 0.3948 - accuracy: 0.8863 - val_loss: 1.5343 - val_accuracy: 0.8783\n",
      "Epoch 5/10\n",
      "71/71 [==============================] - 0s 6ms/step - loss: 0.3873 - accuracy: 0.8886 - val_loss: 1.5396 - val_accuracy: 0.8801\n",
      "Epoch 6/10\n",
      "71/71 [==============================] - 0s 6ms/step - loss: 0.3814 - accuracy: 0.8904 - val_loss: 1.5396 - val_accuracy: 0.8816\n",
      "Epoch 7/10\n",
      "71/71 [==============================] - 0s 6ms/step - loss: 0.3749 - accuracy: 0.8924 - val_loss: 1.5399 - val_accuracy: 0.8832\n",
      "Epoch 8/10\n",
      "71/71 [==============================] - 0s 6ms/step - loss: 0.3689 - accuracy: 0.8945 - val_loss: 1.5411 - val_accuracy: 0.8845\n",
      "Epoch 9/10\n",
      "71/71 [==============================] - 0s 6ms/step - loss: 0.3652 - accuracy: 0.8956 - val_loss: 1.5411 - val_accuracy: 0.8855\n",
      "Epoch 10/10\n",
      "71/71 [==============================] - 0s 5ms/step - loss: 0.3621 - accuracy: 0.8963 - val_loss: 1.5411 - val_accuracy: 0.8861\n",
      "313/313 [==============================] - 1s 2ms/step - loss: 2.3636 - accuracy: 0.8800\n",
      "Training model <keras.engine.sequential.Sequential object at 0x0000027542597220> with split 0.4, batch 512 and learning rate 0.01\n",
      "Epoch 1/10\n",
      "71/71 [==============================] - 1s 9ms/step - loss: 0.3483 - accuracy: 0.9047 - val_loss: 1.6842 - val_accuracy: 0.8981\n",
      "Epoch 2/10\n",
      "71/71 [==============================] - 0s 5ms/step - loss: 0.3262 - accuracy: 0.9121 - val_loss: 1.7728 - val_accuracy: 0.9025\n",
      "Epoch 3/10\n",
      "71/71 [==============================] - 0s 6ms/step - loss: 0.3180 - accuracy: 0.9152 - val_loss: 1.8208 - val_accuracy: 0.9044\n",
      "Epoch 4/10\n",
      "71/71 [==============================] - 0s 6ms/step - loss: 0.3052 - accuracy: 0.9168 - val_loss: 1.8879 - val_accuracy: 0.9050\n",
      "Epoch 5/10\n",
      "71/71 [==============================] - 0s 6ms/step - loss: 0.3010 - accuracy: 0.9176 - val_loss: 1.8381 - val_accuracy: 0.9057\n",
      "Epoch 6/10\n",
      "71/71 [==============================] - 0s 6ms/step - loss: 0.2960 - accuracy: 0.9189 - val_loss: 1.8687 - val_accuracy: 0.9071\n",
      "Epoch 7/10\n",
      "71/71 [==============================] - 0s 5ms/step - loss: 0.2974 - accuracy: 0.9197 - val_loss: 1.8853 - val_accuracy: 0.9082\n",
      "Epoch 8/10\n",
      "71/71 [==============================] - 0s 6ms/step - loss: 0.2925 - accuracy: 0.9212 - val_loss: 1.8543 - val_accuracy: 0.9082\n",
      "Epoch 9/10\n",
      "71/71 [==============================] - 0s 6ms/step - loss: 0.2910 - accuracy: 0.9213 - val_loss: 1.8708 - val_accuracy: 0.9084\n",
      "Epoch 10/10\n",
      "71/71 [==============================] - 0s 6ms/step - loss: 0.2876 - accuracy: 0.9223 - val_loss: 1.9035 - val_accuracy: 0.9085\n",
      "313/313 [==============================] - 0s 1ms/step - loss: 2.9162 - accuracy: 0.9070\n",
      "Training model <keras.engine.sequential.Sequential object at 0x0000027542597220> with split 0.4, batch 512 and learning rate 0.1\n",
      "Epoch 1/10\n",
      "71/71 [==============================] - 1s 9ms/step - loss: 0.3603 - accuracy: 0.9126 - val_loss: 2.0757 - val_accuracy: 0.9031\n",
      "Epoch 2/10\n",
      "71/71 [==============================] - 0s 6ms/step - loss: 0.3996 - accuracy: 0.9084 - val_loss: 1.8535 - val_accuracy: 0.8989\n",
      "Epoch 3/10\n",
      "71/71 [==============================] - 0s 6ms/step - loss: 0.3744 - accuracy: 0.9116 - val_loss: 1.6390 - val_accuracy: 0.8956\n",
      "Epoch 4/10\n",
      "71/71 [==============================] - 0s 6ms/step - loss: 0.4158 - accuracy: 0.9060 - val_loss: 1.7273 - val_accuracy: 0.8910\n",
      "Epoch 5/10\n",
      "71/71 [==============================] - 0s 7ms/step - loss: 0.3593 - accuracy: 0.9070 - val_loss: 1.6460 - val_accuracy: 0.8852\n",
      "Epoch 6/10\n",
      "71/71 [==============================] - 0s 7ms/step - loss: 0.3879 - accuracy: 0.9059 - val_loss: 1.6386 - val_accuracy: 0.8936\n",
      "Epoch 7/10\n",
      "71/71 [==============================] - 0s 6ms/step - loss: 0.3661 - accuracy: 0.9059 - val_loss: 1.3818 - val_accuracy: 0.8942\n",
      "Epoch 8/10\n",
      "71/71 [==============================] - 0s 6ms/step - loss: 0.3765 - accuracy: 0.9013 - val_loss: 1.9370 - val_accuracy: 0.9052\n",
      "Epoch 9/10\n",
      "71/71 [==============================] - 0s 6ms/step - loss: 0.3472 - accuracy: 0.9096 - val_loss: 2.0644 - val_accuracy: 0.9009\n",
      "Epoch 10/10\n",
      "71/71 [==============================] - 0s 5ms/step - loss: 0.3469 - accuracy: 0.9140 - val_loss: 1.9861 - val_accuracy: 0.9002\n",
      "313/313 [==============================] - 1s 2ms/step - loss: 3.3097 - accuracy: 0.8972\n",
      "Training model <keras.engine.sequential.Sequential object at 0x0000027542597220> with split 0.5, batch 128 and learning rate 0.001\n",
      "Epoch 1/10\n",
      "235/235 [==============================] - 2s 5ms/step - loss: 0.3563 - accuracy: 0.9137 - val_loss: 1.6230 - val_accuracy: 0.9037\n",
      "Epoch 2/10\n",
      "235/235 [==============================] - 1s 4ms/step - loss: 0.3317 - accuracy: 0.9151 - val_loss: 1.6056 - val_accuracy: 0.9050\n",
      "Epoch 3/10\n",
      "235/235 [==============================] - 1s 4ms/step - loss: 0.3183 - accuracy: 0.9163 - val_loss: 1.6058 - val_accuracy: 0.9062\n",
      "Epoch 4/10\n",
      "235/235 [==============================] - 1s 3ms/step - loss: 0.3111 - accuracy: 0.9173 - val_loss: 1.6035 - val_accuracy: 0.9071\n",
      "Epoch 5/10\n",
      "235/235 [==============================] - 1s 4ms/step - loss: 0.3062 - accuracy: 0.9177 - val_loss: 1.5975 - val_accuracy: 0.9075\n",
      "Epoch 6/10\n",
      "235/235 [==============================] - 1s 5ms/step - loss: 0.3016 - accuracy: 0.9181 - val_loss: 1.5997 - val_accuracy: 0.9083\n",
      "Epoch 7/10\n",
      "235/235 [==============================] - 1s 6ms/step - loss: 0.2977 - accuracy: 0.9191 - val_loss: 1.6018 - val_accuracy: 0.9088\n",
      "Epoch 8/10\n",
      "235/235 [==============================] - 1s 4ms/step - loss: 0.2949 - accuracy: 0.9196 - val_loss: 1.6253 - val_accuracy: 0.9095\n",
      "Epoch 9/10\n",
      "235/235 [==============================] - 1s 4ms/step - loss: 0.2926 - accuracy: 0.9203 - val_loss: 1.6301 - val_accuracy: 0.9103\n",
      "Epoch 10/10\n",
      "235/235 [==============================] - 1s 4ms/step - loss: 0.2899 - accuracy: 0.9214 - val_loss: 1.6411 - val_accuracy: 0.9109\n",
      "313/313 [==============================] - 1s 2ms/step - loss: 3.3454 - accuracy: 0.9049\n",
      "Training model <keras.engine.sequential.Sequential object at 0x0000027542597220> with split 0.5, batch 128 and learning rate 0.01\n",
      "Epoch 1/10\n",
      "235/235 [==============================] - 2s 6ms/step - loss: 0.2922 - accuracy: 0.9233 - val_loss: 1.7799 - val_accuracy: 0.9130\n",
      "Epoch 2/10\n",
      "235/235 [==============================] - 1s 4ms/step - loss: 0.2793 - accuracy: 0.9273 - val_loss: 1.8615 - val_accuracy: 0.9172\n",
      "Epoch 3/10\n",
      "235/235 [==============================] - 1s 4ms/step - loss: 0.2719 - accuracy: 0.9289 - val_loss: 1.8943 - val_accuracy: 0.9157\n",
      "Epoch 4/10\n",
      "235/235 [==============================] - 1s 4ms/step - loss: 0.2702 - accuracy: 0.9284 - val_loss: 1.8870 - val_accuracy: 0.9160\n",
      "Epoch 5/10\n",
      "235/235 [==============================] - 1s 4ms/step - loss: 0.2654 - accuracy: 0.9300 - val_loss: 1.8910 - val_accuracy: 0.9172\n",
      "Epoch 6/10\n",
      "235/235 [==============================] - 1s 4ms/step - loss: 0.2605 - accuracy: 0.9303 - val_loss: 1.9472 - val_accuracy: 0.9181\n",
      "Epoch 7/10\n",
      "235/235 [==============================] - 1s 4ms/step - loss: 0.2589 - accuracy: 0.9321 - val_loss: 1.9305 - val_accuracy: 0.9183\n",
      "Epoch 8/10\n",
      "235/235 [==============================] - 1s 4ms/step - loss: 0.2579 - accuracy: 0.9328 - val_loss: 1.9387 - val_accuracy: 0.9196\n",
      "Epoch 9/10\n",
      "235/235 [==============================] - 1s 4ms/step - loss: 0.2549 - accuracy: 0.9331 - val_loss: 1.9860 - val_accuracy: 0.9190\n",
      "Epoch 10/10\n",
      "235/235 [==============================] - 1s 4ms/step - loss: 0.2593 - accuracy: 0.9333 - val_loss: 2.0105 - val_accuracy: 0.9198\n",
      "313/313 [==============================] - 0s 1ms/step - loss: 3.6171 - accuracy: 0.9151\n",
      "Training model <keras.engine.sequential.Sequential object at 0x0000027542597220> with split 0.5, batch 128 and learning rate 0.1\n",
      "Epoch 1/10\n",
      "235/235 [==============================] - 2s 5ms/step - loss: 0.4380 - accuracy: 0.9130 - val_loss: 1.9089 - val_accuracy: 0.9003\n",
      "Epoch 2/10\n",
      "235/235 [==============================] - 1s 4ms/step - loss: 0.4580 - accuracy: 0.8953 - val_loss: 2.2973 - val_accuracy: 0.8824\n",
      "Epoch 3/10\n",
      "235/235 [==============================] - 1s 4ms/step - loss: 0.4780 - accuracy: 0.8851 - val_loss: 1.5175 - val_accuracy: 0.8724\n",
      "Epoch 4/10\n",
      "235/235 [==============================] - 1s 4ms/step - loss: 0.5259 - accuracy: 0.8808 - val_loss: 2.0051 - val_accuracy: 0.8790\n",
      "Epoch 5/10\n",
      "235/235 [==============================] - 1s 4ms/step - loss: 0.5706 - accuracy: 0.8653 - val_loss: 1.6621 - val_accuracy: 0.8531\n",
      "Epoch 6/10\n",
      "235/235 [==============================] - 1s 5ms/step - loss: 0.5827 - accuracy: 0.8427 - val_loss: 1.4249 - val_accuracy: 0.8284\n",
      "Epoch 7/10\n",
      "235/235 [==============================] - 1s 4ms/step - loss: 0.7032 - accuracy: 0.7860 - val_loss: 1.6239 - val_accuracy: 0.7672\n",
      "Epoch 8/10\n",
      "235/235 [==============================] - 1s 4ms/step - loss: 0.7206 - accuracy: 0.7680 - val_loss: 1.5654 - val_accuracy: 0.7350\n",
      "Epoch 9/10\n",
      "235/235 [==============================] - 1s 4ms/step - loss: 0.7276 - accuracy: 0.7681 - val_loss: 1.4641 - val_accuracy: 0.7468\n",
      "Epoch 10/10\n",
      "235/235 [==============================] - 1s 4ms/step - loss: 0.6506 - accuracy: 0.7917 - val_loss: 1.5888 - val_accuracy: 0.8020\n",
      "313/313 [==============================] - 1s 2ms/step - loss: 2.8802 - accuracy: 0.7963\n",
      "Training model <keras.engine.sequential.Sequential object at 0x0000027542597220> with split 0.5, batch 256 and learning rate 0.001\n",
      "Epoch 1/10\n",
      "118/118 [==============================] - 1s 7ms/step - loss: 0.6187 - accuracy: 0.8070 - val_loss: 1.5595 - val_accuracy: 0.8086\n",
      "Epoch 2/10\n",
      "118/118 [==============================] - 1s 5ms/step - loss: 0.5916 - accuracy: 0.8144 - val_loss: 1.5447 - val_accuracy: 0.8152\n",
      "Epoch 3/10\n",
      "118/118 [==============================] - 1s 4ms/step - loss: 0.5724 - accuracy: 0.8207 - val_loss: 1.5273 - val_accuracy: 0.8203\n",
      "Epoch 4/10\n",
      "118/118 [==============================] - 1s 5ms/step - loss: 0.5578 - accuracy: 0.8255 - val_loss: 1.5216 - val_accuracy: 0.8255\n",
      "Epoch 5/10\n",
      "118/118 [==============================] - 1s 4ms/step - loss: 0.5435 - accuracy: 0.8314 - val_loss: 1.5167 - val_accuracy: 0.8309\n",
      "Epoch 6/10\n",
      "118/118 [==============================] - 1s 5ms/step - loss: 0.5301 - accuracy: 0.8376 - val_loss: 1.5209 - val_accuracy: 0.8374\n",
      "Epoch 7/10\n",
      "118/118 [==============================] - 1s 5ms/step - loss: 0.5159 - accuracy: 0.8440 - val_loss: 1.5222 - val_accuracy: 0.8421\n",
      "Epoch 8/10\n",
      "118/118 [==============================] - 1s 5ms/step - loss: 0.5039 - accuracy: 0.8483 - val_loss: 1.5210 - val_accuracy: 0.8452\n",
      "Epoch 9/10\n",
      "118/118 [==============================] - 1s 5ms/step - loss: 0.4952 - accuracy: 0.8522 - val_loss: 1.5140 - val_accuracy: 0.8490\n",
      "Epoch 10/10\n",
      "118/118 [==============================] - 1s 4ms/step - loss: 0.4880 - accuracy: 0.8548 - val_loss: 1.5055 - val_accuracy: 0.8505\n",
      "313/313 [==============================] - 1s 2ms/step - loss: 3.1082 - accuracy: 0.8446\n",
      "Training model <keras.engine.sequential.Sequential object at 0x0000027542597220> with split 0.5, batch 256 and learning rate 0.01\n",
      "Epoch 1/10\n",
      "118/118 [==============================] - 1s 7ms/step - loss: 0.4628 - accuracy: 0.8714 - val_loss: 1.5884 - val_accuracy: 0.8710\n",
      "Epoch 2/10\n",
      "118/118 [==============================] - 1s 5ms/step - loss: 0.4087 - accuracy: 0.8847 - val_loss: 1.6612 - val_accuracy: 0.8791\n",
      "Epoch 3/10\n",
      "118/118 [==============================] - 1s 6ms/step - loss: 0.3925 - accuracy: 0.8901 - val_loss: 1.7503 - val_accuracy: 0.8827\n",
      "Epoch 4/10\n",
      "118/118 [==============================] - 1s 6ms/step - loss: 0.3748 - accuracy: 0.8940 - val_loss: 1.8873 - val_accuracy: 0.8874\n",
      "Epoch 5/10\n",
      "118/118 [==============================] - 1s 6ms/step - loss: 0.3637 - accuracy: 0.8988 - val_loss: 1.9052 - val_accuracy: 0.8886\n",
      "Epoch 6/10\n",
      "118/118 [==============================] - 1s 6ms/step - loss: 0.3566 - accuracy: 0.9013 - val_loss: 1.9899 - val_accuracy: 0.8913\n",
      "Epoch 7/10\n",
      "118/118 [==============================] - 1s 5ms/step - loss: 0.3576 - accuracy: 0.9020 - val_loss: 1.9401 - val_accuracy: 0.8910\n",
      "Epoch 8/10\n",
      "118/118 [==============================] - 0s 4ms/step - loss: 0.3421 - accuracy: 0.9028 - val_loss: 1.9930 - val_accuracy: 0.8938\n",
      "Epoch 9/10\n",
      "118/118 [==============================] - 1s 5ms/step - loss: 0.3495 - accuracy: 0.9048 - val_loss: 2.0510 - val_accuracy: 0.8954\n",
      "Epoch 10/10\n",
      "118/118 [==============================] - 1s 6ms/step - loss: 0.3379 - accuracy: 0.9058 - val_loss: 2.0445 - val_accuracy: 0.8972\n",
      "313/313 [==============================] - 1s 2ms/step - loss: 3.8997 - accuracy: 0.8906\n",
      "Training model <keras.engine.sequential.Sequential object at 0x0000027542597220> with split 0.5, batch 256 and learning rate 0.1\n",
      "Epoch 1/10\n",
      "118/118 [==============================] - 2s 9ms/step - loss: 0.4672 - accuracy: 0.8978 - val_loss: 2.1301 - val_accuracy: 0.8797\n",
      "Epoch 2/10\n",
      "118/118 [==============================] - 1s 7ms/step - loss: 0.4652 - accuracy: 0.8896 - val_loss: 1.9888 - val_accuracy: 0.8803\n",
      "Epoch 3/10\n",
      "118/118 [==============================] - 1s 6ms/step - loss: 0.4342 - accuracy: 0.8943 - val_loss: 2.0873 - val_accuracy: 0.8842\n",
      "Epoch 4/10\n",
      "118/118 [==============================] - 1s 5ms/step - loss: 0.4976 - accuracy: 0.8824 - val_loss: 2.3116 - val_accuracy: 0.8876\n",
      "Epoch 5/10\n",
      "118/118 [==============================] - 1s 5ms/step - loss: 0.4118 - accuracy: 0.8953 - val_loss: 2.2418 - val_accuracy: 0.8791\n",
      "Epoch 6/10\n",
      "118/118 [==============================] - 1s 5ms/step - loss: 0.4174 - accuracy: 0.8966 - val_loss: 2.1229 - val_accuracy: 0.8888\n",
      "Epoch 7/10\n",
      "118/118 [==============================] - 1s 10ms/step - loss: 0.3881 - accuracy: 0.9003 - val_loss: 2.6988 - val_accuracy: 0.8972\n",
      "Epoch 8/10\n",
      "118/118 [==============================] - 1s 5ms/step - loss: 0.4159 - accuracy: 0.8968 - val_loss: 2.4165 - val_accuracy: 0.8674\n",
      "Epoch 9/10\n",
      "118/118 [==============================] - 1s 7ms/step - loss: 0.5622 - accuracy: 0.8891 - val_loss: 2.8247 - val_accuracy: 0.8605\n",
      "Epoch 10/10\n",
      "118/118 [==============================] - 1s 4ms/step - loss: 0.4618 - accuracy: 0.8776 - val_loss: 2.2945 - val_accuracy: 0.8766\n",
      "313/313 [==============================] - 1s 2ms/step - loss: 3.4973 - accuracy: 0.8729\n",
      "Training model <keras.engine.sequential.Sequential object at 0x0000027542597220> with split 0.5, batch 512 and learning rate 0.001\n",
      "Epoch 1/10\n",
      "59/59 [==============================] - 1s 10ms/step - loss: 0.4287 - accuracy: 0.8891 - val_loss: 2.2781 - val_accuracy: 0.8780\n",
      "Epoch 2/10\n",
      "59/59 [==============================] - 0s 8ms/step - loss: 0.4160 - accuracy: 0.8901 - val_loss: 2.2665 - val_accuracy: 0.8786\n",
      "Epoch 3/10\n",
      "59/59 [==============================] - 0s 8ms/step - loss: 0.4078 - accuracy: 0.8908 - val_loss: 2.2567 - val_accuracy: 0.8793\n",
      "Epoch 4/10\n",
      "59/59 [==============================] - 0s 8ms/step - loss: 0.4002 - accuracy: 0.8915 - val_loss: 2.2496 - val_accuracy: 0.8802\n",
      "Epoch 5/10\n",
      "59/59 [==============================] - 0s 7ms/step - loss: 0.3930 - accuracy: 0.8925 - val_loss: 2.2460 - val_accuracy: 0.8808\n",
      "Epoch 6/10\n",
      "59/59 [==============================] - 0s 7ms/step - loss: 0.3875 - accuracy: 0.8933 - val_loss: 2.2469 - val_accuracy: 0.8813\n",
      "Epoch 7/10\n",
      "59/59 [==============================] - 0s 7ms/step - loss: 0.3837 - accuracy: 0.8937 - val_loss: 2.2456 - val_accuracy: 0.8817\n",
      "Epoch 8/10\n",
      "59/59 [==============================] - 0s 7ms/step - loss: 0.3797 - accuracy: 0.8943 - val_loss: 2.2444 - val_accuracy: 0.8825\n",
      "Epoch 9/10\n",
      "59/59 [==============================] - 0s 6ms/step - loss: 0.3759 - accuracy: 0.8951 - val_loss: 2.2424 - val_accuracy: 0.8832\n",
      "Epoch 10/10\n",
      "59/59 [==============================] - 0s 7ms/step - loss: 0.3730 - accuracy: 0.8955 - val_loss: 2.2391 - val_accuracy: 0.8834\n",
      "313/313 [==============================] - 1s 2ms/step - loss: 3.5125 - accuracy: 0.8798\n",
      "Training model <keras.engine.sequential.Sequential object at 0x0000027542597220> with split 0.5, batch 512 and learning rate 0.01\n",
      "Epoch 1/10\n",
      "59/59 [==============================] - 1s 9ms/step - loss: 0.3786 - accuracy: 0.8995 - val_loss: 2.3657 - val_accuracy: 0.8907\n",
      "Epoch 2/10\n",
      "59/59 [==============================] - 0s 6ms/step - loss: 0.3480 - accuracy: 0.9036 - val_loss: 2.4357 - val_accuracy: 0.8924\n",
      "Epoch 3/10\n",
      "59/59 [==============================] - 0s 6ms/step - loss: 0.3356 - accuracy: 0.9065 - val_loss: 2.5572 - val_accuracy: 0.8962\n",
      "Epoch 4/10\n",
      "59/59 [==============================] - 0s 6ms/step - loss: 0.3308 - accuracy: 0.9089 - val_loss: 2.6404 - val_accuracy: 0.8975\n",
      "Epoch 5/10\n",
      "59/59 [==============================] - 0s 7ms/step - loss: 0.3233 - accuracy: 0.9102 - val_loss: 2.6499 - val_accuracy: 0.8979\n",
      "Epoch 6/10\n",
      "59/59 [==============================] - 0s 6ms/step - loss: 0.3165 - accuracy: 0.9114 - val_loss: 2.8313 - val_accuracy: 0.9004\n",
      "Epoch 7/10\n",
      "59/59 [==============================] - 0s 6ms/step - loss: 0.3136 - accuracy: 0.9136 - val_loss: 2.8363 - val_accuracy: 0.9008\n",
      "Epoch 8/10\n",
      "59/59 [==============================] - 0s 7ms/step - loss: 0.3110 - accuracy: 0.9146 - val_loss: 2.8055 - val_accuracy: 0.9012\n",
      "Epoch 9/10\n",
      "59/59 [==============================] - 0s 7ms/step - loss: 0.3075 - accuracy: 0.9155 - val_loss: 2.8233 - val_accuracy: 0.9024\n",
      "Epoch 10/10\n",
      "59/59 [==============================] - 0s 6ms/step - loss: 0.3026 - accuracy: 0.9170 - val_loss: 2.8698 - val_accuracy: 0.9043\n",
      "313/313 [==============================] - 1s 2ms/step - loss: 4.6661 - accuracy: 0.9002\n",
      "Training model <keras.engine.sequential.Sequential object at 0x0000027542597220> with split 0.5, batch 512 and learning rate 0.1\n",
      "Epoch 1/10\n",
      "59/59 [==============================] - 1s 11ms/step - loss: 0.3489 - accuracy: 0.9130 - val_loss: 3.0124 - val_accuracy: 0.8997\n",
      "Epoch 2/10\n",
      "59/59 [==============================] - 0s 6ms/step - loss: 0.4142 - accuracy: 0.9035 - val_loss: 2.4429 - val_accuracy: 0.8870\n",
      "Epoch 3/10\n",
      "59/59 [==============================] - 0s 6ms/step - loss: 0.3920 - accuracy: 0.9057 - val_loss: 2.1696 - val_accuracy: 0.8892\n",
      "Epoch 4/10\n",
      "59/59 [==============================] - 0s 7ms/step - loss: 0.3999 - accuracy: 0.9072 - val_loss: 2.6360 - val_accuracy: 0.8977\n",
      "Epoch 5/10\n",
      "59/59 [==============================] - 1s 10ms/step - loss: 0.3825 - accuracy: 0.9097 - val_loss: 2.4968 - val_accuracy: 0.8982\n",
      "Epoch 6/10\n",
      "59/59 [==============================] - 0s 7ms/step - loss: 0.3623 - accuracy: 0.9103 - val_loss: 2.7546 - val_accuracy: 0.8903\n",
      "Epoch 7/10\n",
      "59/59 [==============================] - 0s 6ms/step - loss: 0.3678 - accuracy: 0.9024 - val_loss: 2.5270 - val_accuracy: 0.8961\n",
      "Epoch 8/10\n",
      "59/59 [==============================] - 0s 6ms/step - loss: 0.3245 - accuracy: 0.9148 - val_loss: 2.7989 - val_accuracy: 0.8985\n",
      "Epoch 9/10\n",
      "59/59 [==============================] - 0s 6ms/step - loss: 0.4216 - accuracy: 0.9091 - val_loss: 2.6544 - val_accuracy: 0.8998\n",
      "Epoch 10/10\n",
      "59/59 [==============================] - 0s 6ms/step - loss: 0.3467 - accuracy: 0.9110 - val_loss: 2.4485 - val_accuracy: 0.8990\n",
      "313/313 [==============================] - 0s 1ms/step - loss: 4.1478 - accuracy: 0.8952\n",
      "Training model <keras.engine.sequential.Sequential object at 0x000002754D833C70> with split 0.1, batch 128 and learning rate 0.001\n",
      "Epoch 1/10\n",
      "422/422 [==============================] - 19s 43ms/step - loss: 0.0438 - accuracy: 0.9864 - val_loss: 0.0341 - val_accuracy: 0.9898\n",
      "Epoch 2/10\n",
      "422/422 [==============================] - 18s 41ms/step - loss: 0.0401 - accuracy: 0.9874 - val_loss: 0.0296 - val_accuracy: 0.9920\n",
      "Epoch 3/10\n",
      "422/422 [==============================] - 20s 47ms/step - loss: 0.0377 - accuracy: 0.9879 - val_loss: 0.0302 - val_accuracy: 0.9920\n",
      "Epoch 4/10\n",
      "422/422 [==============================] - 15s 35ms/step - loss: 0.0365 - accuracy: 0.9886 - val_loss: 0.0269 - val_accuracy: 0.9922\n",
      "Epoch 5/10\n",
      "422/422 [==============================] - 14s 32ms/step - loss: 0.0335 - accuracy: 0.9891 - val_loss: 0.0261 - val_accuracy: 0.9925\n",
      "Epoch 6/10\n",
      "422/422 [==============================] - 13s 32ms/step - loss: 0.0331 - accuracy: 0.9896 - val_loss: 0.0271 - val_accuracy: 0.9930\n",
      "Epoch 7/10\n",
      "422/422 [==============================] - 14s 33ms/step - loss: 0.0310 - accuracy: 0.9899 - val_loss: 0.0274 - val_accuracy: 0.9915\n",
      "Epoch 8/10\n",
      "422/422 [==============================] - 14s 32ms/step - loss: 0.0304 - accuracy: 0.9899 - val_loss: 0.0276 - val_accuracy: 0.9923\n",
      "Epoch 9/10\n",
      "422/422 [==============================] - 13s 32ms/step - loss: 0.0285 - accuracy: 0.9901 - val_loss: 0.0272 - val_accuracy: 0.9922\n",
      "Epoch 10/10\n",
      "422/422 [==============================] - 14s 34ms/step - loss: 0.0284 - accuracy: 0.9908 - val_loss: 0.0285 - val_accuracy: 0.9922\n",
      "313/313 [==============================] - 1s 4ms/step - loss: 0.0219 - accuracy: 0.9928\n",
      "Training model <keras.engine.sequential.Sequential object at 0x000002754D833C70> with split 0.1, batch 128 and learning rate 0.01\n",
      "Epoch 1/10\n",
      "422/422 [==============================] - 14s 33ms/step - loss: 0.0837 - accuracy: 0.9742 - val_loss: 0.0383 - val_accuracy: 0.9905\n",
      "Epoch 2/10\n",
      "422/422 [==============================] - 13s 31ms/step - loss: 0.0730 - accuracy: 0.9778 - val_loss: 0.0329 - val_accuracy: 0.9903\n",
      "Epoch 3/10\n",
      "422/422 [==============================] - 13s 31ms/step - loss: 0.0677 - accuracy: 0.9791 - val_loss: 0.0390 - val_accuracy: 0.9898\n",
      "Epoch 4/10\n",
      "422/422 [==============================] - 14s 33ms/step - loss: 0.0631 - accuracy: 0.9807 - val_loss: 0.0409 - val_accuracy: 0.9890\n",
      "Epoch 5/10\n",
      "422/422 [==============================] - 14s 33ms/step - loss: 0.0649 - accuracy: 0.9806 - val_loss: 0.0379 - val_accuracy: 0.9897\n",
      "Epoch 6/10\n",
      "422/422 [==============================] - 14s 32ms/step - loss: 0.0644 - accuracy: 0.9810 - val_loss: 0.0356 - val_accuracy: 0.9908\n",
      "Epoch 7/10\n",
      "422/422 [==============================] - 13s 32ms/step - loss: 0.0593 - accuracy: 0.9828 - val_loss: 0.0363 - val_accuracy: 0.9918\n",
      "Epoch 8/10\n",
      "422/422 [==============================] - 14s 32ms/step - loss: 0.0591 - accuracy: 0.9821 - val_loss: 0.0326 - val_accuracy: 0.9905\n",
      "Epoch 9/10\n",
      "422/422 [==============================] - 13s 32ms/step - loss: 0.0557 - accuracy: 0.9832 - val_loss: 0.0377 - val_accuracy: 0.9895\n",
      "Epoch 10/10\n",
      "422/422 [==============================] - 13s 31ms/step - loss: 0.0589 - accuracy: 0.9837 - val_loss: 0.0394 - val_accuracy: 0.9905\n",
      "313/313 [==============================] - 2s 6ms/step - loss: 0.0336 - accuracy: 0.9899\n",
      "Training model <keras.engine.sequential.Sequential object at 0x000002754D833C70> with split 0.1, batch 128 and learning rate 0.1\n",
      "Epoch 1/10\n",
      "422/422 [==============================] - 14s 31ms/step - loss: 0.5172 - accuracy: 0.8905 - val_loss: 0.1392 - val_accuracy: 0.9603\n",
      "Epoch 2/10\n",
      "422/422 [==============================] - 13s 31ms/step - loss: 0.4475 - accuracy: 0.8797 - val_loss: 0.1565 - val_accuracy: 0.9542\n",
      "Epoch 3/10\n",
      "422/422 [==============================] - 13s 31ms/step - loss: 0.5063 - accuracy: 0.8626 - val_loss: 0.1592 - val_accuracy: 0.9520\n",
      "Epoch 4/10\n",
      "422/422 [==============================] - 13s 31ms/step - loss: 0.4660 - accuracy: 0.8717 - val_loss: 0.1680 - val_accuracy: 0.9525\n",
      "Epoch 5/10\n",
      "422/422 [==============================] - 13s 31ms/step - loss: 0.5367 - accuracy: 0.8541 - val_loss: 0.1891 - val_accuracy: 0.9465\n",
      "Epoch 6/10\n",
      "422/422 [==============================] - 13s 30ms/step - loss: 0.5187 - accuracy: 0.8509 - val_loss: 0.1590 - val_accuracy: 0.9543\n",
      "Epoch 7/10\n",
      "422/422 [==============================] - 13s 31ms/step - loss: 0.5430 - accuracy: 0.8399 - val_loss: 0.2106 - val_accuracy: 0.9377\n",
      "Epoch 8/10\n",
      "422/422 [==============================] - 13s 32ms/step - loss: 0.5736 - accuracy: 0.8318 - val_loss: 0.2249 - val_accuracy: 0.9338\n",
      "Epoch 9/10\n",
      "422/422 [==============================] - 13s 32ms/step - loss: 0.5193 - accuracy: 0.8456 - val_loss: 0.1837 - val_accuracy: 0.9500\n",
      "Epoch 10/10\n",
      "422/422 [==============================] - 13s 31ms/step - loss: 0.8666 - accuracy: 0.7646 - val_loss: 0.4504 - val_accuracy: 0.8720\n",
      "313/313 [==============================] - 1s 4ms/step - loss: 0.4686 - accuracy: 0.8607\n",
      "Training model <keras.engine.sequential.Sequential object at 0x000002754D833C70> with split 0.1, batch 256 and learning rate 0.001\n",
      "Epoch 1/10\n",
      "211/211 [==============================] - 13s 56ms/step - loss: 0.8989 - accuracy: 0.6935 - val_loss: 0.3743 - val_accuracy: 0.9010\n",
      "Epoch 2/10\n",
      "211/211 [==============================] - 11s 51ms/step - loss: 0.8260 - accuracy: 0.7209 - val_loss: 0.3565 - val_accuracy: 0.9050\n",
      "Epoch 3/10\n",
      "211/211 [==============================] - 11s 54ms/step - loss: 0.7953 - accuracy: 0.7315 - val_loss: 0.3384 - val_accuracy: 0.9087\n",
      "Epoch 4/10\n",
      "211/211 [==============================] - 12s 55ms/step - loss: 0.7701 - accuracy: 0.7440 - val_loss: 0.3242 - val_accuracy: 0.9148\n",
      "Epoch 5/10\n",
      "211/211 [==============================] - 11s 52ms/step - loss: 0.7417 - accuracy: 0.7555 - val_loss: 0.3122 - val_accuracy: 0.9187\n",
      "Epoch 6/10\n",
      "211/211 [==============================] - 12s 54ms/step - loss: 0.7263 - accuracy: 0.7625 - val_loss: 0.3016 - val_accuracy: 0.9190\n",
      "Epoch 7/10\n",
      "211/211 [==============================] - 12s 55ms/step - loss: 0.7037 - accuracy: 0.7700 - val_loss: 0.2931 - val_accuracy: 0.9195\n",
      "Epoch 8/10\n",
      "211/211 [==============================] - 11s 54ms/step - loss: 0.6918 - accuracy: 0.7743 - val_loss: 0.2890 - val_accuracy: 0.9205\n",
      "Epoch 9/10\n",
      "211/211 [==============================] - 11s 52ms/step - loss: 0.6823 - accuracy: 0.7789 - val_loss: 0.2841 - val_accuracy: 0.9220\n",
      "Epoch 10/10\n",
      "211/211 [==============================] - 12s 55ms/step - loss: 0.6756 - accuracy: 0.7807 - val_loss: 0.2793 - val_accuracy: 0.9223\n",
      "313/313 [==============================] - 1s 4ms/step - loss: 0.2957 - accuracy: 0.9217\n",
      "Training model <keras.engine.sequential.Sequential object at 0x000002754D833C70> with split 0.1, batch 256 and learning rate 0.01\n",
      "Epoch 1/10\n",
      "211/211 [==============================] - 12s 56ms/step - loss: 0.6167 - accuracy: 0.8032 - val_loss: 0.2190 - val_accuracy: 0.9378\n",
      "Epoch 2/10\n",
      "211/211 [==============================] - 12s 55ms/step - loss: 0.5490 - accuracy: 0.8236 - val_loss: 0.2125 - val_accuracy: 0.9435\n",
      "Epoch 3/10\n",
      "211/211 [==============================] - 11s 54ms/step - loss: 0.5168 - accuracy: 0.8334 - val_loss: 0.2016 - val_accuracy: 0.9470\n",
      "Epoch 4/10\n",
      "211/211 [==============================] - 12s 56ms/step - loss: 0.4986 - accuracy: 0.8404 - val_loss: 0.1885 - val_accuracy: 0.9512\n",
      "Epoch 5/10\n",
      "211/211 [==============================] - 12s 55ms/step - loss: 0.4865 - accuracy: 0.8447 - val_loss: 0.1788 - val_accuracy: 0.9517\n",
      "Epoch 6/10\n",
      "211/211 [==============================] - 11s 53ms/step - loss: 0.4674 - accuracy: 0.8507 - val_loss: 0.1767 - val_accuracy: 0.9555\n",
      "Epoch 7/10\n",
      "211/211 [==============================] - 12s 55ms/step - loss: 0.4628 - accuracy: 0.8507 - val_loss: 0.1698 - val_accuracy: 0.9532\n",
      "Epoch 8/10\n",
      "211/211 [==============================] - 12s 56ms/step - loss: 0.4504 - accuracy: 0.8561 - val_loss: 0.1606 - val_accuracy: 0.9562\n",
      "Epoch 9/10\n",
      "211/211 [==============================] - 12s 56ms/step - loss: 0.4487 - accuracy: 0.8554 - val_loss: 0.1594 - val_accuracy: 0.9572\n",
      "Epoch 10/10\n",
      "211/211 [==============================] - 11s 52ms/step - loss: 0.4393 - accuracy: 0.8611 - val_loss: 0.1660 - val_accuracy: 0.9557\n",
      "313/313 [==============================] - 2s 5ms/step - loss: 0.1845 - accuracy: 0.9468\n",
      "Training model <keras.engine.sequential.Sequential object at 0x000002754D833C70> with split 0.1, batch 256 and learning rate 0.1\n",
      "Epoch 1/10\n",
      "211/211 [==============================] - 12s 52ms/step - loss: 0.6217 - accuracy: 0.8113 - val_loss: 0.1579 - val_accuracy: 0.9577\n",
      "Epoch 2/10\n",
      "211/211 [==============================] - 12s 57ms/step - loss: 0.4789 - accuracy: 0.8456 - val_loss: 0.1770 - val_accuracy: 0.9485\n",
      "Epoch 3/10\n",
      "211/211 [==============================] - 12s 55ms/step - loss: 0.4787 - accuracy: 0.8463 - val_loss: 0.1932 - val_accuracy: 0.9458\n",
      "Epoch 4/10\n",
      "211/211 [==============================] - 11s 52ms/step - loss: 0.4740 - accuracy: 0.8502 - val_loss: 0.1902 - val_accuracy: 0.9432\n",
      "Epoch 5/10\n",
      "211/211 [==============================] - 12s 56ms/step - loss: 0.4908 - accuracy: 0.8430 - val_loss: 0.1713 - val_accuracy: 0.9530\n",
      "Epoch 6/10\n",
      "211/211 [==============================] - 12s 55ms/step - loss: 0.4898 - accuracy: 0.8457 - val_loss: 0.1503 - val_accuracy: 0.9575\n",
      "Epoch 7/10\n",
      "211/211 [==============================] - 11s 54ms/step - loss: 0.4742 - accuracy: 0.8497 - val_loss: 0.1630 - val_accuracy: 0.9510\n",
      "Epoch 8/10\n",
      "211/211 [==============================] - 13s 61ms/step - loss: 0.4634 - accuracy: 0.8527 - val_loss: 0.1847 - val_accuracy: 0.9482\n",
      "Epoch 9/10\n",
      "211/211 [==============================] - 12s 57ms/step - loss: 0.4799 - accuracy: 0.8492 - val_loss: 0.1805 - val_accuracy: 0.9487\n",
      "Epoch 10/10\n",
      "211/211 [==============================] - 12s 55ms/step - loss: 0.4908 - accuracy: 0.8455 - val_loss: 0.1704 - val_accuracy: 0.9512\n",
      "313/313 [==============================] - 1s 4ms/step - loss: 0.1944 - accuracy: 0.9397\n",
      "Training model <keras.engine.sequential.Sequential object at 0x000002754D833C70> with split 0.1, batch 512 and learning rate 0.001\n",
      "Epoch 1/10\n",
      "106/106 [==============================] - 12s 107ms/step - loss: 0.4199 - accuracy: 0.8659 - val_loss: 0.1525 - val_accuracy: 0.9562\n",
      "Epoch 2/10\n",
      "106/106 [==============================] - 10s 99ms/step - loss: 0.4113 - accuracy: 0.8689 - val_loss: 0.1495 - val_accuracy: 0.9562\n",
      "Epoch 3/10\n",
      "106/106 [==============================] - 11s 103ms/step - loss: 0.4002 - accuracy: 0.8719 - val_loss: 0.1462 - val_accuracy: 0.9573\n",
      "Epoch 4/10\n",
      "106/106 [==============================] - 11s 102ms/step - loss: 0.3978 - accuracy: 0.8720 - val_loss: 0.1461 - val_accuracy: 0.9578\n",
      "Epoch 5/10\n",
      "106/106 [==============================] - 10s 99ms/step - loss: 0.3971 - accuracy: 0.8723 - val_loss: 0.1452 - val_accuracy: 0.9572\n",
      "Epoch 6/10\n",
      "106/106 [==============================] - 11s 102ms/step - loss: 0.3953 - accuracy: 0.8727 - val_loss: 0.1441 - val_accuracy: 0.9590\n",
      "Epoch 7/10\n",
      "106/106 [==============================] - 11s 103ms/step - loss: 0.3956 - accuracy: 0.8731 - val_loss: 0.1441 - val_accuracy: 0.9590\n",
      "Epoch 8/10\n",
      "106/106 [==============================] - 10s 98ms/step - loss: 0.3834 - accuracy: 0.8770 - val_loss: 0.1418 - val_accuracy: 0.9600\n",
      "Epoch 9/10\n",
      "106/106 [==============================] - 11s 102ms/step - loss: 0.3845 - accuracy: 0.8771 - val_loss: 0.1401 - val_accuracy: 0.9612\n",
      "Epoch 10/10\n",
      "106/106 [==============================] - 11s 101ms/step - loss: 0.3903 - accuracy: 0.8763 - val_loss: 0.1410 - val_accuracy: 0.9607\n",
      "313/313 [==============================] - 1s 4ms/step - loss: 0.1596 - accuracy: 0.9529\n",
      "Training model <keras.engine.sequential.Sequential object at 0x000002754D833C70> with split 0.1, batch 512 and learning rate 0.01\n",
      "Epoch 1/10\n",
      "106/106 [==============================] - 12s 105ms/step - loss: 0.3876 - accuracy: 0.8758 - val_loss: 0.1318 - val_accuracy: 0.9612\n",
      "Epoch 2/10\n",
      "106/106 [==============================] - 12s 110ms/step - loss: 0.3797 - accuracy: 0.8775 - val_loss: 0.1362 - val_accuracy: 0.9605\n",
      "Epoch 3/10\n",
      "106/106 [==============================] - 11s 103ms/step - loss: 0.3777 - accuracy: 0.8789 - val_loss: 0.1342 - val_accuracy: 0.9620\n",
      "Epoch 4/10\n",
      "106/106 [==============================] - 11s 104ms/step - loss: 0.3754 - accuracy: 0.8806 - val_loss: 0.1348 - val_accuracy: 0.9618\n",
      "Epoch 5/10\n",
      "106/106 [==============================] - 12s 116ms/step - loss: 0.3681 - accuracy: 0.8829 - val_loss: 0.1307 - val_accuracy: 0.9623\n",
      "Epoch 6/10\n",
      "106/106 [==============================] - 11s 105ms/step - loss: 0.3673 - accuracy: 0.8831 - val_loss: 0.1379 - val_accuracy: 0.9593\n",
      "Epoch 7/10\n",
      "106/106 [==============================] - 13s 119ms/step - loss: 0.3710 - accuracy: 0.8814 - val_loss: 0.1383 - val_accuracy: 0.9600\n",
      "Epoch 8/10\n",
      "106/106 [==============================] - 13s 120ms/step - loss: 0.3659 - accuracy: 0.8812 - val_loss: 0.1317 - val_accuracy: 0.9615\n",
      "Epoch 9/10\n",
      "106/106 [==============================] - 11s 105ms/step - loss: 0.3707 - accuracy: 0.8818 - val_loss: 0.1342 - val_accuracy: 0.9625\n",
      "Epoch 10/10\n",
      "106/106 [==============================] - 11s 102ms/step - loss: 0.3670 - accuracy: 0.8826 - val_loss: 0.1324 - val_accuracy: 0.9612\n",
      "313/313 [==============================] - 1s 4ms/step - loss: 0.1459 - accuracy: 0.9582\n",
      "Training model <keras.engine.sequential.Sequential object at 0x000002754D833C70> with split 0.1, batch 512 and learning rate 0.1\n",
      "Epoch 1/10\n",
      "106/106 [==============================] - 12s 105ms/step - loss: 0.7926 - accuracy: 0.7697 - val_loss: 0.2098 - val_accuracy: 0.9490\n",
      "Epoch 2/10\n",
      "106/106 [==============================] - 11s 103ms/step - loss: 0.5943 - accuracy: 0.8026 - val_loss: 0.2108 - val_accuracy: 0.9495\n",
      "Epoch 3/10\n",
      "106/106 [==============================] - 11s 102ms/step - loss: 0.5992 - accuracy: 0.8056 - val_loss: 0.2082 - val_accuracy: 0.9503\n",
      "Epoch 4/10\n",
      "106/106 [==============================] - 11s 102ms/step - loss: 0.5920 - accuracy: 0.8088 - val_loss: 0.2040 - val_accuracy: 0.9493\n",
      "Epoch 5/10\n",
      "106/106 [==============================] - 11s 103ms/step - loss: 0.5562 - accuracy: 0.8207 - val_loss: 0.1917 - val_accuracy: 0.9508\n",
      "Epoch 6/10\n",
      "106/106 [==============================] - 11s 101ms/step - loss: 0.5442 - accuracy: 0.8269 - val_loss: 0.2213 - val_accuracy: 0.9462\n",
      "Epoch 7/10\n",
      "106/106 [==============================] - 11s 103ms/step - loss: 0.5748 - accuracy: 0.8153 - val_loss: 0.2002 - val_accuracy: 0.9482\n",
      "Epoch 8/10\n",
      "106/106 [==============================] - 11s 101ms/step - loss: 0.5493 - accuracy: 0.8214 - val_loss: 0.2160 - val_accuracy: 0.9435\n",
      "Epoch 9/10\n",
      "106/106 [==============================] - 11s 100ms/step - loss: 0.5509 - accuracy: 0.8208 - val_loss: 0.1988 - val_accuracy: 0.9452\n",
      "Epoch 10/10\n",
      "106/106 [==============================] - 11s 103ms/step - loss: 0.5604 - accuracy: 0.8202 - val_loss: 0.2058 - val_accuracy: 0.9462\n",
      "313/313 [==============================] - 1s 4ms/step - loss: 0.2266 - accuracy: 0.9391\n",
      "Training model <keras.engine.sequential.Sequential object at 0x000002754D833C70> with split 0.2, batch 128 and learning rate 0.001\n",
      "Epoch 1/10\n",
      "375/375 [==============================] - 13s 32ms/step - loss: 0.5160 - accuracy: 0.8315 - val_loss: 0.2096 - val_accuracy: 0.9439\n",
      "Epoch 2/10\n",
      "375/375 [==============================] - 12s 32ms/step - loss: 0.5114 - accuracy: 0.8354 - val_loss: 0.2081 - val_accuracy: 0.9439\n",
      "Epoch 3/10\n",
      "375/375 [==============================] - 12s 31ms/step - loss: 0.5055 - accuracy: 0.8372 - val_loss: 0.2083 - val_accuracy: 0.9448\n",
      "Epoch 4/10\n",
      "375/375 [==============================] - 12s 32ms/step - loss: 0.5022 - accuracy: 0.8356 - val_loss: 0.2090 - val_accuracy: 0.9441\n",
      "Epoch 5/10\n",
      "375/375 [==============================] - 12s 32ms/step - loss: 0.4989 - accuracy: 0.8392 - val_loss: 0.2086 - val_accuracy: 0.9438\n",
      "Epoch 6/10\n",
      "375/375 [==============================] - 11s 30ms/step - loss: 0.5002 - accuracy: 0.8375 - val_loss: 0.2069 - val_accuracy: 0.9454\n",
      "Epoch 7/10\n",
      "375/375 [==============================] - 12s 31ms/step - loss: 0.4946 - accuracy: 0.8373 - val_loss: 0.2039 - val_accuracy: 0.9457\n",
      "Epoch 8/10\n",
      "375/375 [==============================] - 12s 32ms/step - loss: 0.4924 - accuracy: 0.8399 - val_loss: 0.2041 - val_accuracy: 0.9456\n",
      "Epoch 9/10\n",
      "375/375 [==============================] - 12s 32ms/step - loss: 0.4991 - accuracy: 0.8383 - val_loss: 0.2033 - val_accuracy: 0.9463\n",
      "Epoch 10/10\n",
      "375/375 [==============================] - 12s 31ms/step - loss: 0.4911 - accuracy: 0.8398 - val_loss: 0.2037 - val_accuracy: 0.9463\n",
      "313/313 [==============================] - 2s 5ms/step - loss: 0.2040 - accuracy: 0.9451\n",
      "Training model <keras.engine.sequential.Sequential object at 0x000002754D833C70> with split 0.2, batch 128 and learning rate 0.01\n",
      "Epoch 1/10\n",
      "375/375 [==============================] - 12s 31ms/step - loss: 0.5024 - accuracy: 0.8356 - val_loss: 0.2032 - val_accuracy: 0.9466\n",
      "Epoch 2/10\n",
      "375/375 [==============================] - 12s 31ms/step - loss: 0.5132 - accuracy: 0.8355 - val_loss: 0.2068 - val_accuracy: 0.9445\n",
      "Epoch 3/10\n",
      "375/375 [==============================] - 12s 32ms/step - loss: 0.5067 - accuracy: 0.8369 - val_loss: 0.2103 - val_accuracy: 0.9408\n",
      "Epoch 4/10\n",
      "375/375 [==============================] - 11s 31ms/step - loss: 0.5042 - accuracy: 0.8360 - val_loss: 0.2112 - val_accuracy: 0.9448\n",
      "Epoch 5/10\n",
      "375/375 [==============================] - 12s 32ms/step - loss: 0.5044 - accuracy: 0.8389 - val_loss: 0.2161 - val_accuracy: 0.9433\n",
      "Epoch 6/10\n",
      "375/375 [==============================] - 17s 45ms/step - loss: 0.5016 - accuracy: 0.8384 - val_loss: 0.2085 - val_accuracy: 0.9452\n",
      "Epoch 7/10\n",
      "375/375 [==============================] - 12s 33ms/step - loss: 0.5041 - accuracy: 0.8369 - val_loss: 0.2031 - val_accuracy: 0.9445\n",
      "Epoch 8/10\n",
      "375/375 [==============================] - 12s 32ms/step - loss: 0.5044 - accuracy: 0.8390 - val_loss: 0.2056 - val_accuracy: 0.9428\n",
      "Epoch 9/10\n",
      "375/375 [==============================] - 12s 32ms/step - loss: 0.5046 - accuracy: 0.8378 - val_loss: 0.2184 - val_accuracy: 0.9433\n",
      "Epoch 10/10\n",
      "375/375 [==============================] - 12s 32ms/step - loss: 0.5059 - accuracy: 0.8367 - val_loss: 0.2104 - val_accuracy: 0.9427\n",
      "313/313 [==============================] - 1s 4ms/step - loss: 0.2100 - accuracy: 0.9406\n",
      "Training model <keras.engine.sequential.Sequential object at 0x000002754D833C70> with split 0.2, batch 128 and learning rate 0.1\n",
      "Epoch 1/10\n",
      "375/375 [==============================] - 13s 33ms/step - loss: 1.0386 - accuracy: 0.6645 - val_loss: 0.4830 - val_accuracy: 0.8571\n",
      "Epoch 2/10\n",
      "375/375 [==============================] - 12s 33ms/step - loss: 0.9221 - accuracy: 0.6953 - val_loss: 0.4901 - val_accuracy: 0.8719\n",
      "Epoch 3/10\n",
      "375/375 [==============================] - 12s 32ms/step - loss: 0.8801 - accuracy: 0.7150 - val_loss: 0.4225 - val_accuracy: 0.8798\n",
      "Epoch 4/10\n",
      "375/375 [==============================] - 11s 30ms/step - loss: 0.8672 - accuracy: 0.7197 - val_loss: 0.4257 - val_accuracy: 0.8996\n",
      "Epoch 5/10\n",
      "375/375 [==============================] - 12s 32ms/step - loss: 0.8301 - accuracy: 0.7333 - val_loss: 0.3671 - val_accuracy: 0.9000\n",
      "Epoch 6/10\n",
      "375/375 [==============================] - 12s 32ms/step - loss: 0.8344 - accuracy: 0.7346 - val_loss: 0.3752 - val_accuracy: 0.8939\n",
      "Epoch 7/10\n",
      "375/375 [==============================] - 12s 32ms/step - loss: 0.8171 - accuracy: 0.7375 - val_loss: 0.3825 - val_accuracy: 0.9020\n",
      "Epoch 8/10\n",
      "375/375 [==============================] - 15s 39ms/step - loss: 0.8149 - accuracy: 0.7399 - val_loss: 0.3630 - val_accuracy: 0.9007\n",
      "Epoch 9/10\n",
      "375/375 [==============================] - 14s 36ms/step - loss: 0.7926 - accuracy: 0.7443 - val_loss: 0.3672 - val_accuracy: 0.9107\n",
      "Epoch 10/10\n",
      "375/375 [==============================] - 12s 32ms/step - loss: 0.9904 - accuracy: 0.6763 - val_loss: 0.5342 - val_accuracy: 0.8599\n",
      "313/313 [==============================] - 1s 4ms/step - loss: 0.5560 - accuracy: 0.8586\n",
      "Training model <keras.engine.sequential.Sequential object at 0x000002754D833C70> with split 0.2, batch 256 and learning rate 0.001\n",
      "Epoch 1/10\n",
      "188/188 [==============================] - 13s 68ms/step - loss: 0.9813 - accuracy: 0.6717 - val_loss: 0.5056 - val_accuracy: 0.8721\n",
      "Epoch 2/10\n",
      "188/188 [==============================] - 11s 60ms/step - loss: 0.9654 - accuracy: 0.6790 - val_loss: 0.5015 - val_accuracy: 0.8736\n",
      "Epoch 3/10\n",
      "188/188 [==============================] - 11s 57ms/step - loss: 0.9587 - accuracy: 0.6824 - val_loss: 0.4951 - val_accuracy: 0.8756\n",
      "Epoch 4/10\n",
      "188/188 [==============================] - 12s 62ms/step - loss: 0.9503 - accuracy: 0.6827 - val_loss: 0.4873 - val_accuracy: 0.8782\n",
      "Epoch 5/10\n",
      "188/188 [==============================] - 11s 60ms/step - loss: 0.9404 - accuracy: 0.6895 - val_loss: 0.4725 - val_accuracy: 0.8823\n",
      "Epoch 6/10\n",
      "188/188 [==============================] - 11s 58ms/step - loss: 0.9327 - accuracy: 0.6888 - val_loss: 0.4762 - val_accuracy: 0.8830\n",
      "Epoch 7/10\n",
      "188/188 [==============================] - 11s 58ms/step - loss: 0.9237 - accuracy: 0.6941 - val_loss: 0.4631 - val_accuracy: 0.8863\n",
      "Epoch 8/10\n",
      "188/188 [==============================] - 11s 59ms/step - loss: 0.9230 - accuracy: 0.6948 - val_loss: 0.4592 - val_accuracy: 0.8868\n",
      "Epoch 9/10\n",
      "188/188 [==============================] - 11s 60ms/step - loss: 0.9125 - accuracy: 0.6979 - val_loss: 0.4586 - val_accuracy: 0.8877\n",
      "Epoch 10/10\n",
      "188/188 [==============================] - 11s 60ms/step - loss: 0.9105 - accuracy: 0.6965 - val_loss: 0.4560 - val_accuracy: 0.8904\n",
      "313/313 [==============================] - 1s 4ms/step - loss: 0.4670 - accuracy: 0.8931\n",
      "Training model <keras.engine.sequential.Sequential object at 0x000002754D833C70> with split 0.2, batch 256 and learning rate 0.01\n",
      "Epoch 1/10\n",
      "188/188 [==============================] - 14s 73ms/step - loss: 0.9019 - accuracy: 0.7007 - val_loss: 0.4205 - val_accuracy: 0.8959\n",
      "Epoch 2/10\n",
      "188/188 [==============================] - 11s 60ms/step - loss: 0.8705 - accuracy: 0.7126 - val_loss: 0.4251 - val_accuracy: 0.8982\n",
      "Epoch 3/10\n",
      "188/188 [==============================] - 11s 59ms/step - loss: 0.8702 - accuracy: 0.7110 - val_loss: 0.4076 - val_accuracy: 0.9009\n",
      "Epoch 4/10\n",
      "188/188 [==============================] - 11s 58ms/step - loss: 0.8532 - accuracy: 0.7193 - val_loss: 0.4117 - val_accuracy: 0.9057\n",
      "Epoch 5/10\n",
      "188/188 [==============================] - 12s 61ms/step - loss: 0.8359 - accuracy: 0.7237 - val_loss: 0.3809 - val_accuracy: 0.9082\n",
      "Epoch 6/10\n",
      "188/188 [==============================] - 11s 61ms/step - loss: 0.8313 - accuracy: 0.7246 - val_loss: 0.3909 - val_accuracy: 0.9082\n",
      "Epoch 7/10\n",
      "188/188 [==============================] - 11s 56ms/step - loss: 0.8321 - accuracy: 0.7257 - val_loss: 0.3867 - val_accuracy: 0.9122\n",
      "Epoch 8/10\n",
      "188/188 [==============================] - 11s 59ms/step - loss: 0.8307 - accuracy: 0.7266 - val_loss: 0.3991 - val_accuracy: 0.9071\n",
      "Epoch 9/10\n",
      "188/188 [==============================] - 11s 60ms/step - loss: 0.8216 - accuracy: 0.7282 - val_loss: 0.3870 - val_accuracy: 0.9073\n",
      "Epoch 10/10\n",
      "188/188 [==============================] - 11s 57ms/step - loss: 0.8197 - accuracy: 0.7279 - val_loss: 0.3751 - val_accuracy: 0.9113\n",
      "313/313 [==============================] - 2s 5ms/step - loss: 0.3834 - accuracy: 0.9120\n",
      "Training model <keras.engine.sequential.Sequential object at 0x000002754D833C70> with split 0.2, batch 256 and learning rate 0.1\n",
      "Epoch 1/10\n",
      "188/188 [==============================] - 12s 57ms/step - loss: 0.9022 - accuracy: 0.7003 - val_loss: 0.5014 - val_accuracy: 0.8656\n",
      "Epoch 2/10\n",
      "188/188 [==============================] - 12s 65ms/step - loss: 0.9037 - accuracy: 0.6966 - val_loss: 0.3809 - val_accuracy: 0.8847\n",
      "Epoch 3/10\n",
      "188/188 [==============================] - 11s 59ms/step - loss: 0.9195 - accuracy: 0.6930 - val_loss: 0.4286 - val_accuracy: 0.8883\n",
      "Epoch 4/10\n",
      "188/188 [==============================] - 11s 57ms/step - loss: 0.9120 - accuracy: 0.6932 - val_loss: 0.4343 - val_accuracy: 0.8991\n",
      "Epoch 5/10\n",
      "188/188 [==============================] - 11s 60ms/step - loss: 0.8731 - accuracy: 0.7075 - val_loss: 0.4392 - val_accuracy: 0.8943\n",
      "Epoch 6/10\n",
      "188/188 [==============================] - 11s 60ms/step - loss: 0.8920 - accuracy: 0.7017 - val_loss: 0.4689 - val_accuracy: 0.8844\n",
      "Epoch 7/10\n",
      "188/188 [==============================] - 11s 57ms/step - loss: 0.9019 - accuracy: 0.6974 - val_loss: 0.3709 - val_accuracy: 0.8999\n",
      "Epoch 8/10\n",
      "188/188 [==============================] - 11s 58ms/step - loss: 0.8952 - accuracy: 0.7012 - val_loss: 0.3790 - val_accuracy: 0.8984\n",
      "Epoch 9/10\n",
      "188/188 [==============================] - 11s 60ms/step - loss: 0.8790 - accuracy: 0.7036 - val_loss: 0.4165 - val_accuracy: 0.8829\n",
      "Epoch 10/10\n",
      "188/188 [==============================] - 11s 60ms/step - loss: 0.8817 - accuracy: 0.7056 - val_loss: 0.4253 - val_accuracy: 0.8940\n",
      "313/313 [==============================] - 1s 4ms/step - loss: 0.4395 - accuracy: 0.8966\n",
      "Training model <keras.engine.sequential.Sequential object at 0x000002754D833C70> with split 0.2, batch 512 and learning rate 0.001\n",
      "Epoch 1/10\n",
      "94/94 [==============================] - 11s 108ms/step - loss: 0.8692 - accuracy: 0.7114 - val_loss: 0.3839 - val_accuracy: 0.9028\n",
      "Epoch 2/10\n",
      "94/94 [==============================] - 10s 110ms/step - loss: 0.8329 - accuracy: 0.7199 - val_loss: 0.3720 - val_accuracy: 0.9071\n",
      "Epoch 3/10\n",
      "94/94 [==============================] - 10s 110ms/step - loss: 0.8284 - accuracy: 0.7221 - val_loss: 0.3655 - val_accuracy: 0.9071\n",
      "Epoch 4/10\n",
      "94/94 [==============================] - 10s 106ms/step - loss: 0.8095 - accuracy: 0.7309 - val_loss: 0.3625 - val_accuracy: 0.9078\n",
      "Epoch 5/10\n",
      "94/94 [==============================] - 10s 109ms/step - loss: 0.8049 - accuracy: 0.7304 - val_loss: 0.3587 - val_accuracy: 0.9114\n",
      "Epoch 6/10\n",
      "94/94 [==============================] - 10s 110ms/step - loss: 0.8026 - accuracy: 0.7325 - val_loss: 0.3598 - val_accuracy: 0.9133\n",
      "Epoch 7/10\n",
      "94/94 [==============================] - 10s 106ms/step - loss: 0.7967 - accuracy: 0.7317 - val_loss: 0.3596 - val_accuracy: 0.9136\n",
      "Epoch 8/10\n",
      "94/94 [==============================] - 10s 110ms/step - loss: 0.7924 - accuracy: 0.7336 - val_loss: 0.3540 - val_accuracy: 0.9130\n",
      "Epoch 9/10\n",
      "94/94 [==============================] - 10s 107ms/step - loss: 0.7869 - accuracy: 0.7344 - val_loss: 0.3529 - val_accuracy: 0.9126\n",
      "Epoch 10/10\n",
      "94/94 [==============================] - 10s 109ms/step - loss: 0.7834 - accuracy: 0.7346 - val_loss: 0.3540 - val_accuracy: 0.9115\n",
      "313/313 [==============================] - 1s 4ms/step - loss: 0.3599 - accuracy: 0.9193\n",
      "Training model <keras.engine.sequential.Sequential object at 0x000002754D833C70> with split 0.2, batch 512 and learning rate 0.01\n",
      "Epoch 1/10\n",
      "94/94 [==============================] - 11s 112ms/step - loss: 0.7763 - accuracy: 0.7381 - val_loss: 0.3429 - val_accuracy: 0.9154\n",
      "Epoch 2/10\n",
      "94/94 [==============================] - 10s 106ms/step - loss: 0.7658 - accuracy: 0.7443 - val_loss: 0.3539 - val_accuracy: 0.9153\n",
      "Epoch 3/10\n",
      "94/94 [==============================] - 10s 106ms/step - loss: 0.7597 - accuracy: 0.7446 - val_loss: 0.3391 - val_accuracy: 0.9107\n",
      "Epoch 4/10\n",
      "94/94 [==============================] - 10s 110ms/step - loss: 0.7607 - accuracy: 0.7423 - val_loss: 0.3455 - val_accuracy: 0.9104\n",
      "Epoch 5/10\n",
      "94/94 [==============================] - 10s 106ms/step - loss: 0.7622 - accuracy: 0.7471 - val_loss: 0.3418 - val_accuracy: 0.9150\n",
      "Epoch 6/10\n",
      "94/94 [==============================] - 10s 110ms/step - loss: 0.7584 - accuracy: 0.7454 - val_loss: 0.3478 - val_accuracy: 0.9117\n",
      "Epoch 7/10\n",
      "94/94 [==============================] - 11s 117ms/step - loss: 0.7658 - accuracy: 0.7418 - val_loss: 0.3428 - val_accuracy: 0.9127\n",
      "Epoch 8/10\n",
      "94/94 [==============================] - 11s 115ms/step - loss: 0.7558 - accuracy: 0.7456 - val_loss: 0.3468 - val_accuracy: 0.9117\n",
      "Epoch 9/10\n",
      "94/94 [==============================] - 11s 117ms/step - loss: 0.7571 - accuracy: 0.7465 - val_loss: 0.3529 - val_accuracy: 0.9122\n",
      "Epoch 10/10\n",
      "94/94 [==============================] - 10s 111ms/step - loss: 0.7656 - accuracy: 0.7448 - val_loss: 0.3463 - val_accuracy: 0.9091\n",
      "313/313 [==============================] - 1s 4ms/step - loss: 0.3473 - accuracy: 0.9150\n",
      "Training model <keras.engine.sequential.Sequential object at 0x000002754D833C70> with split 0.2, batch 512 and learning rate 0.1\n",
      "Epoch 1/10\n",
      "94/94 [==============================] - 11s 110ms/step - loss: 1.1865 - accuracy: 0.6271 - val_loss: 0.4234 - val_accuracy: 0.8864\n",
      "Epoch 2/10\n",
      "94/94 [==============================] - 10s 106ms/step - loss: 0.8534 - accuracy: 0.7117 - val_loss: 0.3837 - val_accuracy: 0.9013\n",
      "Epoch 3/10\n",
      "94/94 [==============================] - 10s 109ms/step - loss: 0.8289 - accuracy: 0.7218 - val_loss: 0.3653 - val_accuracy: 0.8970\n",
      "Epoch 4/10\n",
      "94/94 [==============================] - 10s 107ms/step - loss: 0.8185 - accuracy: 0.7238 - val_loss: 0.4007 - val_accuracy: 0.8942\n",
      "Epoch 5/10\n",
      "94/94 [==============================] - 10s 109ms/step - loss: 0.8040 - accuracy: 0.7299 - val_loss: 0.3680 - val_accuracy: 0.9112\n",
      "Epoch 6/10\n",
      "94/94 [==============================] - 10s 111ms/step - loss: 0.8031 - accuracy: 0.7295 - val_loss: 0.4558 - val_accuracy: 0.8934\n",
      "Epoch 7/10\n",
      "94/94 [==============================] - 10s 106ms/step - loss: 0.8108 - accuracy: 0.7271 - val_loss: 0.3571 - val_accuracy: 0.9125\n",
      "Epoch 8/10\n",
      "94/94 [==============================] - 10s 110ms/step - loss: 0.8018 - accuracy: 0.7294 - val_loss: 0.3881 - val_accuracy: 0.8963\n",
      "Epoch 9/10\n",
      "94/94 [==============================] - 10s 111ms/step - loss: 0.8153 - accuracy: 0.7256 - val_loss: 0.3434 - val_accuracy: 0.9007\n",
      "Epoch 10/10\n",
      "94/94 [==============================] - 10s 106ms/step - loss: 0.8150 - accuracy: 0.7235 - val_loss: 0.3480 - val_accuracy: 0.9003\n",
      "313/313 [==============================] - 1s 4ms/step - loss: 0.3517 - accuracy: 0.9040\n",
      "Training model <keras.engine.sequential.Sequential object at 0x000002754D833C70> with split 0.3, batch 128 and learning rate 0.001\n",
      "Epoch 1/10\n",
      "329/329 [==============================] - 15s 44ms/step - loss: 0.7785 - accuracy: 0.7406 - val_loss: 0.3523 - val_accuracy: 0.9091\n",
      "Epoch 2/10\n",
      "329/329 [==============================] - 11s 34ms/step - loss: 0.7697 - accuracy: 0.7420 - val_loss: 0.3541 - val_accuracy: 0.9090\n",
      "Epoch 3/10\n",
      "329/329 [==============================] - 17s 51ms/step - loss: 0.7581 - accuracy: 0.7441 - val_loss: 0.3472 - val_accuracy: 0.9107\n",
      "Epoch 4/10\n",
      "329/329 [==============================] - 15s 44ms/step - loss: 0.7569 - accuracy: 0.7457 - val_loss: 0.3500 - val_accuracy: 0.9108\n",
      "Epoch 5/10\n",
      "329/329 [==============================] - 12s 37ms/step - loss: 0.7591 - accuracy: 0.7439 - val_loss: 0.3480 - val_accuracy: 0.9088\n",
      "Epoch 6/10\n",
      "329/329 [==============================] - 10s 32ms/step - loss: 0.7599 - accuracy: 0.7464 - val_loss: 0.3439 - val_accuracy: 0.9118\n",
      "Epoch 7/10\n",
      "329/329 [==============================] - 11s 35ms/step - loss: 0.7555 - accuracy: 0.7450 - val_loss: 0.3475 - val_accuracy: 0.9074\n",
      "Epoch 8/10\n",
      "329/329 [==============================] - 12s 35ms/step - loss: 0.7513 - accuracy: 0.7499 - val_loss: 0.3490 - val_accuracy: 0.9100\n",
      "Epoch 9/10\n",
      "329/329 [==============================] - 11s 33ms/step - loss: 0.7549 - accuracy: 0.7444 - val_loss: 0.3456 - val_accuracy: 0.9103\n",
      "Epoch 10/10\n",
      "329/329 [==============================] - 11s 34ms/step - loss: 0.7478 - accuracy: 0.7501 - val_loss: 0.3531 - val_accuracy: 0.9096\n",
      "313/313 [==============================] - 1s 4ms/step - loss: 0.3460 - accuracy: 0.9173\n",
      "Training model <keras.engine.sequential.Sequential object at 0x000002754D833C70> with split 0.3, batch 128 and learning rate 0.01\n",
      "Epoch 1/10\n",
      "329/329 [==============================] - 12s 35ms/step - loss: 0.7667 - accuracy: 0.7419 - val_loss: 0.3400 - val_accuracy: 0.9058\n",
      "Epoch 2/10\n",
      "329/329 [==============================] - 11s 35ms/step - loss: 0.7720 - accuracy: 0.7405 - val_loss: 0.3647 - val_accuracy: 0.9089\n",
      "Epoch 3/10\n",
      "329/329 [==============================] - 11s 32ms/step - loss: 0.7677 - accuracy: 0.7419 - val_loss: 0.3679 - val_accuracy: 0.9047\n",
      "Epoch 4/10\n",
      "329/329 [==============================] - 11s 34ms/step - loss: 0.7725 - accuracy: 0.7381 - val_loss: 0.3461 - val_accuracy: 0.9081\n",
      "Epoch 5/10\n",
      "329/329 [==============================] - 11s 34ms/step - loss: 0.7729 - accuracy: 0.7421 - val_loss: 0.3791 - val_accuracy: 0.9029\n",
      "Epoch 6/10\n",
      "329/329 [==============================] - 11s 32ms/step - loss: 0.7671 - accuracy: 0.7422 - val_loss: 0.3780 - val_accuracy: 0.9091\n",
      "Epoch 7/10\n",
      "329/329 [==============================] - 11s 33ms/step - loss: 0.7692 - accuracy: 0.7421 - val_loss: 0.3587 - val_accuracy: 0.9092\n",
      "Epoch 8/10\n",
      "329/329 [==============================] - 11s 34ms/step - loss: 0.7714 - accuracy: 0.7407 - val_loss: 0.3663 - val_accuracy: 0.9057\n",
      "Epoch 9/10\n",
      "329/329 [==============================] - 11s 33ms/step - loss: 0.7673 - accuracy: 0.7422 - val_loss: 0.3541 - val_accuracy: 0.9013\n",
      "Epoch 10/10\n",
      "329/329 [==============================] - 11s 33ms/step - loss: 0.7690 - accuracy: 0.7425 - val_loss: 0.3656 - val_accuracy: 0.9030\n",
      "313/313 [==============================] - 1s 4ms/step - loss: 0.3544 - accuracy: 0.9089\n",
      "Training model <keras.engine.sequential.Sequential object at 0x000002754D833C70> with split 0.3, batch 128 and learning rate 0.1\n",
      "Epoch 1/10\n",
      "329/329 [==============================] - 14s 42ms/step - loss: 1.4338 - accuracy: 0.5408 - val_loss: 0.8323 - val_accuracy: 0.7678\n",
      "Epoch 2/10\n",
      "329/329 [==============================] - 15s 45ms/step - loss: 1.2660 - accuracy: 0.5813 - val_loss: 0.7875 - val_accuracy: 0.8040\n",
      "Epoch 3/10\n",
      "329/329 [==============================] - 12s 37ms/step - loss: 1.2529 - accuracy: 0.5833 - val_loss: 0.8271 - val_accuracy: 0.8067\n",
      "Epoch 4/10\n",
      "329/329 [==============================] - 11s 34ms/step - loss: 1.2618 - accuracy: 0.5820 - val_loss: 0.8348 - val_accuracy: 0.8098\n",
      "Epoch 5/10\n",
      "329/329 [==============================] - 11s 33ms/step - loss: 1.2621 - accuracy: 0.5828 - val_loss: 0.9863 - val_accuracy: 0.7242\n",
      "Epoch 6/10\n",
      "329/329 [==============================] - 11s 35ms/step - loss: 1.2870 - accuracy: 0.5723 - val_loss: 0.7392 - val_accuracy: 0.8033\n",
      "Epoch 7/10\n",
      "329/329 [==============================] - 11s 34ms/step - loss: 1.2791 - accuracy: 0.5743 - val_loss: 0.8471 - val_accuracy: 0.7926\n",
      "Epoch 8/10\n",
      "329/329 [==============================] - 11s 32ms/step - loss: 1.2775 - accuracy: 0.5791 - val_loss: 0.7904 - val_accuracy: 0.7939\n",
      "Epoch 9/10\n",
      "329/329 [==============================] - 12s 37ms/step - loss: 1.2765 - accuracy: 0.5773 - val_loss: 0.8578 - val_accuracy: 0.7873\n",
      "Epoch 10/10\n",
      "329/329 [==============================] - 11s 35ms/step - loss: 1.2811 - accuracy: 0.5773 - val_loss: 0.8037 - val_accuracy: 0.8102\n",
      "313/313 [==============================] - 1s 4ms/step - loss: 0.7984 - accuracy: 0.8165\n",
      "Training model <keras.engine.sequential.Sequential object at 0x000002754D833C70> with split 0.3, batch 256 and learning rate 0.001\n",
      "Epoch 1/10\n",
      "165/165 [==============================] - 11s 62ms/step - loss: 1.2321 - accuracy: 0.5905 - val_loss: 0.7764 - val_accuracy: 0.8217\n",
      "Epoch 2/10\n",
      "165/165 [==============================] - 10s 60ms/step - loss: 1.2119 - accuracy: 0.5993 - val_loss: 0.7626 - val_accuracy: 0.8233\n",
      "Epoch 3/10\n",
      "165/165 [==============================] - 11s 64ms/step - loss: 1.2027 - accuracy: 0.6027 - val_loss: 0.7540 - val_accuracy: 0.8254\n",
      "Epoch 4/10\n",
      "165/165 [==============================] - 10s 61ms/step - loss: 1.1884 - accuracy: 0.6065 - val_loss: 0.7455 - val_accuracy: 0.8258\n",
      "Epoch 5/10\n",
      "165/165 [==============================] - 10s 62ms/step - loss: 1.1928 - accuracy: 0.6077 - val_loss: 0.7454 - val_accuracy: 0.8262\n",
      "Epoch 6/10\n",
      "165/165 [==============================] - 11s 64ms/step - loss: 1.1796 - accuracy: 0.6088 - val_loss: 0.7336 - val_accuracy: 0.8289\n",
      "Epoch 7/10\n",
      "165/165 [==============================] - 10s 59ms/step - loss: 1.1779 - accuracy: 0.6107 - val_loss: 0.7323 - val_accuracy: 0.8298\n",
      "Epoch 8/10\n",
      "165/165 [==============================] - 10s 63ms/step - loss: 1.1756 - accuracy: 0.6098 - val_loss: 0.7274 - val_accuracy: 0.8295\n",
      "Epoch 9/10\n",
      "165/165 [==============================] - 10s 63ms/step - loss: 1.1602 - accuracy: 0.6141 - val_loss: 0.7196 - val_accuracy: 0.8301\n",
      "Epoch 10/10\n",
      "165/165 [==============================] - 10s 60ms/step - loss: 1.1656 - accuracy: 0.6126 - val_loss: 0.7219 - val_accuracy: 0.8298\n",
      "313/313 [==============================] - 1s 4ms/step - loss: 0.7061 - accuracy: 0.8412\n",
      "Training model <keras.engine.sequential.Sequential object at 0x000002754D833C70> with split 0.3, batch 256 and learning rate 0.01\n",
      "Epoch 1/10\n",
      "165/165 [==============================] - 11s 65ms/step - loss: 1.1564 - accuracy: 0.6174 - val_loss: 0.7354 - val_accuracy: 0.8151\n",
      "Epoch 2/10\n",
      "165/165 [==============================] - 12s 75ms/step - loss: 1.1573 - accuracy: 0.6134 - val_loss: 0.7041 - val_accuracy: 0.8289\n",
      "Epoch 3/10\n",
      "165/165 [==============================] - 10s 60ms/step - loss: 1.1537 - accuracy: 0.6178 - val_loss: 0.6983 - val_accuracy: 0.8307\n",
      "Epoch 4/10\n",
      "165/165 [==============================] - 10s 63ms/step - loss: 1.1405 - accuracy: 0.6201 - val_loss: 0.7003 - val_accuracy: 0.8321\n",
      "Epoch 5/10\n",
      "165/165 [==============================] - 10s 63ms/step - loss: 1.1474 - accuracy: 0.6186 - val_loss: 0.7030 - val_accuracy: 0.8322\n",
      "Epoch 6/10\n",
      "165/165 [==============================] - 10s 60ms/step - loss: 1.1357 - accuracy: 0.6201 - val_loss: 0.7102 - val_accuracy: 0.8269\n",
      "Epoch 7/10\n",
      "165/165 [==============================] - 10s 63ms/step - loss: 1.1421 - accuracy: 0.6196 - val_loss: 0.6985 - val_accuracy: 0.8339\n",
      "Epoch 8/10\n",
      "165/165 [==============================] - 10s 62ms/step - loss: 1.1364 - accuracy: 0.6196 - val_loss: 0.6995 - val_accuracy: 0.8333\n",
      "Epoch 9/10\n",
      "165/165 [==============================] - 10s 59ms/step - loss: 1.1379 - accuracy: 0.6192 - val_loss: 0.7046 - val_accuracy: 0.8294\n",
      "Epoch 10/10\n",
      "165/165 [==============================] - 10s 63ms/step - loss: 1.1407 - accuracy: 0.6167 - val_loss: 0.6914 - val_accuracy: 0.8345\n",
      "313/313 [==============================] - 1s 4ms/step - loss: 0.6778 - accuracy: 0.8432\n",
      "Training model <keras.engine.sequential.Sequential object at 0x000002754D833C70> with split 0.3, batch 256 and learning rate 0.1\n",
      "Epoch 1/10\n",
      "165/165 [==============================] - 11s 64ms/step - loss: 1.2697 - accuracy: 0.5785 - val_loss: 0.7361 - val_accuracy: 0.8048\n",
      "Epoch 2/10\n",
      "165/165 [==============================] - 11s 65ms/step - loss: 1.2229 - accuracy: 0.5947 - val_loss: 0.7706 - val_accuracy: 0.8083\n",
      "Epoch 3/10\n",
      "165/165 [==============================] - 12s 73ms/step - loss: 1.2266 - accuracy: 0.5934 - val_loss: 0.7709 - val_accuracy: 0.7875\n",
      "Epoch 4/10\n",
      "165/165 [==============================] - 11s 64ms/step - loss: 1.2297 - accuracy: 0.5917 - val_loss: 0.7429 - val_accuracy: 0.8157\n",
      "Epoch 5/10\n",
      "165/165 [==============================] - 10s 59ms/step - loss: 1.2113 - accuracy: 0.5964 - val_loss: 0.7524 - val_accuracy: 0.8116\n",
      "Epoch 6/10\n",
      "165/165 [==============================] - 11s 64ms/step - loss: 1.2423 - accuracy: 0.5856 - val_loss: 0.7595 - val_accuracy: 0.7873\n",
      "Epoch 7/10\n",
      "165/165 [==============================] - 11s 64ms/step - loss: 1.2277 - accuracy: 0.5931 - val_loss: 0.7395 - val_accuracy: 0.8050\n",
      "Epoch 8/10\n",
      "165/165 [==============================] - 10s 60ms/step - loss: 1.2286 - accuracy: 0.5906 - val_loss: 0.7838 - val_accuracy: 0.7933\n",
      "Epoch 9/10\n",
      "165/165 [==============================] - 11s 65ms/step - loss: 1.2232 - accuracy: 0.5915 - val_loss: 0.8945 - val_accuracy: 0.7539\n",
      "Epoch 10/10\n",
      "165/165 [==============================] - 10s 63ms/step - loss: 1.2476 - accuracy: 0.5838 - val_loss: 0.8201 - val_accuracy: 0.7942\n",
      "313/313 [==============================] - 1s 4ms/step - loss: 0.8212 - accuracy: 0.7940\n",
      "Training model <keras.engine.sequential.Sequential object at 0x000002754D833C70> with split 0.3, batch 512 and learning rate 0.001\n",
      "Epoch 1/10\n",
      "83/83 [==============================] - 10s 114ms/step - loss: 1.2118 - accuracy: 0.5961 - val_loss: 0.7401 - val_accuracy: 0.8217\n",
      "Epoch 2/10\n",
      "83/83 [==============================] - 10s 116ms/step - loss: 1.1836 - accuracy: 0.6060 - val_loss: 0.7313 - val_accuracy: 0.8267\n",
      "Epoch 3/10\n",
      "83/83 [==============================] - 9s 114ms/step - loss: 1.1602 - accuracy: 0.6142 - val_loss: 0.7176 - val_accuracy: 0.8293\n",
      "Epoch 4/10\n",
      "83/83 [==============================] - 9s 114ms/step - loss: 1.1609 - accuracy: 0.6147 - val_loss: 0.7184 - val_accuracy: 0.8297\n",
      "Epoch 5/10\n",
      "83/83 [==============================] - 10s 117ms/step - loss: 1.1514 - accuracy: 0.6180 - val_loss: 0.7164 - val_accuracy: 0.8302\n",
      "Epoch 6/10\n",
      "83/83 [==============================] - 9s 111ms/step - loss: 1.1488 - accuracy: 0.6185 - val_loss: 0.7170 - val_accuracy: 0.8293\n",
      "Epoch 7/10\n",
      "83/83 [==============================] - 10s 118ms/step - loss: 1.1496 - accuracy: 0.6193 - val_loss: 0.7133 - val_accuracy: 0.8318\n",
      "Epoch 8/10\n",
      "83/83 [==============================] - 9s 112ms/step - loss: 1.1504 - accuracy: 0.6207 - val_loss: 0.7127 - val_accuracy: 0.8308\n",
      "Epoch 9/10\n",
      "83/83 [==============================] - 10s 115ms/step - loss: 1.1493 - accuracy: 0.6158 - val_loss: 0.7108 - val_accuracy: 0.8306\n",
      "Epoch 10/10\n",
      "83/83 [==============================] - 10s 116ms/step - loss: 1.1480 - accuracy: 0.6203 - val_loss: 0.7102 - val_accuracy: 0.8316\n",
      "313/313 [==============================] - 1s 5ms/step - loss: 0.6953 - accuracy: 0.8446\n",
      "Training model <keras.engine.sequential.Sequential object at 0x000002754D833C70> with split 0.3, batch 512 and learning rate 0.01\n",
      "Epoch 1/10\n",
      "83/83 [==============================] - 10s 116ms/step - loss: 1.1602 - accuracy: 0.6162 - val_loss: 0.6976 - val_accuracy: 0.8323\n",
      "Epoch 2/10\n",
      "83/83 [==============================] - 10s 118ms/step - loss: 1.1495 - accuracy: 0.6195 - val_loss: 0.7038 - val_accuracy: 0.8278\n",
      "Epoch 3/10\n",
      "83/83 [==============================] - 10s 117ms/step - loss: 1.1399 - accuracy: 0.6210 - val_loss: 0.7071 - val_accuracy: 0.8312\n",
      "Epoch 4/10\n",
      "83/83 [==============================] - 11s 129ms/step - loss: 1.1422 - accuracy: 0.6175 - val_loss: 0.6915 - val_accuracy: 0.8316\n",
      "Epoch 5/10\n",
      "83/83 [==============================] - 11s 127ms/step - loss: 1.1413 - accuracy: 0.6226 - val_loss: 0.7080 - val_accuracy: 0.8239\n",
      "Epoch 6/10\n",
      "83/83 [==============================] - 10s 120ms/step - loss: 1.1463 - accuracy: 0.6171 - val_loss: 0.6946 - val_accuracy: 0.8329\n",
      "Epoch 7/10\n",
      "83/83 [==============================] - 9s 111ms/step - loss: 1.1369 - accuracy: 0.6205 - val_loss: 0.7247 - val_accuracy: 0.8269\n",
      "Epoch 8/10\n",
      "83/83 [==============================] - 10s 117ms/step - loss: 1.1464 - accuracy: 0.6165 - val_loss: 0.7241 - val_accuracy: 0.8277\n",
      "Epoch 9/10\n",
      "83/83 [==============================] - 9s 112ms/step - loss: 1.1494 - accuracy: 0.6162 - val_loss: 0.7370 - val_accuracy: 0.8224\n",
      "Epoch 10/10\n",
      "83/83 [==============================] - 10s 117ms/step - loss: 1.1493 - accuracy: 0.6168 - val_loss: 0.7025 - val_accuracy: 0.8363\n",
      "313/313 [==============================] - 1s 4ms/step - loss: 0.6910 - accuracy: 0.8423\n",
      "Training model <keras.engine.sequential.Sequential object at 0x000002754D833C70> with split 0.3, batch 512 and learning rate 0.1\n",
      "Epoch 1/10\n",
      "83/83 [==============================] - 11s 123ms/step - loss: 1.3569 - accuracy: 0.5569 - val_loss: 0.8374 - val_accuracy: 0.8003\n",
      "Epoch 2/10\n",
      "83/83 [==============================] - 9s 112ms/step - loss: 1.2372 - accuracy: 0.5906 - val_loss: 0.7763 - val_accuracy: 0.8058\n",
      "Epoch 3/10\n",
      "83/83 [==============================] - 10s 119ms/step - loss: 1.1983 - accuracy: 0.6036 - val_loss: 0.7663 - val_accuracy: 0.7927\n",
      "Epoch 4/10\n",
      "83/83 [==============================] - 10s 115ms/step - loss: 1.1978 - accuracy: 0.6065 - val_loss: 0.7967 - val_accuracy: 0.7869\n",
      "Epoch 5/10\n",
      "83/83 [==============================] - 10s 115ms/step - loss: 1.1942 - accuracy: 0.6024 - val_loss: 0.7788 - val_accuracy: 0.8036\n",
      "Epoch 6/10\n",
      "83/83 [==============================] - 10s 118ms/step - loss: 1.2703 - accuracy: 0.5800 - val_loss: 0.7930 - val_accuracy: 0.7998\n",
      "Epoch 7/10\n",
      "83/83 [==============================] - 9s 112ms/step - loss: 1.1957 - accuracy: 0.6022 - val_loss: 0.7531 - val_accuracy: 0.7995\n",
      "Epoch 8/10\n",
      "83/83 [==============================] - 10s 118ms/step - loss: 1.1964 - accuracy: 0.6027 - val_loss: 0.7459 - val_accuracy: 0.8149\n",
      "Epoch 9/10\n",
      "83/83 [==============================] - 10s 115ms/step - loss: 1.2032 - accuracy: 0.6010 - val_loss: 0.7920 - val_accuracy: 0.8005\n",
      "Epoch 10/10\n",
      "83/83 [==============================] - 9s 113ms/step - loss: 1.2055 - accuracy: 0.5976 - val_loss: 0.7288 - val_accuracy: 0.8188\n",
      "313/313 [==============================] - 2s 6ms/step - loss: 0.7166 - accuracy: 0.8322\n",
      "Training model <keras.engine.sequential.Sequential object at 0x000002754D833C70> with split 0.4, batch 128 and learning rate 0.001\n",
      "Epoch 1/10\n",
      "282/282 [==============================] - 12s 41ms/step - loss: 1.1604 - accuracy: 0.6167 - val_loss: 0.7210 - val_accuracy: 0.8276\n",
      "Epoch 2/10\n",
      "282/282 [==============================] - 13s 47ms/step - loss: 1.1421 - accuracy: 0.6237 - val_loss: 0.7144 - val_accuracy: 0.8294\n",
      "Epoch 3/10\n",
      "282/282 [==============================] - 11s 39ms/step - loss: 1.1424 - accuracy: 0.6217 - val_loss: 0.7150 - val_accuracy: 0.8288\n",
      "Epoch 4/10\n",
      "282/282 [==============================] - 10s 36ms/step - loss: 1.1452 - accuracy: 0.6188 - val_loss: 0.7102 - val_accuracy: 0.8294\n",
      "Epoch 5/10\n",
      "282/282 [==============================] - 10s 37ms/step - loss: 1.1293 - accuracy: 0.6257 - val_loss: 0.7056 - val_accuracy: 0.8273\n",
      "Epoch 6/10\n",
      "282/282 [==============================] - 10s 34ms/step - loss: 1.1320 - accuracy: 0.6224 - val_loss: 0.7049 - val_accuracy: 0.8274\n",
      "Epoch 7/10\n",
      "282/282 [==============================] - 10s 37ms/step - loss: 1.1341 - accuracy: 0.6215 - val_loss: 0.7034 - val_accuracy: 0.8290\n",
      "Epoch 8/10\n",
      "282/282 [==============================] - 10s 37ms/step - loss: 1.1320 - accuracy: 0.6225 - val_loss: 0.7022 - val_accuracy: 0.8279\n",
      "Epoch 9/10\n",
      "282/282 [==============================] - 10s 35ms/step - loss: 1.1361 - accuracy: 0.6216 - val_loss: 0.7073 - val_accuracy: 0.8295\n",
      "Epoch 10/10\n",
      "282/282 [==============================] - 10s 37ms/step - loss: 1.1285 - accuracy: 0.6251 - val_loss: 0.7005 - val_accuracy: 0.8290\n",
      "313/313 [==============================] - 1s 4ms/step - loss: 0.6794 - accuracy: 0.8434\n",
      "Training model <keras.engine.sequential.Sequential object at 0x000002754D833C70> with split 0.4, batch 128 and learning rate 0.01\n",
      "Epoch 1/10\n",
      "282/282 [==============================] - 12s 37ms/step - loss: 1.1373 - accuracy: 0.6213 - val_loss: 0.7089 - val_accuracy: 0.8288\n",
      "Epoch 2/10\n",
      "282/282 [==============================] - 9s 34ms/step - loss: 1.1438 - accuracy: 0.6194 - val_loss: 0.6966 - val_accuracy: 0.8251\n",
      "Epoch 3/10\n",
      "282/282 [==============================] - 10s 36ms/step - loss: 1.1387 - accuracy: 0.6231 - val_loss: 0.7171 - val_accuracy: 0.8225\n",
      "Epoch 4/10\n",
      "282/282 [==============================] - 10s 36ms/step - loss: 1.1333 - accuracy: 0.6207 - val_loss: 0.7191 - val_accuracy: 0.8192\n",
      "Epoch 5/10\n",
      "282/282 [==============================] - 10s 34ms/step - loss: 1.1459 - accuracy: 0.6182 - val_loss: 0.7032 - val_accuracy: 0.8200\n",
      "Epoch 6/10\n",
      "282/282 [==============================] - 11s 40ms/step - loss: 1.1416 - accuracy: 0.6185 - val_loss: 0.7083 - val_accuracy: 0.8265\n",
      "Epoch 7/10\n",
      "282/282 [==============================] - 12s 42ms/step - loss: 1.1453 - accuracy: 0.6207 - val_loss: 0.7087 - val_accuracy: 0.8320\n",
      "Epoch 8/10\n",
      "282/282 [==============================] - 10s 35ms/step - loss: 1.1508 - accuracy: 0.6158 - val_loss: 0.7116 - val_accuracy: 0.8267\n",
      "Epoch 9/10\n",
      "282/282 [==============================] - 10s 37ms/step - loss: 1.1423 - accuracy: 0.6177 - val_loss: 0.7212 - val_accuracy: 0.8247\n",
      "Epoch 10/10\n",
      "282/282 [==============================] - 10s 36ms/step - loss: 1.1404 - accuracy: 0.6171 - val_loss: 0.6966 - val_accuracy: 0.8310\n",
      "313/313 [==============================] - 1s 4ms/step - loss: 0.6737 - accuracy: 0.8417\n",
      "Training model <keras.engine.sequential.Sequential object at 0x000002754D833C70> with split 0.4, batch 128 and learning rate 0.1\n",
      "Epoch 1/10\n",
      "282/282 [==============================] - 11s 36ms/step - loss: 1.4551 - accuracy: 0.5285 - val_loss: 0.8240 - val_accuracy: 0.7852\n",
      "Epoch 2/10\n",
      "282/282 [==============================] - 10s 37ms/step - loss: 1.2457 - accuracy: 0.5854 - val_loss: 0.7894 - val_accuracy: 0.7821\n",
      "Epoch 3/10\n",
      "282/282 [==============================] - 10s 36ms/step - loss: 1.2470 - accuracy: 0.5838 - val_loss: 1.0039 - val_accuracy: 0.7024\n",
      "Epoch 4/10\n",
      "282/282 [==============================] - 10s 34ms/step - loss: 1.2815 - accuracy: 0.5762 - val_loss: 0.8373 - val_accuracy: 0.8000\n",
      "Epoch 5/10\n",
      "282/282 [==============================] - 10s 37ms/step - loss: 1.2663 - accuracy: 0.5821 - val_loss: 0.8297 - val_accuracy: 0.7904\n",
      "Epoch 6/10\n",
      "282/282 [==============================] - 10s 35ms/step - loss: 1.2594 - accuracy: 0.5835 - val_loss: 0.8541 - val_accuracy: 0.7620\n",
      "Epoch 7/10\n",
      "282/282 [==============================] - 10s 36ms/step - loss: 1.2680 - accuracy: 0.5779 - val_loss: 0.8747 - val_accuracy: 0.7582\n",
      "Epoch 8/10\n",
      "282/282 [==============================] - 10s 36ms/step - loss: 1.3021 - accuracy: 0.5682 - val_loss: 0.9430 - val_accuracy: 0.7222\n",
      "Epoch 9/10\n",
      "282/282 [==============================] - 10s 34ms/step - loss: 1.2739 - accuracy: 0.5786 - val_loss: 0.8031 - val_accuracy: 0.7931\n",
      "Epoch 10/10\n",
      "282/282 [==============================] - 10s 36ms/step - loss: 1.2741 - accuracy: 0.5787 - val_loss: 0.9349 - val_accuracy: 0.7570\n",
      "313/313 [==============================] - 1s 4ms/step - loss: 0.9241 - accuracy: 0.7639\n",
      "Training model <keras.engine.sequential.Sequential object at 0x000002754D833C70> with split 0.4, batch 256 and learning rate 0.001\n",
      "Epoch 1/10\n",
      "141/141 [==============================] - 10s 68ms/step - loss: 1.2796 - accuracy: 0.5826 - val_loss: 0.8390 - val_accuracy: 0.8045\n",
      "Epoch 2/10\n",
      "141/141 [==============================] - 10s 69ms/step - loss: 1.2460 - accuracy: 0.5951 - val_loss: 0.8069 - val_accuracy: 0.8096\n",
      "Epoch 3/10\n",
      "141/141 [==============================] - 13s 89ms/step - loss: 1.2288 - accuracy: 0.5976 - val_loss: 0.7905 - val_accuracy: 0.8133\n",
      "Epoch 4/10\n",
      "141/141 [==============================] - 10s 68ms/step - loss: 1.2194 - accuracy: 0.5994 - val_loss: 0.7772 - val_accuracy: 0.8145\n",
      "Epoch 5/10\n",
      "141/141 [==============================] - 9s 63ms/step - loss: 1.2075 - accuracy: 0.6029 - val_loss: 0.7646 - val_accuracy: 0.8183\n",
      "Epoch 6/10\n",
      "141/141 [==============================] - 10s 69ms/step - loss: 1.1899 - accuracy: 0.6071 - val_loss: 0.7535 - val_accuracy: 0.8213\n",
      "Epoch 7/10\n",
      "141/141 [==============================] - 9s 64ms/step - loss: 1.1845 - accuracy: 0.6085 - val_loss: 0.7501 - val_accuracy: 0.8233\n",
      "Epoch 8/10\n",
      "141/141 [==============================] - 10s 69ms/step - loss: 1.1848 - accuracy: 0.6096 - val_loss: 0.7481 - val_accuracy: 0.8219\n",
      "Epoch 9/10\n",
      "141/141 [==============================] - 10s 70ms/step - loss: 1.1803 - accuracy: 0.6083 - val_loss: 0.7381 - val_accuracy: 0.8236\n",
      "Epoch 10/10\n",
      "141/141 [==============================] - 9s 65ms/step - loss: 1.1703 - accuracy: 0.6141 - val_loss: 0.7395 - val_accuracy: 0.8236\n",
      "313/313 [==============================] - 1s 5ms/step - loss: 0.7205 - accuracy: 0.8407\n",
      "Training model <keras.engine.sequential.Sequential object at 0x000002754D833C70> with split 0.4, batch 256 and learning rate 0.01\n",
      "Epoch 1/10\n",
      "141/141 [==============================] - 11s 71ms/step - loss: 1.1734 - accuracy: 0.6107 - val_loss: 0.7375 - val_accuracy: 0.8247\n",
      "Epoch 2/10\n",
      "141/141 [==============================] - 12s 87ms/step - loss: 1.1561 - accuracy: 0.6174 - val_loss: 0.7425 - val_accuracy: 0.8196\n",
      "Epoch 3/10\n",
      "141/141 [==============================] - 10s 69ms/step - loss: 1.1494 - accuracy: 0.6190 - val_loss: 0.7221 - val_accuracy: 0.8283\n",
      "Epoch 4/10\n",
      "141/141 [==============================] - 10s 70ms/step - loss: 1.1427 - accuracy: 0.6200 - val_loss: 0.7199 - val_accuracy: 0.8228\n",
      "Epoch 5/10\n",
      "141/141 [==============================] - 10s 69ms/step - loss: 1.1392 - accuracy: 0.6188 - val_loss: 0.6973 - val_accuracy: 0.8245\n",
      "Epoch 6/10\n",
      "141/141 [==============================] - 9s 65ms/step - loss: 1.1339 - accuracy: 0.6214 - val_loss: 0.7296 - val_accuracy: 0.8221\n",
      "Epoch 7/10\n",
      "141/141 [==============================] - 10s 70ms/step - loss: 1.1376 - accuracy: 0.6205 - val_loss: 0.7069 - val_accuracy: 0.8294\n",
      "Epoch 8/10\n",
      "141/141 [==============================] - 9s 64ms/step - loss: 1.1334 - accuracy: 0.6207 - val_loss: 0.7042 - val_accuracy: 0.8285\n",
      "Epoch 9/10\n",
      "141/141 [==============================] - 10s 74ms/step - loss: 1.1309 - accuracy: 0.6233 - val_loss: 0.7066 - val_accuracy: 0.8305\n",
      "Epoch 10/10\n",
      "141/141 [==============================] - 10s 72ms/step - loss: 1.1410 - accuracy: 0.6205 - val_loss: 0.7092 - val_accuracy: 0.8314\n",
      "313/313 [==============================] - 2s 5ms/step - loss: 0.6893 - accuracy: 0.8414\n",
      "Training model <keras.engine.sequential.Sequential object at 0x000002754D833C70> with split 0.4, batch 256 and learning rate 0.1\n",
      "Epoch 1/10\n",
      "141/141 [==============================] - 10s 66ms/step - loss: 1.2918 - accuracy: 0.5728 - val_loss: 0.7866 - val_accuracy: 0.7874\n",
      "Epoch 2/10\n",
      "141/141 [==============================] - 10s 72ms/step - loss: 1.2202 - accuracy: 0.5949 - val_loss: 0.7983 - val_accuracy: 0.7982\n",
      "Epoch 3/10\n",
      "141/141 [==============================] - 9s 67ms/step - loss: 1.2209 - accuracy: 0.5967 - val_loss: 0.7873 - val_accuracy: 0.8049\n",
      "Epoch 4/10\n",
      "141/141 [==============================] - 9s 65ms/step - loss: 1.2487 - accuracy: 0.5873 - val_loss: 0.7382 - val_accuracy: 0.8083\n",
      "Epoch 5/10\n",
      "141/141 [==============================] - 10s 69ms/step - loss: 1.2301 - accuracy: 0.5936 - val_loss: 0.7689 - val_accuracy: 0.7992\n",
      "Epoch 6/10\n",
      "141/141 [==============================] - 9s 64ms/step - loss: 1.2324 - accuracy: 0.5897 - val_loss: 0.8257 - val_accuracy: 0.7676\n",
      "Epoch 7/10\n",
      "141/141 [==============================] - 10s 68ms/step - loss: 1.2388 - accuracy: 0.5925 - val_loss: 0.7680 - val_accuracy: 0.8054\n",
      "Epoch 8/10\n",
      "141/141 [==============================] - 9s 66ms/step - loss: 1.2089 - accuracy: 0.5968 - val_loss: 0.7703 - val_accuracy: 0.8103\n",
      "Epoch 9/10\n",
      "141/141 [==============================] - 10s 68ms/step - loss: 1.2391 - accuracy: 0.5908 - val_loss: 0.7834 - val_accuracy: 0.8111\n",
      "Epoch 10/10\n",
      "141/141 [==============================] - 10s 74ms/step - loss: 1.2356 - accuracy: 0.5895 - val_loss: 0.7692 - val_accuracy: 0.7973\n",
      "313/313 [==============================] - 3s 10ms/step - loss: 0.7494 - accuracy: 0.8144\n",
      "Training model <keras.engine.sequential.Sequential object at 0x000002754D833C70> with split 0.4, batch 512 and learning rate 0.001\n",
      "Epoch 1/10\n",
      "71/71 [==============================] - 10s 130ms/step - loss: 1.2153 - accuracy: 0.5970 - val_loss: 0.7432 - val_accuracy: 0.8133\n",
      "Epoch 2/10\n",
      "71/71 [==============================] - 9s 121ms/step - loss: 1.1874 - accuracy: 0.6053 - val_loss: 0.7351 - val_accuracy: 0.8197\n",
      "Epoch 3/10\n",
      "71/71 [==============================] - 9s 130ms/step - loss: 1.1879 - accuracy: 0.6076 - val_loss: 0.7353 - val_accuracy: 0.8207\n",
      "Epoch 4/10\n",
      "71/71 [==============================] - 9s 121ms/step - loss: 1.1707 - accuracy: 0.6144 - val_loss: 0.7306 - val_accuracy: 0.8239\n",
      "Epoch 5/10\n",
      "71/71 [==============================] - 9s 128ms/step - loss: 1.1645 - accuracy: 0.6144 - val_loss: 0.7286 - val_accuracy: 0.8241\n",
      "Epoch 6/10\n",
      "71/71 [==============================] - 8s 120ms/step - loss: 1.1623 - accuracy: 0.6166 - val_loss: 0.7288 - val_accuracy: 0.8242\n",
      "Epoch 7/10\n",
      "71/71 [==============================] - 9s 129ms/step - loss: 1.1587 - accuracy: 0.6146 - val_loss: 0.7238 - val_accuracy: 0.8249\n",
      "Epoch 8/10\n",
      "71/71 [==============================] - 9s 120ms/step - loss: 1.1531 - accuracy: 0.6178 - val_loss: 0.7198 - val_accuracy: 0.8262\n",
      "Epoch 9/10\n",
      "71/71 [==============================] - 9s 128ms/step - loss: 1.1502 - accuracy: 0.6189 - val_loss: 0.7186 - val_accuracy: 0.8265\n",
      "Epoch 10/10\n",
      "71/71 [==============================] - 9s 126ms/step - loss: 1.1470 - accuracy: 0.6203 - val_loss: 0.7156 - val_accuracy: 0.8278\n",
      "313/313 [==============================] - 3s 9ms/step - loss: 0.6949 - accuracy: 0.8447\n",
      "Training model <keras.engine.sequential.Sequential object at 0x000002754D833C70> with split 0.4, batch 512 and learning rate 0.01\n",
      "Epoch 1/10\n",
      "71/71 [==============================] - 10s 129ms/step - loss: 1.1550 - accuracy: 0.6159 - val_loss: 0.7237 - val_accuracy: 0.8258\n",
      "Epoch 2/10\n",
      "71/71 [==============================] - 10s 136ms/step - loss: 1.1478 - accuracy: 0.6200 - val_loss: 0.7083 - val_accuracy: 0.8260\n",
      "Epoch 3/10\n",
      "71/71 [==============================] - 9s 122ms/step - loss: 1.1396 - accuracy: 0.6215 - val_loss: 0.7098 - val_accuracy: 0.8237\n",
      "Epoch 4/10\n",
      "71/71 [==============================] - 9s 123ms/step - loss: 1.1400 - accuracy: 0.6174 - val_loss: 0.6985 - val_accuracy: 0.8268\n",
      "Epoch 5/10\n",
      "71/71 [==============================] - 10s 138ms/step - loss: 1.1397 - accuracy: 0.6228 - val_loss: 0.7132 - val_accuracy: 0.8250\n",
      "Epoch 6/10\n",
      "71/71 [==============================] - 10s 144ms/step - loss: 1.1304 - accuracy: 0.6223 - val_loss: 0.7082 - val_accuracy: 0.8271\n",
      "Epoch 7/10\n",
      "71/71 [==============================] - 11s 149ms/step - loss: 1.1245 - accuracy: 0.6252 - val_loss: 0.7068 - val_accuracy: 0.8246\n",
      "Epoch 8/10\n",
      "71/71 [==============================] - 9s 128ms/step - loss: 1.1366 - accuracy: 0.6239 - val_loss: 0.7175 - val_accuracy: 0.8267\n",
      "Epoch 9/10\n",
      "71/71 [==============================] - 9s 123ms/step - loss: 1.1383 - accuracy: 0.6179 - val_loss: 0.7128 - val_accuracy: 0.8311\n",
      "Epoch 10/10\n",
      "71/71 [==============================] - 9s 126ms/step - loss: 1.1361 - accuracy: 0.6176 - val_loss: 0.7027 - val_accuracy: 0.8302\n",
      "313/313 [==============================] - 1s 4ms/step - loss: 0.6803 - accuracy: 0.8463\n",
      "Training model <keras.engine.sequential.Sequential object at 0x000002754D833C70> with split 0.4, batch 512 and learning rate 0.1\n",
      "Epoch 1/10\n",
      "71/71 [==============================] - 9s 124ms/step - loss: 1.3333 - accuracy: 0.5599 - val_loss: 0.7900 - val_accuracy: 0.8015\n",
      "Epoch 2/10\n",
      "71/71 [==============================] - 10s 137ms/step - loss: 1.1992 - accuracy: 0.6018 - val_loss: 0.7502 - val_accuracy: 0.8141\n",
      "Epoch 3/10\n",
      "71/71 [==============================] - 8s 119ms/step - loss: 1.1771 - accuracy: 0.6089 - val_loss: 0.7628 - val_accuracy: 0.8030\n",
      "Epoch 4/10\n",
      "71/71 [==============================] - 9s 126ms/step - loss: 1.2049 - accuracy: 0.5993 - val_loss: 0.7854 - val_accuracy: 0.7943\n",
      "Epoch 5/10\n",
      "71/71 [==============================] - 9s 123ms/step - loss: 1.1855 - accuracy: 0.6093 - val_loss: 0.7405 - val_accuracy: 0.8227\n",
      "Epoch 6/10\n",
      "71/71 [==============================] - 9s 121ms/step - loss: 1.1840 - accuracy: 0.6075 - val_loss: 0.7831 - val_accuracy: 0.7962\n",
      "Epoch 7/10\n",
      "71/71 [==============================] - 9s 125ms/step - loss: 1.1856 - accuracy: 0.6030 - val_loss: 0.7154 - val_accuracy: 0.8227\n",
      "Epoch 8/10\n",
      "71/71 [==============================] - 9s 121ms/step - loss: 1.1774 - accuracy: 0.6084 - val_loss: 0.7849 - val_accuracy: 0.7897\n",
      "Epoch 9/10\n",
      "71/71 [==============================] - 9s 129ms/step - loss: 1.1851 - accuracy: 0.6048 - val_loss: 0.7169 - val_accuracy: 0.8132\n",
      "Epoch 10/10\n",
      "71/71 [==============================] - 9s 121ms/step - loss: 1.1827 - accuracy: 0.6046 - val_loss: 0.7506 - val_accuracy: 0.8068\n",
      "313/313 [==============================] - 1s 4ms/step - loss: 0.7252 - accuracy: 0.8228\n",
      "Training model <keras.engine.sequential.Sequential object at 0x000002754D833C70> with split 0.5, batch 128 and learning rate 0.001\n",
      "Epoch 1/10\n",
      "235/235 [==============================] - 10s 41ms/step - loss: 1.1424 - accuracy: 0.6153 - val_loss: 0.7193 - val_accuracy: 0.8240\n",
      "Epoch 2/10\n",
      "235/235 [==============================] - 10s 43ms/step - loss: 1.1395 - accuracy: 0.6203 - val_loss: 0.7147 - val_accuracy: 0.8246\n",
      "Epoch 3/10\n",
      "235/235 [==============================] - 10s 41ms/step - loss: 1.1309 - accuracy: 0.6213 - val_loss: 0.7127 - val_accuracy: 0.8260\n",
      "Epoch 4/10\n",
      "235/235 [==============================] - 10s 41ms/step - loss: 1.1289 - accuracy: 0.6230 - val_loss: 0.7124 - val_accuracy: 0.8266\n",
      "Epoch 5/10\n",
      "235/235 [==============================] - 9s 37ms/step - loss: 1.1327 - accuracy: 0.6188 - val_loss: 0.7109 - val_accuracy: 0.8266\n",
      "Epoch 6/10\n",
      "235/235 [==============================] - 10s 41ms/step - loss: 1.1222 - accuracy: 0.6234 - val_loss: 0.7113 - val_accuracy: 0.8261\n",
      "Epoch 7/10\n",
      "235/235 [==============================] - 9s 38ms/step - loss: 1.1331 - accuracy: 0.6181 - val_loss: 0.7055 - val_accuracy: 0.8283\n",
      "Epoch 8/10\n",
      "235/235 [==============================] - 9s 39ms/step - loss: 1.1353 - accuracy: 0.6251 - val_loss: 0.7146 - val_accuracy: 0.8249\n",
      "Epoch 9/10\n",
      "235/235 [==============================] - 9s 40ms/step - loss: 1.1353 - accuracy: 0.6200 - val_loss: 0.7119 - val_accuracy: 0.8253\n",
      "Epoch 10/10\n",
      "235/235 [==============================] - 9s 37ms/step - loss: 1.1212 - accuracy: 0.6262 - val_loss: 0.7040 - val_accuracy: 0.8272\n",
      "313/313 [==============================] - 1s 4ms/step - loss: 0.6788 - accuracy: 0.8421\n",
      "Training model <keras.engine.sequential.Sequential object at 0x000002754D833C70> with split 0.5, batch 128 and learning rate 0.01\n",
      "Epoch 1/10\n",
      "235/235 [==============================] - 12s 50ms/step - loss: 1.1509 - accuracy: 0.6150 - val_loss: 0.7073 - val_accuracy: 0.8274\n",
      "Epoch 2/10\n",
      "235/235 [==============================] - 9s 40ms/step - loss: 1.1461 - accuracy: 0.6191 - val_loss: 0.7191 - val_accuracy: 0.8274\n",
      "Epoch 3/10\n",
      "235/235 [==============================] - 9s 38ms/step - loss: 1.1336 - accuracy: 0.6208 - val_loss: 0.7105 - val_accuracy: 0.8241\n",
      "Epoch 4/10\n",
      "235/235 [==============================] - 10s 42ms/step - loss: 1.1434 - accuracy: 0.6173 - val_loss: 0.7276 - val_accuracy: 0.8239\n",
      "Epoch 5/10\n",
      "235/235 [==============================] - 9s 37ms/step - loss: 1.1279 - accuracy: 0.6235 - val_loss: 0.7008 - val_accuracy: 0.8288\n",
      "Epoch 6/10\n",
      "235/235 [==============================] - 10s 42ms/step - loss: 1.1384 - accuracy: 0.6192 - val_loss: 0.6972 - val_accuracy: 0.8301\n",
      "Epoch 7/10\n",
      "235/235 [==============================] - 9s 38ms/step - loss: 1.1328 - accuracy: 0.6233 - val_loss: 0.7512 - val_accuracy: 0.8211\n",
      "Epoch 8/10\n",
      "235/235 [==============================] - 9s 39ms/step - loss: 1.1324 - accuracy: 0.6208 - val_loss: 0.7006 - val_accuracy: 0.8297\n",
      "Epoch 9/10\n",
      "235/235 [==============================] - 9s 40ms/step - loss: 1.1286 - accuracy: 0.6222 - val_loss: 0.7243 - val_accuracy: 0.8274\n",
      "Epoch 10/10\n",
      "235/235 [==============================] - 9s 37ms/step - loss: 1.1330 - accuracy: 0.6176 - val_loss: 0.6965 - val_accuracy: 0.8255\n",
      "313/313 [==============================] - 1s 4ms/step - loss: 0.6670 - accuracy: 0.8389\n",
      "Training model <keras.engine.sequential.Sequential object at 0x000002754D833C70> with split 0.5, batch 128 and learning rate 0.1\n",
      "Epoch 1/10\n",
      "235/235 [==============================] - 11s 45ms/step - loss: 2.5781 - accuracy: 0.1099 - val_loss: 2.3051 - val_accuracy: 0.1106\n",
      "Epoch 2/10\n",
      "235/235 [==============================] - 9s 39ms/step - loss: 2.3063 - accuracy: 0.1043 - val_loss: 2.3086 - val_accuracy: 0.1106\n",
      "Epoch 3/10\n",
      "235/235 [==============================] - 9s 39ms/step - loss: 2.3067 - accuracy: 0.1033 - val_loss: 2.3052 - val_accuracy: 0.1019\n",
      "Epoch 4/10\n",
      "235/235 [==============================] - 10s 44ms/step - loss: 2.3062 - accuracy: 0.1053 - val_loss: 2.3126 - val_accuracy: 0.0982\n",
      "Epoch 5/10\n",
      "235/235 [==============================] - 9s 38ms/step - loss: 2.3066 - accuracy: 0.1053 - val_loss: 2.3033 - val_accuracy: 0.0981\n",
      "Epoch 6/10\n",
      "235/235 [==============================] - 10s 42ms/step - loss: 2.3063 - accuracy: 0.1043 - val_loss: 2.3051 - val_accuracy: 0.1019\n",
      "Epoch 7/10\n",
      "235/235 [==============================] - 9s 39ms/step - loss: 2.3073 - accuracy: 0.1052 - val_loss: 2.3077 - val_accuracy: 0.0982\n",
      "Epoch 8/10\n",
      "235/235 [==============================] - 9s 39ms/step - loss: 2.3077 - accuracy: 0.1060 - val_loss: 2.3059 - val_accuracy: 0.1106\n",
      "Epoch 9/10\n",
      "235/235 [==============================] - 9s 39ms/step - loss: 2.3065 - accuracy: 0.1081 - val_loss: 2.3029 - val_accuracy: 0.1106\n",
      "Epoch 10/10\n",
      "235/235 [==============================] - 9s 37ms/step - loss: 2.3071 - accuracy: 0.1056 - val_loss: 2.3065 - val_accuracy: 0.1106\n",
      "313/313 [==============================] - 1s 4ms/step - loss: 2.3054 - accuracy: 0.1135\n",
      "Training model <keras.engine.sequential.Sequential object at 0x000002754D833C70> with split 0.5, batch 256 and learning rate 0.001\n",
      "Epoch 1/10\n",
      "118/118 [==============================] - 9s 75ms/step - loss: 2.3038 - accuracy: 0.1141 - val_loss: 2.3033 - val_accuracy: 0.1106\n",
      "Epoch 2/10\n",
      "118/118 [==============================] - 8s 70ms/step - loss: 2.3019 - accuracy: 0.1141 - val_loss: 2.3021 - val_accuracy: 0.1106\n",
      "Epoch 3/10\n",
      "118/118 [==============================] - 9s 73ms/step - loss: 2.3013 - accuracy: 0.1141 - val_loss: 2.3017 - val_accuracy: 0.1106\n",
      "Epoch 4/10\n",
      "118/118 [==============================] - 8s 68ms/step - loss: 2.3011 - accuracy: 0.1141 - val_loss: 2.3015 - val_accuracy: 0.1106\n",
      "Epoch 5/10\n",
      "118/118 [==============================] - 9s 73ms/step - loss: 2.3010 - accuracy: 0.1141 - val_loss: 2.3015 - val_accuracy: 0.1106\n",
      "Epoch 6/10\n",
      "118/118 [==============================] - 8s 71ms/step - loss: 2.3010 - accuracy: 0.1141 - val_loss: 2.3015 - val_accuracy: 0.1106\n",
      "Epoch 7/10\n",
      "118/118 [==============================] - 8s 71ms/step - loss: 2.3010 - accuracy: 0.1141 - val_loss: 2.3015 - val_accuracy: 0.1106\n",
      "Epoch 8/10\n",
      "118/118 [==============================] - 8s 71ms/step - loss: 2.3010 - accuracy: 0.1141 - val_loss: 2.3015 - val_accuracy: 0.1106\n",
      "Epoch 9/10\n",
      "118/118 [==============================] - 10s 84ms/step - loss: 2.3010 - accuracy: 0.1141 - val_loss: 2.3015 - val_accuracy: 0.1106\n",
      "Epoch 10/10\n",
      "118/118 [==============================] - 8s 70ms/step - loss: 2.3010 - accuracy: 0.1141 - val_loss: 2.3015 - val_accuracy: 0.1106\n",
      "313/313 [==============================] - 1s 4ms/step - loss: 2.3011 - accuracy: 0.1135\n",
      "Training model <keras.engine.sequential.Sequential object at 0x000002754D833C70> with split 0.5, batch 256 and learning rate 0.01\n",
      "Epoch 1/10\n",
      "118/118 [==============================] - 8s 67ms/step - loss: 2.3014 - accuracy: 0.1141 - val_loss: 2.3018 - val_accuracy: 0.1106\n",
      "Epoch 2/10\n",
      "118/118 [==============================] - 8s 72ms/step - loss: 2.3014 - accuracy: 0.1141 - val_loss: 2.3020 - val_accuracy: 0.1106\n",
      "Epoch 3/10\n",
      "118/118 [==============================] - 8s 70ms/step - loss: 2.3016 - accuracy: 0.1141 - val_loss: 2.3018 - val_accuracy: 0.1106\n",
      "Epoch 4/10\n",
      "118/118 [==============================] - 8s 71ms/step - loss: 2.3013 - accuracy: 0.1141 - val_loss: 2.3019 - val_accuracy: 0.1106\n",
      "Epoch 5/10\n",
      "118/118 [==============================] - 8s 66ms/step - loss: 2.3015 - accuracy: 0.1141 - val_loss: 2.3018 - val_accuracy: 0.1106\n",
      "Epoch 6/10\n",
      "118/118 [==============================] - 8s 72ms/step - loss: 2.3016 - accuracy: 0.1141 - val_loss: 2.3019 - val_accuracy: 0.1106\n",
      "Epoch 7/10\n",
      "118/118 [==============================] - 8s 65ms/step - loss: 2.3013 - accuracy: 0.1141 - val_loss: 2.3016 - val_accuracy: 0.1106\n",
      "Epoch 8/10\n",
      "118/118 [==============================] - 8s 72ms/step - loss: 2.3014 - accuracy: 0.1141 - val_loss: 2.3017 - val_accuracy: 0.1106\n",
      "Epoch 9/10\n",
      "118/118 [==============================] - 8s 66ms/step - loss: 2.3016 - accuracy: 0.1141 - val_loss: 2.3019 - val_accuracy: 0.1106\n",
      "Epoch 10/10\n",
      "118/118 [==============================] - 8s 72ms/step - loss: 2.3017 - accuracy: 0.1141 - val_loss: 2.3015 - val_accuracy: 0.1106\n",
      "313/313 [==============================] - 1s 4ms/step - loss: 2.3011 - accuracy: 0.1135\n",
      "Training model <keras.engine.sequential.Sequential object at 0x000002754D833C70> with split 0.5, batch 256 and learning rate 0.1\n",
      "Epoch 1/10\n",
      "118/118 [==============================] - 9s 69ms/step - loss: 2.3057 - accuracy: 0.1040 - val_loss: 2.3034 - val_accuracy: 0.1106\n",
      "Epoch 2/10\n",
      "118/118 [==============================] - 8s 68ms/step - loss: 2.3054 - accuracy: 0.1071 - val_loss: 2.3037 - val_accuracy: 0.1106\n",
      "Epoch 3/10\n",
      "118/118 [==============================] - 9s 73ms/step - loss: 2.3045 - accuracy: 0.1065 - val_loss: 2.3038 - val_accuracy: 0.1106\n",
      "Epoch 4/10\n",
      "118/118 [==============================] - 9s 73ms/step - loss: 2.3054 - accuracy: 0.1063 - val_loss: 2.3080 - val_accuracy: 0.1019\n",
      "Epoch 5/10\n",
      "118/118 [==============================] - 8s 70ms/step - loss: 2.3058 - accuracy: 0.1082 - val_loss: 2.3056 - val_accuracy: 0.0904\n",
      "Epoch 6/10\n",
      "118/118 [==============================] - 8s 66ms/step - loss: 2.3058 - accuracy: 0.1084 - val_loss: 2.3044 - val_accuracy: 0.0987\n",
      "Epoch 7/10\n",
      "118/118 [==============================] - 9s 73ms/step - loss: 2.3049 - accuracy: 0.1073 - val_loss: 2.3033 - val_accuracy: 0.1106\n",
      "Epoch 8/10\n",
      "118/118 [==============================] - 8s 65ms/step - loss: 2.3044 - accuracy: 0.1074 - val_loss: 2.3057 - val_accuracy: 0.1019\n",
      "Epoch 9/10\n",
      "118/118 [==============================] - 8s 71ms/step - loss: 2.3067 - accuracy: 0.1073 - val_loss: 2.3068 - val_accuracy: 0.0982\n",
      "Epoch 10/10\n",
      "118/118 [==============================] - 8s 66ms/step - loss: 2.3057 - accuracy: 0.1049 - val_loss: 2.3084 - val_accuracy: 0.1019\n",
      "313/313 [==============================] - 1s 4ms/step - loss: 2.3078 - accuracy: 0.1010\n",
      "Training model <keras.engine.sequential.Sequential object at 0x000002754D833C70> with split 0.5, batch 512 and learning rate 0.001\n",
      "Epoch 1/10\n",
      "59/59 [==============================] - 8s 132ms/step - loss: 2.3055 - accuracy: 0.1024 - val_loss: 2.3052 - val_accuracy: 0.1019\n",
      "Epoch 2/10\n",
      "59/59 [==============================] - 7s 124ms/step - loss: 2.3033 - accuracy: 0.1024 - val_loss: 2.3035 - val_accuracy: 0.1019\n",
      "Epoch 3/10\n",
      "59/59 [==============================] - 8s 132ms/step - loss: 2.3021 - accuracy: 0.1119 - val_loss: 2.3025 - val_accuracy: 0.1106\n",
      "Epoch 4/10\n",
      "59/59 [==============================] - 7s 124ms/step - loss: 2.3015 - accuracy: 0.1141 - val_loss: 2.3020 - val_accuracy: 0.1106\n",
      "Epoch 5/10\n",
      "59/59 [==============================] - 8s 129ms/step - loss: 2.3012 - accuracy: 0.1141 - val_loss: 2.3018 - val_accuracy: 0.1106\n",
      "Epoch 6/10\n",
      "59/59 [==============================] - 7s 124ms/step - loss: 2.3011 - accuracy: 0.1141 - val_loss: 2.3016 - val_accuracy: 0.1106\n",
      "Epoch 7/10\n",
      "59/59 [==============================] - 8s 128ms/step - loss: 2.3010 - accuracy: 0.1141 - val_loss: 2.3016 - val_accuracy: 0.1106\n",
      "Epoch 8/10\n",
      "59/59 [==============================] - 7s 126ms/step - loss: 2.3010 - accuracy: 0.1141 - val_loss: 2.3015 - val_accuracy: 0.1106\n",
      "Epoch 9/10\n",
      "59/59 [==============================] - 7s 127ms/step - loss: 2.3010 - accuracy: 0.1141 - val_loss: 2.3015 - val_accuracy: 0.1106\n",
      "Epoch 10/10\n",
      "59/59 [==============================] - 8s 128ms/step - loss: 2.3010 - accuracy: 0.1141 - val_loss: 2.3015 - val_accuracy: 0.1106\n",
      "313/313 [==============================] - 1s 4ms/step - loss: 2.3011 - accuracy: 0.1135\n",
      "Training model <keras.engine.sequential.Sequential object at 0x000002754D833C70> with split 0.5, batch 512 and learning rate 0.01\n",
      "Epoch 1/10\n",
      "59/59 [==============================] - 8s 131ms/step - loss: 2.3015 - accuracy: 0.1141 - val_loss: 2.3016 - val_accuracy: 0.1106\n",
      "Epoch 2/10\n",
      "59/59 [==============================] - 7s 127ms/step - loss: 2.3012 - accuracy: 0.1141 - val_loss: 2.3016 - val_accuracy: 0.1106\n",
      "Epoch 3/10\n",
      "59/59 [==============================] - 7s 125ms/step - loss: 2.3014 - accuracy: 0.1141 - val_loss: 2.3018 - val_accuracy: 0.1106\n",
      "Epoch 4/10\n",
      "59/59 [==============================] - 8s 138ms/step - loss: 2.3013 - accuracy: 0.1141 - val_loss: 2.3016 - val_accuracy: 0.1106\n",
      "Epoch 5/10\n",
      "59/59 [==============================] - 7s 123ms/step - loss: 2.3013 - accuracy: 0.1141 - val_loss: 2.3018 - val_accuracy: 0.1106\n",
      "Epoch 6/10\n",
      "59/59 [==============================] - 8s 130ms/step - loss: 2.3013 - accuracy: 0.1141 - val_loss: 2.3016 - val_accuracy: 0.1106\n",
      "Epoch 7/10\n",
      "59/59 [==============================] - 7s 124ms/step - loss: 2.3013 - accuracy: 0.1141 - val_loss: 2.3016 - val_accuracy: 0.1106\n",
      "Epoch 8/10\n",
      "59/59 [==============================] - 8s 134ms/step - loss: 2.3012 - accuracy: 0.1141 - val_loss: 2.3020 - val_accuracy: 0.1106\n",
      "Epoch 9/10\n",
      "59/59 [==============================] - 7s 123ms/step - loss: 2.3014 - accuracy: 0.1141 - val_loss: 2.3015 - val_accuracy: 0.1106\n",
      "Epoch 10/10\n",
      "59/59 [==============================] - 8s 130ms/step - loss: 2.3013 - accuracy: 0.1141 - val_loss: 2.3018 - val_accuracy: 0.1106\n",
      "313/313 [==============================] - 2s 5ms/step - loss: 2.3012 - accuracy: 0.1135\n",
      "Training model <keras.engine.sequential.Sequential object at 0x000002754D833C70> with split 0.5, batch 512 and learning rate 0.1\n",
      "Epoch 1/10\n",
      "59/59 [==============================] - 9s 128ms/step - loss: 2.3047 - accuracy: 0.1064 - val_loss: 2.3056 - val_accuracy: 0.1019\n",
      "Epoch 2/10\n",
      "59/59 [==============================] - 8s 131ms/step - loss: 2.3044 - accuracy: 0.1068 - val_loss: 2.3054 - val_accuracy: 0.1106\n",
      "Epoch 3/10\n",
      "59/59 [==============================] - 7s 126ms/step - loss: 2.3034 - accuracy: 0.1095 - val_loss: 2.3049 - val_accuracy: 0.0982\n",
      "Epoch 4/10\n",
      "59/59 [==============================] - 8s 137ms/step - loss: 2.3040 - accuracy: 0.1078 - val_loss: 2.3035 - val_accuracy: 0.1106\n",
      "Epoch 5/10\n",
      "59/59 [==============================] - 7s 125ms/step - loss: 2.3040 - accuracy: 0.1076 - val_loss: 2.3057 - val_accuracy: 0.1106\n",
      "Epoch 6/10\n",
      "59/59 [==============================] - 8s 133ms/step - loss: 2.3038 - accuracy: 0.1111 - val_loss: 2.3037 - val_accuracy: 0.1106\n",
      "Epoch 7/10\n",
      "59/59 [==============================] - 7s 125ms/step - loss: 2.3035 - accuracy: 0.1071 - val_loss: 2.3038 - val_accuracy: 0.0981\n",
      "Epoch 8/10\n",
      "59/59 [==============================] - 8s 134ms/step - loss: 2.3036 - accuracy: 0.1065 - val_loss: 2.3028 - val_accuracy: 0.1053\n",
      "Epoch 9/10\n",
      "59/59 [==============================] - 7s 125ms/step - loss: 2.3033 - accuracy: 0.1118 - val_loss: 2.3029 - val_accuracy: 0.1106\n",
      "Epoch 10/10\n",
      "59/59 [==============================] - 8s 134ms/step - loss: 2.3043 - accuracy: 0.1067 - val_loss: 2.3070 - val_accuracy: 0.1106\n",
      "313/313 [==============================] - 1s 4ms/step - loss: 2.3065 - accuracy: 0.1135\n",
      "{'model_<keras.engine.sequential.Sequential object at 0x0000027542597220>_split_0.1_batch_128_lr_0.001': 0.9815000295639038, 'model_<keras.engine.sequential.Sequential object at 0x0000027542597220>_split_0.1_batch_128_lr_0.01': 0.9758999943733215, 'model_<keras.engine.sequential.Sequential object at 0x0000027542597220>_split_0.1_batch_128_lr_0.1': 0.7979999780654907, 'model_<keras.engine.sequential.Sequential object at 0x0000027542597220>_split_0.1_batch_256_lr_0.001': 0.8677999973297119, 'model_<keras.engine.sequential.Sequential object at 0x0000027542597220>_split_0.1_batch_256_lr_0.01': 0.927299976348877, 'model_<keras.engine.sequential.Sequential object at 0x0000027542597220>_split_0.1_batch_256_lr_0.1': 0.8736000061035156, 'model_<keras.engine.sequential.Sequential object at 0x0000027542597220>_split_0.1_batch_512_lr_0.001': 0.90420001745224, 'model_<keras.engine.sequential.Sequential object at 0x0000027542597220>_split_0.1_batch_512_lr_0.01': 0.9239000082015991, 'model_<keras.engine.sequential.Sequential object at 0x0000027542597220>_split_0.1_batch_512_lr_0.1': 0.9124000072479248, 'model_<keras.engine.sequential.Sequential object at 0x0000027542597220>_split_0.2_batch_128_lr_0.001': 0.9235000014305115, 'model_<keras.engine.sequential.Sequential object at 0x0000027542597220>_split_0.2_batch_128_lr_0.01': 0.9311000108718872, 'model_<keras.engine.sequential.Sequential object at 0x0000027542597220>_split_0.2_batch_128_lr_0.1': 0.8689000010490417, 'model_<keras.engine.sequential.Sequential object at 0x0000027542597220>_split_0.2_batch_256_lr_0.001': 0.8788999915122986, 'model_<keras.engine.sequential.Sequential object at 0x0000027542597220>_split_0.2_batch_256_lr_0.01': 0.911899983882904, 'model_<keras.engine.sequential.Sequential object at 0x0000027542597220>_split_0.2_batch_256_lr_0.1': 0.8950999975204468, 'model_<keras.engine.sequential.Sequential object at 0x0000027542597220>_split_0.2_batch_512_lr_0.001': 0.9046000242233276, 'model_<keras.engine.sequential.Sequential object at 0x0000027542597220>_split_0.2_batch_512_lr_0.01': 0.9190999865531921, 'model_<keras.engine.sequential.Sequential object at 0x0000027542597220>_split_0.2_batch_512_lr_0.1': 0.8967999815940857, 'model_<keras.engine.sequential.Sequential object at 0x0000027542597220>_split_0.3_batch_128_lr_0.001': 0.911300003528595, 'model_<keras.engine.sequential.Sequential object at 0x0000027542597220>_split_0.3_batch_128_lr_0.01': 0.9247000217437744, 'model_<keras.engine.sequential.Sequential object at 0x0000027542597220>_split_0.3_batch_128_lr_0.1': 0.7627999782562256, 'model_<keras.engine.sequential.Sequential object at 0x0000027542597220>_split_0.3_batch_256_lr_0.001': 0.8364999890327454, 'model_<keras.engine.sequential.Sequential object at 0x0000027542597220>_split_0.3_batch_256_lr_0.01': 0.9021000266075134, 'model_<keras.engine.sequential.Sequential object at 0x0000027542597220>_split_0.3_batch_256_lr_0.1': 0.8665000200271606, 'model_<keras.engine.sequential.Sequential object at 0x0000027542597220>_split_0.3_batch_512_lr_0.001': 0.8968999981880188, 'model_<keras.engine.sequential.Sequential object at 0x0000027542597220>_split_0.3_batch_512_lr_0.01': 0.9107999801635742, 'model_<keras.engine.sequential.Sequential object at 0x0000027542597220>_split_0.3_batch_512_lr_0.1': 0.9068999886512756, 'model_<keras.engine.sequential.Sequential object at 0x0000027542597220>_split_0.4_batch_128_lr_0.001': 0.9110999703407288, 'model_<keras.engine.sequential.Sequential object at 0x0000027542597220>_split_0.4_batch_128_lr_0.01': 0.9193999767303467, 'model_<keras.engine.sequential.Sequential object at 0x0000027542597220>_split_0.4_batch_128_lr_0.1': 0.8579999804496765, 'model_<keras.engine.sequential.Sequential object at 0x0000027542597220>_split_0.4_batch_256_lr_0.001': 0.8826000094413757, 'model_<keras.engine.sequential.Sequential object at 0x0000027542597220>_split_0.4_batch_256_lr_0.01': 0.9071000218391418, 'model_<keras.engine.sequential.Sequential object at 0x0000027542597220>_split_0.4_batch_256_lr_0.1': 0.8604999780654907, 'model_<keras.engine.sequential.Sequential object at 0x0000027542597220>_split_0.4_batch_512_lr_0.001': 0.8799999952316284, 'model_<keras.engine.sequential.Sequential object at 0x0000027542597220>_split_0.4_batch_512_lr_0.01': 0.9070000052452087, 'model_<keras.engine.sequential.Sequential object at 0x0000027542597220>_split_0.4_batch_512_lr_0.1': 0.8971999883651733, 'model_<keras.engine.sequential.Sequential object at 0x0000027542597220>_split_0.5_batch_128_lr_0.001': 0.9049000144004822, 'model_<keras.engine.sequential.Sequential object at 0x0000027542597220>_split_0.5_batch_128_lr_0.01': 0.9150999784469604, 'model_<keras.engine.sequential.Sequential object at 0x0000027542597220>_split_0.5_batch_128_lr_0.1': 0.7962999939918518, 'model_<keras.engine.sequential.Sequential object at 0x0000027542597220>_split_0.5_batch_256_lr_0.001': 0.8446000218391418, 'model_<keras.engine.sequential.Sequential object at 0x0000027542597220>_split_0.5_batch_256_lr_0.01': 0.8906000256538391, 'model_<keras.engine.sequential.Sequential object at 0x0000027542597220>_split_0.5_batch_256_lr_0.1': 0.8729000091552734, 'model_<keras.engine.sequential.Sequential object at 0x0000027542597220>_split_0.5_batch_512_lr_0.001': 0.879800021648407, 'model_<keras.engine.sequential.Sequential object at 0x0000027542597220>_split_0.5_batch_512_lr_0.01': 0.9002000093460083, 'model_<keras.engine.sequential.Sequential object at 0x0000027542597220>_split_0.5_batch_512_lr_0.1': 0.8952000141143799, 'model_<keras.engine.sequential.Sequential object at 0x000002754D833C70>_split_0.1_batch_128_lr_0.001': 0.9927999973297119, 'model_<keras.engine.sequential.Sequential object at 0x000002754D833C70>_split_0.1_batch_128_lr_0.01': 0.9898999929428101, 'model_<keras.engine.sequential.Sequential object at 0x000002754D833C70>_split_0.1_batch_128_lr_0.1': 0.8607000112533569, 'model_<keras.engine.sequential.Sequential object at 0x000002754D833C70>_split_0.1_batch_256_lr_0.001': 0.9217000007629395, 'model_<keras.engine.sequential.Sequential object at 0x000002754D833C70>_split_0.1_batch_256_lr_0.01': 0.9467999935150146, 'model_<keras.engine.sequential.Sequential object at 0x000002754D833C70>_split_0.1_batch_256_lr_0.1': 0.9397000074386597, 'model_<keras.engine.sequential.Sequential object at 0x000002754D833C70>_split_0.1_batch_512_lr_0.001': 0.9528999924659729, 'model_<keras.engine.sequential.Sequential object at 0x000002754D833C70>_split_0.1_batch_512_lr_0.01': 0.9581999778747559, 'model_<keras.engine.sequential.Sequential object at 0x000002754D833C70>_split_0.1_batch_512_lr_0.1': 0.9391000270843506, 'model_<keras.engine.sequential.Sequential object at 0x000002754D833C70>_split_0.2_batch_128_lr_0.001': 0.9451000094413757, 'model_<keras.engine.sequential.Sequential object at 0x000002754D833C70>_split_0.2_batch_128_lr_0.01': 0.9405999779701233, 'model_<keras.engine.sequential.Sequential object at 0x000002754D833C70>_split_0.2_batch_128_lr_0.1': 0.8586000204086304, 'model_<keras.engine.sequential.Sequential object at 0x000002754D833C70>_split_0.2_batch_256_lr_0.001': 0.8931000232696533, 'model_<keras.engine.sequential.Sequential object at 0x000002754D833C70>_split_0.2_batch_256_lr_0.01': 0.9120000004768372, 'model_<keras.engine.sequential.Sequential object at 0x000002754D833C70>_split_0.2_batch_256_lr_0.1': 0.8966000080108643, 'model_<keras.engine.sequential.Sequential object at 0x000002754D833C70>_split_0.2_batch_512_lr_0.001': 0.9193000197410583, 'model_<keras.engine.sequential.Sequential object at 0x000002754D833C70>_split_0.2_batch_512_lr_0.01': 0.9150000214576721, 'model_<keras.engine.sequential.Sequential object at 0x000002754D833C70>_split_0.2_batch_512_lr_0.1': 0.9039999842643738, 'model_<keras.engine.sequential.Sequential object at 0x000002754D833C70>_split_0.3_batch_128_lr_0.001': 0.9172999858856201, 'model_<keras.engine.sequential.Sequential object at 0x000002754D833C70>_split_0.3_batch_128_lr_0.01': 0.9089000225067139, 'model_<keras.engine.sequential.Sequential object at 0x000002754D833C70>_split_0.3_batch_128_lr_0.1': 0.8165000081062317, 'model_<keras.engine.sequential.Sequential object at 0x000002754D833C70>_split_0.3_batch_256_lr_0.001': 0.8411999940872192, 'model_<keras.engine.sequential.Sequential object at 0x000002754D833C70>_split_0.3_batch_256_lr_0.01': 0.8432000279426575, 'model_<keras.engine.sequential.Sequential object at 0x000002754D833C70>_split_0.3_batch_256_lr_0.1': 0.7940000295639038, 'model_<keras.engine.sequential.Sequential object at 0x000002754D833C70>_split_0.3_batch_512_lr_0.001': 0.8446000218391418, 'model_<keras.engine.sequential.Sequential object at 0x000002754D833C70>_split_0.3_batch_512_lr_0.01': 0.8422999978065491, 'model_<keras.engine.sequential.Sequential object at 0x000002754D833C70>_split_0.3_batch_512_lr_0.1': 0.8321999907493591, 'model_<keras.engine.sequential.Sequential object at 0x000002754D833C70>_split_0.4_batch_128_lr_0.001': 0.8434000015258789, 'model_<keras.engine.sequential.Sequential object at 0x000002754D833C70>_split_0.4_batch_128_lr_0.01': 0.84170001745224, 'model_<keras.engine.sequential.Sequential object at 0x000002754D833C70>_split_0.4_batch_128_lr_0.1': 0.7638999819755554, 'model_<keras.engine.sequential.Sequential object at 0x000002754D833C70>_split_0.4_batch_256_lr_0.001': 0.8406999707221985, 'model_<keras.engine.sequential.Sequential object at 0x000002754D833C70>_split_0.4_batch_256_lr_0.01': 0.8414000272750854, 'model_<keras.engine.sequential.Sequential object at 0x000002754D833C70>_split_0.4_batch_256_lr_0.1': 0.8144000172615051, 'model_<keras.engine.sequential.Sequential object at 0x000002754D833C70>_split_0.4_batch_512_lr_0.001': 0.8446999788284302, 'model_<keras.engine.sequential.Sequential object at 0x000002754D833C70>_split_0.4_batch_512_lr_0.01': 0.8463000059127808, 'model_<keras.engine.sequential.Sequential object at 0x000002754D833C70>_split_0.4_batch_512_lr_0.1': 0.8227999806404114, 'model_<keras.engine.sequential.Sequential object at 0x000002754D833C70>_split_0.5_batch_128_lr_0.001': 0.8421000242233276, 'model_<keras.engine.sequential.Sequential object at 0x000002754D833C70>_split_0.5_batch_128_lr_0.01': 0.8389000296592712, 'model_<keras.engine.sequential.Sequential object at 0x000002754D833C70>_split_0.5_batch_128_lr_0.1': 0.11349999904632568, 'model_<keras.engine.sequential.Sequential object at 0x000002754D833C70>_split_0.5_batch_256_lr_0.001': 0.11349999904632568, 'model_<keras.engine.sequential.Sequential object at 0x000002754D833C70>_split_0.5_batch_256_lr_0.01': 0.11349999904632568, 'model_<keras.engine.sequential.Sequential object at 0x000002754D833C70>_split_0.5_batch_256_lr_0.1': 0.10100000351667404, 'model_<keras.engine.sequential.Sequential object at 0x000002754D833C70>_split_0.5_batch_512_lr_0.001': 0.11349999904632568, 'model_<keras.engine.sequential.Sequential object at 0x000002754D833C70>_split_0.5_batch_512_lr_0.01': 0.11349999904632568, 'model_<keras.engine.sequential.Sequential object at 0x000002754D833C70>_split_0.5_batch_512_lr_0.1': 0.11349999904632568}\n"
     ]
    }
   ]
  },
  {
   "cell_type": "code",
   "outputs": [
    {
     "data": {
      "text/plain": "     model split batch     lr  accuracy\n45     cnn   0.1   128  0.001    0.9928\n46     cnn   0.1   128   0.01    0.9899\n0   simple   0.1   128  0.001    0.9815\n1   simple   0.1   128   0.01    0.9759\n52     cnn   0.1   512   0.01    0.9582\n..     ...   ...   ...    ...       ...\n85     cnn   0.5   256   0.01    0.1135\n87     cnn   0.5   512  0.001    0.1135\n88     cnn   0.5   512   0.01    0.1135\n89     cnn   0.5   512    0.1    0.1135\n86     cnn   0.5   256    0.1    0.1010\n\n[90 rows x 5 columns]",
      "text/html": "<div>\n<style scoped>\n    .dataframe tbody tr th:only-of-type {\n        vertical-align: middle;\n    }\n\n    .dataframe tbody tr th {\n        vertical-align: top;\n    }\n\n    .dataframe thead th {\n        text-align: right;\n    }\n</style>\n<table border=\"1\" class=\"dataframe\">\n  <thead>\n    <tr style=\"text-align: right;\">\n      <th></th>\n      <th>model</th>\n      <th>split</th>\n      <th>batch</th>\n      <th>lr</th>\n      <th>accuracy</th>\n    </tr>\n  </thead>\n  <tbody>\n    <tr>\n      <th>45</th>\n      <td>cnn</td>\n      <td>0.1</td>\n      <td>128</td>\n      <td>0.001</td>\n      <td>0.9928</td>\n    </tr>\n    <tr>\n      <th>46</th>\n      <td>cnn</td>\n      <td>0.1</td>\n      <td>128</td>\n      <td>0.01</td>\n      <td>0.9899</td>\n    </tr>\n    <tr>\n      <th>0</th>\n      <td>simple</td>\n      <td>0.1</td>\n      <td>128</td>\n      <td>0.001</td>\n      <td>0.9815</td>\n    </tr>\n    <tr>\n      <th>1</th>\n      <td>simple</td>\n      <td>0.1</td>\n      <td>128</td>\n      <td>0.01</td>\n      <td>0.9759</td>\n    </tr>\n    <tr>\n      <th>52</th>\n      <td>cnn</td>\n      <td>0.1</td>\n      <td>512</td>\n      <td>0.01</td>\n      <td>0.9582</td>\n    </tr>\n    <tr>\n      <th>...</th>\n      <td>...</td>\n      <td>...</td>\n      <td>...</td>\n      <td>...</td>\n      <td>...</td>\n    </tr>\n    <tr>\n      <th>85</th>\n      <td>cnn</td>\n      <td>0.5</td>\n      <td>256</td>\n      <td>0.01</td>\n      <td>0.1135</td>\n    </tr>\n    <tr>\n      <th>87</th>\n      <td>cnn</td>\n      <td>0.5</td>\n      <td>512</td>\n      <td>0.001</td>\n      <td>0.1135</td>\n    </tr>\n    <tr>\n      <th>88</th>\n      <td>cnn</td>\n      <td>0.5</td>\n      <td>512</td>\n      <td>0.01</td>\n      <td>0.1135</td>\n    </tr>\n    <tr>\n      <th>89</th>\n      <td>cnn</td>\n      <td>0.5</td>\n      <td>512</td>\n      <td>0.1</td>\n      <td>0.1135</td>\n    </tr>\n    <tr>\n      <th>86</th>\n      <td>cnn</td>\n      <td>0.5</td>\n      <td>256</td>\n      <td>0.1</td>\n      <td>0.1010</td>\n    </tr>\n  </tbody>\n</table>\n<p>90 rows × 5 columns</p>\n</div>"
     },
     "execution_count": 64,
     "metadata": {},
     "output_type": "execute_result"
    }
   ],
   "source": [
    "# create a dataframe from the results\n",
    "df = pd.DataFrame(results.items(), columns=['model', 'accuracy'])\n",
    "\n",
    "# get first column\n",
    "df_col = df['model']\n",
    "\n",
    "# split the column into 5 columns\n",
    "df_col = df_col.str.split(\"_\", expand=True)\n",
    "\n",
    "# <keras.engine.sequential.Sequential object at 0x0000027542597220> is simple and <keras.engine.sequential.Sequential object at 0x000002754D833C70> is cnn\n",
    "# column reflecting that is 1\n",
    "df_col[1] = df_col[1].str.replace(\"<keras.engine.sequential.Sequential object at 0x0000027542597220>\", \"simple\")\n",
    "df_col[1] = df_col[1].str.replace(\"<keras.engine.sequential.Sequential object at 0x000002754D833C70>\", \"cnn\")\n",
    "\n",
    "# drop 0,2,4,6 columns\n",
    "df_col = df_col.drop([0, 2, 4, 6], axis=1)\n",
    "\n",
    "\n",
    "# drop the model column from df\n",
    "df = df.drop('model', axis=1)\n",
    "\n",
    "# add the df_col to df\n",
    "df = pd.concat([df_col, df], axis=1)\n",
    "\n",
    "# rename the columns\n",
    "df.columns = ['model', 'split', 'batch', 'lr', 'accuracy']\n",
    "\n",
    "# sort the dataframe by accuracy\n",
    "df = df.sort_values(by='accuracy', ascending=False)\n",
    "\n",
    "df    "
   ],
   "metadata": {
    "collapsed": false,
    "ExecuteTime": {
     "end_time": "2024-03-12T10:40:51.929327Z",
     "start_time": "2024-03-12T10:40:51.896332Z"
    }
   },
   "execution_count": 64
  },
  {
   "cell_type": "code",
   "outputs": [],
   "source": [
    "# get the best and worst 5 models for the simple model\n",
    "df_simple_best = df[(df['model'] == 'simple')].head(5)\n",
    "df_simple_worst = df[(df['model'] == 'simple')].tail(5)\n",
    "\n",
    "# concatenate the best and worst 5 models\n",
    "df_simple = pd.concat([df_simple_best, df_simple_worst])\n",
    "\n",
    "\n",
    "# get the best and worst 5 models for the cnn model\n",
    "df_cnn_best = df[(df['model'] == 'cnn')].head(5)\n",
    "df_cnn_worst = df[(df['model'] == 'cnn')].tail(5)\n",
    "\n",
    "\n"
   ],
   "metadata": {
    "collapsed": false,
    "ExecuteTime": {
     "end_time": "2024-03-12T10:47:59.951706Z",
     "start_time": "2024-03-12T10:47:59.934076Z"
    }
   },
   "execution_count": 74
  },
  {
   "cell_type": "code",
   "outputs": [
    {
     "data": {
      "application/vnd.plotly.v1+json": {
       "data": [
        {
         "dimensions": [
          {
           "label": "Training-Validation Split",
           "values": [
            "0.1",
            "0.1",
            "0.2",
            "0.1",
            "0.3",
            "0.5",
            "0.3",
            "0.1",
            "0.5",
            "0.3"
           ]
          },
          {
           "label": "Batch Size",
           "values": [
            "128",
            "128",
            "128",
            "256",
            "128",
            "256",
            "256",
            "128",
            "128",
            "128"
           ]
          },
          {
           "label": "Learning Rate",
           "values": [
            "0.001",
            "0.01",
            "0.01",
            "0.01",
            "0.01",
            "0.001",
            "0.001",
            "0.1",
            "0.1",
            "0.1"
           ]
          },
          {
           "label": "Test Accuracy",
           "values": [
            0.9815000295639038,
            0.9758999943733215,
            0.9311000108718872,
            0.927299976348877,
            0.9247000217437744,
            0.8446000218391418,
            0.8364999890327454,
            0.7979999780654907,
            0.7962999939918518,
            0.7627999782562256
           ]
          }
         ],
         "domain": {
          "x": [
           0.0,
           1.0
          ],
          "y": [
           0.0,
           1.0
          ]
         },
         "line": {
          "color": [
           0.9815000295639038,
           0.9758999943733215,
           0.9311000108718872,
           0.927299976348877,
           0.9247000217437744,
           0.8446000218391418,
           0.8364999890327454,
           0.7979999780654907,
           0.7962999939918518,
           0.7627999782562256
          ],
          "coloraxis": "coloraxis"
         },
         "name": "",
         "type": "parcats"
        }
       ],
       "layout": {
        "template": {
         "data": {
          "histogram2dcontour": [
           {
            "type": "histogram2dcontour",
            "colorbar": {
             "outlinewidth": 0,
             "ticks": ""
            },
            "colorscale": [
             [
              0.0,
              "#0d0887"
             ],
             [
              0.1111111111111111,
              "#46039f"
             ],
             [
              0.2222222222222222,
              "#7201a8"
             ],
             [
              0.3333333333333333,
              "#9c179e"
             ],
             [
              0.4444444444444444,
              "#bd3786"
             ],
             [
              0.5555555555555556,
              "#d8576b"
             ],
             [
              0.6666666666666666,
              "#ed7953"
             ],
             [
              0.7777777777777778,
              "#fb9f3a"
             ],
             [
              0.8888888888888888,
              "#fdca26"
             ],
             [
              1.0,
              "#f0f921"
             ]
            ]
           }
          ],
          "choropleth": [
           {
            "type": "choropleth",
            "colorbar": {
             "outlinewidth": 0,
             "ticks": ""
            }
           }
          ],
          "histogram2d": [
           {
            "type": "histogram2d",
            "colorbar": {
             "outlinewidth": 0,
             "ticks": ""
            },
            "colorscale": [
             [
              0.0,
              "#0d0887"
             ],
             [
              0.1111111111111111,
              "#46039f"
             ],
             [
              0.2222222222222222,
              "#7201a8"
             ],
             [
              0.3333333333333333,
              "#9c179e"
             ],
             [
              0.4444444444444444,
              "#bd3786"
             ],
             [
              0.5555555555555556,
              "#d8576b"
             ],
             [
              0.6666666666666666,
              "#ed7953"
             ],
             [
              0.7777777777777778,
              "#fb9f3a"
             ],
             [
              0.8888888888888888,
              "#fdca26"
             ],
             [
              1.0,
              "#f0f921"
             ]
            ]
           }
          ],
          "heatmap": [
           {
            "type": "heatmap",
            "colorbar": {
             "outlinewidth": 0,
             "ticks": ""
            },
            "colorscale": [
             [
              0.0,
              "#0d0887"
             ],
             [
              0.1111111111111111,
              "#46039f"
             ],
             [
              0.2222222222222222,
              "#7201a8"
             ],
             [
              0.3333333333333333,
              "#9c179e"
             ],
             [
              0.4444444444444444,
              "#bd3786"
             ],
             [
              0.5555555555555556,
              "#d8576b"
             ],
             [
              0.6666666666666666,
              "#ed7953"
             ],
             [
              0.7777777777777778,
              "#fb9f3a"
             ],
             [
              0.8888888888888888,
              "#fdca26"
             ],
             [
              1.0,
              "#f0f921"
             ]
            ]
           }
          ],
          "heatmapgl": [
           {
            "type": "heatmapgl",
            "colorbar": {
             "outlinewidth": 0,
             "ticks": ""
            },
            "colorscale": [
             [
              0.0,
              "#0d0887"
             ],
             [
              0.1111111111111111,
              "#46039f"
             ],
             [
              0.2222222222222222,
              "#7201a8"
             ],
             [
              0.3333333333333333,
              "#9c179e"
             ],
             [
              0.4444444444444444,
              "#bd3786"
             ],
             [
              0.5555555555555556,
              "#d8576b"
             ],
             [
              0.6666666666666666,
              "#ed7953"
             ],
             [
              0.7777777777777778,
              "#fb9f3a"
             ],
             [
              0.8888888888888888,
              "#fdca26"
             ],
             [
              1.0,
              "#f0f921"
             ]
            ]
           }
          ],
          "contourcarpet": [
           {
            "type": "contourcarpet",
            "colorbar": {
             "outlinewidth": 0,
             "ticks": ""
            }
           }
          ],
          "contour": [
           {
            "type": "contour",
            "colorbar": {
             "outlinewidth": 0,
             "ticks": ""
            },
            "colorscale": [
             [
              0.0,
              "#0d0887"
             ],
             [
              0.1111111111111111,
              "#46039f"
             ],
             [
              0.2222222222222222,
              "#7201a8"
             ],
             [
              0.3333333333333333,
              "#9c179e"
             ],
             [
              0.4444444444444444,
              "#bd3786"
             ],
             [
              0.5555555555555556,
              "#d8576b"
             ],
             [
              0.6666666666666666,
              "#ed7953"
             ],
             [
              0.7777777777777778,
              "#fb9f3a"
             ],
             [
              0.8888888888888888,
              "#fdca26"
             ],
             [
              1.0,
              "#f0f921"
             ]
            ]
           }
          ],
          "surface": [
           {
            "type": "surface",
            "colorbar": {
             "outlinewidth": 0,
             "ticks": ""
            },
            "colorscale": [
             [
              0.0,
              "#0d0887"
             ],
             [
              0.1111111111111111,
              "#46039f"
             ],
             [
              0.2222222222222222,
              "#7201a8"
             ],
             [
              0.3333333333333333,
              "#9c179e"
             ],
             [
              0.4444444444444444,
              "#bd3786"
             ],
             [
              0.5555555555555556,
              "#d8576b"
             ],
             [
              0.6666666666666666,
              "#ed7953"
             ],
             [
              0.7777777777777778,
              "#fb9f3a"
             ],
             [
              0.8888888888888888,
              "#fdca26"
             ],
             [
              1.0,
              "#f0f921"
             ]
            ]
           }
          ],
          "mesh3d": [
           {
            "type": "mesh3d",
            "colorbar": {
             "outlinewidth": 0,
             "ticks": ""
            }
           }
          ],
          "scatter": [
           {
            "marker": {
             "line": {
              "color": "#283442"
             }
            },
            "type": "scatter"
           }
          ],
          "parcoords": [
           {
            "type": "parcoords",
            "line": {
             "colorbar": {
              "outlinewidth": 0,
              "ticks": ""
             }
            }
           }
          ],
          "scatterpolargl": [
           {
            "type": "scatterpolargl",
            "marker": {
             "colorbar": {
              "outlinewidth": 0,
              "ticks": ""
             }
            }
           }
          ],
          "bar": [
           {
            "error_x": {
             "color": "#f2f5fa"
            },
            "error_y": {
             "color": "#f2f5fa"
            },
            "marker": {
             "line": {
              "color": "rgb(17,17,17)",
              "width": 0.5
             },
             "pattern": {
              "fillmode": "overlay",
              "size": 10,
              "solidity": 0.2
             }
            },
            "type": "bar"
           }
          ],
          "scattergeo": [
           {
            "type": "scattergeo",
            "marker": {
             "colorbar": {
              "outlinewidth": 0,
              "ticks": ""
             }
            }
           }
          ],
          "scatterpolar": [
           {
            "type": "scatterpolar",
            "marker": {
             "colorbar": {
              "outlinewidth": 0,
              "ticks": ""
             }
            }
           }
          ],
          "histogram": [
           {
            "marker": {
             "pattern": {
              "fillmode": "overlay",
              "size": 10,
              "solidity": 0.2
             }
            },
            "type": "histogram"
           }
          ],
          "scattergl": [
           {
            "marker": {
             "line": {
              "color": "#283442"
             }
            },
            "type": "scattergl"
           }
          ],
          "scatter3d": [
           {
            "type": "scatter3d",
            "line": {
             "colorbar": {
              "outlinewidth": 0,
              "ticks": ""
             }
            },
            "marker": {
             "colorbar": {
              "outlinewidth": 0,
              "ticks": ""
             }
            }
           }
          ],
          "scattermapbox": [
           {
            "type": "scattermapbox",
            "marker": {
             "colorbar": {
              "outlinewidth": 0,
              "ticks": ""
             }
            }
           }
          ],
          "scatterternary": [
           {
            "type": "scatterternary",
            "marker": {
             "colorbar": {
              "outlinewidth": 0,
              "ticks": ""
             }
            }
           }
          ],
          "scattercarpet": [
           {
            "type": "scattercarpet",
            "marker": {
             "colorbar": {
              "outlinewidth": 0,
              "ticks": ""
             }
            }
           }
          ],
          "carpet": [
           {
            "aaxis": {
             "endlinecolor": "#A2B1C6",
             "gridcolor": "#506784",
             "linecolor": "#506784",
             "minorgridcolor": "#506784",
             "startlinecolor": "#A2B1C6"
            },
            "baxis": {
             "endlinecolor": "#A2B1C6",
             "gridcolor": "#506784",
             "linecolor": "#506784",
             "minorgridcolor": "#506784",
             "startlinecolor": "#A2B1C6"
            },
            "type": "carpet"
           }
          ],
          "table": [
           {
            "cells": {
             "fill": {
              "color": "#506784"
             },
             "line": {
              "color": "rgb(17,17,17)"
             }
            },
            "header": {
             "fill": {
              "color": "#2a3f5f"
             },
             "line": {
              "color": "rgb(17,17,17)"
             }
            },
            "type": "table"
           }
          ],
          "barpolar": [
           {
            "marker": {
             "line": {
              "color": "rgb(17,17,17)",
              "width": 0.5
             },
             "pattern": {
              "fillmode": "overlay",
              "size": 10,
              "solidity": 0.2
             }
            },
            "type": "barpolar"
           }
          ],
          "pie": [
           {
            "automargin": true,
            "type": "pie"
           }
          ]
         },
         "layout": {
          "autotypenumbers": "strict",
          "colorway": [
           "#636efa",
           "#EF553B",
           "#00cc96",
           "#ab63fa",
           "#FFA15A",
           "#19d3f3",
           "#FF6692",
           "#B6E880",
           "#FF97FF",
           "#FECB52"
          ],
          "font": {
           "color": "#f2f5fa"
          },
          "hovermode": "closest",
          "hoverlabel": {
           "align": "left"
          },
          "paper_bgcolor": "rgb(17,17,17)",
          "plot_bgcolor": "rgb(17,17,17)",
          "polar": {
           "bgcolor": "rgb(17,17,17)",
           "angularaxis": {
            "gridcolor": "#506784",
            "linecolor": "#506784",
            "ticks": ""
           },
           "radialaxis": {
            "gridcolor": "#506784",
            "linecolor": "#506784",
            "ticks": ""
           }
          },
          "ternary": {
           "bgcolor": "rgb(17,17,17)",
           "aaxis": {
            "gridcolor": "#506784",
            "linecolor": "#506784",
            "ticks": ""
           },
           "baxis": {
            "gridcolor": "#506784",
            "linecolor": "#506784",
            "ticks": ""
           },
           "caxis": {
            "gridcolor": "#506784",
            "linecolor": "#506784",
            "ticks": ""
           }
          },
          "coloraxis": {
           "colorbar": {
            "outlinewidth": 0,
            "ticks": ""
           }
          },
          "colorscale": {
           "sequential": [
            [
             0.0,
             "#0d0887"
            ],
            [
             0.1111111111111111,
             "#46039f"
            ],
            [
             0.2222222222222222,
             "#7201a8"
            ],
            [
             0.3333333333333333,
             "#9c179e"
            ],
            [
             0.4444444444444444,
             "#bd3786"
            ],
            [
             0.5555555555555556,
             "#d8576b"
            ],
            [
             0.6666666666666666,
             "#ed7953"
            ],
            [
             0.7777777777777778,
             "#fb9f3a"
            ],
            [
             0.8888888888888888,
             "#fdca26"
            ],
            [
             1.0,
             "#f0f921"
            ]
           ],
           "sequentialminus": [
            [
             0.0,
             "#0d0887"
            ],
            [
             0.1111111111111111,
             "#46039f"
            ],
            [
             0.2222222222222222,
             "#7201a8"
            ],
            [
             0.3333333333333333,
             "#9c179e"
            ],
            [
             0.4444444444444444,
             "#bd3786"
            ],
            [
             0.5555555555555556,
             "#d8576b"
            ],
            [
             0.6666666666666666,
             "#ed7953"
            ],
            [
             0.7777777777777778,
             "#fb9f3a"
            ],
            [
             0.8888888888888888,
             "#fdca26"
            ],
            [
             1.0,
             "#f0f921"
            ]
           ],
           "diverging": [
            [
             0,
             "#8e0152"
            ],
            [
             0.1,
             "#c51b7d"
            ],
            [
             0.2,
             "#de77ae"
            ],
            [
             0.3,
             "#f1b6da"
            ],
            [
             0.4,
             "#fde0ef"
            ],
            [
             0.5,
             "#f7f7f7"
            ],
            [
             0.6,
             "#e6f5d0"
            ],
            [
             0.7,
             "#b8e186"
            ],
            [
             0.8,
             "#7fbc41"
            ],
            [
             0.9,
             "#4d9221"
            ],
            [
             1,
             "#276419"
            ]
           ]
          },
          "xaxis": {
           "gridcolor": "#283442",
           "linecolor": "#506784",
           "ticks": "",
           "title": {
            "standoff": 15
           },
           "zerolinecolor": "#283442",
           "automargin": true,
           "zerolinewidth": 2
          },
          "yaxis": {
           "gridcolor": "#283442",
           "linecolor": "#506784",
           "ticks": "",
           "title": {
            "standoff": 15
           },
           "zerolinecolor": "#283442",
           "automargin": true,
           "zerolinewidth": 2
          },
          "scene": {
           "xaxis": {
            "backgroundcolor": "rgb(17,17,17)",
            "gridcolor": "#506784",
            "linecolor": "#506784",
            "showbackground": true,
            "ticks": "",
            "zerolinecolor": "#C8D4E3",
            "gridwidth": 2
           },
           "yaxis": {
            "backgroundcolor": "rgb(17,17,17)",
            "gridcolor": "#506784",
            "linecolor": "#506784",
            "showbackground": true,
            "ticks": "",
            "zerolinecolor": "#C8D4E3",
            "gridwidth": 2
           },
           "zaxis": {
            "backgroundcolor": "rgb(17,17,17)",
            "gridcolor": "#506784",
            "linecolor": "#506784",
            "showbackground": true,
            "ticks": "",
            "zerolinecolor": "#C8D4E3",
            "gridwidth": 2
           }
          },
          "shapedefaults": {
           "line": {
            "color": "#f2f5fa"
           }
          },
          "annotationdefaults": {
           "arrowcolor": "#f2f5fa",
           "arrowhead": 0,
           "arrowwidth": 1
          },
          "geo": {
           "bgcolor": "rgb(17,17,17)",
           "landcolor": "rgb(17,17,17)",
           "subunitcolor": "#506784",
           "showland": true,
           "showlakes": true,
           "lakecolor": "rgb(17,17,17)"
          },
          "title": {
           "x": 0.05
          },
          "updatemenudefaults": {
           "bgcolor": "#506784",
           "borderwidth": 0
          },
          "sliderdefaults": {
           "bgcolor": "#C8D4E3",
           "borderwidth": 1,
           "bordercolor": "rgb(17,17,17)",
           "tickwidth": 0
          },
          "mapbox": {
           "style": "dark"
          }
         }
        },
        "coloraxis": {
         "colorbar": {
          "title": {
           "text": "Test Accuracy"
          }
         },
         "colorscale": [
          [
           0.0,
           "#000004"
          ],
          [
           0.1111111111111111,
           "#1b0c41"
          ],
          [
           0.2222222222222222,
           "#4a0c6b"
          ],
          [
           0.3333333333333333,
           "#781c6d"
          ],
          [
           0.4444444444444444,
           "#a52c60"
          ],
          [
           0.5555555555555556,
           "#cf4446"
          ],
          [
           0.6666666666666666,
           "#ed6925"
          ],
          [
           0.7777777777777778,
           "#fb9b06"
          ],
          [
           0.8888888888888888,
           "#f7d13d"
          ],
          [
           1.0,
           "#fcffa4"
          ]
         ]
        },
        "legend": {
         "tracegroupgap": 0
        },
        "margin": {
         "t": 60
        }
       },
       "config": {
        "plotlyServerURL": "https://plot.ly"
       }
      },
      "text/html": "<div>                            <div id=\"1a7a98ac-d75c-49a5-b209-f383d66e6ea1\" class=\"plotly-graph-div\" style=\"height:525px; width:100%;\"></div>            <script type=\"text/javascript\">                require([\"plotly\"], function(Plotly) {                    window.PLOTLYENV=window.PLOTLYENV || {};                                    if (document.getElementById(\"1a7a98ac-d75c-49a5-b209-f383d66e6ea1\")) {                    Plotly.newPlot(                        \"1a7a98ac-d75c-49a5-b209-f383d66e6ea1\",                        [{\"dimensions\":[{\"label\":\"Training-Validation Split\",\"values\":[\"0.1\",\"0.1\",\"0.2\",\"0.1\",\"0.3\",\"0.5\",\"0.3\",\"0.1\",\"0.5\",\"0.3\"]},{\"label\":\"Batch Size\",\"values\":[\"128\",\"128\",\"128\",\"256\",\"128\",\"256\",\"256\",\"128\",\"128\",\"128\"]},{\"label\":\"Learning Rate\",\"values\":[\"0.001\",\"0.01\",\"0.01\",\"0.01\",\"0.01\",\"0.001\",\"0.001\",\"0.1\",\"0.1\",\"0.1\"]},{\"label\":\"Test Accuracy\",\"values\":[0.9815000295639038,0.9758999943733215,0.9311000108718872,0.927299976348877,0.9247000217437744,0.8446000218391418,0.8364999890327454,0.7979999780654907,0.7962999939918518,0.7627999782562256]}],\"domain\":{\"x\":[0.0,1.0],\"y\":[0.0,1.0]},\"line\":{\"color\":[0.9815000295639038,0.9758999943733215,0.9311000108718872,0.927299976348877,0.9247000217437744,0.8446000218391418,0.8364999890327454,0.7979999780654907,0.7962999939918518,0.7627999782562256],\"coloraxis\":\"coloraxis\"},\"name\":\"\",\"type\":\"parcats\"}],                        {\"template\":{\"data\":{\"histogram2dcontour\":[{\"type\":\"histogram2dcontour\",\"colorbar\":{\"outlinewidth\":0,\"ticks\":\"\"},\"colorscale\":[[0.0,\"#0d0887\"],[0.1111111111111111,\"#46039f\"],[0.2222222222222222,\"#7201a8\"],[0.3333333333333333,\"#9c179e\"],[0.4444444444444444,\"#bd3786\"],[0.5555555555555556,\"#d8576b\"],[0.6666666666666666,\"#ed7953\"],[0.7777777777777778,\"#fb9f3a\"],[0.8888888888888888,\"#fdca26\"],[1.0,\"#f0f921\"]]}],\"choropleth\":[{\"type\":\"choropleth\",\"colorbar\":{\"outlinewidth\":0,\"ticks\":\"\"}}],\"histogram2d\":[{\"type\":\"histogram2d\",\"colorbar\":{\"outlinewidth\":0,\"ticks\":\"\"},\"colorscale\":[[0.0,\"#0d0887\"],[0.1111111111111111,\"#46039f\"],[0.2222222222222222,\"#7201a8\"],[0.3333333333333333,\"#9c179e\"],[0.4444444444444444,\"#bd3786\"],[0.5555555555555556,\"#d8576b\"],[0.6666666666666666,\"#ed7953\"],[0.7777777777777778,\"#fb9f3a\"],[0.8888888888888888,\"#fdca26\"],[1.0,\"#f0f921\"]]}],\"heatmap\":[{\"type\":\"heatmap\",\"colorbar\":{\"outlinewidth\":0,\"ticks\":\"\"},\"colorscale\":[[0.0,\"#0d0887\"],[0.1111111111111111,\"#46039f\"],[0.2222222222222222,\"#7201a8\"],[0.3333333333333333,\"#9c179e\"],[0.4444444444444444,\"#bd3786\"],[0.5555555555555556,\"#d8576b\"],[0.6666666666666666,\"#ed7953\"],[0.7777777777777778,\"#fb9f3a\"],[0.8888888888888888,\"#fdca26\"],[1.0,\"#f0f921\"]]}],\"heatmapgl\":[{\"type\":\"heatmapgl\",\"colorbar\":{\"outlinewidth\":0,\"ticks\":\"\"},\"colorscale\":[[0.0,\"#0d0887\"],[0.1111111111111111,\"#46039f\"],[0.2222222222222222,\"#7201a8\"],[0.3333333333333333,\"#9c179e\"],[0.4444444444444444,\"#bd3786\"],[0.5555555555555556,\"#d8576b\"],[0.6666666666666666,\"#ed7953\"],[0.7777777777777778,\"#fb9f3a\"],[0.8888888888888888,\"#fdca26\"],[1.0,\"#f0f921\"]]}],\"contourcarpet\":[{\"type\":\"contourcarpet\",\"colorbar\":{\"outlinewidth\":0,\"ticks\":\"\"}}],\"contour\":[{\"type\":\"contour\",\"colorbar\":{\"outlinewidth\":0,\"ticks\":\"\"},\"colorscale\":[[0.0,\"#0d0887\"],[0.1111111111111111,\"#46039f\"],[0.2222222222222222,\"#7201a8\"],[0.3333333333333333,\"#9c179e\"],[0.4444444444444444,\"#bd3786\"],[0.5555555555555556,\"#d8576b\"],[0.6666666666666666,\"#ed7953\"],[0.7777777777777778,\"#fb9f3a\"],[0.8888888888888888,\"#fdca26\"],[1.0,\"#f0f921\"]]}],\"surface\":[{\"type\":\"surface\",\"colorbar\":{\"outlinewidth\":0,\"ticks\":\"\"},\"colorscale\":[[0.0,\"#0d0887\"],[0.1111111111111111,\"#46039f\"],[0.2222222222222222,\"#7201a8\"],[0.3333333333333333,\"#9c179e\"],[0.4444444444444444,\"#bd3786\"],[0.5555555555555556,\"#d8576b\"],[0.6666666666666666,\"#ed7953\"],[0.7777777777777778,\"#fb9f3a\"],[0.8888888888888888,\"#fdca26\"],[1.0,\"#f0f921\"]]}],\"mesh3d\":[{\"type\":\"mesh3d\",\"colorbar\":{\"outlinewidth\":0,\"ticks\":\"\"}}],\"scatter\":[{\"marker\":{\"line\":{\"color\":\"#283442\"}},\"type\":\"scatter\"}],\"parcoords\":[{\"type\":\"parcoords\",\"line\":{\"colorbar\":{\"outlinewidth\":0,\"ticks\":\"\"}}}],\"scatterpolargl\":[{\"type\":\"scatterpolargl\",\"marker\":{\"colorbar\":{\"outlinewidth\":0,\"ticks\":\"\"}}}],\"bar\":[{\"error_x\":{\"color\":\"#f2f5fa\"},\"error_y\":{\"color\":\"#f2f5fa\"},\"marker\":{\"line\":{\"color\":\"rgb(17,17,17)\",\"width\":0.5},\"pattern\":{\"fillmode\":\"overlay\",\"size\":10,\"solidity\":0.2}},\"type\":\"bar\"}],\"scattergeo\":[{\"type\":\"scattergeo\",\"marker\":{\"colorbar\":{\"outlinewidth\":0,\"ticks\":\"\"}}}],\"scatterpolar\":[{\"type\":\"scatterpolar\",\"marker\":{\"colorbar\":{\"outlinewidth\":0,\"ticks\":\"\"}}}],\"histogram\":[{\"marker\":{\"pattern\":{\"fillmode\":\"overlay\",\"size\":10,\"solidity\":0.2}},\"type\":\"histogram\"}],\"scattergl\":[{\"marker\":{\"line\":{\"color\":\"#283442\"}},\"type\":\"scattergl\"}],\"scatter3d\":[{\"type\":\"scatter3d\",\"line\":{\"colorbar\":{\"outlinewidth\":0,\"ticks\":\"\"}},\"marker\":{\"colorbar\":{\"outlinewidth\":0,\"ticks\":\"\"}}}],\"scattermapbox\":[{\"type\":\"scattermapbox\",\"marker\":{\"colorbar\":{\"outlinewidth\":0,\"ticks\":\"\"}}}],\"scatterternary\":[{\"type\":\"scatterternary\",\"marker\":{\"colorbar\":{\"outlinewidth\":0,\"ticks\":\"\"}}}],\"scattercarpet\":[{\"type\":\"scattercarpet\",\"marker\":{\"colorbar\":{\"outlinewidth\":0,\"ticks\":\"\"}}}],\"carpet\":[{\"aaxis\":{\"endlinecolor\":\"#A2B1C6\",\"gridcolor\":\"#506784\",\"linecolor\":\"#506784\",\"minorgridcolor\":\"#506784\",\"startlinecolor\":\"#A2B1C6\"},\"baxis\":{\"endlinecolor\":\"#A2B1C6\",\"gridcolor\":\"#506784\",\"linecolor\":\"#506784\",\"minorgridcolor\":\"#506784\",\"startlinecolor\":\"#A2B1C6\"},\"type\":\"carpet\"}],\"table\":[{\"cells\":{\"fill\":{\"color\":\"#506784\"},\"line\":{\"color\":\"rgb(17,17,17)\"}},\"header\":{\"fill\":{\"color\":\"#2a3f5f\"},\"line\":{\"color\":\"rgb(17,17,17)\"}},\"type\":\"table\"}],\"barpolar\":[{\"marker\":{\"line\":{\"color\":\"rgb(17,17,17)\",\"width\":0.5},\"pattern\":{\"fillmode\":\"overlay\",\"size\":10,\"solidity\":0.2}},\"type\":\"barpolar\"}],\"pie\":[{\"automargin\":true,\"type\":\"pie\"}]},\"layout\":{\"autotypenumbers\":\"strict\",\"colorway\":[\"#636efa\",\"#EF553B\",\"#00cc96\",\"#ab63fa\",\"#FFA15A\",\"#19d3f3\",\"#FF6692\",\"#B6E880\",\"#FF97FF\",\"#FECB52\"],\"font\":{\"color\":\"#f2f5fa\"},\"hovermode\":\"closest\",\"hoverlabel\":{\"align\":\"left\"},\"paper_bgcolor\":\"rgb(17,17,17)\",\"plot_bgcolor\":\"rgb(17,17,17)\",\"polar\":{\"bgcolor\":\"rgb(17,17,17)\",\"angularaxis\":{\"gridcolor\":\"#506784\",\"linecolor\":\"#506784\",\"ticks\":\"\"},\"radialaxis\":{\"gridcolor\":\"#506784\",\"linecolor\":\"#506784\",\"ticks\":\"\"}},\"ternary\":{\"bgcolor\":\"rgb(17,17,17)\",\"aaxis\":{\"gridcolor\":\"#506784\",\"linecolor\":\"#506784\",\"ticks\":\"\"},\"baxis\":{\"gridcolor\":\"#506784\",\"linecolor\":\"#506784\",\"ticks\":\"\"},\"caxis\":{\"gridcolor\":\"#506784\",\"linecolor\":\"#506784\",\"ticks\":\"\"}},\"coloraxis\":{\"colorbar\":{\"outlinewidth\":0,\"ticks\":\"\"}},\"colorscale\":{\"sequential\":[[0.0,\"#0d0887\"],[0.1111111111111111,\"#46039f\"],[0.2222222222222222,\"#7201a8\"],[0.3333333333333333,\"#9c179e\"],[0.4444444444444444,\"#bd3786\"],[0.5555555555555556,\"#d8576b\"],[0.6666666666666666,\"#ed7953\"],[0.7777777777777778,\"#fb9f3a\"],[0.8888888888888888,\"#fdca26\"],[1.0,\"#f0f921\"]],\"sequentialminus\":[[0.0,\"#0d0887\"],[0.1111111111111111,\"#46039f\"],[0.2222222222222222,\"#7201a8\"],[0.3333333333333333,\"#9c179e\"],[0.4444444444444444,\"#bd3786\"],[0.5555555555555556,\"#d8576b\"],[0.6666666666666666,\"#ed7953\"],[0.7777777777777778,\"#fb9f3a\"],[0.8888888888888888,\"#fdca26\"],[1.0,\"#f0f921\"]],\"diverging\":[[0,\"#8e0152\"],[0.1,\"#c51b7d\"],[0.2,\"#de77ae\"],[0.3,\"#f1b6da\"],[0.4,\"#fde0ef\"],[0.5,\"#f7f7f7\"],[0.6,\"#e6f5d0\"],[0.7,\"#b8e186\"],[0.8,\"#7fbc41\"],[0.9,\"#4d9221\"],[1,\"#276419\"]]},\"xaxis\":{\"gridcolor\":\"#283442\",\"linecolor\":\"#506784\",\"ticks\":\"\",\"title\":{\"standoff\":15},\"zerolinecolor\":\"#283442\",\"automargin\":true,\"zerolinewidth\":2},\"yaxis\":{\"gridcolor\":\"#283442\",\"linecolor\":\"#506784\",\"ticks\":\"\",\"title\":{\"standoff\":15},\"zerolinecolor\":\"#283442\",\"automargin\":true,\"zerolinewidth\":2},\"scene\":{\"xaxis\":{\"backgroundcolor\":\"rgb(17,17,17)\",\"gridcolor\":\"#506784\",\"linecolor\":\"#506784\",\"showbackground\":true,\"ticks\":\"\",\"zerolinecolor\":\"#C8D4E3\",\"gridwidth\":2},\"yaxis\":{\"backgroundcolor\":\"rgb(17,17,17)\",\"gridcolor\":\"#506784\",\"linecolor\":\"#506784\",\"showbackground\":true,\"ticks\":\"\",\"zerolinecolor\":\"#C8D4E3\",\"gridwidth\":2},\"zaxis\":{\"backgroundcolor\":\"rgb(17,17,17)\",\"gridcolor\":\"#506784\",\"linecolor\":\"#506784\",\"showbackground\":true,\"ticks\":\"\",\"zerolinecolor\":\"#C8D4E3\",\"gridwidth\":2}},\"shapedefaults\":{\"line\":{\"color\":\"#f2f5fa\"}},\"annotationdefaults\":{\"arrowcolor\":\"#f2f5fa\",\"arrowhead\":0,\"arrowwidth\":1},\"geo\":{\"bgcolor\":\"rgb(17,17,17)\",\"landcolor\":\"rgb(17,17,17)\",\"subunitcolor\":\"#506784\",\"showland\":true,\"showlakes\":true,\"lakecolor\":\"rgb(17,17,17)\"},\"title\":{\"x\":0.05},\"updatemenudefaults\":{\"bgcolor\":\"#506784\",\"borderwidth\":0},\"sliderdefaults\":{\"bgcolor\":\"#C8D4E3\",\"borderwidth\":1,\"bordercolor\":\"rgb(17,17,17)\",\"tickwidth\":0},\"mapbox\":{\"style\":\"dark\"}}},\"coloraxis\":{\"colorbar\":{\"title\":{\"text\":\"Test Accuracy\"}},\"colorscale\":[[0.0,\"#000004\"],[0.1111111111111111,\"#1b0c41\"],[0.2222222222222222,\"#4a0c6b\"],[0.3333333333333333,\"#781c6d\"],[0.4444444444444444,\"#a52c60\"],[0.5555555555555556,\"#cf4446\"],[0.6666666666666666,\"#ed6925\"],[0.7777777777777778,\"#fb9b06\"],[0.8888888888888888,\"#f7d13d\"],[1.0,\"#fcffa4\"]]},\"legend\":{\"tracegroupgap\":0},\"margin\":{\"t\":60}},                        {\"responsive\": true}                    ).then(function(){\n                            \nvar gd = document.getElementById('1a7a98ac-d75c-49a5-b209-f383d66e6ea1');\nvar x = new MutationObserver(function (mutations, observer) {{\n        var display = window.getComputedStyle(gd).display;\n        if (!display || display === 'none') {{\n            console.log([gd, 'removed!']);\n            Plotly.purge(gd);\n            observer.disconnect();\n        }}\n}});\n\n// Listen for the removal of the full notebook cells\nvar notebookContainer = gd.closest('#notebook-container');\nif (notebookContainer) {{\n    x.observe(notebookContainer, {childList: true});\n}}\n\n// Listen for the clearing of the current output cell\nvar outputEl = gd.closest('.output');\nif (outputEl) {{\n    x.observe(outputEl, {childList: true});\n}}\n\n                        })                };                });            </script>        </div>"
     },
     "metadata": {},
     "output_type": "display_data"
    }
   ],
   "source": [
    "import plotly.express as px\n",
    "\n",
    "fig = px.parallel_categories(df_simple, dimensions=['split', 'batch', 'lr', 'accuracy'], color=\"accuracy\", color_continuous_scale=px.colors.sequential.Inferno,\n",
    "                            labels = {\"split\": \"Training-Validation Split\", \"batch\": \"Batch Size\", \"lr\": \"Learning Rate\", \"accuracy\": \"Test Accuracy\"})\n",
    "\n",
    "# save the model\n",
    "fig.write_html(\"df_simple_best.html\")\n",
    "\n",
    "fig.show()\n"
   ],
   "metadata": {
    "collapsed": false,
    "ExecuteTime": {
     "end_time": "2024-03-12T10:51:52.463358Z",
     "start_time": "2024-03-12T10:51:52.383274Z"
    }
   },
   "execution_count": 77
  },
  {
   "cell_type": "markdown",
   "source": [
    "%%html\n",
    "<iframe src=\"df_simple_best.html\" width=\"800\" height=\"600\" title=\"parallel coordinate chart with plotly\" style=\"border:none\"></iframe>"
   ],
   "metadata": {
    "collapsed": false
   }
  }
 ]
}
